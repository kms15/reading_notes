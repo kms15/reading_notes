{
 "cells": [
  {
   "cell_type": "code",
   "execution_count": 1,
   "metadata": {},
   "outputs": [],
   "source": [
    "import tensorflow as tf\n",
    "from tensorflow.contrib.layers import batch_norm, fully_connected\n",
    "from tensorflow.contrib.framework import arg_scope\n",
    "import time\n",
    "\n",
    "n_inputs = 28 * 28\n",
    "n_hidden1 = 300\n",
    "n_hidden2 = 100\n",
    "n_outputs = 10\n",
    "\n",
    "tf.reset_default_graph()\n",
    "\n",
    "X = tf.placeholder(tf.float32, shape=(None, n_inputs), name='X')\n",
    "y = tf.placeholder(tf.int64, shape=(None), name='y')\n",
    "\n",
    "is_training = tf.placeholder(tf.bool, shape=(), name='is_training')\n",
    "bn_params = {\n",
    "    'is_training': is_training,\n",
    "    'decay': 0.99,\n",
    "    'updates_collections': None\n",
    "}\n",
    "\n",
    "with arg_scope([fully_connected], normalizer_fn=batch_norm, normalizer_params=bn_params):\n",
    "    hidden1 = fully_connected(X, n_hidden1, scope='hidden1')\n",
    "    hidden2 = fully_connected(hidden1, n_hidden2, scope='hidden2')\n",
    "    logits = fully_connected(hidden2, n_outputs, scope='logits', activation_fn=None)"
   ]
  },
  {
   "cell_type": "markdown",
   "metadata": {},
   "source": [
    "Defining a loss function"
   ]
  },
  {
   "cell_type": "code",
   "execution_count": 2,
   "metadata": {},
   "outputs": [],
   "source": [
    "with tf.name_scope(\"loss\"):\n",
    "    cross_entropy = tf.nn.sparse_softmax_cross_entropy_with_logits(labels=y, logits=logits)\n",
    "    loss = tf.reduce_mean(cross_entropy, name=\"loss\")"
   ]
  },
  {
   "cell_type": "markdown",
   "metadata": {},
   "source": [
    "Defining an optimizer"
   ]
  },
  {
   "cell_type": "code",
   "execution_count": 3,
   "metadata": {},
   "outputs": [],
   "source": [
    "learning_rate = 0.01\n",
    "\n",
    "with tf.name_scope(\"train\"):\n",
    "    #optimizer = tf.train.GradientDescentOptimizer(learning_rate)\n",
    "    optimizer = tf.train.AdamOptimizer(learning_rate)\n",
    "    training_op = optimizer.minimize(loss)"
   ]
  },
  {
   "cell_type": "markdown",
   "metadata": {},
   "source": [
    "Model evaluation"
   ]
  },
  {
   "cell_type": "code",
   "execution_count": 4,
   "metadata": {},
   "outputs": [],
   "source": [
    "with tf.name_scope(\"eval\"):\n",
    "    correct = tf.nn.in_top_k(logits, y, 1)\n",
    "    accuracy = tf.reduce_mean(tf.cast(correct, tf.float32))"
   ]
  },
  {
   "cell_type": "markdown",
   "metadata": {
    "slideshow": {
     "slide_type": "slide"
    }
   },
   "source": [
    "Initializer and saver"
   ]
  },
  {
   "cell_type": "code",
   "execution_count": 5,
   "metadata": {},
   "outputs": [],
   "source": [
    "init = tf.global_variables_initializer()\n",
    "saver = tf.train.Saver()"
   ]
  },
  {
   "cell_type": "markdown",
   "metadata": {},
   "source": [
    "Get the MNIST data"
   ]
  },
  {
   "cell_type": "code",
   "execution_count": 6,
   "metadata": {},
   "outputs": [
    {
     "name": "stdout",
     "output_type": "stream",
     "text": [
      "WARNING:tensorflow:From <ipython-input-6-c50d5bb4a85c>:2: read_data_sets (from tensorflow.contrib.learn.python.learn.datasets.mnist) is deprecated and will be removed in a future version.\n",
      "Instructions for updating:\n",
      "Please use alternatives such as official/mnist/dataset.py from tensorflow/models.\n",
      "WARNING:tensorflow:From /home/kms15/jupyter/jupyter_venv/lib/python3.6/site-packages/tensorflow/contrib/learn/python/learn/datasets/mnist.py:260: maybe_download (from tensorflow.contrib.learn.python.learn.datasets.base) is deprecated and will be removed in a future version.\n",
      "Instructions for updating:\n",
      "Please write your own downloading logic.\n",
      "WARNING:tensorflow:From /home/kms15/jupyter/jupyter_venv/lib/python3.6/site-packages/tensorflow/contrib/learn/python/learn/datasets/mnist.py:262: extract_images (from tensorflow.contrib.learn.python.learn.datasets.mnist) is deprecated and will be removed in a future version.\n",
      "Instructions for updating:\n",
      "Please use tf.data to implement this functionality.\n",
      "Extracting /tmp/data/train-images-idx3-ubyte.gz\n",
      "WARNING:tensorflow:From /home/kms15/jupyter/jupyter_venv/lib/python3.6/site-packages/tensorflow/contrib/learn/python/learn/datasets/mnist.py:267: extract_labels (from tensorflow.contrib.learn.python.learn.datasets.mnist) is deprecated and will be removed in a future version.\n",
      "Instructions for updating:\n",
      "Please use tf.data to implement this functionality.\n",
      "Extracting /tmp/data/train-labels-idx1-ubyte.gz\n",
      "Extracting /tmp/data/t10k-images-idx3-ubyte.gz\n",
      "Extracting /tmp/data/t10k-labels-idx1-ubyte.gz\n",
      "WARNING:tensorflow:From /home/kms15/jupyter/jupyter_venv/lib/python3.6/site-packages/tensorflow/contrib/learn/python/learn/datasets/mnist.py:290: DataSet.__init__ (from tensorflow.contrib.learn.python.learn.datasets.mnist) is deprecated and will be removed in a future version.\n",
      "Instructions for updating:\n",
      "Please use alternatives such as official/mnist/dataset.py from tensorflow/models.\n"
     ]
    }
   ],
   "source": [
    "from tensorflow.examples.tutorials.mnist import input_data\n",
    "mnist = input_data.read_data_sets(\"/tmp/data/\")"
   ]
  },
  {
   "cell_type": "code",
   "execution_count": 7,
   "metadata": {},
   "outputs": [
    {
     "name": "stdout",
     "output_type": "stream",
     "text": [
      "0 (6.621690034866333): train accuracy: 0.9800000190734863, Val accuracy 0.977400004863739\n",
      "1 (13.05224347114563): train accuracy: 1.0, Val accuracy 0.9815999865531921\n",
      "2 (19.480888605117798): train accuracy: 0.9800000190734863, Val accuracy 0.9825999736785889\n",
      "3 (25.93266534805298): train accuracy: 0.9599999785423279, Val accuracy 0.9836000204086304\n",
      "4 (32.387468338012695): train accuracy: 0.9800000190734863, Val accuracy 0.9843999743461609\n",
      "5 (38.855138063430786): train accuracy: 1.0, Val accuracy 0.9833999872207642\n",
      "6 (45.30400896072388): train accuracy: 0.9800000190734863, Val accuracy 0.9837999939918518\n",
      "7 (51.73548245429993): train accuracy: 1.0, Val accuracy 0.9851999878883362\n",
      "8 (58.16939663887024): train accuracy: 1.0, Val accuracy 0.98580002784729\n",
      "9 (64.61500477790833): train accuracy: 1.0, Val accuracy 0.9851999878883362\n",
      "10 (71.07843708992004): train accuracy: 1.0, Val accuracy 0.9876000285148621\n",
      "11 (77.5078489780426): train accuracy: 1.0, Val accuracy 0.9855999946594238\n",
      "12 (83.96090054512024): train accuracy: 1.0, Val accuracy 0.98580002784729\n",
      "13 (90.39366722106934): train accuracy: 1.0, Val accuracy 0.9868000149726868\n",
      "14 (96.83299589157104): train accuracy: 0.9800000190734863, Val accuracy 0.9865999817848206\n",
      "15 (103.33822679519653): train accuracy: 1.0, Val accuracy 0.9864000082015991\n",
      "16 (109.80087995529175): train accuracy: 1.0, Val accuracy 0.9864000082015991\n",
      "17 (116.26934289932251): train accuracy: 1.0, Val accuracy 0.9850000143051147\n",
      "18 (122.70253491401672): train accuracy: 1.0, Val accuracy 0.98580002784729\n",
      "19 (129.14802312850952): train accuracy: 1.0, Val accuracy 0.9865999817848206\n",
      "20 (135.59241151809692): train accuracy: 1.0, Val accuracy 0.9843999743461609\n",
      "21 (142.02959537506104): train accuracy: 1.0, Val accuracy 0.9861999750137329\n",
      "22 (148.49653482437134): train accuracy: 1.0, Val accuracy 0.984000027179718\n",
      "23 (154.9375298023224): train accuracy: 1.0, Val accuracy 0.9876000285148621\n",
      "24 (161.4187695980072): train accuracy: 1.0, Val accuracy 0.9868000149726868\n",
      "25 (167.8597915172577): train accuracy: 1.0, Val accuracy 0.9869999885559082\n",
      "26 (174.31567692756653): train accuracy: 1.0, Val accuracy 0.9851999878883362\n",
      "27 (180.7635259628296): train accuracy: 1.0, Val accuracy 0.9846000075340271\n",
      "28 (187.3015582561493): train accuracy: 1.0, Val accuracy 0.9855999946594238\n",
      "29 (193.74788975715637): train accuracy: 1.0, Val accuracy 0.9868000149726868\n",
      "30 (200.19598412513733): train accuracy: 1.0, Val accuracy 0.9864000082015991\n",
      "31 (206.63160037994385): train accuracy: 1.0, Val accuracy 0.9854000210762024\n",
      "32 (213.1065981388092): train accuracy: 1.0, Val accuracy 0.9868000149726868\n",
      "33 (219.5479896068573): train accuracy: 1.0, Val accuracy 0.9865999817848206\n",
      "34 (226.04892444610596): train accuracy: 1.0, Val accuracy 0.9851999878883362\n",
      "35 (232.51580166816711): train accuracy: 0.9800000190734863, Val accuracy 0.9865999817848206\n",
      "36 (238.99642896652222): train accuracy: 1.0, Val accuracy 0.9864000082015991\n",
      "37 (245.46154308319092): train accuracy: 1.0, Val accuracy 0.9851999878883362\n",
      "38 (251.8921308517456): train accuracy: 1.0, Val accuracy 0.9872000217437744\n",
      "39 (258.3590865135193): train accuracy: 1.0, Val accuracy 0.9878000020980835\n",
      "40 (264.83956837654114): train accuracy: 1.0, Val accuracy 0.9864000082015991\n",
      "41 (271.3054904937744): train accuracy: 1.0, Val accuracy 0.9868000149726868\n",
      "42 (277.8312187194824): train accuracy: 1.0, Val accuracy 0.98580002784729\n",
      "43 (284.43819856643677): train accuracy: 1.0, Val accuracy 0.9864000082015991\n",
      "44 (291.05939745903015): train accuracy: 1.0, Val accuracy 0.9865999817848206\n",
      "45 (297.6414031982422): train accuracy: 1.0, Val accuracy 0.9868000149726868\n",
      "46 (304.08190965652466): train accuracy: 1.0, Val accuracy 0.9860000014305115\n",
      "47 (310.60781049728394): train accuracy: 1.0, Val accuracy 0.9855999946594238\n",
      "48 (317.035519361496): train accuracy: 1.0, Val accuracy 0.9864000082015991\n",
      "49 (323.4606454372406): train accuracy: 0.9800000190734863, Val accuracy 0.9855999946594238\n",
      "50 (329.8765015602112): train accuracy: 1.0, Val accuracy 0.9868000149726868\n",
      "51 (336.3153884410858): train accuracy: 1.0, Val accuracy 0.9864000082015991\n",
      "52 (342.81609869003296): train accuracy: 1.0, Val accuracy 0.9846000075340271\n",
      "53 (349.2716746330261): train accuracy: 1.0, Val accuracy 0.9868000149726868\n",
      "54 (355.74375224113464): train accuracy: 1.0, Val accuracy 0.9869999885559082\n",
      "55 (362.15916633605957): train accuracy: 1.0, Val accuracy 0.9850000143051147\n",
      "56 (368.60108733177185): train accuracy: 1.0, Val accuracy 0.9864000082015991\n",
      "57 (375.0353021621704): train accuracy: 1.0, Val accuracy 0.9865999817848206\n",
      "58 (381.4729447364807): train accuracy: 1.0, Val accuracy 0.9854000210762024\n",
      "59 (387.9045763015747): train accuracy: 1.0, Val accuracy 0.9860000014305115\n"
     ]
    }
   ],
   "source": [
    "n_epochs = 60\n",
    "batch_size = 50\n",
    "\n",
    "with tf.Session() as sess:\n",
    "    time_start = time.time()\n",
    "    init.run()\n",
    "    for epoch in range(n_epochs):\n",
    "        for interation in range(mnist.train.num_examples // batch_size):\n",
    "            x_batch, y_batch = mnist.train.next_batch(batch_size)\n",
    "            sess.run(training_op, feed_dict={X: x_batch, y: y_batch, is_training: True})\n",
    "        acc_train = accuracy.eval(feed_dict={X: x_batch, y: y_batch, is_training: False})\n",
    "        acc_val = accuracy.eval(feed_dict={X: mnist.validation.images,\n",
    "                                          y: mnist.validation.labels, is_training: False})\n",
    "        print(f\"{epoch} ({time.time() - time_start}): train accuracy: {acc_train}, Val accuracy {acc_val}\")\n",
    "        \n",
    "    save_path = saver.save(sess, \"./handson-ml-10-mnist-checkpoint\")"
   ]
  },
  {
   "cell_type": "code",
   "execution_count": null,
   "metadata": {},
   "outputs": [],
   "source": []
  }
 ],
 "metadata": {
  "kernelspec": {
   "display_name": "Python 3",
   "language": "python",
   "name": "python3"
  },
  "language_info": {
   "codemirror_mode": {
    "name": "ipython",
    "version": 3
   },
   "file_extension": ".py",
   "mimetype": "text/x-python",
   "name": "python",
   "nbconvert_exporter": "python",
   "pygments_lexer": "ipython3",
   "version": "3.6.5"
  }
 },
 "nbformat": 4,
 "nbformat_minor": 2
}
