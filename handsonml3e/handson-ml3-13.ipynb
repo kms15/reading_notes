{
 "cells": [
  {
   "cell_type": "markdown",
   "id": "1ff01131-34f7-497f-a63c-fb9074575b7b",
   "metadata": {},
   "source": [
    "# Notes on Chapter 13 of *Hands-On Machine Learning with Scikit-Learn, Keras, & TensorFlow*, 3rd edition, by Aurélien Géron"
   ]
  },
  {
   "cell_type": "markdown",
   "id": "c8a45719-b3ae-4445-aa87-b27fed7b229d",
   "metadata": {},
   "source": [
    "Reduce the amount of logging messages displayed by TensorFlow"
   ]
  },
  {
   "cell_type": "code",
   "execution_count": 1,
   "id": "211f35b0-466b-4fef-bf82-acae3b4657c9",
   "metadata": {},
   "outputs": [],
   "source": [
    "import os\n",
    "os.environ['TF_CPP_MIN_LOG_LEVEL'] = '3'"
   ]
  },
  {
   "cell_type": "code",
   "execution_count": 34,
   "id": "2f417a46-da24-486f-9dc2-e19e2b7c00ad",
   "metadata": {},
   "outputs": [],
   "source": [
    "import itertools\n",
    "from pathlib import Path\n",
    "import time\n",
    "\n",
    "import keras\n",
    "from keras import layers\n",
    "from matplotlib import pyplot as plt\n",
    "import numpy as np\n",
    "import seaborn as sns\n",
    "import tensorflow as tf\n",
    "import tensorflow.experimental.numpy as tnp"
   ]
  },
  {
   "cell_type": "markdown",
   "id": "4d912d5c-063c-47f0-8388-4380001b8896",
   "metadata": {},
   "source": [
    "Datasets are iterable sequences of data items"
   ]
  },
  {
   "cell_type": "code",
   "execution_count": 27,
   "id": "887a9d77-2026-4395-a648-9b31a9a7814a",
   "metadata": {},
   "outputs": [
    {
     "name": "stdout",
     "output_type": "stream",
     "text": [
      "{'a': <tf.Tensor: shape=(3,), dtype=float32, numpy=array([0., 1., 2.], dtype=float32)>, 'b': <tf.Tensor: shape=(), dtype=float32, numpy=100.0>}\n",
      "{'a': <tf.Tensor: shape=(3,), dtype=float32, numpy=array([3., 4., 5.], dtype=float32)>, 'b': <tf.Tensor: shape=(), dtype=float32, numpy=101.0>}\n",
      "{'a': <tf.Tensor: shape=(3,), dtype=float32, numpy=array([6., 7., 8.], dtype=float32)>, 'b': <tf.Tensor: shape=(), dtype=float32, numpy=102.0>}\n"
     ]
    }
   ],
   "source": [
    "X = {\"a\" : tf.reshape(tf.range(9.), (3,3)), \"b\": tf.range(100.,103)}\n",
    "\n",
    "dataset = tf.data.Dataset.from_tensor_slices(X)\n",
    "for x in dataset:\n",
    "    print(x)"
   ]
  },
  {
   "cell_type": "markdown",
   "id": "d6d2bb46-e5c3-4b69-9fd1-0f3c2dc3b683",
   "metadata": {},
   "source": [
    "Multiple transformations can be chained together on datasets"
   ]
  },
  {
   "cell_type": "code",
   "execution_count": 33,
   "id": "92e9e8f4-1e81-45c0-99bb-ae03f64781f6",
   "metadata": {},
   "outputs": [
    {
     "name": "stdout",
     "output_type": "stream",
     "text": [
      "{'c': <tf.Tensor: shape=(4, 3), dtype=float32, numpy=\n",
      "array([[108.1, 109.1, 110.1],\n",
      "       [104.1, 105.1, 106.1],\n",
      "       [100.1, 101.1, 102.1],\n",
      "       [104.1, 105.1, 106.1]], dtype=float32)>, 'd': <tf.Tensor: shape=(4,), dtype=float32, numpy=array([204., 202., 200., 202.], dtype=float32)>}\n",
      "{'c': <tf.Tensor: shape=(4, 3), dtype=float32, numpy=\n",
      "array([[100.1, 101.1, 102.1],\n",
      "       [100.1, 101.1, 102.1],\n",
      "       [108.1, 109.1, 110.1],\n",
      "       [104.1, 105.1, 106.1]], dtype=float32)>, 'd': <tf.Tensor: shape=(4,), dtype=float32, numpy=array([200., 200., 204., 202.], dtype=float32)>}\n",
      "{'c': <tf.Tensor: shape=(1, 3), dtype=float32, numpy=array([[108.1, 109.1, 110.1]], dtype=float32)>, 'd': <tf.Tensor: shape=(1,), dtype=float32, numpy=array([204.], dtype=float32)>}\n"
     ]
    }
   ],
   "source": [
    "dataset2 = dataset.repeat(3).map(\n",
    "        lambda x: {'c':x['a']+0.1+x['b'], 'd':2*x['b']}\n",
    "    ).shuffle(buffer_size=5, seed=13).batch(4)\n",
    "for x in dataset2:\n",
    "    print(x)"
   ]
  },
  {
   "cell_type": "code",
   "execution_count": null,
   "id": "881bcbe5-7cb7-4358-9ffa-b376ecba3d4c",
   "metadata": {},
   "outputs": [],
   "source": [
    "dataset.shuffle("
   ]
  }
 ],
 "metadata": {
  "kernelspec": {
   "display_name": "Python 3 (ipykernel)",
   "language": "python",
   "name": "python3"
  },
  "language_info": {
   "codemirror_mode": {
    "name": "ipython",
    "version": 3
   },
   "file_extension": ".py",
   "mimetype": "text/x-python",
   "name": "python",
   "nbconvert_exporter": "python",
   "pygments_lexer": "ipython3",
   "version": "3.10.12"
  }
 },
 "nbformat": 4,
 "nbformat_minor": 5
}
