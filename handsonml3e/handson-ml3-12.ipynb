{
 "cells": [
  {
   "cell_type": "markdown",
   "id": "94b2bf2c-d407-4385-81d0-ed858e1cc502",
   "metadata": {},
   "source": [
    "# Notes on Chapter 12 of *Hands-On Machine Learning with Scikit-Learn, Keras, & TensorFlow*, 3rd edition, by Aurélien Géron"
   ]
  },
  {
   "cell_type": "markdown",
   "id": "2aea82cd-5344-477f-b81a-d966620671af",
   "metadata": {},
   "source": [
    "Reduce the amount of logging messages displayed by TensorFlow"
   ]
  },
  {
   "cell_type": "code",
   "execution_count": 1,
   "id": "466eee58-3312-4170-8a5f-ebb7c1ed3c07",
   "metadata": {},
   "outputs": [],
   "source": [
    "import os\n",
    "os.environ['TF_CPP_MIN_LOG_LEVEL'] = '3'"
   ]
  },
  {
   "cell_type": "code",
   "execution_count": 2,
   "id": "b720138c-afe5-43f6-8895-372c7d10f39e",
   "metadata": {},
   "outputs": [],
   "source": [
    "import itertools\n",
    "import time\n",
    "\n",
    "import keras\n",
    "from keras import layers\n",
    "from matplotlib import pyplot as plt\n",
    "import numpy as np\n",
    "import seaborn as sns\n",
    "import tensorflow as tf\n",
    "import tensorflow.experimental.numpy as tnp"
   ]
  },
  {
   "cell_type": "markdown",
   "id": "ccbfa452-a952-4247-9141-71b9ab11a2ff",
   "metadata": {},
   "source": [
    "## Basic tensor operations"
   ]
  },
  {
   "cell_type": "code",
   "execution_count": 3,
   "id": "f580313d-986d-49fa-bc08-48b205f8e1cb",
   "metadata": {},
   "outputs": [],
   "source": [
    "x = tf.constant([[1,2],[3,4],[5,6]], dtype=tf.float16)"
   ]
  },
  {
   "cell_type": "code",
   "execution_count": 4,
   "id": "920e26c2-9177-474e-aceb-ee7ba2ff167a",
   "metadata": {},
   "outputs": [
    {
     "data": {
      "text/plain": [
       "<tf.Tensor: shape=(3, 2), dtype=float16, numpy=\n",
       "array([[1., 2.],\n",
       "       [3., 4.],\n",
       "       [5., 6.]], dtype=float16)>"
      ]
     },
     "execution_count": 4,
     "metadata": {},
     "output_type": "execute_result"
    }
   ],
   "source": [
    "x"
   ]
  },
  {
   "cell_type": "code",
   "execution_count": 5,
   "id": "d2d28ad5-97e4-4421-b498-43eda0583194",
   "metadata": {},
   "outputs": [
    {
     "data": {
      "text/plain": [
       "<tf.Tensor: shape=(3, 2), dtype=float16, numpy=\n",
       "array([[ 3.,  6.],\n",
       "       [ 9., 12.],\n",
       "       [15., 18.]], dtype=float16)>"
      ]
     },
     "execution_count": 5,
     "metadata": {},
     "output_type": "execute_result"
    }
   ],
   "source": [
    "3 * x"
   ]
  },
  {
   "cell_type": "code",
   "execution_count": 6,
   "id": "e87493fc-25ca-4c80-8a26-7089fc0554c9",
   "metadata": {},
   "outputs": [
    {
     "data": {
      "text/plain": [
       "<tf.Tensor: shape=(3, 3), dtype=float16, numpy=\n",
       "array([[ 5., 11., 17.],\n",
       "       [11., 25., 39.],\n",
       "       [17., 39., 61.]], dtype=float16)>"
      ]
     },
     "execution_count": 6,
     "metadata": {},
     "output_type": "execute_result"
    }
   ],
   "source": [
    "x @ tf.transpose(x)"
   ]
  },
  {
   "cell_type": "code",
   "execution_count": 7,
   "id": "ba58bfbf-75b9-447b-9bfa-387fb4cc5a17",
   "metadata": {},
   "outputs": [
    {
     "data": {
      "text/plain": [
       "<tf.Tensor: shape=(), dtype=int32, numpy=23>"
      ]
     },
     "execution_count": 7,
     "metadata": {},
     "output_type": "execute_result"
    }
   ],
   "source": [
    "tf.constant(23)"
   ]
  },
  {
   "cell_type": "markdown",
   "id": "146f6ca2-b195-4ae9-8e68-8dd9c7600088",
   "metadata": {},
   "source": [
    "Keras also has a tensor library in keras.ops"
   ]
  },
  {
   "cell_type": "code",
   "execution_count": 8,
   "id": "e27fac39-2c7d-4ce9-85e4-cac987a5bcf1",
   "metadata": {},
   "outputs": [
    {
     "data": {
      "text/plain": [
       "<tf.Tensor: shape=(3, 2), dtype=int32, numpy=\n",
       "array([[1, 2],\n",
       "       [3, 4],\n",
       "       [5, 6]], dtype=int32)>"
      ]
     },
     "execution_count": 8,
     "metadata": {},
     "output_type": "execute_result"
    }
   ],
   "source": [
    "y = keras.ops.array([[1,2],[3,4],[5,6]])\n",
    "y"
   ]
  },
  {
   "cell_type": "code",
   "execution_count": 9,
   "id": "1f7ed771-853f-4bdc-b9d9-6757e7db2de1",
   "metadata": {},
   "outputs": [
    {
     "data": {
      "text/plain": [
       "<tf.Tensor: shape=(3, 2), dtype=int32, numpy=\n",
       "array([[ 2,  6],\n",
       "       [ 6, 12],\n",
       "       [10, 18]], dtype=int32)>"
      ]
     },
     "execution_count": 9,
     "metadata": {},
     "output_type": "execute_result"
    }
   ],
   "source": [
    "[[1,2],[3,4],[5,6]] * keras.ops.arange(2,4)"
   ]
  },
  {
   "cell_type": "markdown",
   "id": "66e9077f-8857-4788-aa37-4940e6d35ce3",
   "metadata": {},
   "source": [
    "Note the tensorflow will not automatically perform implicit type promotion due to performance concerns:"
   ]
  },
  {
   "cell_type": "code",
   "execution_count": 10,
   "id": "36cea1be-6d75-4ccc-b56d-278ad9f774bc",
   "metadata": {},
   "outputs": [
    {
     "name": "stdout",
     "output_type": "stream",
     "text": [
      "<class 'tensorflow.python.framework.errors_impl.InvalidArgumentError'> : cannot compute Mul as input #1(zero-based) was expected to be a int32 tensor but is a float tensor [Op:Mul] name: \n"
     ]
    }
   ],
   "source": [
    "try:\n",
    "    tf.constant(3) * tf.constant(2.)\n",
    "except Exception as e:\n",
    "    print(type(e), ':', e)\n",
    "else:\n",
    "    assert False # (unreached)"
   ]
  },
  {
   "cell_type": "markdown",
   "id": "ffbb0c9f-f4a7-410a-be49-94cd1e2a4442",
   "metadata": {},
   "source": [
    "Thus manual casts are required for this type of code:"
   ]
  },
  {
   "cell_type": "code",
   "execution_count": 11,
   "id": "ecda18eb-deeb-428d-8cd3-08a13596db23",
   "metadata": {},
   "outputs": [
    {
     "data": {
      "text/plain": [
       "<tf.Tensor: shape=(), dtype=float32, numpy=6.0>"
      ]
     },
     "execution_count": 11,
     "metadata": {},
     "output_type": "execute_result"
    }
   ],
   "source": [
    "tf.cast(tf.constant(3), tf.float32) * tf.constant(2.)"
   ]
  },
  {
   "cell_type": "markdown",
   "id": "5c445706-b191-4f8f-b82e-38bdd00813e9",
   "metadata": {},
   "source": [
    "Tensorflow also includes a more comprehensive numpy emulation library in experimental. First one needs to enable Numpy-like behavior:"
   ]
  },
  {
   "cell_type": "code",
   "execution_count": 12,
   "id": "d1b018a8-e3aa-41f3-9aad-13c49c1932b1",
   "metadata": {},
   "outputs": [],
   "source": [
    "from tensorflow.python.ops.numpy_ops import np_config\n",
    "np_config.enable_numpy_behavior()"
   ]
  },
  {
   "cell_type": "markdown",
   "id": "2c2d458d-7d42-437f-a103-c529bc632173",
   "metadata": {},
   "source": [
    "This enables automatic type promotion, in addition to adding more numpy-like member functions (e.g. ravel and reshape) to tf tensors. "
   ]
  },
  {
   "cell_type": "code",
   "execution_count": 13,
   "id": "78a75033-994a-42d9-a94a-5428aa2d44b8",
   "metadata": {},
   "outputs": [
    {
     "data": {
      "text/plain": [
       "<tf.Tensor: shape=(), dtype=float64, numpy=6.0>"
      ]
     },
     "execution_count": 13,
     "metadata": {},
     "output_type": "execute_result"
    }
   ],
   "source": [
    "tf.constant(3) * tf.constant(2.) # previously an error"
   ]
  },
  {
   "cell_type": "code",
   "execution_count": 14,
   "id": "09d5afb2-f51b-4eed-9a95-2084489e80e2",
   "metadata": {},
   "outputs": [
    {
     "data": {
      "text/plain": [
       "<tf.Tensor: shape=(3, 4), dtype=int64, numpy=\n",
       "array([[ 0,  1,  2,  3],\n",
       "       [ 4,  5,  6,  7],\n",
       "       [ 8,  9, 10, 11]])>"
      ]
     },
     "execution_count": 14,
     "metadata": {},
     "output_type": "execute_result"
    }
   ],
   "source": [
    "x = tnp.arange(12).reshape((3,4))\n",
    "x"
   ]
  },
  {
   "cell_type": "code",
   "execution_count": 15,
   "id": "ea234a50-8f69-4e05-ae11-6faf1455051f",
   "metadata": {},
   "outputs": [
    {
     "data": {
      "text/plain": [
       "<tf.Tensor: shape=(1, 4), dtype=int64, numpy=array([[4, 5, 6, 7]])>"
      ]
     },
     "execution_count": 15,
     "metadata": {},
     "output_type": "execute_result"
    }
   ],
   "source": [
    "x[tnp.newaxis, 1, :]"
   ]
  },
  {
   "cell_type": "markdown",
   "id": "e0597f90-fe90-4909-b1c5-6ec059994101",
   "metadata": {},
   "source": [
    "Note that (unlike JAX) some things like direct assignment are still not allowed:"
   ]
  },
  {
   "cell_type": "code",
   "execution_count": 16,
   "id": "9e11effa-9e33-47b6-a691-9127a2804527",
   "metadata": {},
   "outputs": [
    {
     "name": "stdout",
     "output_type": "stream",
     "text": [
      "<class 'TypeError'> : 'tensorflow.python.framework.ops.EagerTensor' object does not support item assignment\n"
     ]
    }
   ],
   "source": [
    "try:\n",
    "    x[1,1] = 100\n",
    "except Exception as e:\n",
    "    print(type(e), ':', e)\n",
    "else:\n",
    "    assert False # (unreached)"
   ]
  },
  {
   "cell_type": "markdown",
   "id": "024e4ccc-7550-4a6c-b487-3b2221b0a582",
   "metadata": {},
   "source": [
    "Mutible tensors need to be declared with tf.Variable:"
   ]
  },
  {
   "cell_type": "code",
   "execution_count": 17,
   "id": "8e93fc0b-119a-45dc-8815-62e6bc044a5d",
   "metadata": {},
   "outputs": [
    {
     "data": {
      "text/plain": [
       "<tf.Variable 'Variable:0' shape=(2, 2) dtype=int32, numpy=\n",
       "array([[1, 2],\n",
       "       [3, 4]], dtype=int32)>"
      ]
     },
     "execution_count": 17,
     "metadata": {},
     "output_type": "execute_result"
    }
   ],
   "source": [
    "x = tf.Variable([[1,2],[3,4]])\n",
    "x"
   ]
  },
  {
   "cell_type": "code",
   "execution_count": 18,
   "id": "572580c6-2e96-47b7-9ecc-f9aa0b68e15b",
   "metadata": {},
   "outputs": [
    {
     "data": {
      "text/plain": [
       "<tf.Variable 'Variable:0' shape=(2, 2) dtype=int32, numpy=\n",
       "array([[2, 4],\n",
       "       [6, 8]], dtype=int32)>"
      ]
     },
     "execution_count": 18,
     "metadata": {},
     "output_type": "execute_result"
    }
   ],
   "source": [
    "x.assign( 2*x )\n",
    "x"
   ]
  },
  {
   "cell_type": "code",
   "execution_count": 19,
   "id": "b76a8d47-ebde-48f5-af56-b610276bc9b1",
   "metadata": {},
   "outputs": [
    {
     "data": {
      "text/plain": [
       "<tf.Variable 'Variable:0' shape=(2, 2) dtype=int32, numpy=\n",
       "array([[23,  4],\n",
       "       [ 6, 42]], dtype=int32)>"
      ]
     },
     "execution_count": 19,
     "metadata": {},
     "output_type": "execute_result"
    }
   ],
   "source": [
    "x.scatter_nd_update([[0,0], [1,1,]], [23, 42])\n",
    "x"
   ]
  },
  {
   "cell_type": "markdown",
   "id": "107e1d19-e3ff-491f-bff9-63f653f95b29",
   "metadata": {},
   "source": [
    "### Custom objects"
   ]
  },
  {
   "cell_type": "markdown",
   "id": "7298e893-53d5-4331-9e46-5c424de7a657",
   "metadata": {},
   "source": [
    "Custom objects such as loss functions can be used, but they can create complications when loading and saving models. In particular, you'll need to provide a dictionary at load time with the custom components, which can be either functions or objects that implement a get_config function."
   ]
  },
  {
   "cell_type": "code",
   "execution_count": 20,
   "id": "0f98ac50-f35e-4c72-a43f-8fb71368b75d",
   "metadata": {},
   "outputs": [],
   "source": [
    "m = keras.models.Sequential([\n",
    "    layers.Input((8,)),\n",
    "    layers.Dense(12),\n",
    "    layers.Activation('softmax')\n",
    "])"
   ]
  },
  {
   "cell_type": "code",
   "execution_count": 21,
   "id": "845182e8-84b3-4f16-b42e-c2515028916f",
   "metadata": {},
   "outputs": [],
   "source": [
    "def my_loss(y_true, y_predicted):\n",
    "    residual = y_true - y_predicted\n",
    "    return tf.where(tf.abs(residual) > 1, residual, tf.square(residual)/2)\n",
    "\n",
    "class MyLRSchedule(keras.optimizers.schedules.LearningRateSchedule):\n",
    "    def __init__(self, initial_learning_rate, alpha, **kwargs):\n",
    "        self.initial_learning_rate = initial_learning_rate\n",
    "        self.alpha = alpha\n",
    "        super().__init__(**kwargs) # kwargs not needed for this example\n",
    "\n",
    "    def __call__(self, step):\n",
    "        return self.initial_learning_rate / (step + 1)\n",
    "\n",
    "    def get_config(self):\n",
    "        base_config = {} #super().get_config()\n",
    "        return {\n",
    "            'initial_learning_rate': self.initial_learning_rate,\n",
    "            'alpha': self.alpha,\n",
    "            **base_config,\n",
    "        }"
   ]
  },
  {
   "cell_type": "code",
   "execution_count": 22,
   "id": "0d6cb567-831d-4493-8b67-16ea1d856564",
   "metadata": {},
   "outputs": [],
   "source": [
    "m.compile(\n",
    "    loss=my_loss,\n",
    "    optimizer=keras.optimizers.SGD(learning_rate=MyLRSchedule(0.002, 0.999))\n",
    ")\n",
    "m.save('ch13_custom_objects.keras')"
   ]
  },
  {
   "cell_type": "markdown",
   "id": "3153faa4-94d0-4ee4-9806-03255435d281",
   "metadata": {},
   "source": [
    "Load will fail without custom objects"
   ]
  },
  {
   "cell_type": "code",
   "execution_count": 23,
   "id": "26602d71-814f-4281-97df-a9d7d3b3a3dd",
   "metadata": {},
   "outputs": [
    {
     "name": "stdout",
     "output_type": "stream",
     "text": [
      "<class 'TypeError'> <class 'keras.src.optimizers.sgd.SGD'> could not be deserialized properly. Please ensure that components that are Python object instances (layers, models, etc.) returned by `get_config()` are explicitly deserialized in the model's `from_config()` method.\n",
      "\n",
      "config={'module': 'keras.optimizers', 'class_name': 'SGD', 'config': {'name': 'SGD', 'learning_rate': {'module': None, 'class_name': 'MyLRSchedule', 'config': {'initial_learning_rate': 0.002, 'alpha': 0.999}, 'registered_name': 'MyLRSchedule'}, 'weight_decay': None, 'clipnorm': None, 'global_clipnorm': None, 'clipvalue': None, 'use_ema': False, 'ema_momentum': 0.99, 'ema_overwrite_frequency': None, 'loss_scale_factor': None, 'gradient_accumulation_steps': None, 'momentum': 0.0, 'nesterov': False}, 'registered_name': None}.\n",
      "\n",
      "Exception encountered: Could not locate class 'MyLRSchedule'. Make sure custom classes are decorated with `@keras.saving.register_keras_serializable()`. Full object config: {'module': None, 'class_name': 'MyLRSchedule', 'config': {'initial_learning_rate': 0.002, 'alpha': 0.999}, 'registered_name': 'MyLRSchedule'}\n"
     ]
    }
   ],
   "source": [
    "try:\n",
    "    m1 = keras.models.load_model('ch13_custom_objects.keras')\n",
    "    assert False # unreached\n",
    "except TypeError as e:\n",
    "    print(type(e), e)"
   ]
  },
  {
   "cell_type": "markdown",
   "id": "98b74822-28ed-41f5-81e9-4a8115ba4823",
   "metadata": {},
   "source": [
    "Custom objects can be passed either as a context or an extra parameters on load"
   ]
  },
  {
   "cell_type": "code",
   "execution_count": 24,
   "id": "04c4d70c-946d-471b-bb58-2e36ccede1bb",
   "metadata": {},
   "outputs": [],
   "source": [
    "custom_objects = {\n",
    "    'my_loss': my_loss,\n",
    "    'MyLRSchedule': MyLRSchedule\n",
    "}\n",
    "\n",
    "m1 = keras.models.load_model(\n",
    "    'ch13_custom_objects.keras',\n",
    "    custom_objects=custom_objects\n",
    ")\n",
    "\n",
    "with keras.saving.custom_object_scope(custom_objects):\n",
    "    m2 = keras.models.load_model('ch13_custom_objects.keras')"
   ]
  },
  {
   "cell_type": "markdown",
   "id": "b4d1b22e-8179-4a86-a18d-5d9703ef5a46",
   "metadata": {},
   "source": [
    "Custom layers"
   ]
  },
  {
   "cell_type": "markdown",
   "id": "dd10fc24-e06b-4b95-b2c9-14433d6ea37f",
   "metadata": {},
   "source": [
    "Simple layers without weights can be constructed with a lambda layer"
   ]
  },
  {
   "cell_type": "code",
   "execution_count": 25,
   "id": "3ef34a15-537a-4041-9ca2-972d4aa08caf",
   "metadata": {},
   "outputs": [],
   "source": [
    "square_layer = keras.layers.Lambda(lambda x : tf.square(x))"
   ]
  },
  {
   "cell_type": "markdown",
   "id": "4ee0a290-a45f-4711-9b61-20665b18c897",
   "metadata": {},
   "source": [
    "More complex layers can be implemented by deriving from the Layer class"
   ]
  },
  {
   "cell_type": "code",
   "execution_count": 26,
   "id": "0c01a88d-0abd-4c93-896d-9feda93da711",
   "metadata": {},
   "outputs": [],
   "source": [
    "class DenseAndFlatten(layers.Layer):\n",
    "    \"\"\"Same as the old Dense, but with less functionality\"\"\"\n",
    "    \n",
    "    def __init__(self, units, activation=None, **kwargs):\n",
    "        super().__init__(**kwargs)\n",
    "        self.units = units\n",
    "        self.activation = keras.activations.get(activation)\n",
    "\n",
    "    # initialize the parameters etc the first time this instance is used.\n",
    "    def build(self, batch_input_shape):\n",
    "        self.W = self.add_weight(name=\"W\", shape=(batch_input_shape[-1], self.units),\n",
    "            initializer=\"glorot_normal\")\n",
    "        self.b = self.add_weight(name=\"b\", shape=(self.units,),\n",
    "            initializer=\"zeros\")\n",
    "\n",
    "    def call(self, X):\n",
    "        return self.activation(X @ self.W + self.b)\n",
    "\n",
    "    def get_config(self):\n",
    "        # needed only if supporting load/save functionality\n",
    "        return {\n",
    "            \"units\": self.units,\n",
    "            \"activation\": keras.activations.serialize(self.activation),\n",
    "            **(super().get_config())\n",
    "        }"
   ]
  },
  {
   "cell_type": "markdown",
   "id": "c64dafde-4ee8-40f3-ad80-b4883078ee7a",
   "metadata": {},
   "source": [
    "Models are a subclass of layers and custom layers can be defined in a similar fashion. This can sometimes be useful when a loss function needs to contain a term from internal variables in the model, in which case you can call the Model.add_loss to add a term to the loss function (typically as part of the call function)."
   ]
  },
  {
   "cell_type": "markdown",
   "id": "84784492-48f6-4336-ac60-b69aeec097bc",
   "metadata": {},
   "source": [
    "## GradientTape and Autodiff"
   ]
  },
  {
   "cell_type": "markdown",
   "id": "4f5a338a-a245-41f3-8967-89bbc9edb565",
   "metadata": {},
   "source": [
    "The GradientTape class can be used to record autodiff-calculated gradients:"
   ]
  },
  {
   "cell_type": "code",
   "execution_count": 27,
   "id": "2d658599-3aba-4c98-b936-01bf89ed8f73",
   "metadata": {},
   "outputs": [
    {
     "data": {
      "text/plain": [
       "[<tf.Tensor: shape=(), dtype=float32, numpy=24.0>,\n",
       " <tf.Tensor: shape=(), dtype=float32, numpy=40.0>]"
      ]
     },
     "execution_count": 27,
     "metadata": {},
     "output_type": "execute_result"
    }
   ],
   "source": [
    "def f(x,y):\n",
    "    return x - 2*y + x*y\n",
    "\n",
    "x1 = tf.Variable(42.)\n",
    "y1 = tf.Variable(23.)\n",
    "\n",
    "with tf.GradientTape() as tape:\n",
    "    z1 = f(x1, y1)\n",
    "\n",
    "tape.gradient(z1, [x1, y1])"
   ]
  },
  {
   "cell_type": "markdown",
   "id": "b39743a1-981d-4d1e-8aa7-4a7aa4b024f8",
   "metadata": {},
   "source": [
    "By default gradient tapes can only be queried once:"
   ]
  },
  {
   "cell_type": "code",
   "execution_count": 28,
   "id": "bc51ecc6-5758-44e2-98fa-fa71b28a04fa",
   "metadata": {},
   "outputs": [
    {
     "name": "stdout",
     "output_type": "stream",
     "text": [
      "tf.Tensor(24.0, shape=(), dtype=float32)\n",
      "<class 'RuntimeError'> : A non-persistent GradientTape can only be used to compute one set of gradients (or jacobians)\n"
     ]
    }
   ],
   "source": [
    "with tf.GradientTape() as tape:\n",
    "    z1 = f(x1, y1)\n",
    "\n",
    "print(tape.gradient(z1, x1))\n",
    "\n",
    "try:\n",
    "    print(tape.gradient(z1, y1))\n",
    "except RuntimeError as e:\n",
    "    print(type(e), ':', e)\n",
    "else:\n",
    "    assert False # (unreached)"
   ]
  },
  {
   "cell_type": "markdown",
   "id": "7e8cad5e-652b-4b38-a5a6-80f9063ebe55",
   "metadata": {},
   "source": [
    "This behavior can be controlled with the `persistent` parameter:"
   ]
  },
  {
   "cell_type": "code",
   "execution_count": 29,
   "id": "1fad54b0-cfe5-4c1e-8bb4-c6958b7ab907",
   "metadata": {},
   "outputs": [
    {
     "name": "stdout",
     "output_type": "stream",
     "text": [
      "tf.Tensor(24.0, shape=(), dtype=float32)\n",
      "tf.Tensor(40.0, shape=(), dtype=float32)\n"
     ]
    }
   ],
   "source": [
    "with tf.GradientTape(persistent=True) as tape:\n",
    "    z1 = f(x1, y1)\n",
    "\n",
    "print(tape.gradient(z1, x1))\n",
    "print(tape.gradient(z1, y1))"
   ]
  },
  {
   "cell_type": "markdown",
   "id": "e55f0cd2-6a3a-416c-8c6d-9703e3439ad3",
   "metadata": {},
   "source": [
    "Only variables are tracked by default:"
   ]
  },
  {
   "cell_type": "code",
   "execution_count": 30,
   "id": "b3e87594-adff-4152-be77-a1efc4a1f4da",
   "metadata": {},
   "outputs": [
    {
     "name": "stdout",
     "output_type": "stream",
     "text": [
      "None\n"
     ]
    }
   ],
   "source": [
    "c1 = tf.constant(7.)\n",
    "\n",
    "with tf.GradientTape() as tape:\n",
    "    z1 = c1 * f(x1, y1)\n",
    "\n",
    "print(tape.gradient(z1, c1))"
   ]
  },
  {
   "cell_type": "markdown",
   "id": "cfb93032-2fb9-4255-9f61-b676ce43f562",
   "metadata": {},
   "source": [
    "Things like constants can be tracked by adding them with the `watch` function:"
   ]
  },
  {
   "cell_type": "code",
   "execution_count": 31,
   "id": "53d0b025-c10b-4968-bebf-e6f2a2ccdde5",
   "metadata": {},
   "outputs": [
    {
     "name": "stdout",
     "output_type": "stream",
     "text": [
      "tf.Tensor(962.0, shape=(), dtype=float32)\n"
     ]
    }
   ],
   "source": [
    "with tf.GradientTape() as tape:\n",
    "    tape.watch(c1)\n",
    "    z1 = c1 * f(x1, y1)\n",
    "\n",
    "print(tape.gradient(z1, c1))"
   ]
  },
  {
   "cell_type": "code",
   "execution_count": null,
   "id": "3743a38e-aaae-409b-8a42-32048c8a4192",
   "metadata": {},
   "outputs": [],
   "source": []
  }
 ],
 "metadata": {
  "kernelspec": {
   "display_name": "Python 3 (ipykernel)",
   "language": "python",
   "name": "python3"
  },
  "language_info": {
   "codemirror_mode": {
    "name": "ipython",
    "version": 3
   },
   "file_extension": ".py",
   "mimetype": "text/x-python",
   "name": "python",
   "nbconvert_exporter": "python",
   "pygments_lexer": "ipython3",
   "version": "3.10.12"
  }
 },
 "nbformat": 4,
 "nbformat_minor": 5
}
