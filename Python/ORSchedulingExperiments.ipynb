{
 "cells": [
  {
   "cell_type": "markdown",
   "id": "23481485-5630-44b1-a5a0-6bb387995bee",
   "metadata": {},
   "source": [
    "# OR scheduling experiments"
   ]
  },
  {
   "cell_type": "code",
   "execution_count": 17,
   "id": "b6e38390-0419-403f-bf78-6342102acf30",
   "metadata": {},
   "outputs": [],
   "source": [
    "import pulp"
   ]
  },
  {
   "cell_type": "markdown",
   "id": "6e2c5f31-e4a7-4c12-95fd-866e41339f13",
   "metadata": {},
   "source": [
    "Create a linear programming problem object for this optimization task"
   ]
  },
  {
   "cell_type": "code",
   "execution_count": 7,
   "id": "edad049f-32ea-49be-a84c-529c58da8616",
   "metadata": {},
   "outputs": [],
   "source": [
    "problem = pulp.LpProblem(\"ORProblem\")"
   ]
  },
  {
   "cell_type": "markdown",
   "id": "8bba8fd0-4a5d-47c5-81fa-1f77ae34d745",
   "metadata": {
    "tags": []
   },
   "source": [
    "Set up the basic number of ORs and staff "
   ]
  },
  {
   "cell_type": "code",
   "execution_count": 27,
   "id": "b72848a6-f5d8-452f-a0f0-436185e2f6de",
   "metadata": {
    "tags": []
   },
   "outputs": [],
   "source": [
    "residents = [f'resident_{i}' for i in range(40)]\n",
    "crnas = [f'crna_{i}' for i in range(50)]\n",
    "attendings = [f'attending_{i}' for i in range(60)]\n",
    "ors = [f'OR{i}' for i in range(40)]"
   ]
  },
  {
   "cell_type": "markdown",
   "id": "d6052574-3d6a-47dc-83d7-44e8bc768047",
   "metadata": {},
   "source": [
    "We next need to choose a way to parameterize the various possible solutions to this problem. We will choose to do this as a list of binary variables, each encoding whether a given staff member is assigned to a given OR."
   ]
  },
  {
   "cell_type": "code",
   "execution_count": 28,
   "id": "14ac49b9-6140-42fc-ae51-0b6a39d8d35d",
   "metadata": {},
   "outputs": [],
   "source": [
    "residentAssignments = pulp.LpVariable.dicts(\"ResidentAssignment\", (residents, ors), cat=\"Binary\")"
   ]
  },
  {
   "cell_type": "markdown",
   "id": "8ef974df-04f4-41ce-8068-30fe6d00ff06",
   "metadata": {},
   "source": [
    "Make sure each resident is assigned to at most 1 OR"
   ]
  },
  {
   "cell_type": "code",
   "execution_count": 29,
   "id": "89f8d819-d92f-463d-90f6-603291f934b6",
   "metadata": {},
   "outputs": [],
   "source": [
    "for resident in residents:\n",
    "    problem += (pulp.lpSum([residentAssignments[resident][or_] for or_ in ors]) <= 1)"
   ]
  },
  {
   "cell_type": "markdown",
   "id": "859b4a7c-6718-4e75-95a1-1f54ebfc343c",
   "metadata": {
    "tags": []
   },
   "source": [
    "Make sure each OR is assigned exactly one staff member"
   ]
  },
  {
   "cell_type": "code",
   "execution_count": 30,
   "id": "74385518-2f3d-4852-b219-a8ec7d7eda39",
   "metadata": {},
   "outputs": [],
   "source": [
    "for or_ in ors:\n",
    "    problem += (pulp.lpSum([residentAssignments[resident][or_] for resident in residents]) == 1)"
   ]
  },
  {
   "cell_type": "markdown",
   "id": "8139bd0f-9dea-4cce-8d53-884777490be3",
   "metadata": {},
   "source": [
    "Solve the optimization problem"
   ]
  },
  {
   "cell_type": "code",
   "execution_count": 31,
   "id": "09a2d32d-279f-464b-96f8-361a932953bc",
   "metadata": {},
   "outputs": [
    {
     "name": "stdout",
     "output_type": "stream",
     "text": [
      "Welcome to the CBC MILP Solver \n",
      "Version: 2.10.3 \n",
      "Build Date: Dec 15 2019 \n",
      "\n",
      "command line - /home/jovyan/.local/lib/python3.10/site-packages/pulp/solverdir/cbc/linux/64/cbc /tmp/30ae0245c50c427481eba4bdf9bb1325-pulp.mps timeMode elapsed branch printingOptions all solution /tmp/30ae0245c50c427481eba4bdf9bb1325-pulp.sol (default strategy 1)\n",
      "At line 2 NAME          MODEL\n",
      "At line 3 ROWS\n",
      "At line 245 COLUMNS\n",
      "At line 19447 RHS\n",
      "At line 19688 BOUNDS\n",
      "At line 24490 ENDATA\n",
      "Problem MODEL has 240 rows, 4801 columns and 9600 elements\n",
      "Coin0008I MODEL read with 0 errors\n",
      "Option for timeMode changed from cpu to elapsed\n",
      "Continuous objective value is 0 - 0.03 seconds\n",
      "Cgl0004I processed model has 240 rows, 4800 columns (4800 integer (4800 of which binary)) and 9600 elements\n",
      "Cbc0045I No integer variables out of 4800 objects (4800 integer) have costs\n",
      "Cbc0045I branch on satisfied N create fake objective Y random cost Y\n",
      "Cbc0038I Initial state - 0 integers unsatisfied sum - 0\n",
      "Cbc0038I Solution found of 0\n",
      "Cbc0038I Before mini branch and bound, 4800 integers at bound fixed and 0 continuous\n",
      "Cbc0038I Mini branch and bound did not improve solution (0.11 seconds)\n",
      "Cbc0038I After 0.11 seconds - Feasibility pump exiting with objective of 0 - took 0.00 seconds\n",
      "Cbc0012I Integer solution of 0 found by feasibility pump after 0 iterations and 0 nodes (0.11 seconds)\n",
      "Cbc0001I Search completed - best objective 0, took 0 iterations and 0 nodes (0.11 seconds)\n",
      "Cbc0035I Maximum depth 0, 0 variables fixed on reduced cost\n",
      "Cuts at root node changed objective from 0 to 0\n",
      "Probing was tried 0 times and created 0 cuts of which 0 were active after adding rounds of cuts (0.000 seconds)\n",
      "Gomory was tried 0 times and created 0 cuts of which 0 were active after adding rounds of cuts (0.000 seconds)\n",
      "Knapsack was tried 0 times and created 0 cuts of which 0 were active after adding rounds of cuts (0.000 seconds)\n",
      "Clique was tried 0 times and created 0 cuts of which 0 were active after adding rounds of cuts (0.000 seconds)\n",
      "MixedIntegerRounding2 was tried 0 times and created 0 cuts of which 0 were active after adding rounds of cuts (0.000 seconds)\n",
      "FlowCover was tried 0 times and created 0 cuts of which 0 were active after adding rounds of cuts (0.000 seconds)\n",
      "TwoMirCuts was tried 0 times and created 0 cuts of which 0 were active after adding rounds of cuts (0.000 seconds)\n",
      "ZeroHalf was tried 0 times and created 0 cuts of which 0 were active after adding rounds of cuts (0.000 seconds)\n",
      "\n",
      "Result - Optimal solution found\n",
      "\n",
      "Objective value:                0.00000000\n",
      "Enumerated nodes:               0\n",
      "Total iterations:               0\n",
      "Time (CPU seconds):             0.11\n",
      "Time (Wallclock seconds):       0.12\n",
      "\n",
      "Option for printingOptions changed from normal to all\n",
      "Total time (CPU seconds):       0.11   (Wallclock seconds):       0.13\n",
      "\n",
      "Optimal\n"
     ]
    }
   ],
   "source": [
    "problem.writeLP(\"OR_assignments.lp\")\n",
    "problem.solve()\n",
    "print(pulp.LpStatus[problem.status])"
   ]
  },
  {
   "cell_type": "markdown",
   "id": "25d61403-cb79-4e6a-b2bd-1cec482426c3",
   "metadata": {},
   "source": [
    "Print the solution in table form"
   ]
  },
  {
   "cell_type": "code",
   "execution_count": 32,
   "id": "de77cc11-e4f4-4b70-bd1c-6517375f4934",
   "metadata": {},
   "outputs": [
    {
     "name": "stdout",
     "output_type": "stream",
     "text": [
      "OR0 :resident_9\n",
      "OR1 :resident_17\n",
      "OR2 :resident_20\n",
      "OR3 :resident_8\n",
      "OR4 :resident_11\n",
      "OR5 :resident_16\n",
      "OR6 :resident_32\n",
      "OR7 :resident_29\n",
      "OR8 :resident_31\n",
      "OR9 :resident_15\n",
      "OR10 :resident_22\n",
      "OR11 :resident_7\n",
      "OR12 :resident_4\n",
      "OR13 :resident_37\n",
      "OR14 :resident_27\n",
      "OR15 :resident_38\n",
      "OR16 :resident_33\n",
      "OR17 :resident_35\n",
      "OR18 :resident_34\n",
      "OR19 :resident_28\n",
      "OR20 :resident_36\n",
      "OR21 :resident_2\n",
      "OR22 :resident_12\n",
      "OR23 :resident_39\n",
      "OR24 :resident_30\n",
      "OR25 :resident_14\n",
      "OR26 :resident_5\n",
      "OR27 :resident_18\n",
      "OR28 :resident_21\n",
      "OR29 :resident_23\n",
      "OR30 :resident_13\n",
      "OR31 :resident_24\n",
      "OR32 :resident_19\n",
      "OR33 :resident_1\n",
      "OR34 :resident_25\n",
      "OR35 :resident_10\n",
      "OR36 :resident_3\n",
      "OR37 :resident_6\n",
      "OR38 :resident_0\n",
      "OR39 :resident_26\n"
     ]
    }
   ],
   "source": [
    "for or_ in ors:\n",
    "    print(or_, ':', end='')\n",
    "    for resident in residents:\n",
    "        if pulp.value(residentAssignments[resident][or_]) == 1:\n",
    "            print(resident)\n",
    "            break"
   ]
  },
  {
   "cell_type": "code",
   "execution_count": null,
   "id": "b990781b-82c3-4278-8ff4-292da537e6fb",
   "metadata": {},
   "outputs": [],
   "source": []
  }
 ],
 "metadata": {
  "kernelspec": {
   "display_name": "Python 3 (ipykernel)",
   "language": "python",
   "name": "python3"
  },
  "language_info": {
   "codemirror_mode": {
    "name": "ipython",
    "version": 3
   },
   "file_extension": ".py",
   "mimetype": "text/x-python",
   "name": "python",
   "nbconvert_exporter": "python",
   "pygments_lexer": "ipython3",
   "version": "3.10.6"
  }
 },
 "nbformat": 4,
 "nbformat_minor": 5
}
