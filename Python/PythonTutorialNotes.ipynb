{
 "cells": [
  {
   "cell_type": "markdown",
   "id": "1e5c56db-02e9-447c-ae26-a56fd793773a",
   "metadata": {
    "tags": []
   },
   "source": [
    "# Python tutorial notes"
   ]
  },
  {
   "cell_type": "markdown",
   "id": "f257a984-13ab-44c0-a35d-dce4078dab55",
   "metadata": {},
   "source": [
    "#### 3.1.1 Numbers"
   ]
  },
  {
   "cell_type": "code",
   "execution_count": 1,
   "id": "6a7a220e-cd95-47e2-a1aa-b604e9c09782",
   "metadata": {
    "tags": []
   },
   "outputs": [
    {
     "data": {
      "text/plain": [
       "6.25"
      ]
     },
     "execution_count": 1,
     "metadata": {},
     "output_type": "execute_result"
    }
   ],
   "source": [
    "1 + 2**2 + 4//3 + 1/4"
   ]
  },
  {
   "cell_type": "markdown",
   "id": "4905eccf-c29f-4455-97ec-a7c40b0a6c7a",
   "metadata": {},
   "source": [
    "Prior result (interactive mode only)"
   ]
  },
  {
   "cell_type": "code",
   "execution_count": 2,
   "id": "47b8d150-c7df-4489-a14f-7860476e172a",
   "metadata": {
    "tags": []
   },
   "outputs": [
    {
     "data": {
      "text/plain": [
       "6.25"
      ]
     },
     "execution_count": 2,
     "metadata": {},
     "output_type": "execute_result"
    }
   ],
   "source": [
    "_"
   ]
  },
  {
   "cell_type": "markdown",
   "id": "17006327-3e30-4d9f-97d7-114646dccf9c",
   "metadata": {},
   "source": [
    "Native complex number support using $j$ (electrical engineering style). Note that $i$ and $k$ are not supported notations."
   ]
  },
  {
   "cell_type": "code",
   "execution_count": 3,
   "id": "30fd68c0-5c2d-4703-b582-a23dae62994f",
   "metadata": {
    "tags": []
   },
   "outputs": [
    {
     "data": {
      "text/plain": [
       "(-3+4j)"
      ]
     },
     "execution_count": 3,
     "metadata": {},
     "output_type": "execute_result"
    }
   ],
   "source": [
    "(1 + 2j)**2"
   ]
  },
  {
   "cell_type": "markdown",
   "id": "ca6671e5-6acb-47de-ae48-18f7aac88ce7",
   "metadata": {
    "tags": []
   },
   "source": [
    "Note the the power operatator has a higher precidence than the unary negation operator:"
   ]
  },
  {
   "cell_type": "code",
   "execution_count": 4,
   "id": "3ed26c58-6ce2-4d4a-8dc1-9502866723d2",
   "metadata": {
    "tags": []
   },
   "outputs": [
    {
     "data": {
      "text/plain": [
       "(36, -36)"
      ]
     },
     "execution_count": 4,
     "metadata": {},
     "output_type": "execute_result"
    }
   ],
   "source": [
    "(-6)**2, -6**2"
   ]
  },
  {
   "cell_type": "markdown",
   "id": "3469549f-803d-4f9d-b906-08561c389657",
   "metadata": {},
   "source": [
    "The standard library includes additional types such as decimal and fraction:"
   ]
  },
  {
   "cell_type": "code",
   "execution_count": 5,
   "id": "7c1e6dca-ca54-4d68-bd5e-5d224a142d8f",
   "metadata": {
    "tags": []
   },
   "outputs": [
    {
     "name": "stdout",
     "output_type": "stream",
     "text": [
      "1/10 + 1/10 + 1/10 - 3/10\n",
      "Floating point result: 5.551115123125783e-17\n",
      "Decimal result: 0.0\n",
      "Fraction result: 0\n"
     ]
    }
   ],
   "source": [
    "from decimal import Decimal\n",
    "from fractions import Fraction\n",
    "\n",
    "print(\"1/10 + 1/10 + 1/10 - 3/10\")\n",
    "print(f\"Floating point result: { 1/10 + 1/10 + 1/10 - 3/10 }\")\n",
    "print(f\"Decimal result: { Decimal(1)/10 + Decimal(1)/10 + Decimal(1)/10 - Decimal(3)/10 }\")\n",
    "print(f\"Fraction result: { Fraction(1, 10) + Fraction(1, 10) + Fraction(1, 10) - Fraction(3, 10) }\") "
   ]
  },
  {
   "cell_type": "markdown",
   "id": "fe37f1a8-7a86-44d2-a1e2-d7928bb41a6f",
   "metadata": {
    "tags": []
   },
   "source": [
    "#### 3.1.2 Strings"
   ]
  },
  {
   "cell_type": "markdown",
   "id": "ebb8d371-dee0-4a91-b9dd-ef099a87447b",
   "metadata": {},
   "source": [
    "Raw strings can contain backslashes, but can not end in an odd number of backslashes:"
   ]
  },
  {
   "cell_type": "code",
   "execution_count": 6,
   "id": "e30efeb0-08c6-4d2c-905f-aa41aa0e903f",
   "metadata": {
    "tags": []
   },
   "outputs": [
    {
     "data": {
      "text/plain": [
       "'C:\\\\foo\\\\name'"
      ]
     },
     "execution_count": 6,
     "metadata": {},
     "output_type": "execute_result"
    }
   ],
   "source": [
    "r\"C:\\foo\\name\""
   ]
  },
  {
   "cell_type": "code",
   "execution_count": 7,
   "id": "6612b9bb-efe7-4b8e-a8a4-1361f233e887",
   "metadata": {
    "tags": []
   },
   "outputs": [
    {
     "data": {
      "text/plain": [
       "'C:\\\\foo\\\\\\\\name\\\\\\\\\\\\\\\\'"
      ]
     },
     "execution_count": 7,
     "metadata": {},
     "output_type": "execute_result"
    }
   ],
   "source": [
    "r\"C:\\foo\\\\name\\\\\\\\\""
   ]
  },
  {
   "cell_type": "code",
   "execution_count": 118,
   "id": "703c547a-b881-4448-8f4d-06c3704f705f",
   "metadata": {
    "tags": []
   },
   "outputs": [
    {
     "name": "stdout",
     "output_type": "stream",
     "text": [
      "Found expected <class 'SyntaxError'>: unterminated string literal (detected at line 1) (<string>, line 1)\n"
     ]
    }
   ],
   "source": [
    "try:\n",
    "    eval('r\"C:\\\\foo\\\\name\\\\\"')\n",
    "except SyntaxError as e:\n",
    "    print(f\"Found expected {type(e)}:\", e)\n",
    "else:\n",
    "    print(\"unreachable\")"
   ]
  },
  {
   "cell_type": "markdown",
   "id": "4378db75-1e6f-412f-bcc8-a8bed6296f18",
   "metadata": {},
   "source": [
    "Newlines in multi-line strings can be suppressed with `\\`."
   ]
  },
  {
   "cell_type": "code",
   "execution_count": 9,
   "id": "710d0563-ab11-4efa-822f-d87d6c1ee46c",
   "metadata": {
    "tags": []
   },
   "outputs": [
    {
     "data": {
      "text/plain": [
       "'\\nUsage: foo <x>\\n    <x>  Independent variable\\n'"
      ]
     },
     "execution_count": 9,
     "metadata": {},
     "output_type": "execute_result"
    }
   ],
   "source": [
    "\"\"\"\n",
    "Usage: foo <x>\n",
    "    <x>  Independent variable\n",
    "\"\"\""
   ]
  },
  {
   "cell_type": "code",
   "execution_count": 10,
   "id": "5548c6c4-43cd-48f3-91d1-1ef3a5a5b470",
   "metadata": {
    "tags": []
   },
   "outputs": [
    {
     "data": {
      "text/plain": [
       "'Usage: foo <x>\\n    <x>  Independent variable\\n'"
      ]
     },
     "execution_count": 10,
     "metadata": {},
     "output_type": "execute_result"
    }
   ],
   "source": [
    "\"\"\"\\\n",
    "Usage: foo <x>\n",
    "    <x>  Independent variable\n",
    "\"\"\""
   ]
  },
  {
   "cell_type": "markdown",
   "id": "eadc4ee0-2ad3-4aba-91de-71faf8cb4575",
   "metadata": {},
   "source": [
    "Adjacent strings are concatenated"
   ]
  },
  {
   "cell_type": "code",
   "execution_count": 11,
   "id": "761d08df-7850-4039-ad42-c8db87961e8b",
   "metadata": {
    "tags": []
   },
   "outputs": [
    {
     "data": {
      "text/plain": [
       "'Fumanchu'"
      ]
     },
     "execution_count": 11,
     "metadata": {},
     "output_type": "execute_result"
    }
   ],
   "source": [
    "('Fu'\n",
    " 'manchu')"
   ]
  },
  {
   "cell_type": "markdown",
   "id": "b884fd72-5948-47f6-8e6c-c061c945efe8",
   "metadata": {},
   "source": [
    "Multiplication and addition operators follow the same rules as lists"
   ]
  },
  {
   "cell_type": "code",
   "execution_count": 12,
   "id": "d9579abf-cea7-4c9e-a134-784f351415fc",
   "metadata": {
    "tags": []
   },
   "outputs": [
    {
     "data": {
      "text/plain": [
       "'ready... ready... ready... go!'"
      ]
     },
     "execution_count": 12,
     "metadata": {},
     "output_type": "execute_result"
    }
   ],
   "source": [
    "3 * 'ready... ' + 'go!'"
   ]
  },
  {
   "cell_type": "markdown",
   "id": "44c3057e-49c8-4cb4-a6eb-c38dbcf7b74a",
   "metadata": {
    "tags": []
   },
   "source": [
    "Python strings are immutable."
   ]
  },
  {
   "cell_type": "code",
   "execution_count": 13,
   "id": "b3bdaced-e561-4158-abeb-588fdd01dd48",
   "metadata": {
    "tags": []
   },
   "outputs": [
    {
     "name": "stdout",
     "output_type": "stream",
     "text": [
      "Found expected TypeError: 'str' object does not support item assignment\n"
     ]
    }
   ],
   "source": [
    "s = 'foo'\n",
    "try:\n",
    "    s[1] = 'u'\n",
    "    print(\"unreachable\")\n",
    "except TypeError as e:\n",
    "    print(\"Found expected TypeError:\", e)"
   ]
  },
  {
   "cell_type": "markdown",
   "id": "ac7ac8ba-f76f-4b59-8d12-3f2007a998a6",
   "metadata": {},
   "source": [
    "#### 3.1.3 Lists"
   ]
  },
  {
   "cell_type": "markdown",
   "id": "80b67078-0681-473c-aeba-2a55ab214042",
   "metadata": {},
   "source": [
    "Slicing returns a shallow copy"
   ]
  },
  {
   "cell_type": "code",
   "execution_count": 14,
   "id": "9f37b173-2ff1-46a5-a224-6178805ba2d7",
   "metadata": {
    "tags": []
   },
   "outputs": [
    {
     "name": "stdout",
     "output_type": "stream",
     "text": [
      "['a', 'B', 'c'] ['a', 'B', 'c'] ['a', 'B', 'C']\n"
     ]
    }
   ],
   "source": [
    "x = ['a', 'b', 'c']\n",
    "y = x\n",
    "x[1] = 'B'\n",
    "z = x[:]\n",
    "z[2] = 'C'\n",
    "print(x, y, z)"
   ]
  },
  {
   "cell_type": "markdown",
   "id": "4046ba89-4793-4da3-97b1-e1aecf128104",
   "metadata": {},
   "source": [
    "Slicing can be used to replace spans of elements"
   ]
  },
  {
   "cell_type": "code",
   "execution_count": 15,
   "id": "f781d0c6-43a0-4d32-afc9-d78eebb40342",
   "metadata": {
    "tags": []
   },
   "outputs": [
    {
     "name": "stdout",
     "output_type": "stream",
     "text": [
      "['a', 'b.1', 'b.2', 'c', 'e']\n"
     ]
    }
   ],
   "source": [
    "x = ['a', 'b', 'c', 'd', 'e']\n",
    "x[-2:-1] = []\n",
    "x[1:2] = [\"b.1\", \"b.2\"]\n",
    "print(x)"
   ]
  },
  {
   "cell_type": "markdown",
   "id": "7fb19e13-c99e-433a-8626-044e6a6c8227",
   "metadata": {},
   "source": [
    "The `end` parameter to print can be used to suppress line feeds"
   ]
  },
  {
   "cell_type": "code",
   "execution_count": 16,
   "id": "62695687-1475-41f3-af5e-f8adae3e92a6",
   "metadata": {
    "tags": []
   },
   "outputs": [
    {
     "name": "stdout",
     "output_type": "stream",
     "text": [
      "0, 1, 2, 3, 4, 5, 6, 7, 8, 9, "
     ]
    }
   ],
   "source": [
    "for i in range(10):\n",
    "    print(i, end=\", \")"
   ]
  },
  {
   "cell_type": "markdown",
   "id": "0edc18ef-11e6-495f-9ff2-b2cde7b6a1b2",
   "metadata": {},
   "source": [
    "### 4. More Control flow"
   ]
  },
  {
   "cell_type": "markdown",
   "id": "3f695f1d-f534-4a68-82fd-751fcf581d34",
   "metadata": {},
   "source": [
    "As in C, `break` and `continue` are supported."
   ]
  },
  {
   "cell_type": "code",
   "execution_count": 17,
   "id": "f4a65b93-7c6a-422a-9602-239e279801ca",
   "metadata": {
    "tags": []
   },
   "outputs": [
    {
     "name": "stdout",
     "output_type": "stream",
     "text": [
      "7 16\n"
     ]
    }
   ],
   "source": [
    "i = 1\n",
    "total = 0\n",
    "while True:\n",
    "    i += 1\n",
    "    if total > 12:\n",
    "        break\n",
    "    elif i % 3 == 1:\n",
    "        continue\n",
    "    else:\n",
    "       total += i\n",
    "    \n",
    "print(i, total)"
   ]
  },
  {
   "cell_type": "markdown",
   "id": "5cb32a47-8987-4806-a203-a6cb75972657",
   "metadata": {},
   "source": [
    "Loops (e.g. for and while loops) can have an else clause which is executed if the code is not terminated by a break statement."
   ]
  },
  {
   "cell_type": "code",
   "execution_count": 18,
   "id": "3ea8eeb8-9546-4d4e-bd1b-6997f0df2c7b",
   "metadata": {
    "tags": []
   },
   "outputs": [
    {
     "name": "stdout",
     "output_type": "stream",
     "text": [
      "0 :not square!\n",
      "1 :square!\n",
      "2 :not square!\n",
      "3 :not square!\n",
      "4 :square!\n",
      "5 :not square!\n",
      "6 :not square!\n",
      "7 :not square!\n",
      "8 :not square!\n",
      "9 :square!\n"
     ]
    }
   ],
   "source": [
    "def print_is_square(x):\n",
    "    i = 1\n",
    "    while i*i <= x:\n",
    "        if i*i == x:\n",
    "            print(\"square!\")\n",
    "            break\n",
    "        i += 1\n",
    "    else:\n",
    "        print(\"not square!\")\n",
    "        \n",
    "for j in range(10):\n",
    "    print(j, \":\", end=\"\")\n",
    "    print_is_square(j)"
   ]
  },
  {
   "cell_type": "markdown",
   "id": "d4064970-b204-462b-bf7d-08acb41f3963",
   "metadata": {},
   "source": [
    "Match statements can contain relatively arbitrary patterns:"
   ]
  },
  {
   "cell_type": "code",
   "execution_count": 19,
   "id": "e059b2c6-b329-44ef-a032-3919404730e5",
   "metadata": {
    "tags": []
   },
   "outputs": [
    {
     "data": {
      "text/plain": [
       "{0: 'additive identity',\n",
       " 1: 'mulplicative identity',\n",
       " 2: 'even composite',\n",
       " 3: 'prime',\n",
       " 4: 'even composite',\n",
       " 5: 'prime',\n",
       " 6: 'even composite',\n",
       " 7: 'prime',\n",
       " 8: 'even composite',\n",
       " 9: 'odd composite',\n",
       " 10: 'even composite',\n",
       " 11: 'prime',\n",
       " 12: 'even composite',\n",
       " 13: 'prime',\n",
       " 14: 'even composite',\n",
       " 15: 'odd composite'}"
      ]
     },
     "execution_count": 19,
     "metadata": {},
     "output_type": "execute_result"
    }
   ],
   "source": [
    "def number_type(x):\n",
    "    match x:\n",
    "        case 0:\n",
    "            return \"additive identity\"\n",
    "        case 1:\n",
    "            return \"mulplicative identity\"\n",
    "        case 3 | 5 | 7 | 11 | 13 | 17 | 19 | 23:\n",
    "            return \"prime\"\n",
    "        case x if x % 2 == 0: # using a \"guard\"\n",
    "            return \"even composite\"\n",
    "        case _: # default\n",
    "            return \"odd composite\"\n",
    "        \n",
    "{ i : number_type(i) for i in range(2**4) }"
   ]
  },
  {
   "cell_type": "markdown",
   "id": "7304f6cf-fbbe-4df8-8bf6-3235cbe08138",
   "metadata": {
    "tags": []
   },
   "source": [
    "The match structure can perform ml-like pattern matching:"
   ]
  },
  {
   "cell_type": "code",
   "execution_count": 20,
   "id": "3ca39e05-b27d-4a5e-ad63-ef3406357272",
   "metadata": {
    "tags": []
   },
   "outputs": [
    {
     "data": {
      "text/plain": [
       "['James Bond at MI6',\n",
       " 'Habitat for Aves (non-profit)',\n",
       " 'Foozle the great',\n",
       " 'James Brown',\n",
       " 'Megacorp corporation']"
      ]
     },
     "execution_count": 20,
     "metadata": {},
     "output_type": "execute_result"
    }
   ],
   "source": [
    "class Company:\n",
    "    name: str\n",
    "    profits: float\n",
    "    def __init__(self, name, profits):\n",
    "        self.name = name\n",
    "        self.profits = profits\n",
    "    \n",
    "def pretty_name(x):\n",
    "    match x:\n",
    "        case Company(name=coname, profits=0):\n",
    "            return coname + \" (non-profit)\"\n",
    "        case Company(name=coname):\n",
    "            return coname + \" corporation\"\n",
    "        case (lastname, firstname, Company(name=coname)):\n",
    "            return f\"{firstname} {lastname} at {coname}\"\n",
    "        case (lastname, firstname):\n",
    "            return f\"{firstname} {lastname}\"\n",
    "        case name:\n",
    "            return name\n",
    "\n",
    "[\n",
    "    pretty_name(x) for x in [\n",
    "        (\"Bond\", \"James\", Company(\"MI6\", 0)),\n",
    "        Company(\"Habitat for Aves\", 0),\n",
    "        \"Foozle the great\",\n",
    "        (\"Brown\", \"James\"),\n",
    "        Company(\"Megacorp\", 1e9)\n",
    "    ]\n",
    "]"
   ]
  },
  {
   "cell_type": "markdown",
   "id": "3ff2702c-cd3d-4ed5-92c8-88eb6115eb03",
   "metadata": {},
   "source": [
    "Note that positional arguments are not supported by default:"
   ]
  },
  {
   "cell_type": "code",
   "execution_count": 21,
   "id": "31fd688f-48d1-4c5d-9efc-a3537f39d98c",
   "metadata": {
    "tags": []
   },
   "outputs": [
    {
     "name": "stdout",
     "output_type": "stream",
     "text": [
      "Found expected TypeError:  Company() accepts 0 positional sub-patterns (2 given)\n"
     ]
    }
   ],
   "source": [
    "class Company:\n",
    "    name: str\n",
    "    profits: float\n",
    "    def __init__(self, name, profits):\n",
    "        self.name = name\n",
    "        self.profits = profits\n",
    "    \n",
    "try:\n",
    "    exec(\"\"\"\n",
    "def pretty_name(x):\n",
    "    match x:\n",
    "        case Company(coname, 0):\n",
    "            return coname + \" (non-profit)\"\n",
    "        case Company(coname):\n",
    "            return coname + \" corporation\"\n",
    "[\n",
    "    pretty_name(x) for x in [\n",
    "        Company(\"Habitat for Aves\", 0),\n",
    "        Company(\"Megacorp\", 1e9)\n",
    "    ]\n",
    "]\n",
    "\"\"\")\n",
    "    print(\"unreachable\")\n",
    "except TypeError as e:\n",
    "    print(\"Found expected TypeError: \", e)"
   ]
  },
  {
   "cell_type": "markdown",
   "id": "cf6c54f7-92f9-469b-9b41-e9fe3c29e352",
   "metadata": {},
   "source": [
    "Positional matches can be enabled, however, by adding a `__match_args__` special attribute to the class."
   ]
  },
  {
   "cell_type": "code",
   "execution_count": 22,
   "id": "109b0b19-261c-4f62-8fd8-fc4b1b63da27",
   "metadata": {
    "tags": []
   },
   "outputs": [
    {
     "data": {
      "text/plain": [
       "['Habitat for Aves (non-profit)', 'Megacorp corporation']"
      ]
     },
     "execution_count": 22,
     "metadata": {},
     "output_type": "execute_result"
    }
   ],
   "source": [
    "class Company:\n",
    "    name: str\n",
    "    profits: float\n",
    "    def __init__(self, name, profits):\n",
    "        self.name = name\n",
    "        self.profits = profits\n",
    "    __match_args__ = (\"name\", \"profits\")\n",
    "    \n",
    "def pretty_name(x):\n",
    "    match x:\n",
    "        case Company(coname, 0):\n",
    "            return coname + \" (non-profit)\"\n",
    "        case Company(coname):\n",
    "            return coname + \" corporation\"\n",
    "\n",
    "[\n",
    "    pretty_name(x) for x in [\n",
    "        Company(\"Habitat for Aves\", 0),\n",
    "        Company(\"Megacorp\", 1e9)\n",
    "    ]\n",
    "]"
   ]
  },
  {
   "cell_type": "markdown",
   "id": "8dce5871-7632-4812-8d87-4c0ccd07aea1",
   "metadata": {},
   "source": [
    "Entire subpatterns can be captured using the `as` keyword, and extended unpacking can be performed with the `*` operator, and limited with guard statements."
   ]
  },
  {
   "cell_type": "code",
   "execution_count": 23,
   "id": "096cd10b-ee4c-4960-9185-7a32001632c0",
   "metadata": {
    "tags": []
   },
   "outputs": [
    {
     "data": {
      "text/plain": [
       "['Harry Moleman aka \"The shrewd\"',\n",
       " \"('the artist formerly known as', 'Prince')\",\n",
       " 'Benjamin Franklin']"
      ]
     },
     "execution_count": 23,
     "metadata": {},
     "output_type": "execute_result"
    }
   ],
   "source": [
    "def pretty_name(x):\n",
    "    match x:\n",
    "        case (lastname, firstname, *aliases) if len(aliases) > 0:\n",
    "            return f'{firstname} {lastname} aka \"' + '\", \"'.join(aliases) + '\"'\n",
    "        case (\"the artist formerly known as\", x) as z:\n",
    "            return str(z)\n",
    "        case (lastname, firstname):\n",
    "            return f\"{firstname} {lastname}\"\n",
    "        \n",
    "[\n",
    "    pretty_name(x) for x in [\n",
    "        (\"Moleman\", \"Harry\", \"The shrewd\"),\n",
    "        (\"the artist formerly known as\", \"Prince\"),\n",
    "        (\"Franklin\", \"Benjamin\")\n",
    "    ]\n",
    "]"
   ]
  },
  {
   "cell_type": "markdown",
   "id": "f76fa9e8-a2ad-4682-83e5-e32f91f07f7e",
   "metadata": {},
   "source": [
    "Default function argument values are evaluated at the time of function definition, not use:"
   ]
  },
  {
   "cell_type": "code",
   "execution_count": 24,
   "id": "0d06eda0-a946-4a36-bf9e-6200a5af3648",
   "metadata": {
    "tags": []
   },
   "outputs": [
    {
     "name": "stdout",
     "output_type": "stream",
     "text": [
      "initing foo!\n",
      "starting\n",
      "2\n",
      "4\n",
      "6\n"
     ]
    }
   ],
   "source": [
    "class Foo:\n",
    "    count : int\n",
    "    def __init__(self):\n",
    "        print(\"initing foo!\")\n",
    "        self.count = 0\n",
    "        \n",
    "def f(foo=Foo()):\n",
    "    foo.count += 2\n",
    "    print(foo.count)\n",
    "    \n",
    "print(\"starting\")\n",
    "for i in range(3):\n",
    "    f()"
   ]
  },
  {
   "cell_type": "markdown",
   "id": "26860ce0-965a-4a52-afb5-4a3572d627c9",
   "metadata": {},
   "source": [
    "Keyword-only parameters can be marked with a preceding `*` paramter:"
   ]
  },
  {
   "cell_type": "code",
   "execution_count": 25,
   "id": "92d69275-3dc4-4577-92c5-d99e247e023b",
   "metadata": {
    "tags": []
   },
   "outputs": [
    {
     "name": "stdout",
     "output_type": "stream",
     "text": [
      "3 4\n",
      "5 6\n",
      "Found expected TypeError:  foo() takes 1 positional argument but 2 were given\n"
     ]
    }
   ],
   "source": [
    "def foo(a, *, b):\n",
    "    print(a,b)\n",
    "\n",
    "foo(3, b=4)\n",
    "foo(a=5, b=6)\n",
    "\n",
    "try:\n",
    "    foo(7, 8)\n",
    "    print(\"unreached\")\n",
    "except TypeError as e:\n",
    "    print(\"Found expected TypeError: \", e)"
   ]
  },
  {
   "cell_type": "markdown",
   "id": "336ba9f1-0189-4f44-9f21-bdd19c108e3e",
   "metadata": {},
   "source": [
    "Position-only parameters can be marked with a trailing `/` parameter"
   ]
  },
  {
   "cell_type": "code",
   "execution_count": 26,
   "id": "4edf111e-4544-456e-a486-d8798fbc6445",
   "metadata": {
    "tags": []
   },
   "outputs": [
    {
     "name": "stdout",
     "output_type": "stream",
     "text": [
      "3 4\n",
      "5 6\n",
      "Found expected TypeError:  foo() got some positional-only arguments passed as keyword arguments: 'a'\n"
     ]
    }
   ],
   "source": [
    "def foo(a, /, b):\n",
    "    print(a,b)\n",
    "\n",
    "foo(3, b=4)\n",
    "foo(5, 6)\n",
    "\n",
    "try:\n",
    "    foo(a=7, b=8)\n",
    "    print(\"unreached\")\n",
    "except TypeError as e:\n",
    "    print(\"Found expected TypeError: \", e)"
   ]
  },
  {
   "cell_type": "markdown",
   "id": "0c4e857a-9b93-4a03-9bd3-b919234b97f6",
   "metadata": {},
   "source": [
    "The `*` and `/` arguments can be mixed and matched as one would expect:"
   ]
  },
  {
   "cell_type": "code",
   "execution_count": 27,
   "id": "78bb8469-ec2b-490e-ab26-97386d936e0e",
   "metadata": {
    "tags": []
   },
   "outputs": [
    {
     "name": "stdout",
     "output_type": "stream",
     "text": [
      "1 2 3\n",
      "4 5 6\n",
      "Found expected TypeError:  foo() got some positional-only arguments passed as keyword arguments: 'a'\n",
      "Found expected TypeError:  foo() takes 2 positional arguments but 3 were given\n"
     ]
    }
   ],
   "source": [
    "def foo(a, /, b, *, c):\n",
    "    print(a,b,c)\n",
    "\n",
    "foo(1, 2, c=3)\n",
    "foo(4, b=5, c=6)\n",
    "\n",
    "try:\n",
    "    foo(a=7, b=8, c=9)\n",
    "    print(\"unreached\")\n",
    "except TypeError as e:\n",
    "    print(\"Found expected TypeError: \", e)\n",
    "    \n",
    "try:\n",
    "    foo(10, 11, 12)\n",
    "    print(\"unreached\")\n",
    "except TypeError as e:\n",
    "    print(\"Found expected TypeError: \", e)"
   ]
  },
  {
   "cell_type": "markdown",
   "id": "20cbaf8e-ce5f-4c50-889e-1654f49e16ff",
   "metadata": {},
   "source": [
    "The `*` and `**` prefix can be used for var-arg like behavior with positional and named parameters:"
   ]
  },
  {
   "cell_type": "code",
   "execution_count": 28,
   "id": "f746feed-9e9f-4031-b9bd-9815ef3e838a",
   "metadata": {
    "tags": []
   },
   "outputs": [
    {
     "name": "stdout",
     "output_type": "stream",
     "text": [
      "1 (1, 2, 3) {'followed_by': 5, 'and_then': 8}\n"
     ]
    }
   ],
   "source": [
    "def foo(a, *b, **c):\n",
    "    print(a,b,c)\n",
    "\n",
    "foo(1,1,2,3,followed_by = 5, and_then=8)"
   ]
  },
  {
   "cell_type": "markdown",
   "id": "a210ec76-60d8-4ee5-80c7-3a172b0c13ef",
   "metadata": {},
   "source": [
    "The `*` and `**` prefix can also be used when calling functions"
   ]
  },
  {
   "cell_type": "code",
   "execution_count": 29,
   "id": "1399a2eb-2245-44e0-8900-d632cd7b8807",
   "metadata": {
    "tags": []
   },
   "outputs": [
    {
     "name": "stdout",
     "output_type": "stream",
     "text": [
      "1 2 3\n",
      "4 5 6\n",
      "7 8 9\n"
     ]
    }
   ],
   "source": [
    "def foo(a,b,c):\n",
    "    print(a,b,c)\n",
    "    \n",
    "foo(*[1,2,3])\n",
    "foo(4, *[5], **{'c':6})\n",
    "foo(**{'a':7, 'b':8, 'c':9})"
   ]
  },
  {
   "cell_type": "markdown",
   "id": "c45dd1a4-a056-4a30-8050-a9866dd0fc37",
   "metadata": {},
   "source": [
    "Doc strings should be the first statement in a function, with the first line describing the function, then a blank line and a longer discussion of the function (if necessary)."
   ]
  },
  {
   "cell_type": "code",
   "execution_count": 30,
   "id": "b31520e7-e986-4122-9f2c-986c5311688b",
   "metadata": {
    "tags": []
   },
   "outputs": [
    {
     "data": {
      "text/plain": [
       "' add two values\\n    \\n    Returns the sum of the two arguments\\n    '"
      ]
     },
     "execution_count": 30,
     "metadata": {},
     "output_type": "execute_result"
    }
   ],
   "source": [
    "def foo(a, b):\n",
    "    \"\"\" add two values\n",
    "    \n",
    "    Returns the sum of the two arguments\n",
    "    \"\"\"\n",
    "    return a + b\n",
    "\n",
    "foo.__doc__"
   ]
  },
  {
   "cell_type": "markdown",
   "id": "a4abf811-8cd0-4e7e-83f9-2fcb47548014",
   "metadata": {
    "tags": []
   },
   "source": [
    "Function annotations add optional metadata. These are stored as a dictionary, with keys for the arguments calculated from arbitrary expressions after a `:` and a key `return` with an arbitrary value after the `->` symbol:"
   ]
  },
  {
   "cell_type": "code",
   "execution_count": 31,
   "id": "cd2e24eb-9bc1-4d46-a8e8-200e3cb70c81",
   "metadata": {
    "tags": []
   },
   "outputs": [
    {
     "data": {
      "text/plain": [
       "{'x': float, 'return': float}"
      ]
     },
     "execution_count": 31,
     "metadata": {},
     "output_type": "execute_result"
    }
   ],
   "source": [
    "def sin(x : float) -> float:\n",
    "    return x - x**3/6 + x**5/120\n",
    "\n",
    "sin.__annotations__"
   ]
  },
  {
   "cell_type": "markdown",
   "id": "69badc79-5ea8-413a-a349-8065b5360487",
   "metadata": {},
   "source": [
    "Note that these really can be arbitrary expressions:"
   ]
  },
  {
   "cell_type": "code",
   "execution_count": 32,
   "id": "20a0ec70-03e2-4db0-a83b-4a9175ab28ad",
   "metadata": {
    "tags": []
   },
   "outputs": [
    {
     "data": {
      "text/plain": [
       "{'foo': 'manchu', 'bar': None, 'return': 42}"
      ]
     },
     "execution_count": 32,
     "metadata": {},
     "output_type": "execute_result"
    }
   ],
   "source": [
    "def f(foo : 'manchu', bar : None) -> 6 * 7:\n",
    "    pass\n",
    "\n",
    "f.__annotations__"
   ]
  },
  {
   "cell_type": "markdown",
   "id": "4e8f7a3a-25a6-4267-9f26-409894227ae6",
   "metadata": {},
   "source": [
    "### 5. Data structures"
   ]
  },
  {
   "cell_type": "markdown",
   "id": "c606ea2f-9105-4f61-b69f-6112469a7e89",
   "metadata": {},
   "source": [
    "The extend method can be used to add an iterable to a list"
   ]
  },
  {
   "cell_type": "code",
   "execution_count": 33,
   "id": "443c9d40-80f8-4076-859c-ce31371694da",
   "metadata": {
    "tags": []
   },
   "outputs": [
    {
     "data": {
      "text/plain": [
       "[-2, -1, 0, 1, 2, 3, 4]"
      ]
     },
     "execution_count": 33,
     "metadata": {},
     "output_type": "execute_result"
    }
   ],
   "source": [
    "l = [-2, -1]\n",
    "l.extend(range(5))\n",
    "l"
   ]
  },
  {
   "cell_type": "markdown",
   "id": "55baaa5f-1925-4546-ac80-108bbfc19603",
   "metadata": {},
   "source": [
    "Append and pop are both $O(1)$ on built-in lists, and thus a stack should push and pop from the end of the list:"
   ]
  },
  {
   "cell_type": "code",
   "execution_count": 34,
   "id": "a1480f15-c10d-4aee-ac1c-c015ee75574a",
   "metadata": {
    "tags": []
   },
   "outputs": [
    {
     "data": {
      "text/plain": [
       "[3]"
      ]
     },
     "execution_count": 34,
     "metadata": {},
     "output_type": "execute_result"
    }
   ],
   "source": [
    "l = []\n",
    "l.append(1)\n",
    "l.append(2)\n",
    "l.append(l.pop() + l.pop())\n",
    "l"
   ]
  },
  {
   "cell_type": "markdown",
   "id": "4e3a5e8c-553f-4bbd-8b35-2f258dd99cee",
   "metadata": {},
   "source": [
    "The deque class provides $O(1)$ pushes and pops from both ends when needed (e.g. for a queue)"
   ]
  },
  {
   "cell_type": "code",
   "execution_count": 35,
   "id": "0190c568-3017-43d6-9904-9769bee5dedf",
   "metadata": {
    "tags": []
   },
   "outputs": [
    {
     "data": {
      "text/plain": [
       "deque(['b', 'c', 'x'])"
      ]
     },
     "execution_count": 35,
     "metadata": {},
     "output_type": "execute_result"
    }
   ],
   "source": [
    "from collections import deque\n",
    "\n",
    "q = deque(['a', 'b', 'c'])\n",
    "q.append('x')\n",
    "q.popleft()\n",
    "q"
   ]
  },
  {
   "cell_type": "markdown",
   "id": "f00d1d01-11d1-402d-ad85-238e7f3437ab",
   "metadata": {},
   "source": [
    "List comprehensives can contain arbitrary numbers of if and for statements"
   ]
  },
  {
   "cell_type": "code",
   "execution_count": 36,
   "id": "228ecfba-cce6-42ea-9ff8-bc2147046dc0",
   "metadata": {
    "tags": []
   },
   "outputs": [
    {
     "data": {
      "text/plain": [
       "[(1, 1), (3, 9)]"
      ]
     },
     "execution_count": 36,
     "metadata": {},
     "output_type": "execute_result"
    }
   ],
   "source": [
    "[(x,y) for x in range(20) for y in range(20) if x % 2 != 0 if y == x**2]"
   ]
  },
  {
   "cell_type": "markdown",
   "id": "4ad7fc8b-c6dc-424a-9ee2-b5808b5d5b19",
   "metadata": {},
   "source": [
    "The `del` keyword can be used to remove items from a list by index or slice"
   ]
  },
  {
   "cell_type": "code",
   "execution_count": 37,
   "id": "1ea8ceeb-d1c7-4ced-9a87-ceb69e4d3cb1",
   "metadata": {
    "tags": []
   },
   "outputs": [
    {
     "data": {
      "text/plain": [
       "[10, 12, 15]"
      ]
     },
     "execution_count": 37,
     "metadata": {},
     "output_type": "execute_result"
    }
   ],
   "source": [
    "l = list(range(10,16))\n",
    "del l[1]\n",
    "del l[-3:-1]\n",
    "l"
   ]
  },
  {
   "cell_type": "markdown",
   "id": "06e0f05e-0a77-43bb-a9bc-800387fb915d",
   "metadata": {},
   "source": [
    "Empty tuples are indicated by `()`"
   ]
  },
  {
   "cell_type": "code",
   "execution_count": 38,
   "id": "5c4383ca-222e-4c8c-a454-c5267bc2b599",
   "metadata": {
    "tags": []
   },
   "outputs": [
    {
     "data": {
      "text/plain": [
       "(0, tuple)"
      ]
     },
     "execution_count": 38,
     "metadata": {},
     "output_type": "execute_result"
    }
   ],
   "source": [
    "len(()), type(())"
   ]
  },
  {
   "cell_type": "markdown",
   "id": "02c98217-7c43-464e-8559-310e72c0d338",
   "metadata": {},
   "source": [
    "Implicit tuple packing and unpacking is supported:"
   ]
  },
  {
   "cell_type": "code",
   "execution_count": 39,
   "id": "8cb6cff1-9f52-436a-bda1-79563a612554",
   "metadata": {
    "tags": []
   },
   "outputs": [
    {
     "name": "stdout",
     "output_type": "stream",
     "text": [
      "1 2 3\n"
     ]
    }
   ],
   "source": [
    "z = 1,2,3\n",
    "a,b,c = z\n",
    "print(a,b,c)"
   ]
  },
  {
   "cell_type": "markdown",
   "id": "4805e031-e570-4a3a-b1c5-de47fcb75e46",
   "metadata": {},
   "source": [
    "Partial unpacking can be done with `*`"
   ]
  },
  {
   "cell_type": "code",
   "execution_count": 40,
   "id": "8da5f5f8-ce0b-4aec-a39b-860fa2147147",
   "metadata": {
    "tags": []
   },
   "outputs": [
    {
     "name": "stdout",
     "output_type": "stream",
     "text": [
      "1 [2, 3]\n"
     ]
    }
   ],
   "source": [
    "z = 1,2,3\n",
    "a,*b = z\n",
    "print(a,b)"
   ]
  },
  {
   "cell_type": "markdown",
   "id": "fc2e11c4-3a21-4096-80ff-8c07ee91f230",
   "metadata": {},
   "source": [
    "Sets are supported and can be manipulated with binary operators:"
   ]
  },
  {
   "cell_type": "code",
   "execution_count": 41,
   "id": "88151978-74ca-434d-8b87-400f4d50f57e",
   "metadata": {
    "tags": []
   },
   "outputs": [
    {
     "name": "stdout",
     "output_type": "stream",
     "text": [
      "{0, 1, 2, 3, 4, 5, 6, 7, 8, 9, 10, 11, 12, 13, 14, 15, 16, 17, 18, 19, 20}\n",
      "{2, 3, 5, 7, 11, 13, 17, 19}\n",
      "{0, 2, 4, 6, 8, 10, 12, 14, 16, 18, 20}\n",
      "{2}\n",
      "{3, 5, 7, 11, 13, 17, 19}\n",
      "{0, 2, 3, 4, 5, 6, 7, 8, 10, 11, 12, 13, 14, 16, 17, 18, 19, 20}\n",
      "{0, 3, 4, 5, 6, 7, 8, 10, 11, 12, 13, 14, 16, 17, 18, 19, 20}\n"
     ]
    }
   ],
   "source": [
    "numbers = set(range(21))\n",
    "prime = { 2, 3, 5, 7, 11, 13, 17, 19 }\n",
    "even = { i for i in numbers if i % 2 == 0 }\n",
    "print( numbers, prime, even, sep='\\n')\n",
    "\n",
    "print( prime & even, prime - even, even | prime, even ^ prime, sep='\\n')"
   ]
  },
  {
   "cell_type": "markdown",
   "id": "923d4b93-3712-4c89-ad5b-95427e0496c3",
   "metadata": {},
   "source": [
    "Dictionarys are iterated in insertion order by default"
   ]
  },
  {
   "cell_type": "code",
   "execution_count": 42,
   "id": "ab7455ff-719e-4fe4-abd0-9e07c89aceb0",
   "metadata": {
    "tags": []
   },
   "outputs": [
    {
     "name": "stdout",
     "output_type": "stream",
     "text": [
      "['first', 'then', 'followed by', 'and then']\n",
      "first 4\n",
      "then 6\n",
      "followed by 2\n",
      "and then 7\n"
     ]
    }
   ],
   "source": [
    "d = { 'first': 4, 'then': 6 }\n",
    "d['followed by'] = 2\n",
    "d['and then'] = 7\n",
    "print(list(d))\n",
    "for k,v in d.items():\n",
    "    print(k,v)"
   ]
  },
  {
   "cell_type": "markdown",
   "id": "c9bd2442-fcfc-48ec-9470-2a681b1c52e8",
   "metadata": {},
   "source": [
    "The `reversed` and `sorted` functions can be useful when iterating over lists. The use of `sorted(set(.))` is idiomatic for getting a sorted list of unique items."
   ]
  },
  {
   "cell_type": "code",
   "execution_count": 43,
   "id": "176fec8d-d8e7-4086-8e6c-618f24c0919b",
   "metadata": {
    "tags": []
   },
   "outputs": [
    {
     "data": {
      "text/plain": [
       "([0, 0, 2, 5, 5, 6, 7], [0, 0, 5, 5, 6, 2, 7], [0, 2, 5, 6, 7])"
      ]
     },
     "execution_count": 43,
     "metadata": {},
     "output_type": "execute_result"
    }
   ],
   "source": [
    "l = [7,2,6,5,5,0,0]\n",
    "[i for i in sorted(l)], [i for i in reversed(l)], [i for i in sorted(set(l))]"
   ]
  },
  {
   "cell_type": "markdown",
   "id": "5c6c24e4-6966-4e88-a993-541a60032993",
   "metadata": {},
   "source": [
    "Comparisons can be chained"
   ]
  },
  {
   "cell_type": "code",
   "execution_count": 44,
   "id": "a1d442b8-d9b7-4cee-8d67-d0e7ed311d8b",
   "metadata": {
    "tags": []
   },
   "outputs": [
    {
     "data": {
      "text/plain": [
       "True"
      ]
     },
     "execution_count": 44,
     "metadata": {},
     "output_type": "execute_result"
    }
   ],
   "source": [
    "1 < 4 > 2 == 2"
   ]
  },
  {
   "cell_type": "markdown",
   "id": "c3763a94-702a-4945-9019-bc725164de4f",
   "metadata": {},
   "source": [
    "The `in` and `not in` keywords will look for items in containers"
   ]
  },
  {
   "cell_type": "code",
   "execution_count": 45,
   "id": "868e28d3-b8ea-40df-8b74-82b9aa4c02cf",
   "metadata": {
    "tags": []
   },
   "outputs": [
    {
     "data": {
      "text/plain": [
       "True"
      ]
     },
     "execution_count": 45,
     "metadata": {},
     "output_type": "execute_result"
    }
   ],
   "source": [
    "3 in prime"
   ]
  },
  {
   "cell_type": "code",
   "execution_count": 46,
   "id": "2737fba9-8c88-4786-948c-aeb61ba63e9c",
   "metadata": {
    "tags": []
   },
   "outputs": [
    {
     "data": {
      "text/plain": [
       "True"
      ]
     },
     "execution_count": 46,
     "metadata": {},
     "output_type": "execute_result"
    }
   ],
   "source": [
    "3 not in even"
   ]
  },
  {
   "cell_type": "markdown",
   "id": "e329d509-99fd-45b8-8b82-359117577fd8",
   "metadata": {},
   "source": [
    "The `is` and `is not` can be used for reference (vs value) identity"
   ]
  },
  {
   "cell_type": "code",
   "execution_count": 47,
   "id": "5257cf05-1cdb-4c8b-8ef3-b7494f7e800d",
   "metadata": {
    "tags": []
   },
   "outputs": [
    {
     "data": {
      "text/plain": [
       "(True, False, True, True)"
      ]
     },
     "execution_count": 47,
     "metadata": {},
     "output_type": "execute_result"
    }
   ],
   "source": [
    "a = [1, 2]\n",
    "b = [1, 2]\n",
    "c = b\n",
    "a == b, a is b, a is not b, c is b"
   ]
  },
  {
   "cell_type": "markdown",
   "id": "b904331f-a31b-4f76-bf05-9dd20a5f5d6c",
   "metadata": {},
   "source": [
    "Chaining works for these operators just like any other"
   ]
  },
  {
   "cell_type": "code",
   "execution_count": 48,
   "id": "6891f465-cbfc-483a-b6e7-fcc0888977e3",
   "metadata": {
    "tags": []
   },
   "outputs": [
    {
     "data": {
      "text/plain": [
       "True"
      ]
     },
     "execution_count": 48,
     "metadata": {},
     "output_type": "execute_result"
    }
   ],
   "source": [
    "a == b is c is not a"
   ]
  },
  {
   "cell_type": "markdown",
   "id": "867f10fb-d669-4f3b-b971-e070a9074931",
   "metadata": {},
   "source": [
    "The `:=` 'walrus' operator can be used for assignment inside of expressions:"
   ]
  },
  {
   "cell_type": "code",
   "execution_count": 49,
   "id": "b520519f-d1ea-4ad8-851c-ede33d65890a",
   "metadata": {
    "tags": []
   },
   "outputs": [
    {
     "name": "stdout",
     "output_type": "stream",
     "text": [
      "1\n",
      "5, 4, 3, 2, 1, "
     ]
    }
   ],
   "source": [
    "a = 1\n",
    "b = 2\n",
    "\n",
    "if (c := b - 1) == a:\n",
    "    print(c)\n",
    "    \n",
    "d = 6\n",
    "while (d := d - 1) > 0:\n",
    "    print(d, end=', ')"
   ]
  },
  {
   "cell_type": "markdown",
   "id": "627a3997-189d-4f29-a6e7-de199ee8300d",
   "metadata": {},
   "source": [
    "The `and` and `or` operators support short-circuiting as in C"
   ]
  },
  {
   "cell_type": "code",
   "execution_count": 50,
   "id": "7e2f31e8-7d9b-4660-a600-9bc936bf3122",
   "metadata": {
    "tags": []
   },
   "outputs": [
    {
     "name": "stdout",
     "output_type": "stream",
     "text": [
      "True,3,foo,0,\n",
      " 0\n",
      "False,0,,5,\n",
      " 5\n"
     ]
    }
   ],
   "source": [
    "def f(x):\n",
    "    print(x, end=',')\n",
    "    return x\n",
    "\n",
    "print('\\n', f(True) and f(3) and f('foo') and f(0) and f(5))\n",
    "\n",
    "print('\\n', f(False) or f(0) or f('') or f(5) or f(False))"
   ]
  },
  {
   "cell_type": "markdown",
   "id": "c6ed6d9f-ed2d-46c3-bfed-85ca6dec49d4",
   "metadata": {},
   "source": [
    "Sequences are compared lexographically"
   ]
  },
  {
   "cell_type": "code",
   "execution_count": 51,
   "id": "9d97db9a-84d8-4e19-a55c-457125a0e583",
   "metadata": {
    "tags": []
   },
   "outputs": [
    {
     "data": {
      "text/plain": [
       "(True, True, True)"
      ]
     },
     "execution_count": 51,
     "metadata": {},
     "output_type": "execute_result"
    }
   ],
   "source": [
    "[0,1] < [1, 1], [1] < [1,2], [2, 3] > [2, 1]"
   ]
  },
  {
   "cell_type": "markdown",
   "id": "d5537842-71c9-4f3c-8049-0e03ab7cedb6",
   "metadata": {},
   "source": [
    "## 6 Modules\n",
    "(Set up a temporary directory for modules)"
   ]
  },
  {
   "cell_type": "code",
   "execution_count": 52,
   "id": "719292d7-4265-40fb-9fb3-d05443758ff5",
   "metadata": {
    "tags": []
   },
   "outputs": [],
   "source": [
    "import tempfile, sys\n",
    "\n",
    "if 'my_module_dir' not in dir():\n",
    "    my_module_dir = tempfile.TemporaryDirectory()\n",
    "    sys.path.append(my_module_dir.name)"
   ]
  },
  {
   "cell_type": "markdown",
   "id": "0577857b-dfad-40d6-b662-b204c0f1cff6",
   "metadata": {},
   "source": [
    "Modules are only loaded the first time they are imported."
   ]
  },
  {
   "cell_type": "code",
   "execution_count": 53,
   "id": "655827c4-1b0b-4d96-9cf5-886770a36d19",
   "metadata": {},
   "outputs": [],
   "source": [
    "import textwrap\n",
    "\n",
    "with open(my_module_dir.name + '/foomod.py', 'w') as f:\n",
    "    f.write(textwrap.dedent(\"\"\"\\\n",
    "        a = 3\n",
    "        \"\"\"))"
   ]
  },
  {
   "cell_type": "code",
   "execution_count": 54,
   "id": "4c1f7adf-e731-409b-a562-d635512a6b5e",
   "metadata": {
    "tags": []
   },
   "outputs": [
    {
     "data": {
      "text/plain": [
       "3"
      ]
     },
     "execution_count": 54,
     "metadata": {},
     "output_type": "execute_result"
    }
   ],
   "source": [
    "import foomod\n",
    "foomod.a"
   ]
  },
  {
   "cell_type": "code",
   "execution_count": 55,
   "id": "9845de82-51b5-41e9-90a4-68fe9c42d9df",
   "metadata": {
    "tags": []
   },
   "outputs": [],
   "source": [
    "# importlib seems to check timestamps to see if files are identical, so we wait to make sure the number of seconds differs\n",
    "import time\n",
    "time.sleep(1)\n",
    "\n",
    "with open(my_module_dir.name + '/foomod.py', 'w') as f:\n",
    "    f.write(textwrap.dedent(\"\"\"\\\n",
    "        a = 4\n",
    "        \"\"\"))"
   ]
  },
  {
   "cell_type": "code",
   "execution_count": 56,
   "id": "44d354f1-6f8b-406d-943f-c1bd70bfe2d1",
   "metadata": {
    "tags": []
   },
   "outputs": [
    {
     "data": {
      "text/plain": [
       "3"
      ]
     },
     "execution_count": 56,
     "metadata": {},
     "output_type": "execute_result"
    }
   ],
   "source": [
    "import foomod\n",
    "foomod.a"
   ]
  },
  {
   "cell_type": "markdown",
   "id": "920fcaa5-accf-4b73-b2a5-f9af543b2ca7",
   "metadata": {},
   "source": [
    "The `importlib.reload` function can be used to force the module to be reloaded."
   ]
  },
  {
   "cell_type": "code",
   "execution_count": 57,
   "id": "e5aa5ea1-91c9-4f88-9730-dc41d2061cb1",
   "metadata": {
    "tags": []
   },
   "outputs": [
    {
     "data": {
      "text/plain": [
       "4"
      ]
     },
     "execution_count": 57,
     "metadata": {},
     "output_type": "execute_result"
    }
   ],
   "source": [
    "import importlib\n",
    "foomod = importlib.reload(foomod)\n",
    "foomod.a"
   ]
  },
  {
   "cell_type": "markdown",
   "id": "3729a942-e8ee-4c4d-9b6f-65e93504cc8d",
   "metadata": {},
   "source": [
    "The `dir` function can be used to find the contents of a module (or the current namespace by default)"
   ]
  },
  {
   "cell_type": "code",
   "execution_count": 58,
   "id": "9c0269a3-8b85-43be-b728-b473e1bfbf26",
   "metadata": {
    "tags": []
   },
   "outputs": [
    {
     "data": {
      "text/plain": [
       "['__builtins__',\n",
       " '__cached__',\n",
       " '__doc__',\n",
       " '__file__',\n",
       " '__loader__',\n",
       " '__name__',\n",
       " '__package__',\n",
       " '__spec__',\n",
       " 'a']"
      ]
     },
     "execution_count": 58,
     "metadata": {},
     "output_type": "execute_result"
    }
   ],
   "source": [
    "dir(foomod)"
   ]
  },
  {
   "cell_type": "code",
   "execution_count": 59,
   "id": "a9df0a98-765e-4ff1-ba64-d2f4da526b10",
   "metadata": {
    "tags": []
   },
   "outputs": [
    {
     "data": {
      "text/plain": [
       "(True, False)"
      ]
     },
     "execution_count": 59,
     "metadata": {},
     "output_type": "execute_result"
    }
   ],
   "source": [
    "'foo' in dir(), 'razel' in dir()"
   ]
  },
  {
   "cell_type": "markdown",
   "id": "b1460006-9039-4da1-be17-280ffd04370e",
   "metadata": {
    "tags": []
   },
   "source": [
    "## 7 I/O"
   ]
  },
  {
   "cell_type": "markdown",
   "id": "056e2b75-77ef-44f3-bc4e-c6de1af39575",
   "metadata": {},
   "source": [
    "The `str` function gives human-readable strings, while the `repr` function gives executable strings, and `ascii` will escape non-ascii characters."
   ]
  },
  {
   "cell_type": "code",
   "execution_count": 65,
   "id": "d6c61dbf-c821-417e-854f-8e64a6f87b91",
   "metadata": {
    "tags": []
   },
   "outputs": [
    {
     "data": {
      "text/plain": [
       "('hello 🙂', \"'hello 🙂'\", \"'hello \\\\U0001f642'\")"
      ]
     },
     "execution_count": 65,
     "metadata": {},
     "output_type": "execute_result"
    }
   ],
   "source": [
    "s = \"hello 🙂\"\n",
    "str(s), repr(s), ascii(s)"
   ]
  },
  {
   "cell_type": "markdown",
   "id": "a4e2c457-96bf-41ea-b56b-a36a4c43879f",
   "metadata": {},
   "source": [
    "These can be used in format strings with the `!s`, `!r`, and `!a` modifiers"
   ]
  },
  {
   "cell_type": "code",
   "execution_count": 67,
   "id": "9cdaf5bd-a1d8-4952-9380-7fbf784a2d40",
   "metadata": {
    "tags": []
   },
   "outputs": [
    {
     "name": "stdout",
     "output_type": "stream",
     "text": [
      "hello 🙂 | 'hello 🙂' | 'hello \\U0001f642'\n"
     ]
    }
   ],
   "source": [
    "print(f\"{s!s} | {s!r} | {s!a}\")"
   ]
  },
  {
   "cell_type": "markdown",
   "id": "75d02e5f-4d42-41d7-b778-f41fbad791a5",
   "metadata": {
    "tags": []
   },
   "source": [
    "Self-documenting expressions can be created with a trailing `=`."
   ]
  },
  {
   "cell_type": "code",
   "execution_count": 78,
   "id": "dd820996-e263-46b7-ab8e-19fefb624f04",
   "metadata": {
    "tags": []
   },
   "outputs": [
    {
     "data": {
      "text/plain": [
       "\"s=hello 🙂 (i.e. s='hello \\\\U0001f642'). Also 1.1 * 1.2 =1.320.\""
      ]
     },
     "execution_count": 78,
     "metadata": {},
     "output_type": "execute_result"
    }
   ],
   "source": [
    "f\"{s=!s} (i.e. {s=!a}). Also {1.1 * 1.2 =:.3f}.\""
   ]
  },
  {
   "cell_type": "markdown",
   "id": "748e0f52-c929-4c5c-a929-6016e2672c44",
   "metadata": {},
   "source": [
    "Some alignment examples:"
   ]
  },
  {
   "cell_type": "code",
   "execution_count": 81,
   "id": "cb63ec0f-14fc-410b-b786-bed0b2317e8c",
   "metadata": {
    "tags": []
   },
   "outputs": [
    {
     "name": "stdout",
     "output_type": "stream",
     "text": [
      " -120      \n",
      "       -120\n",
      "    -120   \n",
      " -      120\n",
      "\n"
     ]
    }
   ],
   "source": [
    "print(f\" {-120:<10}\\n {-120:>10}\\n {-120:^10}\\n {-120:=10}\\n\")"
   ]
  },
  {
   "cell_type": "markdown",
   "id": "56fdb120-4f8c-4ce8-b209-5f904ec6dc9d",
   "metadata": {},
   "source": [
    "Arbitrary fill characters can be used"
   ]
  },
  {
   "cell_type": "code",
   "execution_count": 86,
   "id": "2c63d3f7-adef-4ac1-a26f-12efb84301c4",
   "metadata": {
    "tags": []
   },
   "outputs": [
    {
     "name": "stdout",
     "output_type": "stream",
     "text": [
      " -120......\n",
      " ______-120\n",
      " ===-120===\n",
      " -''''''120\n",
      "\n"
     ]
    }
   ],
   "source": [
    "print(f\" {-120:.<10}\\n {-120:_>10}\\n {-120:=^10}\\n {-120:'=10}\\n\")"
   ]
  },
  {
   "cell_type": "markdown",
   "id": "7cfbc943-4212-465c-8962-559065c9a15f",
   "metadata": {},
   "source": [
    "The precision field specifies the number of digits after the `.` for decimal notation, before the `.` for scientific notation, and maximum width for strings."
   ]
  },
  {
   "cell_type": "code",
   "execution_count": 90,
   "id": "91c04bf2-1c47-4587-af74-99d46a9fd924",
   "metadata": {
    "tags": []
   },
   "outputs": [
    {
     "name": "stdout",
     "output_type": "stream",
     "text": [
      " -120.00\n",
      " -1.2e+02\n",
      " hello\n"
     ]
    }
   ],
   "source": [
    "print(f\" {-120:.2f}\\n {-120:.2g}\\n {s:.5}\")"
   ]
  },
  {
   "cell_type": "markdown",
   "id": "14b75cdc-e3a5-4231-a629-c8814b5768a1",
   "metadata": {},
   "source": [
    "A `,` (or `n` for localized) will add thousands separators"
   ]
  },
  {
   "cell_type": "code",
   "execution_count": 97,
   "id": "3bb15ec7-ef99-4a2b-ae85-85d64e89d573",
   "metadata": {
    "tags": []
   },
   "outputs": [
    {
     "name": "stdout",
     "output_type": "stream",
     "text": [
      " -1,000,000\n",
      " -1000000\n"
     ]
    }
   ],
   "source": [
    "print(f\" {-1000000:,d}\\n {-1000000:n}\")"
   ]
  },
  {
   "cell_type": "markdown",
   "id": "51615474-3544-4783-9130-b53457b2202f",
   "metadata": {},
   "source": [
    "The `_` will use underscores for thousands and for hex words."
   ]
  },
  {
   "cell_type": "code",
   "execution_count": 102,
   "id": "c10f3ba5-03bd-4543-a170-76e96f96728a",
   "metadata": {
    "tags": []
   },
   "outputs": [
    {
     "name": "stdout",
     "output_type": "stream",
     "text": [
      " -1_000_000\n",
      " 1_000_000_000.0\n",
      " a_dead_beef\n",
      " 0xa_dead_beef\n"
     ]
    }
   ],
   "source": [
    "print(f\" {-1000000:_d}\\n {1e9:_.1f}\\n {0xADEADBEEF:_x}\")"
   ]
  },
  {
   "cell_type": "markdown",
   "id": "71618082-d272-47c7-9027-3933c5531d06",
   "metadata": {},
   "source": [
    "The '#' character toggles leading signifiers for octal etc and forces decimal places for `g` results"
   ]
  },
  {
   "cell_type": "code",
   "execution_count": 108,
   "id": "b5b4f77e-4e71-4332-8e55-8d58703f61be",
   "metadata": {
    "tags": []
   },
   "outputs": [
    {
     "name": "stdout",
     "output_type": "stream",
     "text": [
      "0x3ff 0b1111111111 0o1777 1023.00 1e+03 1.00e+03\n"
     ]
    }
   ],
   "source": [
    "print(f\"{1023:#x} {1023:#b} {1023:#o} {1023:#g} {1000:.3g} {1000:#.3g}\")"
   ]
  },
  {
   "cell_type": "markdown",
   "id": "80ee7fa3-076c-48ca-bf7c-d015f862124b",
   "metadata": {},
   "source": [
    "A few other common formats:"
   ]
  },
  {
   "cell_type": "code",
   "execution_count": 113,
   "id": "5becea02-e510-4dcf-977e-f620afed3784",
   "metadata": {
    "tags": []
   },
   "outputs": [
    {
     "name": "stdout",
     "output_type": "stream",
     "text": [
      "12.3% 1.0240e+03 400\n"
     ]
    }
   ],
   "source": [
    "print(f\"{0.123:.1%} {1024:.4e} {1024:X}\")"
   ]
  },
  {
   "cell_type": "markdown",
   "id": "43f79830-9d92-4beb-97d3-791ced692e81",
   "metadata": {
    "tags": []
   },
   "source": [
    "## 9 Classes"
   ]
  },
  {
   "cell_type": "markdown",
   "id": "e0da39df-8dbb-4277-b68d-c6e10274cd1a",
   "metadata": {},
   "source": [
    "The `nonlocal` keyword allows explicit reference to variables in outer scopes, and the `global` keyword allows reference and creation of new globals"
   ]
  },
  {
   "cell_type": "code",
   "execution_count": 136,
   "id": "b6d4019c-27cf-4145-aa8a-6a4e4ee003ca",
   "metadata": {
    "tags": []
   },
   "outputs": [
    {
     "name": "stdout",
     "output_type": "stream",
     "text": [
      "2\n",
      "2\n",
      "3\n"
     ]
    }
   ],
   "source": [
    "def g():\n",
    "    x = 2\n",
    "    def f():\n",
    "        # sees x from g, but not global\n",
    "        print(x)\n",
    "    f()\n",
    "    print(x)\n",
    "\n",
    "x = 3\n",
    "g()\n",
    "print(x)\n"
   ]
  },
  {
   "cell_type": "code",
   "execution_count": 137,
   "id": "f9eaf5f5-b066-4a63-91db-0e42be5ecef1",
   "metadata": {
    "tags": []
   },
   "outputs": [
    {
     "name": "stdout",
     "output_type": "stream",
     "text": [
      "4\n",
      "2\n",
      "3\n"
     ]
    }
   ],
   "source": [
    "def g():\n",
    "    x = 2\n",
    "    def f():\n",
    "        # first print would now have use-before assignment error\n",
    "        # print(x)\n",
    "        x = 4\n",
    "        # sees only innermost scope\n",
    "        print(x)\n",
    "    f()\n",
    "    print(x)\n",
    "\n",
    "x = 3\n",
    "g()\n",
    "print(x)"
   ]
  },
  {
   "cell_type": "code",
   "execution_count": 140,
   "id": "acfe9fc8-fac8-40f4-aa17-7727afcbccf5",
   "metadata": {
    "tags": []
   },
   "outputs": [
    {
     "name": "stdout",
     "output_type": "stream",
     "text": [
      "2\n",
      "4\n",
      "4\n",
      "3\n"
     ]
    }
   ],
   "source": [
    "def g():\n",
    "    x = 2\n",
    "    def f():\n",
    "        nonlocal x\n",
    "        # sees and modifies x in g\n",
    "        print(x)\n",
    "        x = 4\n",
    "        print(x)\n",
    "    f()\n",
    "    print(x)\n",
    "\n",
    "x = 3\n",
    "g()\n",
    "print(x)"
   ]
  },
  {
   "cell_type": "code",
   "execution_count": 141,
   "id": "2a1cdb56-2ddc-4411-905b-9daeeca2cf6d",
   "metadata": {
    "tags": []
   },
   "outputs": [
    {
     "name": "stdout",
     "output_type": "stream",
     "text": [
      "3\n",
      "4\n",
      "2\n",
      "4\n"
     ]
    }
   ],
   "source": [
    "def g():\n",
    "    x = 2\n",
    "    def f():\n",
    "        global x\n",
    "        # sees and modifies global x\n",
    "        print(x)\n",
    "        x = 4\n",
    "        print(x)\n",
    "    f()\n",
    "    print(x)\n",
    "\n",
    "x = 3\n",
    "g()\n",
    "print(x)"
   ]
  },
  {
   "cell_type": "code",
   "execution_count": 142,
   "id": "582ef477-45db-46b0-a41f-386f64607529",
   "metadata": {
    "tags": []
   },
   "outputs": [
    {
     "name": "stdout",
     "output_type": "stream",
     "text": [
      "4\n",
      "2\n",
      "4\n"
     ]
    }
   ],
   "source": [
    "del x\n",
    "\n",
    "def g():\n",
    "    x = 2\n",
    "    def f():\n",
    "        # creates global x\n",
    "        global x\n",
    "        x = 4\n",
    "        print(x)\n",
    "    f()\n",
    "    print(x)\n",
    "\n",
    "g()\n",
    "print(x)"
   ]
  },
  {
   "cell_type": "markdown",
   "id": "5ee69edd-73d1-4d71-9a53-791e265a2747",
   "metadata": {},
   "source": [
    "Unlike in C++, class declarations are ordinary statements that are executed and can even be placed inside control flows or functions."
   ]
  },
  {
   "cell_type": "code",
   "execution_count": 191,
   "id": "666c846c-0267-4313-b30f-6c1ddb396924",
   "metadata": {
    "tags": []
   },
   "outputs": [
    {
     "data": {
      "text/plain": [
       "True"
      ]
     },
     "execution_count": 191,
     "metadata": {},
     "output_type": "execute_result"
    }
   ],
   "source": [
    "x = 4\n",
    "\n",
    "if x > 3:\n",
    "    class MyNum:\n",
    "        def is_big(self):\n",
    "            return True\n",
    "else:\n",
    "    class MyNum:\n",
    "        def is_big(self):\n",
    "            return False\n",
    "\n",
    "MyNum().is_big()"
   ]
  },
  {
   "cell_type": "markdown",
   "id": "4572c556-952b-4471-a420-6485992961f9",
   "metadata": {},
   "source": [
    "Classes can contain lists of statements, e.g. class variables, docstrings, etc."
   ]
  },
  {
   "cell_type": "code",
   "execution_count": 213,
   "id": "866a58d7-8e2a-4417-830d-650b09289209",
   "metadata": {
    "tags": []
   },
   "outputs": [],
   "source": [
    "class Foo:\n",
    "    \"\"\"A silly example class\"\"\"\n",
    "    \n",
    "    x = 3\n",
    "    y = x + 1\n",
    "    l = [1, 2]\n",
    "    def bar(self):\n",
    "        return x + 8"
   ]
  },
  {
   "cell_type": "code",
   "execution_count": 214,
   "id": "6ebc7ac5-baab-4a52-aded-ec7183f789a6",
   "metadata": {
    "tags": []
   },
   "outputs": [
    {
     "data": {
      "text/plain": [
       "(4, 'A silly example class')"
      ]
     },
     "execution_count": 214,
     "metadata": {},
     "output_type": "execute_result"
    }
   ],
   "source": [
    "Foo().y, Foo.__doc__"
   ]
  },
  {
   "cell_type": "markdown",
   "id": "0d5d2b29-839e-4f0a-bf4b-33aa325c09a2",
   "metadata": {},
   "source": [
    "Like ECMAScript, attributes can be dynamically created and assigned:"
   ]
  },
  {
   "cell_type": "code",
   "execution_count": 215,
   "id": "49c7fb08-a0fb-4dbd-b411-dc96c8233205",
   "metadata": {
    "tags": []
   },
   "outputs": [
    {
     "name": "stdout",
     "output_type": "stream",
     "text": [
      "3\n"
     ]
    }
   ],
   "source": [
    "f = Foo()\n",
    "f.z = 3\n",
    "print(f.z)"
   ]
  },
  {
   "cell_type": "markdown",
   "id": "8e070e32-2138-4399-899f-f36a8a28b527",
   "metadata": {},
   "source": [
    "The class members are functions, but the instance methods are members that implicitly bind the self argument:"
   ]
  },
  {
   "cell_type": "code",
   "execution_count": 216,
   "id": "9a4d50da-132b-44dd-a55f-5328f612a359",
   "metadata": {
    "tags": []
   },
   "outputs": [
    {
     "data": {
      "text/plain": [
       "(function, method)"
      ]
     },
     "execution_count": 216,
     "metadata": {},
     "output_type": "execute_result"
    }
   ],
   "source": [
    "type(Foo.bar), type(f.bar)"
   ]
  },
  {
   "cell_type": "code",
   "execution_count": 217,
   "id": "4cffc482-51de-4ca5-a3b2-27121cfb94cd",
   "metadata": {
    "tags": []
   },
   "outputs": [
    {
     "data": {
      "text/plain": [
       "12"
      ]
     },
     "execution_count": 217,
     "metadata": {},
     "output_type": "execute_result"
    }
   ],
   "source": [
    "Foo.bar(f)"
   ]
  },
  {
   "cell_type": "code",
   "execution_count": 218,
   "id": "5099baec-3de4-4252-85cd-1c60b9e12d72",
   "metadata": {
    "tags": []
   },
   "outputs": [
    {
     "data": {
      "text/plain": [
       "12"
      ]
     },
     "execution_count": 218,
     "metadata": {},
     "output_type": "execute_result"
    }
   ],
   "source": [
    "f.bar()"
   ]
  },
  {
   "cell_type": "code",
   "execution_count": 220,
   "id": "2da39118-1dfe-45fd-983a-3797797bc102",
   "metadata": {
    "tags": []
   },
   "outputs": [
    {
     "data": {
      "text/plain": [
       "(False, True, True)"
      ]
     },
     "execution_count": 220,
     "metadata": {},
     "output_type": "execute_result"
    }
   ],
   "source": [
    "f.bar is Foo.bar, f.bar.__self__ is f, f.bar.__func__ is Foo.bar"
   ]
  },
  {
   "cell_type": "markdown",
   "id": "57ac8aaa-f6d5-40be-8e02-62d437eeea2b",
   "metadata": {},
   "source": [
    "Note that class variables and instance variables are different, with assignment to an instance variable potentially masking the class variable"
   ]
  },
  {
   "cell_type": "code",
   "execution_count": 198,
   "id": "bfc87a36-a110-4d34-882b-95be3899d7ee",
   "metadata": {
    "tags": []
   },
   "outputs": [
    {
     "name": "stdout",
     "output_type": "stream",
     "text": [
      "[1, 2] [1, 2] True\n",
      "[1, 7, 8, 2] [1, 7, 8, 2] True\n",
      "[1, 7, 8, 2] [12, 32] False\n"
     ]
    }
   ],
   "source": [
    "g = Foo()\n",
    "print(f.l, g.l, f.l is g.l)\n",
    "g.l[1:1]=[7, 8]\n",
    "print(f.l, g.l, f.l is g.l)\n",
    "g.l = [12, 32]\n",
    "print(f.l, g.l, f.l is g.l)"
   ]
  },
  {
   "cell_type": "markdown",
   "id": "f1ba0cb2-5221-4b52-bea8-7dbe6b47bb72",
   "metadata": {},
   "source": [
    "Names with a `__` prefix will undergo name mangling, which can be useful for avoiding collisions when using inheritence:"
   ]
  },
  {
   "cell_type": "code",
   "execution_count": 201,
   "id": "7ec074a0-e78e-4648-a914-8e4b39a72b27",
   "metadata": {
    "tags": []
   },
   "outputs": [
    {
     "data": {
      "text/plain": [
       "['_Foo__my_secret']"
      ]
     },
     "execution_count": 201,
     "metadata": {},
     "output_type": "execute_result"
    }
   ],
   "source": [
    "class Foo:\n",
    "    __my_secret = 3\n",
    "    \n",
    "[name for name in dir(Foo()) if 'secret' in name]"
   ]
  },
  {
   "cell_type": "markdown",
   "id": "d87dd464-aeaa-42ae-9aa8-a395d6e3191c",
   "metadata": {},
   "source": [
    "Multiple inheritence happens in the C++ manner of virtual inheritence"
   ]
  },
  {
   "cell_type": "code",
   "execution_count": 207,
   "id": "402994dd-cbcc-433c-b855-4109358fe4ad",
   "metadata": {
    "tags": []
   },
   "outputs": [
    {
     "data": {
      "text/plain": [
       "[0, 1, 2, 3]"
      ]
     },
     "execution_count": 207,
     "metadata": {},
     "output_type": "execute_result"
    }
   ],
   "source": [
    "counter = 0\n",
    "\n",
    "class D:\n",
    "    def __init__(self):\n",
    "        global counter\n",
    "        self.counter = counter\n",
    "        counter += 1\n",
    "        \n",
    "class C(D):\n",
    "    pass\n",
    "\n",
    "class B(D):\n",
    "    pass\n",
    "\n",
    "class A(B, C):\n",
    "    pass\n",
    "\n",
    "d1 = D()\n",
    "d2 = D()\n",
    "a = D()\n",
    "d3 = D()\n",
    "\n",
    "[d.counter for d in [d1, d2, a, d3]]"
   ]
  },
  {
   "cell_type": "markdown",
   "id": "13f51fe1-84cc-412a-b08f-a968cbe9594c",
   "metadata": {},
   "source": [
    "C-like structs can be created using the dataclass decorator"
   ]
  },
  {
   "cell_type": "code",
   "execution_count": 209,
   "id": "33822a98-8516-4487-9278-2de7fdd5ebb7",
   "metadata": {
    "tags": []
   },
   "outputs": [
    {
     "data": {
      "text/plain": [
       "Fuzzle(name='bob', age_s=1320)"
      ]
     },
     "execution_count": 209,
     "metadata": {},
     "output_type": "execute_result"
    }
   ],
   "source": [
    "from dataclasses import dataclass\n",
    "\n",
    "@dataclass\n",
    "class Fuzzle:\n",
    "    name: str\n",
    "    age_s: int\n",
    "    \n",
    "Fuzzle(\"bob\", 1320)"
   ]
  },
  {
   "cell_type": "markdown",
   "id": "c7c964db-5403-4462-9685-1f7a51997b8e",
   "metadata": {},
   "source": [
    "### 9.9 Generators\n",
    "\n",
    "Python interation is implemented using generators:"
   ]
  },
  {
   "cell_type": "code",
   "execution_count": 224,
   "id": "933c850b-6ca4-44ad-acc4-f2819b59f5de",
   "metadata": {
    "tags": []
   },
   "outputs": [
    {
     "name": "stdout",
     "output_type": "stream",
     "text": [
      "a\n",
      "2\n",
      "q\n",
      "Got StopIteration (as expected)\n"
     ]
    }
   ],
   "source": [
    "l = ['a', 2, 'q']\n",
    "it = iter(l)\n",
    "print(next(it))\n",
    "print(next(it))\n",
    "print(next(it))\n",
    "try:\n",
    "    print(next(it))\n",
    "except StopIteration:\n",
    "    print(\"Got StopIteration (as expected)\")"
   ]
  },
  {
   "cell_type": "markdown",
   "id": "9f99b053-a7e7-4aa7-9ff6-39d063c3f35b",
   "metadata": {},
   "source": [
    "These can be implemented for custom classes"
   ]
  },
  {
   "cell_type": "code",
   "execution_count": 228,
   "id": "b0baefe1-f12a-4d30-8bd3-60ff008b3fc1",
   "metadata": {
    "tags": []
   },
   "outputs": [
    {
     "data": {
      "text/plain": [
       "[12, 7, 4, 3]"
      ]
     },
     "execution_count": 228,
     "metadata": {},
     "output_type": "execute_result"
    }
   ],
   "source": [
    "class MyFoo():\n",
    "    def __iter__(self):\n",
    "        \n",
    "        class MyIterator:\n",
    "            def __init__(self):\n",
    "                self.seed = 23\n",
    "                \n",
    "            def __next__(self):\n",
    "                self.seed = self.seed // 2 + 1\n",
    "                if self.seed > 2:\n",
    "                    return self.seed\n",
    "                else:\n",
    "                    raise StopIteration();\n",
    "        return MyIterator()\n",
    "\n",
    "[i for i in MyFoo()]"
   ]
  },
  {
   "cell_type": "markdown",
   "id": "e27263cf-1d48-4422-8dbf-3ba98729cc9a",
   "metadata": {},
   "source": [
    "...or as generator functions..."
   ]
  },
  {
   "cell_type": "code",
   "execution_count": 231,
   "id": "2f30eac2-faaf-4c15-bc0c-5affc8e63b7a",
   "metadata": {
    "tags": []
   },
   "outputs": [
    {
     "data": {
      "text/plain": [
       "[12, 7, 4, 3]"
      ]
     },
     "execution_count": 231,
     "metadata": {},
     "output_type": "execute_result"
    }
   ],
   "source": [
    "def my_foo():\n",
    "    i = 23\n",
    "    while i > 3:\n",
    "        i = i // 2 + 1\n",
    "        yield i\n",
    "        \n",
    "[i for i in my_foo()]"
   ]
  },
  {
   "cell_type": "markdown",
   "id": "cad33b9a-5726-4f6f-bb51-ce69dea91e38",
   "metadata": {},
   "source": [
    "...or as generator expressions."
   ]
  },
  {
   "cell_type": "code",
   "execution_count": 233,
   "id": "ed4b2954-222e-49a2-adad-16d1147f77c9",
   "metadata": {
    "tags": []
   },
   "outputs": [
    {
     "data": {
      "text/plain": [
       "338350"
      ]
     },
     "execution_count": 233,
     "metadata": {},
     "output_type": "execute_result"
    }
   ],
   "source": [
    "sum( i*i for i in range(101) )"
   ]
  },
  {
   "cell_type": "markdown",
   "id": "740cfe1c-349a-46d7-a64f-c0116bc81549",
   "metadata": {},
   "source": [
    "## 16\n",
    "User and site customization directories:"
   ]
  },
  {
   "cell_type": "code",
   "execution_count": 240,
   "id": "b20ca421-95e2-4b9e-a9af-04121c22dd9d",
   "metadata": {
    "tags": []
   },
   "outputs": [],
   "source": [
    "import site"
   ]
  },
  {
   "cell_type": "code",
   "execution_count": 241,
   "id": "e9a73602-e0d6-4142-a105-c2314e96ceba",
   "metadata": {
    "tags": []
   },
   "outputs": [
    {
     "data": {
      "text/plain": [
       "'/home/jovyan/.local/lib/python3.10/site-packages'"
      ]
     },
     "execution_count": 241,
     "metadata": {},
     "output_type": "execute_result"
    }
   ],
   "source": [
    "site.getusersitepackages()"
   ]
  },
  {
   "cell_type": "code",
   "execution_count": 242,
   "id": "2d8b83de-05ee-4f97-8a37-1f22f39b68b8",
   "metadata": {
    "tags": []
   },
   "outputs": [
    {
     "data": {
      "text/plain": [
       "['/usr/local/lib/python3.10/dist-packages',\n",
       " '/usr/lib/python3/dist-packages',\n",
       " '/usr/lib/python3.10/dist-packages']"
      ]
     },
     "execution_count": 242,
     "metadata": {},
     "output_type": "execute_result"
    }
   ],
   "source": [
    "site.getsitepackages()"
   ]
  },
  {
   "cell_type": "code",
   "execution_count": 243,
   "id": "addb6f1b-f124-4796-bca8-1d7123a838e4",
   "metadata": {
    "tags": []
   },
   "outputs": [
    {
     "data": {
      "text/plain": [
       "'/home/jovyan/.local'"
      ]
     },
     "execution_count": 243,
     "metadata": {},
     "output_type": "execute_result"
    }
   ],
   "source": [
    "site.getuserbase()"
   ]
  }
 ],
 "metadata": {
  "kernelspec": {
   "display_name": "Python 3 (ipykernel)",
   "language": "python",
   "name": "python3"
  },
  "language_info": {
   "codemirror_mode": {
    "name": "ipython",
    "version": 3
   },
   "file_extension": ".py",
   "mimetype": "text/x-python",
   "name": "python",
   "nbconvert_exporter": "python",
   "pygments_lexer": "ipython3",
   "version": "3.10.6"
  }
 },
 "nbformat": 4,
 "nbformat_minor": 5
}
