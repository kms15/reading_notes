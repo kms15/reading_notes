{
 "cells": [
  {
   "cell_type": "markdown",
   "id": "1e5c56db-02e9-447c-ae26-a56fd793773a",
   "metadata": {
    "tags": []
   },
   "source": [
    "# Python tutorial notes"
   ]
  },
  {
   "cell_type": "markdown",
   "id": "f257a984-13ab-44c0-a35d-dce4078dab55",
   "metadata": {},
   "source": [
    "#### 3.1.1 Numbers"
   ]
  },
  {
   "cell_type": "code",
   "execution_count": 34,
   "id": "6a7a220e-cd95-47e2-a1aa-b604e9c09782",
   "metadata": {
    "tags": []
   },
   "outputs": [
    {
     "data": {
      "text/plain": [
       "6.25"
      ]
     },
     "execution_count": 34,
     "metadata": {},
     "output_type": "execute_result"
    }
   ],
   "source": [
    "1 + 2**2 + 4//3 + 1/4"
   ]
  },
  {
   "cell_type": "markdown",
   "id": "4905eccf-c29f-4455-97ec-a7c40b0a6c7a",
   "metadata": {},
   "source": [
    "Prior result (interactive mode only)"
   ]
  },
  {
   "cell_type": "code",
   "execution_count": 4,
   "id": "47b8d150-c7df-4489-a14f-7860476e172a",
   "metadata": {
    "tags": []
   },
   "outputs": [
    {
     "data": {
      "text/plain": [
       "6.25"
      ]
     },
     "execution_count": 4,
     "metadata": {},
     "output_type": "execute_result"
    }
   ],
   "source": [
    "_"
   ]
  },
  {
   "cell_type": "markdown",
   "id": "17006327-3e30-4d9f-97d7-114646dccf9c",
   "metadata": {},
   "source": [
    "Native complex number support using $j$ (electrical engineering style). Note that $i$ and $k$ are not supported notations."
   ]
  },
  {
   "cell_type": "code",
   "execution_count": 7,
   "id": "30fd68c0-5c2d-4703-b582-a23dae62994f",
   "metadata": {
    "tags": []
   },
   "outputs": [
    {
     "data": {
      "text/plain": [
       "(-3+4j)"
      ]
     },
     "execution_count": 7,
     "metadata": {},
     "output_type": "execute_result"
    }
   ],
   "source": [
    "(1 + 2j)**2"
   ]
  },
  {
   "cell_type": "markdown",
   "id": "ca6671e5-6acb-47de-ae48-18f7aac88ce7",
   "metadata": {
    "tags": []
   },
   "source": [
    "Note the the power operatator has a higher precidence than the unary negation operator:"
   ]
  },
  {
   "cell_type": "code",
   "execution_count": 49,
   "id": "3ed26c58-6ce2-4d4a-8dc1-9502866723d2",
   "metadata": {
    "tags": []
   },
   "outputs": [
    {
     "data": {
      "text/plain": [
       "(36, -36)"
      ]
     },
     "execution_count": 49,
     "metadata": {},
     "output_type": "execute_result"
    }
   ],
   "source": [
    "(-6)**2, -6**2"
   ]
  },
  {
   "cell_type": "markdown",
   "id": "3469549f-803d-4f9d-b906-08561c389657",
   "metadata": {},
   "source": [
    "The standard library includes additional types such as decimal and fraction:"
   ]
  },
  {
   "cell_type": "code",
   "execution_count": 11,
   "id": "7c1e6dca-ca54-4d68-bd5e-5d224a142d8f",
   "metadata": {
    "tags": []
   },
   "outputs": [
    {
     "name": "stdout",
     "output_type": "stream",
     "text": [
      "1/10 + 1/10 + 1/10 - 3/10\n",
      "Floating point result: 5.551115123125783e-17\n",
      "Decimal result: 0.0\n",
      "Fraction result: 0\n"
     ]
    }
   ],
   "source": [
    "from decimal import Decimal\n",
    "from fractions import Fraction\n",
    "\n",
    "print(\"1/10 + 1/10 + 1/10 - 3/10\")\n",
    "print(f\"Floating point result: { 1/10 + 1/10 + 1/10 - 3/10 }\")\n",
    "print(f\"Decimal result: { Decimal(1)/10 + Decimal(1)/10 + Decimal(1)/10 - Decimal(3)/10 }\")\n",
    "print(f\"Fraction result: { Fraction(1, 10) + Fraction(1, 10) + Fraction(1, 10) - Fraction(3, 10) }\") "
   ]
  },
  {
   "cell_type": "markdown",
   "id": "fe37f1a8-7a86-44d2-a1e2-d7928bb41a6f",
   "metadata": {
    "tags": []
   },
   "source": [
    "#### 3.1.2 Strings"
   ]
  },
  {
   "cell_type": "markdown",
   "id": "ebb8d371-dee0-4a91-b9dd-ef099a87447b",
   "metadata": {},
   "source": [
    "Raw strings can contain backslashes, but can not end in an odd number of backslashes:"
   ]
  },
  {
   "cell_type": "code",
   "execution_count": 1,
   "id": "e30efeb0-08c6-4d2c-905f-aa41aa0e903f",
   "metadata": {
    "tags": []
   },
   "outputs": [
    {
     "data": {
      "text/plain": [
       "'C:\\\\foo\\\\name'"
      ]
     },
     "execution_count": 1,
     "metadata": {},
     "output_type": "execute_result"
    }
   ],
   "source": [
    "r\"C:\\foo\\name\""
   ]
  },
  {
   "cell_type": "code",
   "execution_count": 2,
   "id": "6612b9bb-efe7-4b8e-a8a4-1361f233e887",
   "metadata": {
    "tags": []
   },
   "outputs": [
    {
     "data": {
      "text/plain": [
       "'C:\\\\foo\\\\\\\\name\\\\\\\\\\\\\\\\'"
      ]
     },
     "execution_count": 2,
     "metadata": {},
     "output_type": "execute_result"
    }
   ],
   "source": [
    "r\"C:\\foo\\\\name\\\\\\\\\""
   ]
  },
  {
   "cell_type": "code",
   "execution_count": 87,
   "id": "703c547a-b881-4448-8f4d-06c3704f705f",
   "metadata": {
    "tags": []
   },
   "outputs": [
    {
     "name": "stdout",
     "output_type": "stream",
     "text": [
      "Found expected SyntaxError: unterminated string literal (detected at line 1) (<string>, line 1)\n"
     ]
    }
   ],
   "source": [
    "try:\n",
    "    eval('r\"C:\\\\foo\\\\name\\\\\"')\n",
    "    print(\"unreachable\")\n",
    "except SyntaxError as e:\n",
    "    print(\"Found expected SyntaxError:\", e)"
   ]
  },
  {
   "cell_type": "markdown",
   "id": "4378db75-1e6f-412f-bcc8-a8bed6296f18",
   "metadata": {},
   "source": [
    "Newlines in multi-line strings can be suppressed with `\\`."
   ]
  },
  {
   "cell_type": "code",
   "execution_count": 11,
   "id": "710d0563-ab11-4efa-822f-d87d6c1ee46c",
   "metadata": {
    "tags": []
   },
   "outputs": [
    {
     "data": {
      "text/plain": [
       "'\\nUsage: foo <x>\\n    <x>  Independent variable\\n'"
      ]
     },
     "execution_count": 11,
     "metadata": {},
     "output_type": "execute_result"
    }
   ],
   "source": [
    "\"\"\"\n",
    "Usage: foo <x>\n",
    "    <x>  Independent variable\n",
    "\"\"\""
   ]
  },
  {
   "cell_type": "code",
   "execution_count": 12,
   "id": "5548c6c4-43cd-48f3-91d1-1ef3a5a5b470",
   "metadata": {
    "tags": []
   },
   "outputs": [
    {
     "data": {
      "text/plain": [
       "'Usage: foo <x>\\n    <x>  Independent variable\\n'"
      ]
     },
     "execution_count": 12,
     "metadata": {},
     "output_type": "execute_result"
    }
   ],
   "source": [
    "\"\"\"\\\n",
    "Usage: foo <x>\n",
    "    <x>  Independent variable\n",
    "\"\"\""
   ]
  },
  {
   "cell_type": "markdown",
   "id": "eadc4ee0-2ad3-4aba-91de-71faf8cb4575",
   "metadata": {},
   "source": [
    "Adjacent strings are concatenated"
   ]
  },
  {
   "cell_type": "code",
   "execution_count": 15,
   "id": "761d08df-7850-4039-ad42-c8db87961e8b",
   "metadata": {
    "tags": []
   },
   "outputs": [
    {
     "data": {
      "text/plain": [
       "'Fumanchu'"
      ]
     },
     "execution_count": 15,
     "metadata": {},
     "output_type": "execute_result"
    }
   ],
   "source": [
    "('Fu'\n",
    " 'manchu')"
   ]
  },
  {
   "cell_type": "markdown",
   "id": "b884fd72-5948-47f6-8e6c-c061c945efe8",
   "metadata": {},
   "source": [
    "Multiplication and addition operators follow the same rules as lists"
   ]
  },
  {
   "cell_type": "code",
   "execution_count": 21,
   "id": "d9579abf-cea7-4c9e-a134-784f351415fc",
   "metadata": {
    "tags": []
   },
   "outputs": [
    {
     "data": {
      "text/plain": [
       "'ready... ready... ready... go!'"
      ]
     },
     "execution_count": 21,
     "metadata": {},
     "output_type": "execute_result"
    }
   ],
   "source": [
    "3 * 'ready... ' + 'go!'"
   ]
  },
  {
   "cell_type": "markdown",
   "id": "44c3057e-49c8-4cb4-a6eb-c38dbcf7b74a",
   "metadata": {
    "tags": []
   },
   "source": [
    "Python strings are immutable."
   ]
  },
  {
   "cell_type": "code",
   "execution_count": 88,
   "id": "b3bdaced-e561-4158-abeb-588fdd01dd48",
   "metadata": {
    "tags": []
   },
   "outputs": [
    {
     "name": "stdout",
     "output_type": "stream",
     "text": [
      "Found expected TypeError: 'str' object does not support item assignment\n"
     ]
    }
   ],
   "source": [
    "s = 'foo'\n",
    "try:\n",
    "    s[1] = 'u'\n",
    "    print(\"unreachable\")\n",
    "except TypeError as e:\n",
    "    print(\"Found expected TypeError:\", e)"
   ]
  },
  {
   "cell_type": "markdown",
   "id": "ac7ac8ba-f76f-4b59-8d12-3f2007a998a6",
   "metadata": {},
   "source": [
    "#### 3.1.3 Lists"
   ]
  },
  {
   "cell_type": "markdown",
   "id": "80b67078-0681-473c-aeba-2a55ab214042",
   "metadata": {},
   "source": [
    "Slicing returns a shallow copy"
   ]
  },
  {
   "cell_type": "code",
   "execution_count": 43,
   "id": "9f37b173-2ff1-46a5-a224-6178805ba2d7",
   "metadata": {
    "tags": []
   },
   "outputs": [
    {
     "name": "stdout",
     "output_type": "stream",
     "text": [
      "['a', 'B', 'c'] ['a', 'B', 'c'] ['a', 'B', 'C']\n"
     ]
    }
   ],
   "source": [
    "x = ['a', 'b', 'c']\n",
    "y = x\n",
    "x[1] = 'B'\n",
    "z = x[:]\n",
    "z[2] = 'C'\n",
    "print(x, y, z)"
   ]
  },
  {
   "cell_type": "markdown",
   "id": "4046ba89-4793-4da3-97b1-e1aecf128104",
   "metadata": {},
   "source": [
    "Slicing can be used to replace spans of elements"
   ]
  },
  {
   "cell_type": "code",
   "execution_count": 46,
   "id": "f781d0c6-43a0-4d32-afc9-d78eebb40342",
   "metadata": {
    "tags": []
   },
   "outputs": [
    {
     "name": "stdout",
     "output_type": "stream",
     "text": [
      "['a', 'b.1', 'b.2', 'c', 'e']\n"
     ]
    }
   ],
   "source": [
    "x = ['a', 'b', 'c', 'd', 'e']\n",
    "x[-2:-1] = []\n",
    "x[1:2] = [\"b.1\", \"b.2\"]\n",
    "print(x)"
   ]
  },
  {
   "cell_type": "markdown",
   "id": "7fb19e13-c99e-433a-8626-044e6a6c8227",
   "metadata": {},
   "source": [
    "The `end` parameter to print can be used to suppress line feeds"
   ]
  },
  {
   "cell_type": "code",
   "execution_count": 47,
   "id": "62695687-1475-41f3-af5e-f8adae3e92a6",
   "metadata": {
    "tags": []
   },
   "outputs": [
    {
     "name": "stdout",
     "output_type": "stream",
     "text": [
      "0, 1, 2, 3, 4, 5, 6, 7, 8, 9, "
     ]
    }
   ],
   "source": [
    "for i in range(10):\n",
    "    print(i, end=\", \")"
   ]
  },
  {
   "cell_type": "markdown",
   "id": "0edc18ef-11e6-495f-9ff2-b2cde7b6a1b2",
   "metadata": {},
   "source": [
    "### 4. More Control flow"
   ]
  },
  {
   "cell_type": "markdown",
   "id": "3f695f1d-f534-4a68-82fd-751fcf581d34",
   "metadata": {},
   "source": [
    "As in C, `break` and `continue` are supported."
   ]
  },
  {
   "cell_type": "code",
   "execution_count": 51,
   "id": "f4a65b93-7c6a-422a-9602-239e279801ca",
   "metadata": {
    "tags": []
   },
   "outputs": [
    {
     "name": "stdout",
     "output_type": "stream",
     "text": [
      "7 16\n"
     ]
    }
   ],
   "source": [
    "i = 1\n",
    "total = 0\n",
    "while True:\n",
    "    i += 1\n",
    "    if total > 12:\n",
    "        break\n",
    "    elif i % 3 == 1:\n",
    "        continue\n",
    "    else:\n",
    "       total += i\n",
    "    \n",
    "print(i, total)"
   ]
  },
  {
   "cell_type": "markdown",
   "id": "5cb32a47-8987-4806-a203-a6cb75972657",
   "metadata": {},
   "source": [
    "Loops (e.g. for and while loops) can have an else clause which is executed if the code is not terminated by a break statement."
   ]
  },
  {
   "cell_type": "code",
   "execution_count": 55,
   "id": "3ea8eeb8-9546-4d4e-bd1b-6997f0df2c7b",
   "metadata": {
    "tags": []
   },
   "outputs": [
    {
     "name": "stdout",
     "output_type": "stream",
     "text": [
      "0 :not square!\n",
      "1 :square!\n",
      "2 :not square!\n",
      "3 :not square!\n",
      "4 :square!\n",
      "5 :not square!\n",
      "6 :not square!\n",
      "7 :not square!\n",
      "8 :not square!\n",
      "9 :square!\n"
     ]
    }
   ],
   "source": [
    "def print_is_square(x):\n",
    "    i = 1\n",
    "    while i*i <= x:\n",
    "        if i*i == x:\n",
    "            print(\"square!\")\n",
    "            break\n",
    "        i += 1\n",
    "    else:\n",
    "        print(\"not square!\")\n",
    "        \n",
    "for j in range(10):\n",
    "    print(j, \":\", end=\"\")\n",
    "    print_is_square(j)"
   ]
  },
  {
   "cell_type": "markdown",
   "id": "d4064970-b204-462b-bf7d-08acb41f3963",
   "metadata": {},
   "source": [
    "Match statements can contain relatively arbitrary patterns:"
   ]
  },
  {
   "cell_type": "code",
   "execution_count": 57,
   "id": "e059b2c6-b329-44ef-a032-3919404730e5",
   "metadata": {
    "tags": []
   },
   "outputs": [
    {
     "data": {
      "text/plain": [
       "{0: 'additive identity',\n",
       " 1: 'mulplicative identity',\n",
       " 2: 'even composite',\n",
       " 3: 'prime',\n",
       " 4: 'even composite',\n",
       " 5: 'prime',\n",
       " 6: 'even composite',\n",
       " 7: 'prime',\n",
       " 8: 'even composite',\n",
       " 9: 'odd composite',\n",
       " 10: 'even composite',\n",
       " 11: 'prime',\n",
       " 12: 'even composite',\n",
       " 13: 'prime',\n",
       " 14: 'even composite',\n",
       " 15: 'odd composite'}"
      ]
     },
     "execution_count": 57,
     "metadata": {},
     "output_type": "execute_result"
    }
   ],
   "source": [
    "def number_type(x):\n",
    "    match x:\n",
    "        case 0:\n",
    "            return \"additive identity\"\n",
    "        case 1:\n",
    "            return \"mulplicative identity\"\n",
    "        case 3 | 5 | 7 | 11 | 13 | 17 | 19 | 23:\n",
    "            return \"prime\"\n",
    "        case x if x % 2 == 0: # using a \"guard\"\n",
    "            return \"even composite\"\n",
    "        case _: # default\n",
    "            return \"odd composite\"\n",
    "        \n",
    "{ i : number_type(i) for i in range(2**4) }"
   ]
  },
  {
   "cell_type": "markdown",
   "id": "7304f6cf-fbbe-4df8-8bf6-3235cbe08138",
   "metadata": {
    "tags": []
   },
   "source": [
    "The match structure can perform ml-like pattern matching:"
   ]
  },
  {
   "cell_type": "code",
   "execution_count": 90,
   "id": "3ca39e05-b27d-4a5e-ad63-ef3406357272",
   "metadata": {
    "tags": []
   },
   "outputs": [
    {
     "data": {
      "text/plain": [
       "['James Bond at MI6',\n",
       " 'Habitat for Aves (non-profit)',\n",
       " 'Foozle the great',\n",
       " 'James Brown',\n",
       " 'Megacorp corporation']"
      ]
     },
     "execution_count": 90,
     "metadata": {},
     "output_type": "execute_result"
    }
   ],
   "source": [
    "class Company:\n",
    "    name: str\n",
    "    profits: float\n",
    "    def __init__(self, name, profits):\n",
    "        self.name = name\n",
    "        self.profits = profits\n",
    "    \n",
    "def pretty_name(x):\n",
    "    match x:\n",
    "        case Company(name=coname, profits=0):\n",
    "            return coname + \" (non-profit)\"\n",
    "        case Company(name=coname):\n",
    "            return coname + \" corporation\"\n",
    "        case (lastname, firstname, Company(name=coname)):\n",
    "            return f\"{firstname} {lastname} at {coname}\"\n",
    "        case (lastname, firstname):\n",
    "            return f\"{firstname} {lastname}\"\n",
    "        case name:\n",
    "            return name\n",
    "\n",
    "[\n",
    "    pretty_name(x) for x in [\n",
    "        (\"Bond\", \"James\", Company(\"MI6\", 0)),\n",
    "        Company(\"Habitat for Aves\", 0),\n",
    "        \"Foozle the great\",\n",
    "        (\"Brown\", \"James\"),\n",
    "        Company(\"Megacorp\", 1e9)\n",
    "    ]\n",
    "]"
   ]
  },
  {
   "cell_type": "markdown",
   "id": "3ff2702c-cd3d-4ed5-92c8-88eb6115eb03",
   "metadata": {},
   "source": [
    "Note that positional arguments are not supported by default:"
   ]
  },
  {
   "cell_type": "code",
   "execution_count": 92,
   "id": "31fd688f-48d1-4c5d-9efc-a3537f39d98c",
   "metadata": {
    "tags": []
   },
   "outputs": [
    {
     "name": "stdout",
     "output_type": "stream",
     "text": [
      "Found expected TypeError:  Company() accepts 0 positional sub-patterns (2 given)\n"
     ]
    }
   ],
   "source": [
    "class Company:\n",
    "    name: str\n",
    "    profits: float\n",
    "    def __init__(self, name, profits):\n",
    "        self.name = name\n",
    "        self.profits = profits\n",
    "    \n",
    "try:\n",
    "    exec(\"\"\"\n",
    "def pretty_name(x):\n",
    "    match x:\n",
    "        case Company(coname, 0):\n",
    "            return coname + \" (non-profit)\"\n",
    "        case Company(coname):\n",
    "            return coname + \" corporation\"\n",
    "[\n",
    "    pretty_name(x) for x in [\n",
    "        Company(\"Habitat for Aves\", 0),\n",
    "        Company(\"Megacorp\", 1e9)\n",
    "    ]\n",
    "]\n",
    "\"\"\")\n",
    "    print(\"unreachable\")\n",
    "except TypeError as e:\n",
    "    print(\"Found expected TypeError: \", e)"
   ]
  },
  {
   "cell_type": "markdown",
   "id": "cf6c54f7-92f9-469b-9b41-e9fe3c29e352",
   "metadata": {},
   "source": [
    "Positional matches can be enabled, however, by adding a `__match_args__` special attribute to the class."
   ]
  },
  {
   "cell_type": "code",
   "execution_count": 93,
   "id": "109b0b19-261c-4f62-8fd8-fc4b1b63da27",
   "metadata": {
    "tags": []
   },
   "outputs": [
    {
     "data": {
      "text/plain": [
       "['Habitat for Aves (non-profit)', 'Megacorp corporation']"
      ]
     },
     "execution_count": 93,
     "metadata": {},
     "output_type": "execute_result"
    }
   ],
   "source": [
    "class Company:\n",
    "    name: str\n",
    "    profits: float\n",
    "    def __init__(self, name, profits):\n",
    "        self.name = name\n",
    "        self.profits = profits\n",
    "    __match_args__ = (\"name\", \"profits\")\n",
    "    \n",
    "def pretty_name(x):\n",
    "    match x:\n",
    "        case Company(coname, 0):\n",
    "            return coname + \" (non-profit)\"\n",
    "        case Company(coname):\n",
    "            return coname + \" corporation\"\n",
    "\n",
    "[\n",
    "    pretty_name(x) for x in [\n",
    "        Company(\"Habitat for Aves\", 0),\n",
    "        Company(\"Megacorp\", 1e9)\n",
    "    ]\n",
    "]"
   ]
  },
  {
   "cell_type": "markdown",
   "id": "8dce5871-7632-4812-8d87-4c0ccd07aea1",
   "metadata": {},
   "source": [
    "Entire subpatterns can be captured using the `as` keyword, and extended unpacking can be performed with the `*` operator, and limited with guard statements."
   ]
  },
  {
   "cell_type": "code",
   "execution_count": 97,
   "id": "096cd10b-ee4c-4960-9185-7a32001632c0",
   "metadata": {
    "tags": []
   },
   "outputs": [
    {
     "data": {
      "text/plain": [
       "['Harry Moleman aka \"The shrewd\"',\n",
       " \"('the artist formerly known as', 'Prince')\",\n",
       " 'Benjamin Franklin']"
      ]
     },
     "execution_count": 97,
     "metadata": {},
     "output_type": "execute_result"
    }
   ],
   "source": [
    "def pretty_name(x):\n",
    "    match x:\n",
    "        case (lastname, firstname, *aliases) if len(aliases) > 0:\n",
    "            return f'{firstname} {lastname} aka \"' + '\", \"'.join(aliases) + '\"'\n",
    "        case (\"the artist formerly known as\", x) as z:\n",
    "            return str(z)\n",
    "        case (lastname, firstname):\n",
    "            return f\"{firstname} {lastname}\"\n",
    "        \n",
    "[\n",
    "    pretty_name(x) for x in [\n",
    "        (\"Moleman\", \"Harry\", \"The shrewd\"),\n",
    "        (\"the artist formerly known as\", \"Prince\"),\n",
    "        (\"Franklin\", \"Benjamin\")\n",
    "    ]\n",
    "]"
   ]
  },
  {
   "cell_type": "markdown",
   "id": "f76fa9e8-a2ad-4682-83e5-e32f91f07f7e",
   "metadata": {},
   "source": [
    "Default function argument values are evaluated at the time of function definition, not use:"
   ]
  },
  {
   "cell_type": "code",
   "execution_count": 108,
   "id": "0d06eda0-a946-4a36-bf9e-6200a5af3648",
   "metadata": {
    "tags": []
   },
   "outputs": [
    {
     "name": "stdout",
     "output_type": "stream",
     "text": [
      "initing foo!\n",
      "starting\n",
      "2\n",
      "4\n",
      "6\n"
     ]
    }
   ],
   "source": [
    "class Foo:\n",
    "    count : int\n",
    "    def __init__(self):\n",
    "        print(\"initing foo!\")\n",
    "        self.count = 0\n",
    "        \n",
    "def f(foo=Foo()):\n",
    "    foo.count += 2\n",
    "    print(foo.count)\n",
    "    \n",
    "print(\"starting\")\n",
    "for i in range(3):\n",
    "    f()"
   ]
  },
  {
   "cell_type": "code",
   "execution_count": null,
   "id": "bdbd940c-8b91-4e60-8166-2c45ae7e87ad",
   "metadata": {},
   "outputs": [],
   "source": []
  }
 ],
 "metadata": {
  "kernelspec": {
   "display_name": "Python 3 (ipykernel)",
   "language": "python",
   "name": "python3"
  },
  "language_info": {
   "codemirror_mode": {
    "name": "ipython",
    "version": 3
   },
   "file_extension": ".py",
   "mimetype": "text/x-python",
   "name": "python",
   "nbconvert_exporter": "python",
   "pygments_lexer": "ipython3",
   "version": "3.10.6"
  }
 },
 "nbformat": 4,
 "nbformat_minor": 5
}
