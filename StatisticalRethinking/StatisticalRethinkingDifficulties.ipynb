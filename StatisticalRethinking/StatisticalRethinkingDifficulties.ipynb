{
 "cells": [
  {
   "cell_type": "markdown",
   "metadata": {},
   "source": [
    "# Notes on difficulties with Statistical Rethinking 2nd Edition by Richard McElreath"
   ]
  },
  {
   "cell_type": "markdown",
   "metadata": {},
   "source": [
    "### 2.6\n",
    "\n",
    "I thought I understood the quadratic approximation and had no trouble running the example R code.  When I went to implement it in tensorflow, however, I discovered several significant gaps in my understanding that were critical to actually implementing the algorithm.  For example, finding the second derivative/hessian of a function seemed easy, but the formula going from the hessian to the covariance matrix required some pencil and paper work.  This work then had to be repeated when I realized that it was much easier to do the optimization and take the hessian of the negative log of the posterior probability rather than the posterior probability itself.  I did take a quick look at the source code for the `quap` function used by the book, but as someone with limited fluency in R found it difficult to follow. In particular there was a lot of code transforming datastructures before the real numerical code began, and it seemed like it would require a significant investment of time learning about things like how R represents formulas before I had much of a chance to figure out what the library was doing. In terms of my understanding of the material, I think it would have been very useful to have this simple example of the quadratic approximation implemented by hand (without using anything outside of standard R). Once the details had been shown in the first example, the approach of hiding the details in the `quap` function for future examples would still work well."
   ]
  },
  {
   "cell_type": "markdown",
   "metadata": {},
   "source": [
    "### 3.13\n",
    "\n",
    "As with 2.6, a quick example of calculating the HPDI could be useful."
   ]
  },
  {
   "cell_type": "code",
   "execution_count": null,
   "metadata": {},
   "outputs": [],
   "source": []
  }
 ],
 "metadata": {
  "kernelspec": {
   "display_name": "Python 3",
   "language": "python",
   "name": "python3"
  },
  "language_info": {
   "codemirror_mode": {
    "name": "ipython",
    "version": 3
   },
   "file_extension": ".py",
   "mimetype": "text/x-python",
   "name": "python",
   "nbconvert_exporter": "python",
   "pygments_lexer": "ipython3",
   "version": "3.6.9"
  }
 },
 "nbformat": 4,
 "nbformat_minor": 4
}
