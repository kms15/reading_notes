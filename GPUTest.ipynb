{
 "cells": [
  {
   "cell_type": "markdown",
   "id": "4c836675-3b05-430e-b567-f227e8871829",
   "metadata": {},
   "source": [
    "# GPU support tests"
   ]
  },
  {
   "cell_type": "code",
   "execution_count": 1,
   "id": "45215eea-1c2f-4db2-a41f-ac73540e4e06",
   "metadata": {},
   "outputs": [],
   "source": [
    "import os\n",
    "os.environ['TF_CPP_MIN_LOG_LEVEL'] = '3'"
   ]
  },
  {
   "cell_type": "code",
   "execution_count": 2,
   "id": "70e826db-f768-4a90-9ac1-b0f8a5ce9dd1",
   "metadata": {},
   "outputs": [],
   "source": [
    "import jax\n",
    "import tensorflow as tf\n",
    "#import torch"
   ]
  },
  {
   "cell_type": "code",
   "execution_count": 3,
   "id": "a4afc508-d3e7-48cd-abf7-611bd27c4b3a",
   "metadata": {},
   "outputs": [
    {
     "data": {
      "text/plain": [
       "{'JAX GPU support': True, 'Tensorflow GPU support': True}"
      ]
     },
     "execution_count": 3,
     "metadata": {},
     "output_type": "execute_result"
    }
   ],
   "source": [
    "{\n",
    "    'JAX GPU support': len(jax.devices('gpu')) > 0,\n",
    "    'Tensorflow GPU support': len(tf.config.list_physical_devices(device_type='GPU')) > 0,\n",
    "    #'Pytorch GPU support': torch.cuda.is_available(),\n",
    "}"
   ]
  },
  {
   "cell_type": "code",
   "execution_count": null,
   "id": "fd97b367-55e0-4563-8ccb-e38ac4001206",
   "metadata": {},
   "outputs": [],
   "source": []
  }
 ],
 "metadata": {
  "kernelspec": {
   "display_name": "Python 3 (ipykernel)",
   "language": "python",
   "name": "python3"
  },
  "language_info": {
   "codemirror_mode": {
    "name": "ipython",
    "version": 3
   },
   "file_extension": ".py",
   "mimetype": "text/x-python",
   "name": "python",
   "nbconvert_exporter": "python",
   "pygments_lexer": "ipython3",
   "version": "3.10.12"
  }
 },
 "nbformat": 4,
 "nbformat_minor": 5
}
