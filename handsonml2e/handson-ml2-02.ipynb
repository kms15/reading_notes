{
 "cells": [
  {
   "cell_type": "markdown",
   "metadata": {},
   "source": [
    "# Notes on Chapter 2 of *Hands-On Machine Learning with Scikit-Learn, Keras, & TensorFlow* by Aurélien Géron"
   ]
  },
  {
   "cell_type": "markdown",
   "metadata": {},
   "source": [
    "Download the housing data"
   ]
  },
  {
   "cell_type": "code",
   "execution_count": 32,
   "metadata": {},
   "outputs": [],
   "source": [
    "import tarfile\n",
    "import urllib\n",
    "from pathlib import Path\n",
    "import shutil\n",
    "from tempfile import TemporaryFile\n",
    "\n",
    "housing_dataset_path = Path('datasets') / 'housing' / 'housing.csv'\n",
    "\n",
    "def fetch_housing_data(\n",
    "    source_url = 'https://raw.githubusercontent.com/ageron/handson-ml2/master/datasets/housing/housing.tgz',\n",
    "    dest_path = housing_dataset_path\n",
    "    ):\n",
    "    # create the destination directory, if needed\n",
    "    dest_path.parent.mkdir(parents=True, exist_ok=True)\n",
    "    \n",
    "    # download the compressed data into a temporary file\n",
    "    with TemporaryFile() as tempfile:\n",
    "        with urllib.request.urlopen(source_url) as download:\n",
    "            shutil.copyfileobj(download, tempfile)\n",
    "\n",
    "        # extract the compressed data\n",
    "        tempfile.seek(0)\n",
    "        with tarfile.open(fileobj=tempfile) as tarobj:\n",
    "            tarobj.extract(dest_path.name, path=dest_path.parent)"
   ]
  },
  {
   "cell_type": "code",
   "execution_count": 33,
   "metadata": {},
   "outputs": [],
   "source": [
    "if not housing_dataset_path.exists():\n",
    "    fetch_housing_data()"
   ]
  },
  {
   "cell_type": "markdown",
   "metadata": {},
   "source": [
    "## Exercises"
   ]
  },
  {
   "cell_type": "code",
   "execution_count": null,
   "metadata": {},
   "outputs": [],
   "source": []
  }
 ],
 "metadata": {
  "kernelspec": {
   "display_name": "Python 3",
   "language": "python",
   "name": "python3"
  },
  "language_info": {
   "codemirror_mode": {
    "name": "ipython",
    "version": 3
   },
   "file_extension": ".py",
   "mimetype": "text/x-python",
   "name": "python",
   "nbconvert_exporter": "python",
   "pygments_lexer": "ipython3",
   "version": "3.6.9"
  }
 },
 "nbformat": 4,
 "nbformat_minor": 2
}
