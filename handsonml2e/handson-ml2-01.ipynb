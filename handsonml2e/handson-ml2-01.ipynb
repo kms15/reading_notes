{
 "cells": [
  {
   "cell_type": "markdown",
   "metadata": {},
   "source": [
    "# Notes on Chapter 1 of *Hands-On Machine Learning with Scikit-Learn, Keras, & TensorFlow* by Aurélien Géron\n"
   ]
  },
  {
   "cell_type": "markdown",
   "metadata": {},
   "source": [
    "## Exercises:"
   ]
  },
  {
   "cell_type": "markdown",
   "metadata": {},
   "source": [
    "### 1\n",
    "A set of algorithms whose performance improves with exposure to data\n",
    "\n",
    "### 2\n",
    "Image recognition, speech recognition, turn-based games, natural language processing\n",
    "\n",
    "### 3\n",
    "A set of sample inputs and matching desired outputs for a prediction task\n",
    "\n",
    "### 4\n",
    "Regression and classification\n",
    "\n",
    "### 5\n",
    "Clustering, anomaly detection, dimensional reduction, and association rule learning\n",
    "\n",
    "### 6\n",
    "Reinforcement learning\n",
    "\n",
    "### 7\n",
    "Clustering\n",
    "\n",
    "### 8\n",
    "Supervised learning\n",
    "\n",
    "### 9\n",
    "One whose performance improves from instance to instance during training.  \n",
    "\n",
    "### 10\n",
    "Algorithms that can learn from datasets that are larger than available memory\n",
    "\n",
    "### 11\n",
    "Instance-based learning\n",
    "\n",
    "### 12\n",
    "A model parameter is optimized as part of the learning process, whereas a hyperparameter is set externally to the learning process\n",
    "\n",
    "### 13\n",
    "Model-based learning searches for optimal values of set of prediction parameters (generally much smaller than the training data set).  Usually an approach such as maximizing log-likelyhood is used to tune the parameters, and the model outputs are then used at the predictions.  \n",
    "\n",
    "### 14 \n",
    "Insufficient data, non-representative sample data, poor quality data, irrelevant features\n",
    "\n",
    "### 15\n",
    "Overfitting, consider reducing the free parameters or adding a regularization term.  \n",
    "\n",
    "### 16\n",
    "A set of data that is independent of the data used to develop the model, which can provide a better estimate of the ability of the model to generalize to new data.\n",
    "\n",
    "### 17\n",
    "A validation set can be used to estimate the performance of the model on new data, and is used during model selection and hyperparameter tuning\n",
    "\n",
    "### 18\n",
    "At times potentially non-representitive data is used to train a model because it is more readily available than representative data.  The train-dev dataset is composed of a sample of this non-representative data that was not used for training, and allows you to distingish between failures to generalize due to overfitting and failures to generalize secondary to this non-representative data.  \n",
    "\n",
    "### 19\n",
    "You are prone to falsely overestimate the accuracy of your model on new data.  "
   ]
  }
 ],
 "metadata": {
  "kernelspec": {
   "display_name": "Python3 (jupyter env)",
   "language": "python",
   "name": "jupyter_venv"
  },
  "language_info": {
   "codemirror_mode": {
    "name": "ipython",
    "version": 3
   },
   "file_extension": ".py",
   "mimetype": "text/x-python",
   "name": "python",
   "nbconvert_exporter": "python",
   "pygments_lexer": "ipython3",
   "version": "3.6.8"
  }
 },
 "nbformat": 4,
 "nbformat_minor": 2
}
