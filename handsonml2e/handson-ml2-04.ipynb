{
 "cells": [
  {
   "cell_type": "markdown",
   "metadata": {},
   "source": [
    "# Notes on Chapter 4 of *Hands-On Machine Learning with Scikit-Learn, Keras, & TensorFlow* by Aurélien Géron"
   ]
  },
  {
   "cell_type": "markdown",
   "metadata": {},
   "source": [
    "## Linear regression"
   ]
  },
  {
   "cell_type": "code",
   "execution_count": 1,
   "metadata": {},
   "outputs": [],
   "source": [
    "import numpy as np\n",
    "from matplotlib import pyplot as plt"
   ]
  },
  {
   "cell_type": "code",
   "execution_count": 2,
   "metadata": {},
   "outputs": [],
   "source": [
    "np.random.seed(1811)"
   ]
  },
  {
   "cell_type": "code",
   "execution_count": 3,
   "metadata": {},
   "outputs": [
    {
     "data": {
      "text/plain": [
       "<matplotlib.collections.PathCollection at 0x7f0a052cb2b0>"
      ]
     },
     "execution_count": 3,
     "metadata": {},
     "output_type": "execute_result"
    },
    {
     "data": {
      "image/png": "[encoded data removed]",
      "text/plain": [
       "<Figure size 432x288 with 1 Axes>"
      ]
     },
     "metadata": {
      "needs_background": "light"
     },
     "output_type": "display_data"
    }
   ],
   "source": [
    "X = 2*np.random.rand(100,1)\n",
    "X_aug = np.c_[X, np.ones(len(X))]\n",
    "\n",
    "theta = np.array([3,4])\n",
    "y = X_aug.dot(theta) + np.random.normal(size=(X.shape[0]))\n",
    "plt.scatter(X[:,0], y)"
   ]
  },
  {
   "cell_type": "markdown",
   "metadata": {},
   "source": [
    "Solve using the normal equation"
   ]
  },
  {
   "cell_type": "code",
   "execution_count": 4,
   "metadata": {},
   "outputs": [
    {
     "data": {
      "text/plain": [
       "array([3.05371062, 3.88601208])"
      ]
     },
     "execution_count": 4,
     "metadata": {},
     "output_type": "execute_result"
    }
   ],
   "source": [
    "theta_hat = np.linalg.inv(X_aug.T.dot(X_aug)).dot(X_aug.T).dot(y)\n",
    "theta_hat"
   ]
  },
  {
   "cell_type": "code",
   "execution_count": 5,
   "metadata": {},
   "outputs": [
    {
     "data": {
      "text/plain": [
       "[<matplotlib.lines.Line2D at 0x7f0a05282470>]"
      ]
     },
     "execution_count": 5,
     "metadata": {},
     "output_type": "execute_result"
    },
    {
     "data": {
      "image/png": "[encoded data removed]",
      "text/plain": [
       "<Figure size 432x288 with 1 Axes>"
      ]
     },
     "metadata": {
      "needs_background": "light"
     },
     "output_type": "display_data"
    }
   ],
   "source": [
    "plt.scatter(X[:,0], y)\n",
    "plt.plot([min(X), max(X)], theta_hat.dot(np.c_[[min(X), 1], [max(X), 1]]))"
   ]
  },
  {
   "cell_type": "markdown",
   "metadata": {},
   "source": [
    "Solve using sklearn..."
   ]
  },
  {
   "cell_type": "code",
   "execution_count": 6,
   "metadata": {},
   "outputs": [
    {
     "data": {
      "text/plain": [
       "(array([3.05371062]), 3.8860120754449277)"
      ]
     },
     "execution_count": 6,
     "metadata": {},
     "output_type": "execute_result"
    }
   ],
   "source": [
    "from sklearn.linear_model import LinearRegression\n",
    "\n",
    "lin_reg = LinearRegression()\n",
    "lin_reg.fit(X, y)\n",
    "lin_reg.coef_, lin_reg.intercept_"
   ]
  },
  {
   "cell_type": "markdown",
   "metadata": {},
   "source": [
    "...which uses numpy's least squares..."
   ]
  },
  {
   "cell_type": "code",
   "execution_count": 7,
   "metadata": {},
   "outputs": [
    {
     "data": {
      "text/plain": [
       "array([3.05371062, 3.88601208])"
      ]
     },
     "execution_count": 7,
     "metadata": {},
     "output_type": "execute_result"
    }
   ],
   "source": [
    "svd, residuals, rank, s = np.linalg.lstsq(X_aug, y, rcond=1e-6)\n",
    "svd"
   ]
  },
  {
   "cell_type": "markdown",
   "metadata": {},
   "source": [
    "...which uses the Moore--Penrose inverse."
   ]
  },
  {
   "cell_type": "code",
   "execution_count": 8,
   "metadata": {},
   "outputs": [
    {
     "data": {
      "text/plain": [
       "array([3.05371062, 3.88601208])"
      ]
     },
     "execution_count": 8,
     "metadata": {},
     "output_type": "execute_result"
    }
   ],
   "source": [
    "np.linalg.pinv(X_aug).dot(y)"
   ]
  },
  {
   "cell_type": "markdown",
   "metadata": {},
   "source": [
    "Batch gradient descent:"
   ]
  },
  {
   "cell_type": "code",
   "execution_count": 9,
   "metadata": {},
   "outputs": [
    {
     "data": {
      "text/plain": [
       "array([3.05371062, 3.88601208])"
      ]
     },
     "execution_count": 9,
     "metadata": {},
     "output_type": "execute_result"
    }
   ],
   "source": [
    "eta = 0.005 # learning rate\n",
    "max_iter = 1000\n",
    "\n",
    "theta_hat = np.random.normal(size=X_aug.shape[1])\n",
    "for i in range(max_iter):\n",
    "    grad = 2/X_aug.shape[1] * X_aug.T.dot(X_aug.dot(theta_hat) - y)\n",
    "    theta_hat = theta_hat - eta * grad\n",
    "\n",
    "theta_hat"
   ]
  },
  {
   "cell_type": "markdown",
   "metadata": {},
   "source": [
    "Stochastic gradient descent:"
   ]
  },
  {
   "cell_type": "code",
   "execution_count": 10,
   "metadata": {},
   "outputs": [
    {
     "data": {
      "text/plain": [
       "array([3.03768816, 3.88182368])"
      ]
     },
     "execution_count": 10,
     "metadata": {},
     "output_type": "execute_result"
    }
   ],
   "source": [
    "max_epochs = 1000\n",
    "eta0 = 0.1\n",
    "t0 = 100\n",
    "\n",
    "def learning_schedule(t):\n",
    "    return eta0 * t0 / (t + t0)\n",
    "\n",
    "theta_hat = np.random.normal(size=X_aug.shape[1])\n",
    "\n",
    "for epoch in range(max_epochs):\n",
    "    for i in range(X_aug.shape[0]):\n",
    "        j = np.random.randint(X_aug.shape[0])\n",
    "        grad = 2 * X_aug[j].dot(X_aug[j].dot(theta_hat) - y[j])\n",
    "        eta = learning_schedule(epoch * X_aug.shape[0] + i)\n",
    "        theta_hat = theta_hat - eta * grad\n",
    "        \n",
    "theta_hat"
   ]
  },
  {
   "cell_type": "code",
   "execution_count": 11,
   "metadata": {},
   "outputs": [
    {
     "data": {
      "text/plain": [
       "(array([3.05138139]), array([3.85937062]))"
      ]
     },
     "execution_count": 11,
     "metadata": {},
     "output_type": "execute_result"
    }
   ],
   "source": [
    "from sklearn.linear_model import SGDRegressor\n",
    "\n",
    "sgd = SGDRegressor(max_iter=1000, tol=1e-3, penalty=None, eta0=0.1)\n",
    "sgd.fit(X, y)\n",
    "sgd.coef_, sgd.intercept_"
   ]
  },
  {
   "cell_type": "markdown",
   "metadata": {},
   "source": [
    "Minibatch gradient descent:"
   ]
  },
  {
   "cell_type": "code",
   "execution_count": 12,
   "metadata": {},
   "outputs": [
    {
     "data": {
      "text/plain": [
       "array([3.05827279, 3.87738192])"
      ]
     },
     "execution_count": 12,
     "metadata": {},
     "output_type": "execute_result"
    }
   ],
   "source": [
    "max_epochs = 1000\n",
    "batch_size = 10\n",
    "eta0 = 0.1\n",
    "t0 = 50\n",
    "\n",
    "def learning_schedule(t):\n",
    "    return eta0 * t0 / (t + t0)\n",
    "\n",
    "theta_hat = np.random.normal(size=X_aug.shape[1])\n",
    "\n",
    "for epoch in range(max_epochs):\n",
    "    for batch in range(int(X_aug.shape[0]/batch_size)):\n",
    "        i_batch = np.random.choice(X_aug.shape[0], batch_size, replace=False)\n",
    "        X_batch = X_aug[i_batch]\n",
    "        y_batch = y[i_batch]\n",
    "        grad = 2/X_batch.shape[1] * X_batch.T.dot(X_batch.dot(theta_hat) - y_batch)\n",
    "        eta = learning_schedule(epoch * X_aug.shape[0] + batch * batch_size)\n",
    "        theta_hat = theta_hat - eta * grad\n",
    "        \n",
    "theta_hat"
   ]
  },
  {
   "cell_type": "markdown",
   "metadata": {},
   "source": [
    "Polynomial regression\n",
    "\n",
    "Start by generating a non-linear dataset:"
   ]
  },
  {
   "cell_type": "code",
   "execution_count": 13,
   "metadata": {},
   "outputs": [],
   "source": [
    "m = 100\n",
    "X = 6 * np.random.rand(m,1) - 3\n",
    "y = (0.5 * X**2 + X + 2 + 0.5 * np.random.randn(m,1))[:,0]"
   ]
  },
  {
   "cell_type": "code",
   "execution_count": 14,
   "metadata": {},
   "outputs": [
    {
     "data": {
      "text/plain": [
       "[<matplotlib.lines.Line2D at 0x7f09f7f1d278>]"
      ]
     },
     "execution_count": 14,
     "metadata": {},
     "output_type": "execute_result"
    },
    {
     "data": {
      "image/png": "[encoded data removed]",
      "text/plain": [
       "<Figure size 432x288 with 1 Axes>"
      ]
     },
     "metadata": {
      "needs_background": "light"
     },
     "output_type": "display_data"
    }
   ],
   "source": [
    "plt.plot(X, y, '.')"
   ]
  },
  {
   "cell_type": "code",
   "execution_count": 15,
   "metadata": {},
   "outputs": [],
   "source": [
    "from sklearn.preprocessing import PolynomialFeatures\n",
    "poly_features = PolynomialFeatures(degree=2, include_bias=False)\n",
    "X_poly = poly_features.fit_transform(X)"
   ]
  },
  {
   "cell_type": "code",
   "execution_count": 16,
   "metadata": {},
   "outputs": [
    {
     "data": {
      "text/plain": [
       "(array([[ 0.670181  ],\n",
       "        [ 1.26482011],\n",
       "        [-1.18910569]]),\n",
       " array([[ 0.670181  ,  0.44914257],\n",
       "        [ 1.26482011,  1.5997699 ],\n",
       "        [-1.18910569,  1.41397233]]))"
      ]
     },
     "execution_count": 16,
     "metadata": {},
     "output_type": "execute_result"
    }
   ],
   "source": [
    "X[:3], X_poly[:3]"
   ]
  },
  {
   "cell_type": "code",
   "execution_count": 17,
   "metadata": {},
   "outputs": [
    {
     "data": {
      "text/plain": [
       "(2.039816889317422, array([0.97728201, 0.4907733 ]))"
      ]
     },
     "execution_count": 17,
     "metadata": {},
     "output_type": "execute_result"
    }
   ],
   "source": [
    "lm = LinearRegression()\n",
    "lm.fit(X_poly, y)\n",
    "lm.intercept_, lm.coef_"
   ]
  },
  {
   "cell_type": "code",
   "execution_count": 18,
   "metadata": {},
   "outputs": [
    {
     "data": {
      "text/plain": [
       "[<matplotlib.lines.Line2D at 0x7f09f7ec8438>]"
      ]
     },
     "execution_count": 18,
     "metadata": {},
     "output_type": "execute_result"
    },
    {
     "data": {
      "image/png": "[encoded data removed]",
      "text/plain": [
       "<Figure size 432x288 with 1 Axes>"
      ]
     },
     "metadata": {
      "needs_background": "light"
     },
     "output_type": "display_data"
    }
   ],
   "source": [
    "x_linear = np.linspace(min(X), max(X), 100)\n",
    "\n",
    "plt.plot(x_linear, lm.predict(poly_features.transform(x_linear)), 'r')\n",
    "plt.plot(X, y, '.')"
   ]
  },
  {
   "cell_type": "markdown",
   "metadata": {},
   "source": [
    "Learning curves"
   ]
  },
  {
   "cell_type": "code",
   "execution_count": 19,
   "metadata": {},
   "outputs": [],
   "source": [
    "from sklearn.metrics import mean_squared_error\n",
    "from sklearn.model_selection import train_test_split\n",
    "\n",
    "def plot_learning_curves(m, X, y):\n",
    "    X_train, X_val, y_train, y_val = train_test_split(X, y, test_size=0.2)\n",
    "    train_errors = []\n",
    "    val_errors = []\n",
    "    for N in range(1, X_train.shape[0]):\n",
    "        m.fit(X_train[:N], y_train[:N])\n",
    "        y_hat_train = m.predict(X_train[:N])\n",
    "        y_hat_val = m.predict(X_val)\n",
    "        train_errors.append(mean_squared_error(y_hat_train, y_train[:N]))\n",
    "        val_errors.append(mean_squared_error(y_hat_val, y_val))\n",
    "    plt.plot(np.sqrt(train_errors), \"r-+\", label=\"train\")\n",
    "    plt.plot(np.sqrt(val_errors), \"b-\", label=\"val\")\n",
    "    plt.legend()"
   ]
  },
  {
   "cell_type": "code",
   "execution_count": 20,
   "metadata": {},
   "outputs": [
    {
     "data": {
      "image/png": "[encoded data removed]",
      "text/plain": [
       "<Figure size 432x288 with 1 Axes>"
      ]
     },
     "metadata": {
      "needs_background": "light"
     },
     "output_type": "display_data"
    }
   ],
   "source": [
    "plot_learning_curves(LinearRegression(), X, y)"
   ]
  },
  {
   "cell_type": "code",
   "execution_count": 21,
   "metadata": {},
   "outputs": [
    {
     "data": {
      "image/png": "[encoded data removed]",
      "text/plain": [
       "<Figure size 1440x1440 with 9 Axes>"
      ]
     },
     "metadata": {
      "needs_background": "light"
     },
     "output_type": "display_data"
    }
   ],
   "source": [
    "from sklearn.pipeline import Pipeline\n",
    "\n",
    "numplots = 9\n",
    "numcols = 3\n",
    "plt.subplots(figsize=(20,20))\n",
    "for i in range(numplots):\n",
    "    ax = plt.subplot(numplots/numcols, numcols, i+1)\n",
    "    plot_learning_curves(Pipeline([\n",
    "        (\"poly\", PolynomialFeatures(degree=i+1, include_bias=False)),\n",
    "        (\"lr\", LinearRegression())\n",
    "    ]), X, y)\n",
    "    plt.ylim(0, 3)\n",
    "    plt.title(f'degree: {i+1}')"
   ]
  },
  {
   "cell_type": "markdown",
   "metadata": {},
   "source": [
    "Ridge regression can be performed via Cholesky decomposition..."
   ]
  },
  {
   "cell_type": "code",
   "execution_count": 22,
   "metadata": {},
   "outputs": [
    {
     "data": {
      "text/plain": [
       "array([4.53471283])"
      ]
     },
     "execution_count": 22,
     "metadata": {},
     "output_type": "execute_result"
    }
   ],
   "source": [
    "from sklearn.linear_model import Ridge\n",
    "ridge = Ridge(alpha=1, solver=\"cholesky\")\n",
    "ridge.fit(X, y)\n",
    "ridge.predict([[1.5]])"
   ]
  },
  {
   "cell_type": "markdown",
   "metadata": {},
   "source": [
    "...and with stochastic gradient descent:"
   ]
  },
  {
   "cell_type": "code",
   "execution_count": 23,
   "metadata": {},
   "outputs": [
    {
     "data": {
      "text/plain": [
       "array([4.51986443])"
      ]
     },
     "execution_count": 23,
     "metadata": {},
     "output_type": "execute_result"
    }
   ],
   "source": [
    "sgd = SGDRegressor(penalty=\"l2\")\n",
    "sgd.fit(X, y)\n",
    "sgd.predict([[1.5]])"
   ]
  },
  {
   "cell_type": "markdown",
   "metadata": {},
   "source": [
    "Lasso also is available:"
   ]
  },
  {
   "cell_type": "code",
   "execution_count": 24,
   "metadata": {},
   "outputs": [
    {
     "data": {
      "text/plain": [
       "array([4.47776175])"
      ]
     },
     "execution_count": 24,
     "metadata": {},
     "output_type": "execute_result"
    }
   ],
   "source": [
    "from sklearn.linear_model import Lasso\n",
    "lasso = Lasso(alpha=0.1)\n",
    "lasso.fit(X, y)\n",
    "lasso.predict([[1.5]])"
   ]
  },
  {
   "cell_type": "markdown",
   "metadata": {},
   "source": [
    "...as are elastic nets:"
   ]
  },
  {
   "cell_type": "code",
   "execution_count": 25,
   "metadata": {},
   "outputs": [
    {
     "data": {
      "text/plain": [
       "array([4.48457273])"
      ]
     },
     "execution_count": 25,
     "metadata": {},
     "output_type": "execute_result"
    }
   ],
   "source": [
    "from sklearn.linear_model import ElasticNet\n",
    "en = ElasticNet(alpha=0.1, l1_ratio=0.5)\n",
    "en.fit(X, y)\n",
    "en.predict([[1.5]])"
   ]
  },
  {
   "cell_type": "markdown",
   "metadata": {},
   "source": [
    "Example implementation of early stopping:"
   ]
  },
  {
   "cell_type": "code",
   "execution_count": 26,
   "metadata": {},
   "outputs": [],
   "source": [
    "X_train, X_val, y_train, y_val = train_test_split(X, y, test_size=0.2)"
   ]
  },
  {
   "cell_type": "code",
   "execution_count": 27,
   "metadata": {},
   "outputs": [
    {
     "data": {
      "text/plain": [
       "(0.23451262885181862, 0.30472019253228444)"
      ]
     },
     "execution_count": 27,
     "metadata": {},
     "output_type": "execute_result"
    }
   ],
   "source": [
    "from sklearn.base import clone\n",
    "from sklearn.preprocessing import StandardScaler\n",
    "\n",
    "polyscaler = Pipeline([\n",
    "    ('poly', PolynomialFeatures(degree=90, include_bias=False)),\n",
    "    ('scaler', StandardScaler())\n",
    "])\n",
    "X_train_proc = polyscaler.fit_transform(X_train)\n",
    "X_val_proc = polyscaler.transform(X_val)\n",
    "\n",
    "sgd = SGDRegressor(max_iter=1, tol=-np.infty, warm_start=True, penalty=None, learning_rate='constant', eta0=0.0005)\n",
    "min_error = np.infty\n",
    "best_epoch = None\n",
    "best_model = None\n",
    "for epoch in range(1000):\n",
    "    sgd.fit(X_train_proc, y_train)\n",
    "    y_hat_val = sgd.predict(X_val_proc)\n",
    "    val_error = mean_squared_error(y_val, y_hat_val)\n",
    "    if val_error < min_error:\n",
    "        min_error = val_error\n",
    "        best_epoch = epoch\n",
    "        best_model = clone(sgd)\n",
    "\n",
    "min_error, val_error"
   ]
  },
  {
   "cell_type": "markdown",
   "metadata": {},
   "source": [
    "Load the Iris dataset"
   ]
  },
  {
   "cell_type": "code",
   "execution_count": 28,
   "metadata": {},
   "outputs": [
    {
     "data": {
      "text/plain": [
       "['data',\n",
       " 'target',\n",
       " 'frame',\n",
       " 'target_names',\n",
       " 'DESCR',\n",
       " 'feature_names',\n",
       " 'filename']"
      ]
     },
     "execution_count": 28,
     "metadata": {},
     "output_type": "execute_result"
    }
   ],
   "source": [
    "from sklearn import datasets\n",
    "\n",
    "iris = datasets.load_iris()\n",
    "list(iris.keys())"
   ]
  },
  {
   "cell_type": "code",
   "execution_count": 29,
   "metadata": {},
   "outputs": [
    {
     "data": {
      "text/plain": [
       "['sepal length (cm)',\n",
       " 'sepal width (cm)',\n",
       " 'petal length (cm)',\n",
       " 'petal width (cm)']"
      ]
     },
     "execution_count": 29,
     "metadata": {},
     "output_type": "execute_result"
    }
   ],
   "source": [
    "iris['feature_names']"
   ]
  },
  {
   "cell_type": "markdown",
   "metadata": {},
   "source": [
    "Fit a single class logistic regression model on the data."
   ]
  },
  {
   "cell_type": "code",
   "execution_count": 30,
   "metadata": {},
   "outputs": [],
   "source": [
    "from sklearn.linear_model import LogisticRegression\n",
    "\n",
    "X = iris['data'][:, 3:] # petal width\n",
    "y = (iris['target'] == 2).astype(np.int)\n",
    "log_reg = LogisticRegression()\n",
    "log_reg.fit(X,y);"
   ]
  },
  {
   "cell_type": "code",
   "execution_count": 31,
   "metadata": {},
   "outputs": [
    {
     "data": {
      "text/plain": [
       "<matplotlib.legend.Legend at 0x7f09f736f7f0>"
      ]
     },
     "execution_count": 31,
     "metadata": {},
     "output_type": "execute_result"
    },
    {
     "data": {
      "image/png": "[encoded data removed]",
      "text/plain": [
       "<Figure size 432x288 with 1 Axes>"
      ]
     },
     "metadata": {
      "needs_background": "light"
     },
     "output_type": "display_data"
    }
   ],
   "source": [
    "X_new = np.linspace(0, 3, 1000).reshape(-1, 1)\n",
    "y_proba = log_reg.predict_proba(X_new)\n",
    "plt.plot(X_new, y_proba[:,1], label=\"Iris virginica\")\n",
    "plt.plot(X_new, y_proba[:,0], label=\"not Iris virginica\")\n",
    "plt.scatter(X[y == 1], y[y==1])\n",
    "plt.scatter(X[y == 0], y[y==0])\n",
    "plt.legend()"
   ]
  },
  {
   "cell_type": "markdown",
   "metadata": {},
   "source": [
    "Three class example:"
   ]
  },
  {
   "cell_type": "code",
   "execution_count": 32,
   "metadata": {},
   "outputs": [
    {
     "data": {
      "text/plain": [
       "array([[6.38014896e-07, 5.74929995e-02, 9.42506362e-01]])"
      ]
     },
     "execution_count": 32,
     "metadata": {},
     "output_type": "execute_result"
    }
   ],
   "source": [
    "X = iris['data'][:, 2:] # petal length and width\n",
    "y = iris['target']\n",
    "softmax_reg = LogisticRegression(multi_class='multinomial', solver='lbfgs', C=10)\n",
    "softmax_reg.fit(X,y);\n",
    "softmax_reg.predict_proba([[5,2]])"
   ]
  },
  {
   "cell_type": "markdown",
   "metadata": {},
   "source": [
    "## Exercises"
   ]
  },
  {
   "cell_type": "markdown",
   "metadata": {},
   "source": [
    "### 1\n",
    "\n",
    "Mini-batch gradient descent or stochastic gradient descent."
   ]
  },
  {
   "cell_type": "markdown",
   "metadata": {},
   "source": [
    "### 2\n",
    "\n",
    "All of the algorithms can suffer from this, as it can lead to a poorly conditioned matrix for SVD or the Normal Equation and a very narrow valley for the various gradient descent methods.  Appropriate non-dimensionalization or scaling of the data can fix this.  "
   ]
  },
  {
   "cell_type": "markdown",
   "metadata": {},
   "source": [
    "### 3\n",
    "\n",
    "No, there is a single minima which is the global minima."
   ]
  },
  {
   "cell_type": "markdown",
   "metadata": {},
   "source": [
    "### 4\n",
    "\n",
    "Assuming the loss function is convex and that the learning rate is decreased asymptotically towards zero over time, yes.  "
   ]
  },
  {
   "cell_type": "markdown",
   "metadata": {},
   "source": [
    "### 5\n",
    "\n",
    "Assuming your loss on the training set is decreasing, overfitting is occuring, which can be addressed using regularization techniques such as adding/increasing an $L_1$ or $L_2$ penalty, early stopping, dropout, etc.."
   ]
  },
  {
   "cell_type": "markdown",
   "metadata": {},
   "source": [
    "### 6\n",
    "\n",
    "Usually not, as it is a stochastic algorithm and will have many loss increments and decrements on individual steps."
   ]
  },
  {
   "cell_type": "markdown",
   "metadata": {},
   "source": [
    "### 7\n",
    "\n",
    "Often minibatch gradient descent with a small batch size will reach a reasonable neighborhood of the local minima in the least amount of CPU time.  Batch gradient decent will converge (with the appropriate fixed or variable learning rate) as will stochastic and mini-batch gradient descent if the learning rate asymptotically approaches zero."
   ]
  },
  {
   "cell_type": "markdown",
   "metadata": {},
   "source": [
    "### 8\n",
    "\n",
    "Overfitting is likely occurring, which you may be able to address with better regularization or by adding more data."
   ]
  },
  {
   "cell_type": "markdown",
   "metadata": {},
   "source": [
    "### 9\n",
    "\n",
    "High bias, suggesting the regularization parameter should be decreased."
   ]
  },
  {
   "cell_type": "markdown",
   "metadata": {},
   "source": [
    "### 10\n",
    "#### a\n",
    "To decrease overfitting when you have many features for the number of samples you have.\n",
    "#### b \n",
    "When you wish to have some degree of feature selection as lasso will reduce coefficients to zero.\n",
    "#### c\n",
    "To improve convergence when the number of features is greater than the number of training instances or when some features are strongly corellated. \n"
   ]
  },
  {
   "cell_type": "markdown",
   "metadata": {},
   "source": [
    "### 11\n",
    "\n",
    "You probably should start with two separate logistic regression functions as the simplest model (e.g. assuming one can neglect the interaction terms), but should try softmax if time allows (as the interaction terms may be very relevant).  "
   ]
  },
  {
   "cell_type": "markdown",
   "metadata": {},
   "source": [
    "### 12"
   ]
  },
  {
   "cell_type": "markdown",
   "metadata": {},
   "source": [
    "We'll have fun and use FP16 math in tensorflow, since we're not supposed to use sklearn..."
   ]
  },
  {
   "cell_type": "code",
   "execution_count": 33,
   "metadata": {},
   "outputs": [],
   "source": [
    "import tensorflow as tf\n",
    "import tensorflow_probability as tfp\n",
    "tfd = tfp.distributions\n",
    "from matplotlib import pyplot as plt"
   ]
  },
  {
   "cell_type": "markdown",
   "metadata": {},
   "source": [
    "First, we need a dataset to work with.  We'll use the sklearn datasets for this for convenience (since it's not part of the batch gradient descent algorithm)."
   ]
  },
  {
   "cell_type": "code",
   "execution_count": 34,
   "metadata": {},
   "outputs": [],
   "source": [
    "from sklearn.datasets import fetch_openml\n",
    "mnist = fetch_openml('mnist_784', version=1)"
   ]
  },
  {
   "cell_type": "code",
   "execution_count": 35,
   "metadata": {},
   "outputs": [],
   "source": [
    "X = mnist['data']\n",
    "y = mnist['target']\n",
    "num_classes = 10\n",
    "size_train = 60000\n",
    "dtype = tf.float16\n",
    "\n",
    "X_train = tf.constant(X[:size_train]/255, dtype=dtype)\n",
    "X_test = tf.constant(X[size_train:]/255, dtype=dtype)\n",
    "y_train = y[:size_train]\n",
    "y_test = y[size_train:]\n",
    "\n",
    "y_train_onehot = tf.cast(tf.one_hot(y_train, num_classes), dtype=dtype)\n",
    "y_test_onehot = tf.cast(tf.one_hot(y_test, num_classes), dtype=dtype)"
   ]
  },
  {
   "cell_type": "code",
   "execution_count": 46,
   "metadata": {},
   "outputs": [
    {
     "name": "stdout",
     "output_type": "stream",
     "text": [
      "596: 0.0961 0.0911\n",
      "stopping early at 597 steps\n"
     ]
    }
   ],
   "source": [
    "@tf.function()\n",
    "def apply_softmax(theta, X):\n",
    "    u = tf.tensordot(X, theta, [[1],[1]])\n",
    "    v = tf.math.exp(tf.clip_by_value(u, -6, 6))\n",
    "    return v / tf.reduce_sum(v, axis=1)[:, tf.newaxis]\n",
    "\n",
    "@tf.function()\n",
    "def softmax_gradient(theta, X, y):\n",
    "    y_hat = apply_softmax(theta, X)\n",
    "    return tf.reduce_mean(\n",
    "        (y_hat - y)[:, :, tf.newaxis] * X[:, tf.newaxis, :], axis=0)\n",
    "    \n",
    "@tf.function()\n",
    "def loss(theta, X, y):\n",
    "    y_hat = apply_softmax(theta, X)\n",
    "    return -tf.math.reduce_mean(y * tf.math.log(y_hat))\n",
    "\n",
    "eta0=0.6\n",
    "tau=100\n",
    "max_iter = 10000\n",
    "\n",
    "# initialize the weights\n",
    "theta = tfd.Normal(\n",
    "    tf.constant(0., dtype=dtype),\n",
    "    tf.constant(1., dtype=dtype),\n",
    "    ).sample((num_classes, X_train.shape[1], ))\n",
    "\n",
    "training_loss = []\n",
    "validation_loss = []\n",
    "for i in range(max_iter):\n",
    "    eta = eta0 / (1 + i/tau)\n",
    "    theta = theta - eta * softmax_gradient(\n",
    "        theta, X_train, y_train_onehot)\n",
    "    training_loss.append(loss(theta, X_train, y_train_onehot))\n",
    "    validation_loss.append(loss(theta, X_test, y_test_onehot))\n",
    "    print(f'\\r{i}: {training_loss[-1]:.4f} {validation_loss[-1]:.4f}',\n",
    "         end='')\n",
    "    if i > 0 and validation_loss[-1] > validation_loss[-2]:\n",
    "        print(f'\\nstopping early at {i+1} steps')\n",
    "        break\n"
   ]
  },
  {
   "cell_type": "code",
   "execution_count": 47,
   "metadata": {},
   "outputs": [
    {
     "name": "stdout",
     "output_type": "stream",
     "text": [
      "final accuracy: 0.730\n"
     ]
    },
    {
     "data": {
      "image/png": "[encoded data removed]",
      "text/plain": [
       "<Figure size 432x288 with 1 Axes>"
      ]
     },
     "metadata": {
      "needs_background": "light"
     },
     "output_type": "display_data"
    }
   ],
   "source": [
    "plt.plot(training_loss, 'r')\n",
    "plt.plot(validation_loss, 'b');\n",
    "\n",
    "y_hat_test_onehot = apply_softmax(theta, X_test)\n",
    "y_hat_test = tf.math.argmax(y_hat_test_onehot, axis=1)\n",
    "accuracy = tf.reduce_mean(tf.cast(y_hat_test == y_test, dtype))\n",
    "print(f'final accuracy: {accuracy:.3f}')"
   ]
  },
  {
   "cell_type": "code",
   "execution_count": null,
   "metadata": {},
   "outputs": [],
   "source": []
  }
 ],
 "metadata": {
  "kernelspec": {
   "display_name": "Python 3",
   "language": "python",
   "name": "python3"
  },
  "language_info": {
   "codemirror_mode": {
    "name": "ipython",
    "version": 3
   },
   "file_extension": ".py",
   "mimetype": "text/x-python",
   "name": "python",
   "nbconvert_exporter": "python",
   "pygments_lexer": "ipython3",
   "version": "3.6.9"
  }
 },
 "nbformat": 4,
 "nbformat_minor": 4
}
