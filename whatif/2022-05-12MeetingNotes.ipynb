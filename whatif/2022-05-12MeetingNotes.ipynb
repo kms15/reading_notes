{
 "cells": [
  {
   "cell_type": "code",
   "execution_count": 155,
   "id": "ad8c2cf1-91a4-42a8-912d-5da84852d6d2",
   "metadata": {},
   "outputs": [],
   "source": [
    "import numpy as np\n",
    "import scipy as sp \n",
    "import pandas as pd\n",
    "from scipy import stats as sps\n",
    "from scipy import optimize\n",
    "from sklearn.linear_model import LogisticRegression\n",
    "from IPython.display import display, Markdown"
   ]
  },
  {
   "cell_type": "code",
   "execution_count": 2,
   "id": "24c26156-1f7d-4a40-a6e8-256576eb1baa",
   "metadata": {},
   "outputs": [],
   "source": [
    "from datetime import datetime"
   ]
  },
  {
   "cell_type": "markdown",
   "id": "931cf435-eaab-47e8-91b5-c930ceaa0eda",
   "metadata": {
    "tags": []
   },
   "source": [
    "## Example data from Chapter 2 of \"What If?\""
   ]
  },
  {
   "cell_type": "code",
   "execution_count": 3,
   "id": "d007b32e-f693-448b-a7e1-794cf2095f2d",
   "metadata": {
    "tags": []
   },
   "outputs": [
    {
     "data": {
      "text/html": [
       "<div>\n",
       "<style scoped>\n",
       "    .dataframe tbody tr th:only-of-type {\n",
       "        vertical-align: middle;\n",
       "    }\n",
       "\n",
       "    .dataframe tbody tr th {\n",
       "        vertical-align: top;\n",
       "    }\n",
       "\n",
       "    .dataframe thead th {\n",
       "        text-align: right;\n",
       "    }\n",
       "</style>\n",
       "<table border=\"1\" class=\"dataframe\">\n",
       "  <thead>\n",
       "    <tr style=\"text-align: right;\">\n",
       "      <th></th>\n",
       "      <th>L</th>\n",
       "      <th>A</th>\n",
       "      <th>Y</th>\n",
       "    </tr>\n",
       "  </thead>\n",
       "  <tbody>\n",
       "    <tr>\n",
       "      <th>Rheia</th>\n",
       "      <td>0</td>\n",
       "      <td>0</td>\n",
       "      <td>0</td>\n",
       "    </tr>\n",
       "    <tr>\n",
       "      <th>Kronos</th>\n",
       "      <td>0</td>\n",
       "      <td>0</td>\n",
       "      <td>1</td>\n",
       "    </tr>\n",
       "    <tr>\n",
       "      <th>Demeter</th>\n",
       "      <td>0</td>\n",
       "      <td>0</td>\n",
       "      <td>0</td>\n",
       "    </tr>\n",
       "    <tr>\n",
       "      <th>Hades</th>\n",
       "      <td>0</td>\n",
       "      <td>0</td>\n",
       "      <td>0</td>\n",
       "    </tr>\n",
       "    <tr>\n",
       "      <th>Hestia</th>\n",
       "      <td>0</td>\n",
       "      <td>1</td>\n",
       "      <td>0</td>\n",
       "    </tr>\n",
       "    <tr>\n",
       "      <th>Poseidon</th>\n",
       "      <td>0</td>\n",
       "      <td>1</td>\n",
       "      <td>0</td>\n",
       "    </tr>\n",
       "    <tr>\n",
       "      <th>Hera</th>\n",
       "      <td>0</td>\n",
       "      <td>1</td>\n",
       "      <td>0</td>\n",
       "    </tr>\n",
       "    <tr>\n",
       "      <th>Zeus</th>\n",
       "      <td>0</td>\n",
       "      <td>1</td>\n",
       "      <td>1</td>\n",
       "    </tr>\n",
       "    <tr>\n",
       "      <th>Artemis</th>\n",
       "      <td>1</td>\n",
       "      <td>0</td>\n",
       "      <td>1</td>\n",
       "    </tr>\n",
       "    <tr>\n",
       "      <th>Apollo</th>\n",
       "      <td>1</td>\n",
       "      <td>0</td>\n",
       "      <td>1</td>\n",
       "    </tr>\n",
       "    <tr>\n",
       "      <th>Leto</th>\n",
       "      <td>1</td>\n",
       "      <td>0</td>\n",
       "      <td>0</td>\n",
       "    </tr>\n",
       "    <tr>\n",
       "      <th>Ares</th>\n",
       "      <td>1</td>\n",
       "      <td>1</td>\n",
       "      <td>1</td>\n",
       "    </tr>\n",
       "    <tr>\n",
       "      <th>Athena</th>\n",
       "      <td>1</td>\n",
       "      <td>1</td>\n",
       "      <td>1</td>\n",
       "    </tr>\n",
       "    <tr>\n",
       "      <th>Hephaestus</th>\n",
       "      <td>1</td>\n",
       "      <td>1</td>\n",
       "      <td>1</td>\n",
       "    </tr>\n",
       "    <tr>\n",
       "      <th>Aphrodite</th>\n",
       "      <td>1</td>\n",
       "      <td>1</td>\n",
       "      <td>1</td>\n",
       "    </tr>\n",
       "    <tr>\n",
       "      <th>Cyclope</th>\n",
       "      <td>1</td>\n",
       "      <td>1</td>\n",
       "      <td>1</td>\n",
       "    </tr>\n",
       "    <tr>\n",
       "      <th>Persephone</th>\n",
       "      <td>1</td>\n",
       "      <td>1</td>\n",
       "      <td>1</td>\n",
       "    </tr>\n",
       "    <tr>\n",
       "      <th>Hermes</th>\n",
       "      <td>1</td>\n",
       "      <td>1</td>\n",
       "      <td>0</td>\n",
       "    </tr>\n",
       "    <tr>\n",
       "      <th>Hebe</th>\n",
       "      <td>1</td>\n",
       "      <td>1</td>\n",
       "      <td>0</td>\n",
       "    </tr>\n",
       "    <tr>\n",
       "      <th>Dionysus</th>\n",
       "      <td>1</td>\n",
       "      <td>1</td>\n",
       "      <td>0</td>\n",
       "    </tr>\n",
       "  </tbody>\n",
       "</table>\n",
       "</div>"
      ],
      "text/plain": [
       "            L  A  Y\n",
       "Rheia       0  0  0\n",
       "Kronos      0  0  1\n",
       "Demeter     0  0  0\n",
       "Hades       0  0  0\n",
       "Hestia      0  1  0\n",
       "Poseidon    0  1  0\n",
       "Hera        0  1  0\n",
       "Zeus        0  1  1\n",
       "Artemis     1  0  1\n",
       "Apollo      1  0  1\n",
       "Leto        1  0  0\n",
       "Ares        1  1  1\n",
       "Athena      1  1  1\n",
       "Hephaestus  1  1  1\n",
       "Aphrodite   1  1  1\n",
       "Cyclope     1  1  1\n",
       "Persephone  1  1  1\n",
       "Hermes      1  1  0\n",
       "Hebe        1  1  0\n",
       "Dionysus    1  1  0"
      ]
     },
     "execution_count": 3,
     "metadata": {},
     "output_type": "execute_result"
    }
   ],
   "source": [
    "ch2data = {\n",
    "    'L': [0]*8 + [1]*12,\n",
    "    'A': [0]*4 + [1]*4 + [0]*3 + [1]*9,\n",
    "    'Y': [0,1] + [0]*5 + [1]*3 + [0] + [1]*6 + [0]*3,\n",
    "}\n",
    "ch2names = ['Rheia', 'Kronos', 'Demeter', 'Hades', 'Hestia', 'Poseidon', 'Hera', \n",
    "            'Zeus', 'Artemis', 'Apollo', 'Leto', 'Ares', 'Athena', 'Hephaestus', \n",
    "            'Aphrodite', 'Cyclope', 'Persephone', 'Hermes', 'Hebe', 'Dionysus']\n",
    "pd.DataFrame(ch2data, index=ch2names)"
   ]
  },
  {
   "cell_type": "markdown",
   "id": "d9ec93d9-35d9-47b5-8fd4-f1857b611b88",
   "metadata": {
    "tags": []
   },
   "source": [
    "## Basic function definitions"
   ]
  },
  {
   "cell_type": "markdown",
   "id": "0d48d39a-c737-4efe-8fe5-0b38b968dc9b",
   "metadata": {},
   "source": [
    "A utility function for generating all binary vectors of a given length."
   ]
  },
  {
   "cell_type": "code",
   "execution_count": 4,
   "id": "ea80269b-ff6c-486a-be2e-7d06ef0f5310",
   "metadata": {},
   "outputs": [],
   "source": [
    "def all_binary_vectors(length):\n",
    "    result = [[]]\n",
    "    while len(result[0]) < length:\n",
    "        result = [ vector + [val] for vector in result for val in [False, True] ]\n",
    "    return result"
   ]
  },
  {
   "cell_type": "code",
   "execution_count": 5,
   "id": "13a4372a-2baa-406b-bfee-1e1bb6971f93",
   "metadata": {},
   "outputs": [
    {
     "data": {
      "text/html": [
       "<div>\n",
       "<style scoped>\n",
       "    .dataframe tbody tr th:only-of-type {\n",
       "        vertical-align: middle;\n",
       "    }\n",
       "\n",
       "    .dataframe tbody tr th {\n",
       "        vertical-align: top;\n",
       "    }\n",
       "\n",
       "    .dataframe thead th {\n",
       "        text-align: right;\n",
       "    }\n",
       "</style>\n",
       "<table border=\"1\" class=\"dataframe\">\n",
       "  <thead>\n",
       "    <tr style=\"text-align: right;\">\n",
       "      <th></th>\n",
       "      <th>0</th>\n",
       "      <th>1</th>\n",
       "      <th>2</th>\n",
       "    </tr>\n",
       "  </thead>\n",
       "  <tbody>\n",
       "    <tr>\n",
       "      <th>0</th>\n",
       "      <td>False</td>\n",
       "      <td>False</td>\n",
       "      <td>False</td>\n",
       "    </tr>\n",
       "    <tr>\n",
       "      <th>1</th>\n",
       "      <td>False</td>\n",
       "      <td>False</td>\n",
       "      <td>True</td>\n",
       "    </tr>\n",
       "    <tr>\n",
       "      <th>2</th>\n",
       "      <td>False</td>\n",
       "      <td>True</td>\n",
       "      <td>False</td>\n",
       "    </tr>\n",
       "    <tr>\n",
       "      <th>3</th>\n",
       "      <td>False</td>\n",
       "      <td>True</td>\n",
       "      <td>True</td>\n",
       "    </tr>\n",
       "    <tr>\n",
       "      <th>4</th>\n",
       "      <td>True</td>\n",
       "      <td>False</td>\n",
       "      <td>False</td>\n",
       "    </tr>\n",
       "    <tr>\n",
       "      <th>5</th>\n",
       "      <td>True</td>\n",
       "      <td>False</td>\n",
       "      <td>True</td>\n",
       "    </tr>\n",
       "    <tr>\n",
       "      <th>6</th>\n",
       "      <td>True</td>\n",
       "      <td>True</td>\n",
       "      <td>False</td>\n",
       "    </tr>\n",
       "    <tr>\n",
       "      <th>7</th>\n",
       "      <td>True</td>\n",
       "      <td>True</td>\n",
       "      <td>True</td>\n",
       "    </tr>\n",
       "  </tbody>\n",
       "</table>\n",
       "</div>"
      ],
      "text/plain": [
       "       0      1      2\n",
       "0  False  False  False\n",
       "1  False  False   True\n",
       "2  False   True  False\n",
       "3  False   True   True\n",
       "4   True  False  False\n",
       "5   True  False   True\n",
       "6   True   True  False\n",
       "7   True   True   True"
      ]
     },
     "execution_count": 5,
     "metadata": {},
     "output_type": "execute_result"
    }
   ],
   "source": [
    "pd.DataFrame(all_binary_vectors(3))"
   ]
  },
  {
   "cell_type": "markdown",
   "id": "1d41c58e-57ed-4307-b72d-07b15afbd1c1",
   "metadata": {},
   "source": [
    "Calculate the standardized means for each level of A for a given dataset"
   ]
  },
  {
   "cell_type": "code",
   "execution_count": 6,
   "id": "bf9395b5-2f76-4b98-8875-fe3cad7875ed",
   "metadata": {},
   "outputs": [],
   "source": [
    "def fit_phat_Y_given_L_A(L, A, Y):\n",
    "    A = np.array(A)\n",
    "    Y = np.array(Y)\n",
    "    L = np.reshape(np.array(L), (len(Y), -1)) # force L to be a 2D array\n",
    "    M = L.shape[1]\n",
    "    A_levels = [False, True]\n",
    "    L_levels = all_binary_vectors(M)\n",
    "    phat_Y_given_L_A_table = np.empty((len(L_levels), len(A_levels)))\n",
    "    \n",
    "    for i,l in enumerate(L_levels):\n",
    "        mask_l = (np.product(L == l, axis=1) != 0)\n",
    "        for j,a in enumerate(A_levels):\n",
    "            phat_Y_given_L_A_table[i,j] = np.mean(Y[mask_l * (A == a)])\n",
    "    \n",
    "    def phat_Y_given_L_A(L, A):\n",
    "        A = np.array(A)\n",
    "        L = np.reshape(np.array(L), (-1, M)) # force L to be a 2D array\n",
    "        result = np.zeros(L.shape[0])\n",
    "        for i,l in enumerate(L_levels):\n",
    "            #print(L, l, )#np.product(L == l, axis=1) != 0)\n",
    "            mask_l = (np.product(L == l, axis=1) != 0)\n",
    "            for j,a in enumerate(A_levels):\n",
    "                result[mask_l * (A == a)] = phat_Y_given_L_A_table[i,j]\n",
    "        return result\n",
    "    \n",
    "    return phat_Y_given_L_A"
   ]
  },
  {
   "cell_type": "code",
   "execution_count": 7,
   "id": "ae2af588-1688-4fa0-99d5-6f922ade98f3",
   "metadata": {
    "tags": []
   },
   "outputs": [],
   "source": [
    "def fit_phat_L(L):\n",
    "    L = np.reshape(np.array(L), (np.array(L).shape[0], -1)) # force L to be a 2D array\n",
    "    M = L.shape[1]\n",
    "    L_levels = all_binary_vectors(M)\n",
    "    phat_L_table = np.zeros((len(L_levels),))\n",
    "\n",
    "    for i,l in enumerate(L_levels):\n",
    "        mask_l = (np.product(L == l, axis=1) != 0)\n",
    "        phat_L_table[i] = np.mean(mask_l)\n",
    "        \n",
    "    def phat_L(L):\n",
    "        L = np.reshape(np.array(L), (-1,M)) # force L to be a 2D array\n",
    "        result = np.zeros((L.shape[0],))\n",
    "        for i,l in enumerate(L_levels):\n",
    "            mask_l = (np.product(L == l, axis=1) != 0)\n",
    "            result += mask_l * phat_L_table[i]\n",
    "        return result\n",
    "        \n",
    "    return phat_L"
   ]
  },
  {
   "cell_type": "code",
   "execution_count": 8,
   "id": "c6c8f193-1b31-4996-aba7-1d6682a107ab",
   "metadata": {
    "tags": []
   },
   "outputs": [],
   "source": [
    "def standardized_means_for_A(L, A, Y):\n",
    "    A = np.array(A)\n",
    "    A_levels = [False, True]\n",
    "    L = np.reshape(np.array(L), (np.array(L).shape[0], -1)) # force L to be a 2D array\n",
    "    L_levels = all_binary_vectors(L.shape[1])\n",
    "    Y_mean = np.zeros((len(A_levels),))\n",
    "\n",
    "    phat_L = fit_phat_L(L)\n",
    "    phat_Y_given_L_A = fit_phat_Y_given_L_A(L, A, Y)\n",
    "    \n",
    "    for i,a in enumerate(A_levels):\n",
    "        for l in L_levels:\n",
    "            Y_mean[i] += (phat_Y_given_L_A(l, a) * phat_L(l))[0]\n",
    "\n",
    "    return {\n",
    "        'A_level': A_levels,\n",
    "        'Y_mean': Y_mean,\n",
    "    }"
   ]
  },
  {
   "cell_type": "code",
   "execution_count": 9,
   "id": "84d0221a-2b8c-4b54-8bad-7983f7261f31",
   "metadata": {},
   "outputs": [
    {
     "data": {
      "text/html": [
       "<div>\n",
       "<style scoped>\n",
       "    .dataframe tbody tr th:only-of-type {\n",
       "        vertical-align: middle;\n",
       "    }\n",
       "\n",
       "    .dataframe tbody tr th {\n",
       "        vertical-align: top;\n",
       "    }\n",
       "\n",
       "    .dataframe thead th {\n",
       "        text-align: right;\n",
       "    }\n",
       "</style>\n",
       "<table border=\"1\" class=\"dataframe\">\n",
       "  <thead>\n",
       "    <tr style=\"text-align: right;\">\n",
       "      <th></th>\n",
       "      <th>A_level</th>\n",
       "      <th>Y_mean</th>\n",
       "    </tr>\n",
       "  </thead>\n",
       "  <tbody>\n",
       "    <tr>\n",
       "      <th>0</th>\n",
       "      <td>False</td>\n",
       "      <td>0.5</td>\n",
       "    </tr>\n",
       "    <tr>\n",
       "      <th>1</th>\n",
       "      <td>True</td>\n",
       "      <td>0.5</td>\n",
       "    </tr>\n",
       "  </tbody>\n",
       "</table>\n",
       "</div>"
      ],
      "text/plain": [
       "   A_level  Y_mean\n",
       "0    False     0.5\n",
       "1     True     0.5"
      ]
     },
     "execution_count": 9,
     "metadata": {},
     "output_type": "execute_result"
    }
   ],
   "source": [
    "pd.DataFrame(standardized_means_for_A(**ch2data))"
   ]
  },
  {
   "cell_type": "code",
   "execution_count": 10,
   "id": "dabc3160-db96-48a9-a27d-602c3dcf89a2",
   "metadata": {
    "tags": []
   },
   "outputs": [],
   "source": [
    "def outcome_regression_for_A(L, A, Y):\n",
    "    A = np.array(A)\n",
    "    A_levels = [False, True]\n",
    "    L = np.reshape(np.array(L), (np.array(L).shape[0], -1)) # force L to be a 2D array\n",
    "    Y_mean = np.zeros((len(A_levels),))\n",
    "\n",
    "    phat_Y_given_L_A = fit_phat_Y_given_L_A(L, A, Y)\n",
    "    \n",
    "    for i,a in enumerate(A_levels):\n",
    "        Y_mean[i] += np.mean(phat_Y_given_L_A(L, a))\n",
    "\n",
    "    return {\n",
    "        'A_level': A_levels,\n",
    "        'Y_mean': Y_mean,\n",
    "    }"
   ]
  },
  {
   "cell_type": "code",
   "execution_count": 11,
   "id": "a8d1d6e5-3b81-41fa-8b99-446683d3e98c",
   "metadata": {},
   "outputs": [
    {
     "data": {
      "text/html": [
       "<div>\n",
       "<style scoped>\n",
       "    .dataframe tbody tr th:only-of-type {\n",
       "        vertical-align: middle;\n",
       "    }\n",
       "\n",
       "    .dataframe tbody tr th {\n",
       "        vertical-align: top;\n",
       "    }\n",
       "\n",
       "    .dataframe thead th {\n",
       "        text-align: right;\n",
       "    }\n",
       "</style>\n",
       "<table border=\"1\" class=\"dataframe\">\n",
       "  <thead>\n",
       "    <tr style=\"text-align: right;\">\n",
       "      <th></th>\n",
       "      <th>A_level</th>\n",
       "      <th>Y_mean</th>\n",
       "    </tr>\n",
       "  </thead>\n",
       "  <tbody>\n",
       "    <tr>\n",
       "      <th>0</th>\n",
       "      <td>False</td>\n",
       "      <td>0.5</td>\n",
       "    </tr>\n",
       "    <tr>\n",
       "      <th>1</th>\n",
       "      <td>True</td>\n",
       "      <td>0.5</td>\n",
       "    </tr>\n",
       "  </tbody>\n",
       "</table>\n",
       "</div>"
      ],
      "text/plain": [
       "   A_level  Y_mean\n",
       "0    False     0.5\n",
       "1     True     0.5"
      ]
     },
     "execution_count": 11,
     "metadata": {},
     "output_type": "execute_result"
    }
   ],
   "source": [
    "pd.DataFrame(outcome_regression_for_A(**ch2data))"
   ]
  },
  {
   "cell_type": "markdown",
   "id": "185cd6e4-a2d2-4941-932d-b0a21ead77f4",
   "metadata": {},
   "source": [
    "Calculate the inverse probability weighted means for each level of A for a given dataset"
   ]
  },
  {
   "cell_type": "code",
   "execution_count": 12,
   "id": "01f441c0-b764-4d95-93fa-f9c3638cf91a",
   "metadata": {
    "tags": []
   },
   "outputs": [],
   "source": [
    "# Separately tabulate the freqency of A for each possible level of L\n",
    "# (note: vectorized with respect to samples, so fast but a little ugly)\n",
    "def fit_phat_A_given_L(L, A):\n",
    "    A = np.array(A)\n",
    "    L = np.reshape(np.array(L), (len(A), -1)) # force L to be a 2D array\n",
    "    A_levels = [False, True]\n",
    "    L_levels = all_binary_vectors(L.shape[1])\n",
    "    phat_A_given_L_table = np.zeros((len(L_levels), len(A_levels)))\n",
    "\n",
    "    for i,l in enumerate(L_levels):\n",
    "        mask_l = (np.product(L == l, axis=1) != 0)\n",
    "        P_l = np.mean(mask_l)\n",
    "        for j,a in enumerate(A_levels):\n",
    "            phat_A_given_L_table[i,j] = np.mean(mask_l * (A == a))/P_l\n",
    "            \n",
    "    def phat_A_given_L(L):\n",
    "        L = np.reshape(np.array(L), (np.array(L).shape[0], -1)) # force L to be a 2D array\n",
    "        result = np.zeros((L.shape[0], len(A_levels)))\n",
    "        for i,l in enumerate(L_levels):\n",
    "            mask_l = (np.product(L == l, axis=1) != 0)\n",
    "            for j,a in enumerate(A_levels):\n",
    "                result[:,j] += mask_l * phat_A_given_L_table[i,j]\n",
    "        return result\n",
    "        \n",
    "    return phat_A_given_L"
   ]
  },
  {
   "cell_type": "code",
   "execution_count": null,
   "id": "32e9bba1-b33a-4cea-a621-ed5feb868c89",
   "metadata": {},
   "outputs": [],
   "source": [
    "def ip_weighted_means_for_A(L, A, Y):\n",
    "    A = np.array(A)\n",
    "    A_levels = [False, True]\n",
    "    phat_A_given_L = fit_phat_A_given_L(L, A)\n",
    "    Y_mean = [np.mean(Y * (A == a) / phat_A_given_L(L)[:,i]) for i,a in enumerate(A_levels)]\n",
    "\n",
    "    return {\n",
    "        'A_level': A_levels,\n",
    "        'Y_mean': Y_mean,\n",
    "    }"
   ]
  },
  {
   "cell_type": "code",
   "execution_count": null,
   "id": "0feae2a1-113c-4758-9288-d5e60695e234",
   "metadata": {},
   "outputs": [
    {
     "data": {
      "text/html": [
       "<div>\n",
       "<style scoped>\n",
       "    .dataframe tbody tr th:only-of-type {\n",
       "        vertical-align: middle;\n",
       "    }\n",
       "\n",
       "    .dataframe tbody tr th {\n",
       "        vertical-align: top;\n",
       "    }\n",
       "\n",
       "    .dataframe thead th {\n",
       "        text-align: right;\n",
       "    }\n",
       "</style>\n",
       "<table border=\"1\" class=\"dataframe\">\n",
       "  <thead>\n",
       "    <tr style=\"text-align: right;\">\n",
       "      <th></th>\n",
       "      <th>A_level</th>\n",
       "      <th>Y_mean</th>\n",
       "    </tr>\n",
       "  </thead>\n",
       "  <tbody>\n",
       "    <tr>\n",
       "      <th>0</th>\n",
       "      <td>False</td>\n",
       "      <td>0.5</td>\n",
       "    </tr>\n",
       "    <tr>\n",
       "      <th>1</th>\n",
       "      <td>True</td>\n",
       "      <td>0.5</td>\n",
       "    </tr>\n",
       "  </tbody>\n",
       "</table>\n",
       "</div>"
      ],
      "text/plain": [
       "   A_level  Y_mean\n",
       "0    False     0.5\n",
       "1     True     0.5"
      ]
     },
     "execution_count": 14,
     "metadata": {},
     "output_type": "execute_result"
    }
   ],
   "source": [
    "pd.DataFrame(ip_weighted_means_for_A(**ch2data))"
   ]
  },
  {
   "cell_type": "markdown",
   "id": "8668febd-bea2-4534-a5d2-3ca81ff794d6",
   "metadata": {},
   "source": [
    "Calculate the double-robust means for each level of A for a given dataset"
   ]
  },
  {
   "cell_type": "code",
   "execution_count": 15,
   "id": "d8cc33e1-f3d9-4e11-acbd-0a322294f95c",
   "metadata": {
    "tags": []
   },
   "outputs": [],
   "source": [
    "def doubly_robust_means_for_A(L, A, Y):\n",
    "    A = np.array(A)\n",
    "    A_levels = [False, True]\n",
    "    Y = np.array(Y)\n",
    "    \n",
    "    phat_A_given_L = fit_phat_A_given_L(L, A)\n",
    "    phat_Y_given_L_A = fit_phat_Y_given_L_A(L, A, Y)\n",
    "    f = phat_A_given_L(L)\n",
    "    \n",
    "    Y_mean = np.zeros((len(A_levels),))\n",
    "    for i,a in enumerate(A_levels):\n",
    "        q = phat_Y_given_L_A(L, a)\n",
    "        Y_mean[i] = np.mean(q + (A == a) / f[:,i] * (Y - q))\n",
    "\n",
    "    return {\n",
    "        'A_level': A_levels,\n",
    "        'Y_mean': Y_mean,\n",
    "    }"
   ]
  },
  {
   "cell_type": "code",
   "execution_count": 16,
   "id": "bd242d56-ddf4-4a86-a18d-8f3a2f0b9782",
   "metadata": {
    "tags": []
   },
   "outputs": [
    {
     "data": {
      "text/html": [
       "<div>\n",
       "<style scoped>\n",
       "    .dataframe tbody tr th:only-of-type {\n",
       "        vertical-align: middle;\n",
       "    }\n",
       "\n",
       "    .dataframe tbody tr th {\n",
       "        vertical-align: top;\n",
       "    }\n",
       "\n",
       "    .dataframe thead th {\n",
       "        text-align: right;\n",
       "    }\n",
       "</style>\n",
       "<table border=\"1\" class=\"dataframe\">\n",
       "  <thead>\n",
       "    <tr style=\"text-align: right;\">\n",
       "      <th></th>\n",
       "      <th>A_level</th>\n",
       "      <th>Y_mean</th>\n",
       "    </tr>\n",
       "  </thead>\n",
       "  <tbody>\n",
       "    <tr>\n",
       "      <th>0</th>\n",
       "      <td>False</td>\n",
       "      <td>0.5</td>\n",
       "    </tr>\n",
       "    <tr>\n",
       "      <th>1</th>\n",
       "      <td>True</td>\n",
       "      <td>0.5</td>\n",
       "    </tr>\n",
       "  </tbody>\n",
       "</table>\n",
       "</div>"
      ],
      "text/plain": [
       "   A_level  Y_mean\n",
       "0    False     0.5\n",
       "1     True     0.5"
      ]
     },
     "execution_count": 16,
     "metadata": {},
     "output_type": "execute_result"
    }
   ],
   "source": [
    "pd.DataFrame(doubly_robust_means_for_A(**ch2data))"
   ]
  },
  {
   "cell_type": "markdown",
   "id": "22091140-0bd4-4c01-89d8-f0f246a01325",
   "metadata": {},
   "source": [
    "Calculate the means for each level of A using a marginal structural model (in this case, inverse probability of treatment weighting using logistic marginal models)"
   ]
  },
  {
   "cell_type": "code",
   "execution_count": 69,
   "id": "3901b2ef-28ee-4905-b98a-6178928843f1",
   "metadata": {},
   "outputs": [],
   "source": [
    "# Use a logistic marginal model for L\n",
    "def fit_marginal_phat_A_given_L(L, A):\n",
    "    L = np.reshape(np.array(L), (len(A), -1)) # force L to be a 2D array\n",
    "    A = np.array(A)\n",
    "    \n",
    "    model = LogisticRegression().fit(L, A)\n",
    "    \n",
    "    def phat_A_given_L(L):\n",
    "        L = np.reshape(np.array(L), (np.array(L).shape[0], -1)) # force L to be a 2D array\n",
    "        return model.predict_proba(L)\n",
    "        \n",
    "    return phat_A_given_L"
   ]
  },
  {
   "cell_type": "code",
   "execution_count": 250,
   "id": "c71f2390-4a14-41d9-8050-d30846ddc0fa",
   "metadata": {
    "tags": []
   },
   "outputs": [],
   "source": [
    "def fit_marginal_phat_P_Y_given_L_A(L, A, Y):\n",
    "    L = np.reshape(np.array(L), (len(A), -1)) # force L to be a 2D array\n",
    "    A = np.array(A)\n",
    "\n",
    "    marginal_phat_A_given_L = fit_marginal_phat_A_given_L(L, A)\n",
    "    #weights = np.ones_like(A) \n",
    "    #weights = 1/marginal_phat_A_given_L(L)[range(L.shape[0]),A.astype(int)]\n",
    "    weights = A/marginal_phat_A_given_L(L)[:,1] + (1-A)/marginal_phat_A_given_L(L)[:,0]\n",
    "    #X = np.hstack([L, A[:,np.newaxis]])\n",
    "    X = np.hstack([A[:,np.newaxis]])\n",
    "    model = LogisticRegression().fit(X, Y, weights)\n",
    "\n",
    "    def phat_Y_given_L_A(L, A):\n",
    "        A = np.array(A)\n",
    "        L = np.reshape(np.array(L), (np.array(L).shape[0], -1)) # force L to be a 2D array        \n",
    "        #X = np.hstack([L, A[:,np.newaxis]])\n",
    "        X = np.hstack([A[:,np.newaxis]])\n",
    "        return model.predict_proba(X)\n",
    "        \n",
    "    return phat_Y_given_L_A   "
   ]
  },
  {
   "cell_type": "code",
   "execution_count": 251,
   "id": "6d0bf4e1-9722-4571-bf79-c644edbe041f",
   "metadata": {},
   "outputs": [],
   "source": [
    "def marginal_structural_model_for_A(L, A, Y):\n",
    "    L = np.reshape(np.array(L), (len(A), -1)) # force L to be a 2D array\n",
    "    A = np.array(A)\n",
    "    Y = np.array(Y)\n",
    "\n",
    "    marginal_phat_P_Y_given_L_A = fit_marginal_phat_P_Y_given_L_A(L, A, Y)\n",
    "    \n",
    "    A_levels = [False, True]\n",
    "    Y_mean = [np.mean(marginal_phat_P_Y_given_L_A(L, np.ones_like(A)*a)[:,1]) for a in A_levels]\n",
    "    \n",
    "    return {\n",
    "        'A_level': A_levels,\n",
    "        'Y_mean': Y_mean,\n",
    "    }"
   ]
  },
  {
   "cell_type": "code",
   "execution_count": 252,
   "id": "bf646573-08df-4085-948c-08f5063c646c",
   "metadata": {},
   "outputs": [
    {
     "data": {
      "text/html": [
       "<div>\n",
       "<style scoped>\n",
       "    .dataframe tbody tr th:only-of-type {\n",
       "        vertical-align: middle;\n",
       "    }\n",
       "\n",
       "    .dataframe tbody tr th {\n",
       "        vertical-align: top;\n",
       "    }\n",
       "\n",
       "    .dataframe thead th {\n",
       "        text-align: right;\n",
       "    }\n",
       "</style>\n",
       "<table border=\"1\" class=\"dataframe\">\n",
       "  <thead>\n",
       "    <tr style=\"text-align: right;\">\n",
       "      <th></th>\n",
       "      <th>A_level</th>\n",
       "      <th>Y_mean</th>\n",
       "    </tr>\n",
       "  </thead>\n",
       "  <tbody>\n",
       "    <tr>\n",
       "      <th>0</th>\n",
       "      <td>False</td>\n",
       "      <td>0.474134</td>\n",
       "    </tr>\n",
       "    <tr>\n",
       "      <th>1</th>\n",
       "      <td>True</td>\n",
       "      <td>0.511837</td>\n",
       "    </tr>\n",
       "  </tbody>\n",
       "</table>\n",
       "</div>"
      ],
      "text/plain": [
       "   A_level    Y_mean\n",
       "0    False  0.474134\n",
       "1     True  0.511837"
      ]
     },
     "execution_count": 252,
     "metadata": {},
     "output_type": "execute_result"
    }
   ],
   "source": [
    "pd.DataFrame(marginal_structural_model_for_A(**ch2data))"
   ]
  },
  {
   "cell_type": "markdown",
   "id": "d95c86f4-06bb-495a-a80c-a084624d2401",
   "metadata": {},
   "source": [
    "### Calculate the odds ratio using g-estimation\n",
    "\n",
    "If $g(x) = x$\n",
    "\n",
    "$$g(\\mathbb{E}(Y^a)) - g(\\mathbb{E}(Y^{a=0})) = \\Psi_0 a + \\Psi_L al$$\n",
    "\n",
    "$$U = \\mathbb{E}(Y^{a=0}) = g^{-1}(g(\\mathbb{E}(Y^a)) - \\Psi_0 a - \\Psi_L al)$$\n",
    "\n",
    "\n",
    "We first define a structural mean model (SMM) with link function  $g(x) = \\mathrm{logit}(x)$ parameterized by $\\Psi_0$ and $\\Psi_L$:\n",
    "\n",
    "$$\\mathrm{logit}\\left(\\mathbb{E}\\left(Y^a|L=l,A=a\\right)\\right) \n",
    "    - \\mathrm{logit}\\left(\\mathbb{E}\\left(Y^0|L=l,A=a\\right)\\right)\n",
    "    = \\gamma(a, l; \\Psi_0, \\Psi_L),$$\n",
    "    \n",
    "where\n",
    "\n",
    "$$\\gamma(a, l; \\Psi_0, \\Psi_L) = \\Psi_0 a + \\Psi_L al. $$\n",
    "    \n",
    "We can then construct a variable $U(\\Psi_0, \\Psi_L)$ such that\n",
    "\n",
    "$$U = \\mathrm{expit}\\left(\\mathrm{logit}\\left(\\mathbb{E}\\left(Y^a\\right)\\right) - \\Psi_0 a - \\Psi_L al\\right)$$\n",
    "\n",
    "such that\n",
    "\n",
    "$$\\mathbb{E}\\left(U\\right )= \\mathbb{E}\\left(Y^{a=0}\\right)$$\n",
    "\n",
    "$$P(A | L) = expit(B_0 + B_l * L + B_u * U(A, L; \\Psi_a, \\Psi_L))$$\n",
    "\n",
    "$$A \\perp\\perp Y^{a=0} | L$$"
   ]
  },
  {
   "cell_type": "code",
   "execution_count": null,
   "id": "dbf0286c-bac2-4d7d-bef6-1127c4a0b37b",
   "metadata": {},
   "outputs": [],
   "source": []
  },
  {
   "cell_type": "markdown",
   "id": "6e7f47cb-7c34-400f-8759-bfb55983958e",
   "metadata": {},
   "source": [
    "### Utilities\n",
    "\n",
    "A simple utility function for summarizing results for a given model"
   ]
  },
  {
   "cell_type": "code",
   "execution_count": 253,
   "id": "202826d3-c141-498d-aa39-8c35816f52d5",
   "metadata": {},
   "outputs": [],
   "source": [
    "def summarize_model(data, title='', description=''):\n",
    "    A = data['A']\n",
    "    L = np.reshape(np.array(data['L']), (len(A), -1)) # force L to be a 2D array\n",
    "    Y = data['Y']\n",
    "    \n",
    "    display(Markdown('### ' + title))\n",
    "    display(Markdown(description))\n",
    "    display(Markdown('#### Sample data'))\n",
    "    sample_df = pd.concat([\n",
    "        pd.DataFrame(L).add_prefix(\"L\"), \n",
    "        pd.Series(A, name='A'), \n",
    "        pd.Series(Y, name='Y')\n",
    "        ], axis=1)\n",
    "    display(sample_df.iloc[:12])\n",
    "\n",
    "    display(Markdown('#### Summary statistics'))\n",
    "    stats = {\n",
    "        '$\\\\bar L$': [np.mean(L[:,i]) for i in range(L.shape[1])],\n",
    "        '$\\\\bar A$': np.mean(A),\n",
    "        '$\\\\bar Y$': np.mean(Y),\n",
    "    }\n",
    "    if 'Y_a_0' in data:\n",
    "        stats = stats | {\n",
    "        '$\\\\bar Y^c_0$': np.mean(data['Y_a_0']),\n",
    "        '$\\\\bar Y^c_1$': np.mean(data['Y_a_1']),\n",
    "        }\n",
    "    display(pd.DataFrame({'statistic': stats.values()}, index=stats.keys()))\n",
    "    \n",
    "    model_names = []\n",
    "    Y_hat_a_0s = []\n",
    "    Y_hat_a_1s = []\n",
    "    \n",
    "    if 'Y_a_0' in data:\n",
    "        model_names.append('Underlying counterfactual data')\n",
    "        Y_hat_a_0s.append(np.mean(data['Y_a_0']))\n",
    "        Y_hat_a_1s.append(np.mean(data['Y_a_1']))\n",
    "        \n",
    "\n",
    "    models = [\n",
    "        [\"Standardized means\", standardized_means_for_A],\n",
    "        [\"Outcome regression\", outcome_regression_for_A], \n",
    "        [\"Inverse probability weighted means (IPW)\", ip_weighted_means_for_A],\n",
    "        [\"Doubly robust means\", doubly_robust_means_for_A],\n",
    "        [\"Marginal structural model (MSM)\", marginal_structural_model_for_A]\n",
    "    ]\n",
    "    for model_name, model in models:\n",
    "        model_names.append(model_name)\n",
    "        result = model(L, A, Y)\n",
    "        Y_hat_a_0s.append(result['Y_mean'][0])\n",
    "        Y_hat_a_1s.append(result['Y_mean'][1])\n",
    "   \n",
    "    display(Markdown('#### Estimators'))\n",
    "    display(pd.DataFrame({'$\\hat Y^{a=0}$':Y_hat_a_0s, '$\\hat Y^{a=1}$':Y_hat_a_1s}, index=model_names))"
   ]
  },
  {
   "cell_type": "markdown",
   "id": "d04ce517-ca0f-4b3a-9746-72adfc9a1787",
   "metadata": {},
   "source": [
    "$\\hat Y^{a=0}$"
   ]
  },
  {
   "cell_type": "code",
   "execution_count": 254,
   "id": "0b55a71a-29da-4ebe-b3ca-ca8b33c12d78",
   "metadata": {},
   "outputs": [
    {
     "data": {
      "text/markdown": [
       "### Analysis of data from chapter 2"
      ],
      "text/plain": [
       "<IPython.core.display.Markdown object>"
      ]
     },
     "metadata": {},
     "output_type": "display_data"
    },
    {
     "data": {
      "text/markdown": [
       "Validating the summary function with data from chapter 2"
      ],
      "text/plain": [
       "<IPython.core.display.Markdown object>"
      ]
     },
     "metadata": {},
     "output_type": "display_data"
    },
    {
     "data": {
      "text/markdown": [
       "#### Sample data"
      ],
      "text/plain": [
       "<IPython.core.display.Markdown object>"
      ]
     },
     "metadata": {},
     "output_type": "display_data"
    },
    {
     "data": {
      "text/html": [
       "<div>\n",
       "<style scoped>\n",
       "    .dataframe tbody tr th:only-of-type {\n",
       "        vertical-align: middle;\n",
       "    }\n",
       "\n",
       "    .dataframe tbody tr th {\n",
       "        vertical-align: top;\n",
       "    }\n",
       "\n",
       "    .dataframe thead th {\n",
       "        text-align: right;\n",
       "    }\n",
       "</style>\n",
       "<table border=\"1\" class=\"dataframe\">\n",
       "  <thead>\n",
       "    <tr style=\"text-align: right;\">\n",
       "      <th></th>\n",
       "      <th>L0</th>\n",
       "      <th>A</th>\n",
       "      <th>Y</th>\n",
       "    </tr>\n",
       "  </thead>\n",
       "  <tbody>\n",
       "    <tr>\n",
       "      <th>0</th>\n",
       "      <td>0</td>\n",
       "      <td>0</td>\n",
       "      <td>0</td>\n",
       "    </tr>\n",
       "    <tr>\n",
       "      <th>1</th>\n",
       "      <td>0</td>\n",
       "      <td>0</td>\n",
       "      <td>1</td>\n",
       "    </tr>\n",
       "    <tr>\n",
       "      <th>2</th>\n",
       "      <td>0</td>\n",
       "      <td>0</td>\n",
       "      <td>0</td>\n",
       "    </tr>\n",
       "    <tr>\n",
       "      <th>3</th>\n",
       "      <td>0</td>\n",
       "      <td>0</td>\n",
       "      <td>0</td>\n",
       "    </tr>\n",
       "    <tr>\n",
       "      <th>4</th>\n",
       "      <td>0</td>\n",
       "      <td>1</td>\n",
       "      <td>0</td>\n",
       "    </tr>\n",
       "    <tr>\n",
       "      <th>5</th>\n",
       "      <td>0</td>\n",
       "      <td>1</td>\n",
       "      <td>0</td>\n",
       "    </tr>\n",
       "    <tr>\n",
       "      <th>6</th>\n",
       "      <td>0</td>\n",
       "      <td>1</td>\n",
       "      <td>0</td>\n",
       "    </tr>\n",
       "    <tr>\n",
       "      <th>7</th>\n",
       "      <td>0</td>\n",
       "      <td>1</td>\n",
       "      <td>1</td>\n",
       "    </tr>\n",
       "    <tr>\n",
       "      <th>8</th>\n",
       "      <td>1</td>\n",
       "      <td>0</td>\n",
       "      <td>1</td>\n",
       "    </tr>\n",
       "    <tr>\n",
       "      <th>9</th>\n",
       "      <td>1</td>\n",
       "      <td>0</td>\n",
       "      <td>1</td>\n",
       "    </tr>\n",
       "    <tr>\n",
       "      <th>10</th>\n",
       "      <td>1</td>\n",
       "      <td>0</td>\n",
       "      <td>0</td>\n",
       "    </tr>\n",
       "    <tr>\n",
       "      <th>11</th>\n",
       "      <td>1</td>\n",
       "      <td>1</td>\n",
       "      <td>1</td>\n",
       "    </tr>\n",
       "  </tbody>\n",
       "</table>\n",
       "</div>"
      ],
      "text/plain": [
       "    L0  A  Y\n",
       "0    0  0  0\n",
       "1    0  0  1\n",
       "2    0  0  0\n",
       "3    0  0  0\n",
       "4    0  1  0\n",
       "5    0  1  0\n",
       "6    0  1  0\n",
       "7    0  1  1\n",
       "8    1  0  1\n",
       "9    1  0  1\n",
       "10   1  0  0\n",
       "11   1  1  1"
      ]
     },
     "metadata": {},
     "output_type": "display_data"
    },
    {
     "data": {
      "text/markdown": [
       "#### Summary statistics"
      ],
      "text/plain": [
       "<IPython.core.display.Markdown object>"
      ]
     },
     "metadata": {},
     "output_type": "display_data"
    },
    {
     "data": {
      "text/html": [
       "<div>\n",
       "<style scoped>\n",
       "    .dataframe tbody tr th:only-of-type {\n",
       "        vertical-align: middle;\n",
       "    }\n",
       "\n",
       "    .dataframe tbody tr th {\n",
       "        vertical-align: top;\n",
       "    }\n",
       "\n",
       "    .dataframe thead th {\n",
       "        text-align: right;\n",
       "    }\n",
       "</style>\n",
       "<table border=\"1\" class=\"dataframe\">\n",
       "  <thead>\n",
       "    <tr style=\"text-align: right;\">\n",
       "      <th></th>\n",
       "      <th>statistic</th>\n",
       "    </tr>\n",
       "  </thead>\n",
       "  <tbody>\n",
       "    <tr>\n",
       "      <th>$\\bar L$</th>\n",
       "      <td>[0.6]</td>\n",
       "    </tr>\n",
       "    <tr>\n",
       "      <th>$\\bar A$</th>\n",
       "      <td>0.65</td>\n",
       "    </tr>\n",
       "    <tr>\n",
       "      <th>$\\bar Y$</th>\n",
       "      <td>0.5</td>\n",
       "    </tr>\n",
       "  </tbody>\n",
       "</table>\n",
       "</div>"
      ],
      "text/plain": [
       "         statistic\n",
       "$\\bar L$     [0.6]\n",
       "$\\bar A$      0.65\n",
       "$\\bar Y$       0.5"
      ]
     },
     "metadata": {},
     "output_type": "display_data"
    },
    {
     "data": {
      "text/markdown": [
       "#### Estimators"
      ],
      "text/plain": [
       "<IPython.core.display.Markdown object>"
      ]
     },
     "metadata": {},
     "output_type": "display_data"
    },
    {
     "data": {
      "text/html": [
       "<div>\n",
       "<style scoped>\n",
       "    .dataframe tbody tr th:only-of-type {\n",
       "        vertical-align: middle;\n",
       "    }\n",
       "\n",
       "    .dataframe tbody tr th {\n",
       "        vertical-align: top;\n",
       "    }\n",
       "\n",
       "    .dataframe thead th {\n",
       "        text-align: right;\n",
       "    }\n",
       "</style>\n",
       "<table border=\"1\" class=\"dataframe\">\n",
       "  <thead>\n",
       "    <tr style=\"text-align: right;\">\n",
       "      <th></th>\n",
       "      <th>$\\hat Y^{a=0}$</th>\n",
       "      <th>$\\hat Y^{a=1}$</th>\n",
       "    </tr>\n",
       "  </thead>\n",
       "  <tbody>\n",
       "    <tr>\n",
       "      <th>Standardized means</th>\n",
       "      <td>0.500000</td>\n",
       "      <td>0.500000</td>\n",
       "    </tr>\n",
       "    <tr>\n",
       "      <th>Outcome regression</th>\n",
       "      <td>0.500000</td>\n",
       "      <td>0.500000</td>\n",
       "    </tr>\n",
       "    <tr>\n",
       "      <th>Inverse probability weighted means (IPW)</th>\n",
       "      <td>0.500000</td>\n",
       "      <td>0.500000</td>\n",
       "    </tr>\n",
       "    <tr>\n",
       "      <th>Doubly robust means</th>\n",
       "      <td>0.500000</td>\n",
       "      <td>0.500000</td>\n",
       "    </tr>\n",
       "    <tr>\n",
       "      <th>Marginal structural model (MSM)</th>\n",
       "      <td>0.474134</td>\n",
       "      <td>0.511837</td>\n",
       "    </tr>\n",
       "  </tbody>\n",
       "</table>\n",
       "</div>"
      ],
      "text/plain": [
       "                                          $\\hat Y^{a=0}$  $\\hat Y^{a=1}$\n",
       "Standardized means                              0.500000        0.500000\n",
       "Outcome regression                              0.500000        0.500000\n",
       "Inverse probability weighted means (IPW)        0.500000        0.500000\n",
       "Doubly robust means                             0.500000        0.500000\n",
       "Marginal structural model (MSM)                 0.474134        0.511837"
      ]
     },
     "metadata": {},
     "output_type": "display_data"
    }
   ],
   "source": [
    "summarize_model(ch2data, 'Analysis of data from chapter 2', 'Validating the summary function with data from chapter 2')"
   ]
  },
  {
   "cell_type": "markdown",
   "id": "67d9c50f-a0d1-46bd-89d4-db3e4bb23a79",
   "metadata": {},
   "source": [
    "## Testing with generated data"
   ]
  },
  {
   "cell_type": "markdown",
   "id": "21a1457f-65e5-4c8b-8c15-6287c145e373",
   "metadata": {},
   "source": [
    "Start with a simple parameterized model..."
   ]
  },
  {
   "cell_type": "code",
   "execution_count": 255,
   "id": "8260b3b7-d8df-4d38-946c-e04a22a690d1",
   "metadata": {
    "tags": []
   },
   "outputs": [],
   "source": [
    "def generate_simple_logistic_model_data(N=1000000, P_L=0.5,\n",
    "                                        beta_A_0=0, beta_A_L=0, \n",
    "                                        beta_Y_0=0, beta_Y_L=0, beta_Y_A=0, beta_Y_LA=0,\n",
    "                                        debug_info=False):\n",
    "    # reshape and broadcast values into appropriately sized arrays\n",
    "    P_L = np.array(P_L).reshape((-1,)) # expand P_L to a 2d array if needed\n",
    "    M = len(P_L)\n",
    "    if np.isscalar(beta_A_L) == 1: # broadcast to appropriate shape if needed\n",
    "        beta_A_L = np.array([beta_A_L]*M)\n",
    "    else:\n",
    "        beta_A_L = np.array([beta_A_L]).reshape((M,))\n",
    "    if np.isscalar(beta_Y_L) == 1: # broadcast to appropriate shape if needed\n",
    "        beta_Y_L = np.array([beta_Y_L]*M)\n",
    "    else:\n",
    "        beta_Y_L = np.array([beta_Y_L]).reshape((M,))\n",
    "    if np.isscalar(beta_Y_LA) == 1: # broadcast to appropriate shape if needed\n",
    "        beta_Y_LA = np.array([beta_Y_LA]*M)\n",
    "    else:\n",
    "        beta_Y_LA = np.array([beta_Y_LA]).reshape((M,))\n",
    "    \n",
    "    L = np.random.uniform(size=(N,)+np.array(P_L).shape) < P_L\n",
    "    P_A_given_l = sps.logistic.cdf(beta_A_0 + L.dot(beta_A_L))\n",
    "    A = np.random.uniform(size=N) < P_A_given_l\n",
    "    #P_Y_given_l_a = sps.logistic.cdf(beta_Y_0 + L.dot(beta_Y_L) +\n",
    "    #                                 A.dot(beta_Y_A) +\n",
    "    #                                 L.dot(beta_Y_LA)*A\n",
    "    #                                 )\n",
    "    #Y = np.random.uniform(size=N) < P_Y_given_l_a\n",
    "    P_Y_given_l_a_0 = sps.logistic.cdf(beta_Y_0 + L.dot(beta_Y_L) #+\n",
    "                                     #A.dot(beta_Y_A) +\n",
    "                                     #L.dot(beta_Y_LA)*A\n",
    "                                     )\n",
    "    P_Y_given_l_a_1 = sps.logistic.cdf(beta_Y_0 + L.dot(beta_Y_L) +\n",
    "                                     beta_Y_A +#A.dot(beta_Y_A) +\n",
    "                                     L.dot(beta_Y_LA)#L.dot(beta_Y_LA)*A\n",
    "                                     )\n",
    "    Y_a_0 = np.random.uniform(size=N) < P_Y_given_l_a_0\n",
    "    Y_a_1 = np.random.uniform(size=N) < P_Y_given_l_a_1\n",
    "    Y = Y_a_0 * (1 - A) + Y_a_1 * A\n",
    "    \n",
    "    return {\n",
    "        'L' : L,\n",
    "        'A' : A,\n",
    "        'Y' : Y,\n",
    "        'Y_a_0': Y_a_0,\n",
    "        'Y_a_1': Y_a_1,\n",
    "    } | ({\n",
    "        'P_L' : P_L,\n",
    "        'P_A_given_l' : P_A_given_l, \n",
    "        'P_Y_given_l_a' : P_Y_given_l_a,\n",
    "    } if debug_info else {})"
   ]
  },
  {
   "cell_type": "code",
   "execution_count": 256,
   "id": "d5e64889-8c85-43ae-9cc0-2803184dbb8b",
   "metadata": {},
   "outputs": [
    {
     "data": {
      "text/markdown": [
       "### Maximal entropy model"
      ],
      "text/plain": [
       "<IPython.core.display.Markdown object>"
      ]
     },
     "metadata": {},
     "output_type": "display_data"
    },
    {
     "data": {
      "text/markdown": [
       "No interactions, 1:1 odds for L, A, and Y"
      ],
      "text/plain": [
       "<IPython.core.display.Markdown object>"
      ]
     },
     "metadata": {},
     "output_type": "display_data"
    },
    {
     "data": {
      "text/markdown": [
       "#### Sample data"
      ],
      "text/plain": [
       "<IPython.core.display.Markdown object>"
      ]
     },
     "metadata": {},
     "output_type": "display_data"
    },
    {
     "data": {
      "text/html": [
       "<div>\n",
       "<style scoped>\n",
       "    .dataframe tbody tr th:only-of-type {\n",
       "        vertical-align: middle;\n",
       "    }\n",
       "\n",
       "    .dataframe tbody tr th {\n",
       "        vertical-align: top;\n",
       "    }\n",
       "\n",
       "    .dataframe thead th {\n",
       "        text-align: right;\n",
       "    }\n",
       "</style>\n",
       "<table border=\"1\" class=\"dataframe\">\n",
       "  <thead>\n",
       "    <tr style=\"text-align: right;\">\n",
       "      <th></th>\n",
       "      <th>L0</th>\n",
       "      <th>A</th>\n",
       "      <th>Y</th>\n",
       "    </tr>\n",
       "  </thead>\n",
       "  <tbody>\n",
       "    <tr>\n",
       "      <th>0</th>\n",
       "      <td>True</td>\n",
       "      <td>False</td>\n",
       "      <td>1</td>\n",
       "    </tr>\n",
       "    <tr>\n",
       "      <th>1</th>\n",
       "      <td>False</td>\n",
       "      <td>False</td>\n",
       "      <td>1</td>\n",
       "    </tr>\n",
       "    <tr>\n",
       "      <th>2</th>\n",
       "      <td>False</td>\n",
       "      <td>False</td>\n",
       "      <td>0</td>\n",
       "    </tr>\n",
       "    <tr>\n",
       "      <th>3</th>\n",
       "      <td>True</td>\n",
       "      <td>False</td>\n",
       "      <td>0</td>\n",
       "    </tr>\n",
       "    <tr>\n",
       "      <th>4</th>\n",
       "      <td>False</td>\n",
       "      <td>False</td>\n",
       "      <td>1</td>\n",
       "    </tr>\n",
       "    <tr>\n",
       "      <th>5</th>\n",
       "      <td>False</td>\n",
       "      <td>True</td>\n",
       "      <td>1</td>\n",
       "    </tr>\n",
       "    <tr>\n",
       "      <th>6</th>\n",
       "      <td>True</td>\n",
       "      <td>True</td>\n",
       "      <td>1</td>\n",
       "    </tr>\n",
       "    <tr>\n",
       "      <th>7</th>\n",
       "      <td>True</td>\n",
       "      <td>False</td>\n",
       "      <td>0</td>\n",
       "    </tr>\n",
       "    <tr>\n",
       "      <th>8</th>\n",
       "      <td>False</td>\n",
       "      <td>False</td>\n",
       "      <td>1</td>\n",
       "    </tr>\n",
       "    <tr>\n",
       "      <th>9</th>\n",
       "      <td>True</td>\n",
       "      <td>True</td>\n",
       "      <td>1</td>\n",
       "    </tr>\n",
       "    <tr>\n",
       "      <th>10</th>\n",
       "      <td>True</td>\n",
       "      <td>False</td>\n",
       "      <td>0</td>\n",
       "    </tr>\n",
       "    <tr>\n",
       "      <th>11</th>\n",
       "      <td>False</td>\n",
       "      <td>False</td>\n",
       "      <td>1</td>\n",
       "    </tr>\n",
       "  </tbody>\n",
       "</table>\n",
       "</div>"
      ],
      "text/plain": [
       "       L0      A  Y\n",
       "0    True  False  1\n",
       "1   False  False  1\n",
       "2   False  False  0\n",
       "3    True  False  0\n",
       "4   False  False  1\n",
       "5   False   True  1\n",
       "6    True   True  1\n",
       "7    True  False  0\n",
       "8   False  False  1\n",
       "9    True   True  1\n",
       "10   True  False  0\n",
       "11  False  False  1"
      ]
     },
     "metadata": {},
     "output_type": "display_data"
    },
    {
     "data": {
      "text/markdown": [
       "#### Summary statistics"
      ],
      "text/plain": [
       "<IPython.core.display.Markdown object>"
      ]
     },
     "metadata": {},
     "output_type": "display_data"
    },
    {
     "data": {
      "text/html": [
       "<div>\n",
       "<style scoped>\n",
       "    .dataframe tbody tr th:only-of-type {\n",
       "        vertical-align: middle;\n",
       "    }\n",
       "\n",
       "    .dataframe tbody tr th {\n",
       "        vertical-align: top;\n",
       "    }\n",
       "\n",
       "    .dataframe thead th {\n",
       "        text-align: right;\n",
       "    }\n",
       "</style>\n",
       "<table border=\"1\" class=\"dataframe\">\n",
       "  <thead>\n",
       "    <tr style=\"text-align: right;\">\n",
       "      <th></th>\n",
       "      <th>statistic</th>\n",
       "    </tr>\n",
       "  </thead>\n",
       "  <tbody>\n",
       "    <tr>\n",
       "      <th>$\\bar L$</th>\n",
       "      <td>[0.499665]</td>\n",
       "    </tr>\n",
       "    <tr>\n",
       "      <th>$\\bar A$</th>\n",
       "      <td>0.500193</td>\n",
       "    </tr>\n",
       "    <tr>\n",
       "      <th>$\\bar Y$</th>\n",
       "      <td>0.501336</td>\n",
       "    </tr>\n",
       "    <tr>\n",
       "      <th>$\\bar Y^c_0$</th>\n",
       "      <td>0.500368</td>\n",
       "    </tr>\n",
       "    <tr>\n",
       "      <th>$\\bar Y^c_1$</th>\n",
       "      <td>0.500721</td>\n",
       "    </tr>\n",
       "  </tbody>\n",
       "</table>\n",
       "</div>"
      ],
      "text/plain": [
       "               statistic\n",
       "$\\bar L$      [0.499665]\n",
       "$\\bar A$        0.500193\n",
       "$\\bar Y$        0.501336\n",
       "$\\bar Y^c_0$    0.500368\n",
       "$\\bar Y^c_1$    0.500721"
      ]
     },
     "metadata": {},
     "output_type": "display_data"
    },
    {
     "data": {
      "text/markdown": [
       "#### Estimators"
      ],
      "text/plain": [
       "<IPython.core.display.Markdown object>"
      ]
     },
     "metadata": {},
     "output_type": "display_data"
    },
    {
     "data": {
      "text/html": [
       "<div>\n",
       "<style scoped>\n",
       "    .dataframe tbody tr th:only-of-type {\n",
       "        vertical-align: middle;\n",
       "    }\n",
       "\n",
       "    .dataframe tbody tr th {\n",
       "        vertical-align: top;\n",
       "    }\n",
       "\n",
       "    .dataframe thead th {\n",
       "        text-align: right;\n",
       "    }\n",
       "</style>\n",
       "<table border=\"1\" class=\"dataframe\">\n",
       "  <thead>\n",
       "    <tr style=\"text-align: right;\">\n",
       "      <th></th>\n",
       "      <th>$\\hat Y^{a=0}$</th>\n",
       "      <th>$\\hat Y^{a=1}$</th>\n",
       "    </tr>\n",
       "  </thead>\n",
       "  <tbody>\n",
       "    <tr>\n",
       "      <th>Underlying counterfactual data</th>\n",
       "      <td>0.500368</td>\n",
       "      <td>0.500721</td>\n",
       "    </tr>\n",
       "    <tr>\n",
       "      <th>Standardized means</th>\n",
       "      <td>0.500755</td>\n",
       "      <td>0.501916</td>\n",
       "    </tr>\n",
       "    <tr>\n",
       "      <th>Outcome regression</th>\n",
       "      <td>0.500755</td>\n",
       "      <td>0.501916</td>\n",
       "    </tr>\n",
       "    <tr>\n",
       "      <th>Inverse probability weighted means (IPW)</th>\n",
       "      <td>0.500755</td>\n",
       "      <td>0.501916</td>\n",
       "    </tr>\n",
       "    <tr>\n",
       "      <th>Doubly robust means</th>\n",
       "      <td>0.500755</td>\n",
       "      <td>0.501916</td>\n",
       "    </tr>\n",
       "    <tr>\n",
       "      <th>Marginal structural model (MSM)</th>\n",
       "      <td>0.500756</td>\n",
       "      <td>0.501919</td>\n",
       "    </tr>\n",
       "  </tbody>\n",
       "</table>\n",
       "</div>"
      ],
      "text/plain": [
       "                                          $\\hat Y^{a=0}$  $\\hat Y^{a=1}$\n",
       "Underlying counterfactual data                  0.500368        0.500721\n",
       "Standardized means                              0.500755        0.501916\n",
       "Outcome regression                              0.500755        0.501916\n",
       "Inverse probability weighted means (IPW)        0.500755        0.501916\n",
       "Doubly robust means                             0.500755        0.501916\n",
       "Marginal structural model (MSM)                 0.500756        0.501919"
      ]
     },
     "metadata": {},
     "output_type": "display_data"
    }
   ],
   "source": [
    "summarize_model(generate_simple_logistic_model_data(), 'Maximal entropy model', 'No interactions, 1:1 odds for L, A, and Y')"
   ]
  },
  {
   "cell_type": "code",
   "execution_count": 257,
   "id": "a0eaae94-2043-45fd-a74b-1e4820f3f4b5",
   "metadata": {},
   "outputs": [
    {
     "data": {
      "text/markdown": [
       "### Simple randomized protective intervention"
      ],
      "text/plain": [
       "<IPython.core.display.Markdown object>"
      ]
     },
     "metadata": {},
     "output_type": "display_data"
    },
    {
     "data": {
      "text/markdown": [
       "Assumes no effect from covariate"
      ],
      "text/plain": [
       "<IPython.core.display.Markdown object>"
      ]
     },
     "metadata": {},
     "output_type": "display_data"
    },
    {
     "data": {
      "text/markdown": [
       "#### Sample data"
      ],
      "text/plain": [
       "<IPython.core.display.Markdown object>"
      ]
     },
     "metadata": {},
     "output_type": "display_data"
    },
    {
     "data": {
      "text/html": [
       "<div>\n",
       "<style scoped>\n",
       "    .dataframe tbody tr th:only-of-type {\n",
       "        vertical-align: middle;\n",
       "    }\n",
       "\n",
       "    .dataframe tbody tr th {\n",
       "        vertical-align: top;\n",
       "    }\n",
       "\n",
       "    .dataframe thead th {\n",
       "        text-align: right;\n",
       "    }\n",
       "</style>\n",
       "<table border=\"1\" class=\"dataframe\">\n",
       "  <thead>\n",
       "    <tr style=\"text-align: right;\">\n",
       "      <th></th>\n",
       "      <th>L0</th>\n",
       "      <th>A</th>\n",
       "      <th>Y</th>\n",
       "    </tr>\n",
       "  </thead>\n",
       "  <tbody>\n",
       "    <tr>\n",
       "      <th>0</th>\n",
       "      <td>True</td>\n",
       "      <td>True</td>\n",
       "      <td>1</td>\n",
       "    </tr>\n",
       "    <tr>\n",
       "      <th>1</th>\n",
       "      <td>False</td>\n",
       "      <td>False</td>\n",
       "      <td>1</td>\n",
       "    </tr>\n",
       "    <tr>\n",
       "      <th>2</th>\n",
       "      <td>False</td>\n",
       "      <td>False</td>\n",
       "      <td>1</td>\n",
       "    </tr>\n",
       "    <tr>\n",
       "      <th>3</th>\n",
       "      <td>True</td>\n",
       "      <td>True</td>\n",
       "      <td>1</td>\n",
       "    </tr>\n",
       "    <tr>\n",
       "      <th>4</th>\n",
       "      <td>False</td>\n",
       "      <td>True</td>\n",
       "      <td>0</td>\n",
       "    </tr>\n",
       "    <tr>\n",
       "      <th>5</th>\n",
       "      <td>True</td>\n",
       "      <td>False</td>\n",
       "      <td>1</td>\n",
       "    </tr>\n",
       "    <tr>\n",
       "      <th>6</th>\n",
       "      <td>False</td>\n",
       "      <td>True</td>\n",
       "      <td>0</td>\n",
       "    </tr>\n",
       "    <tr>\n",
       "      <th>7</th>\n",
       "      <td>False</td>\n",
       "      <td>False</td>\n",
       "      <td>1</td>\n",
       "    </tr>\n",
       "    <tr>\n",
       "      <th>8</th>\n",
       "      <td>True</td>\n",
       "      <td>True</td>\n",
       "      <td>0</td>\n",
       "    </tr>\n",
       "    <tr>\n",
       "      <th>9</th>\n",
       "      <td>False</td>\n",
       "      <td>True</td>\n",
       "      <td>0</td>\n",
       "    </tr>\n",
       "    <tr>\n",
       "      <th>10</th>\n",
       "      <td>True</td>\n",
       "      <td>False</td>\n",
       "      <td>1</td>\n",
       "    </tr>\n",
       "    <tr>\n",
       "      <th>11</th>\n",
       "      <td>True</td>\n",
       "      <td>False</td>\n",
       "      <td>0</td>\n",
       "    </tr>\n",
       "  </tbody>\n",
       "</table>\n",
       "</div>"
      ],
      "text/plain": [
       "       L0      A  Y\n",
       "0    True   True  1\n",
       "1   False  False  1\n",
       "2   False  False  1\n",
       "3    True   True  1\n",
       "4   False   True  0\n",
       "5    True  False  1\n",
       "6   False   True  0\n",
       "7   False  False  1\n",
       "8    True   True  0\n",
       "9   False   True  0\n",
       "10   True  False  1\n",
       "11   True  False  0"
      ]
     },
     "metadata": {},
     "output_type": "display_data"
    },
    {
     "data": {
      "text/markdown": [
       "#### Summary statistics"
      ],
      "text/plain": [
       "<IPython.core.display.Markdown object>"
      ]
     },
     "metadata": {},
     "output_type": "display_data"
    },
    {
     "data": {
      "text/html": [
       "<div>\n",
       "<style scoped>\n",
       "    .dataframe tbody tr th:only-of-type {\n",
       "        vertical-align: middle;\n",
       "    }\n",
       "\n",
       "    .dataframe tbody tr th {\n",
       "        vertical-align: top;\n",
       "    }\n",
       "\n",
       "    .dataframe thead th {\n",
       "        text-align: right;\n",
       "    }\n",
       "</style>\n",
       "<table border=\"1\" class=\"dataframe\">\n",
       "  <thead>\n",
       "    <tr style=\"text-align: right;\">\n",
       "      <th></th>\n",
       "      <th>statistic</th>\n",
       "    </tr>\n",
       "  </thead>\n",
       "  <tbody>\n",
       "    <tr>\n",
       "      <th>$\\bar L$</th>\n",
       "      <td>[0.499713]</td>\n",
       "    </tr>\n",
       "    <tr>\n",
       "      <th>$\\bar A$</th>\n",
       "      <td>0.499984</td>\n",
       "    </tr>\n",
       "    <tr>\n",
       "      <th>$\\bar Y$</th>\n",
       "      <td>0.383309</td>\n",
       "    </tr>\n",
       "    <tr>\n",
       "      <th>$\\bar Y^c_0$</th>\n",
       "      <td>0.499704</td>\n",
       "    </tr>\n",
       "    <tr>\n",
       "      <th>$\\bar Y^c_1$</th>\n",
       "      <td>0.268135</td>\n",
       "    </tr>\n",
       "  </tbody>\n",
       "</table>\n",
       "</div>"
      ],
      "text/plain": [
       "               statistic\n",
       "$\\bar L$      [0.499713]\n",
       "$\\bar A$        0.499984\n",
       "$\\bar Y$        0.383309\n",
       "$\\bar Y^c_0$    0.499704\n",
       "$\\bar Y^c_1$    0.268135"
      ]
     },
     "metadata": {},
     "output_type": "display_data"
    },
    {
     "data": {
      "text/markdown": [
       "#### Estimators"
      ],
      "text/plain": [
       "<IPython.core.display.Markdown object>"
      ]
     },
     "metadata": {},
     "output_type": "display_data"
    },
    {
     "data": {
      "text/html": [
       "<div>\n",
       "<style scoped>\n",
       "    .dataframe tbody tr th:only-of-type {\n",
       "        vertical-align: middle;\n",
       "    }\n",
       "\n",
       "    .dataframe tbody tr th {\n",
       "        vertical-align: top;\n",
       "    }\n",
       "\n",
       "    .dataframe thead th {\n",
       "        text-align: right;\n",
       "    }\n",
       "</style>\n",
       "<table border=\"1\" class=\"dataframe\">\n",
       "  <thead>\n",
       "    <tr style=\"text-align: right;\">\n",
       "      <th></th>\n",
       "      <th>$\\hat Y^{a=0}$</th>\n",
       "      <th>$\\hat Y^{a=1}$</th>\n",
       "    </tr>\n",
       "  </thead>\n",
       "  <tbody>\n",
       "    <tr>\n",
       "      <th>Underlying counterfactual data</th>\n",
       "      <td>0.499704</td>\n",
       "      <td>0.268135</td>\n",
       "    </tr>\n",
       "    <tr>\n",
       "      <th>Standardized means</th>\n",
       "      <td>0.499056</td>\n",
       "      <td>0.267554</td>\n",
       "    </tr>\n",
       "    <tr>\n",
       "      <th>Outcome regression</th>\n",
       "      <td>0.499056</td>\n",
       "      <td>0.267554</td>\n",
       "    </tr>\n",
       "    <tr>\n",
       "      <th>Inverse probability weighted means (IPW)</th>\n",
       "      <td>0.499056</td>\n",
       "      <td>0.267554</td>\n",
       "    </tr>\n",
       "    <tr>\n",
       "      <th>Doubly robust means</th>\n",
       "      <td>0.499056</td>\n",
       "      <td>0.267554</td>\n",
       "    </tr>\n",
       "    <tr>\n",
       "      <th>Marginal structural model (MSM)</th>\n",
       "      <td>0.499056</td>\n",
       "      <td>0.267555</td>\n",
       "    </tr>\n",
       "  </tbody>\n",
       "</table>\n",
       "</div>"
      ],
      "text/plain": [
       "                                          $\\hat Y^{a=0}$  $\\hat Y^{a=1}$\n",
       "Underlying counterfactual data                  0.499704        0.268135\n",
       "Standardized means                              0.499056        0.267554\n",
       "Outcome regression                              0.499056        0.267554\n",
       "Inverse probability weighted means (IPW)        0.499056        0.267554\n",
       "Doubly robust means                             0.499056        0.267554\n",
       "Marginal structural model (MSM)                 0.499056        0.267555"
      ]
     },
     "metadata": {},
     "output_type": "display_data"
    }
   ],
   "source": [
    "summarize_model(generate_simple_logistic_model_data(beta_Y_A=-1),\n",
    "                'Simple randomized protective intervention', 'Assumes no effect from covariate')"
   ]
  },
  {
   "cell_type": "code",
   "execution_count": 258,
   "id": "f3542547-a0c5-4557-a86f-8ac509522e23",
   "metadata": {},
   "outputs": [
    {
     "data": {
      "text/markdown": [
       "### Randomized, covariate is risk, intervention is protective"
      ],
      "text/plain": [
       "<IPython.core.display.Markdown object>"
      ]
     },
     "metadata": {},
     "output_type": "display_data"
    },
    {
     "data": {
      "text/markdown": [
       "1:1 odds of covariate"
      ],
      "text/plain": [
       "<IPython.core.display.Markdown object>"
      ]
     },
     "metadata": {},
     "output_type": "display_data"
    },
    {
     "data": {
      "text/markdown": [
       "#### Sample data"
      ],
      "text/plain": [
       "<IPython.core.display.Markdown object>"
      ]
     },
     "metadata": {},
     "output_type": "display_data"
    },
    {
     "data": {
      "text/html": [
       "<div>\n",
       "<style scoped>\n",
       "    .dataframe tbody tr th:only-of-type {\n",
       "        vertical-align: middle;\n",
       "    }\n",
       "\n",
       "    .dataframe tbody tr th {\n",
       "        vertical-align: top;\n",
       "    }\n",
       "\n",
       "    .dataframe thead th {\n",
       "        text-align: right;\n",
       "    }\n",
       "</style>\n",
       "<table border=\"1\" class=\"dataframe\">\n",
       "  <thead>\n",
       "    <tr style=\"text-align: right;\">\n",
       "      <th></th>\n",
       "      <th>L0</th>\n",
       "      <th>A</th>\n",
       "      <th>Y</th>\n",
       "    </tr>\n",
       "  </thead>\n",
       "  <tbody>\n",
       "    <tr>\n",
       "      <th>0</th>\n",
       "      <td>False</td>\n",
       "      <td>True</td>\n",
       "      <td>0</td>\n",
       "    </tr>\n",
       "    <tr>\n",
       "      <th>1</th>\n",
       "      <td>False</td>\n",
       "      <td>False</td>\n",
       "      <td>1</td>\n",
       "    </tr>\n",
       "    <tr>\n",
       "      <th>2</th>\n",
       "      <td>True</td>\n",
       "      <td>True</td>\n",
       "      <td>0</td>\n",
       "    </tr>\n",
       "    <tr>\n",
       "      <th>3</th>\n",
       "      <td>True</td>\n",
       "      <td>True</td>\n",
       "      <td>0</td>\n",
       "    </tr>\n",
       "    <tr>\n",
       "      <th>4</th>\n",
       "      <td>False</td>\n",
       "      <td>False</td>\n",
       "      <td>1</td>\n",
       "    </tr>\n",
       "    <tr>\n",
       "      <th>5</th>\n",
       "      <td>True</td>\n",
       "      <td>False</td>\n",
       "      <td>1</td>\n",
       "    </tr>\n",
       "    <tr>\n",
       "      <th>6</th>\n",
       "      <td>True</td>\n",
       "      <td>True</td>\n",
       "      <td>0</td>\n",
       "    </tr>\n",
       "    <tr>\n",
       "      <th>7</th>\n",
       "      <td>True</td>\n",
       "      <td>True</td>\n",
       "      <td>1</td>\n",
       "    </tr>\n",
       "    <tr>\n",
       "      <th>8</th>\n",
       "      <td>True</td>\n",
       "      <td>True</td>\n",
       "      <td>0</td>\n",
       "    </tr>\n",
       "    <tr>\n",
       "      <th>9</th>\n",
       "      <td>False</td>\n",
       "      <td>True</td>\n",
       "      <td>0</td>\n",
       "    </tr>\n",
       "    <tr>\n",
       "      <th>10</th>\n",
       "      <td>False</td>\n",
       "      <td>True</td>\n",
       "      <td>1</td>\n",
       "    </tr>\n",
       "    <tr>\n",
       "      <th>11</th>\n",
       "      <td>False</td>\n",
       "      <td>False</td>\n",
       "      <td>1</td>\n",
       "    </tr>\n",
       "  </tbody>\n",
       "</table>\n",
       "</div>"
      ],
      "text/plain": [
       "       L0      A  Y\n",
       "0   False   True  0\n",
       "1   False  False  1\n",
       "2    True   True  0\n",
       "3    True   True  0\n",
       "4   False  False  1\n",
       "5    True  False  1\n",
       "6    True   True  0\n",
       "7    True   True  1\n",
       "8    True   True  0\n",
       "9   False   True  0\n",
       "10  False   True  1\n",
       "11  False  False  1"
      ]
     },
     "metadata": {},
     "output_type": "display_data"
    },
    {
     "data": {
      "text/markdown": [
       "#### Summary statistics"
      ],
      "text/plain": [
       "<IPython.core.display.Markdown object>"
      ]
     },
     "metadata": {},
     "output_type": "display_data"
    },
    {
     "data": {
      "text/html": [
       "<div>\n",
       "<style scoped>\n",
       "    .dataframe tbody tr th:only-of-type {\n",
       "        vertical-align: middle;\n",
       "    }\n",
       "\n",
       "    .dataframe tbody tr th {\n",
       "        vertical-align: top;\n",
       "    }\n",
       "\n",
       "    .dataframe thead th {\n",
       "        text-align: right;\n",
       "    }\n",
       "</style>\n",
       "<table border=\"1\" class=\"dataframe\">\n",
       "  <thead>\n",
       "    <tr style=\"text-align: right;\">\n",
       "      <th></th>\n",
       "      <th>statistic</th>\n",
       "    </tr>\n",
       "  </thead>\n",
       "  <tbody>\n",
       "    <tr>\n",
       "      <th>$\\bar L$</th>\n",
       "      <td>[0.499671]</td>\n",
       "    </tr>\n",
       "    <tr>\n",
       "      <th>$\\bar A$</th>\n",
       "      <td>0.499374</td>\n",
       "    </tr>\n",
       "    <tr>\n",
       "      <th>$\\bar Y$</th>\n",
       "      <td>0.500402</td>\n",
       "    </tr>\n",
       "    <tr>\n",
       "      <th>$\\bar Y^c_0$</th>\n",
       "      <td>0.615631</td>\n",
       "    </tr>\n",
       "    <tr>\n",
       "      <th>$\\bar Y^c_1$</th>\n",
       "      <td>0.384663</td>\n",
       "    </tr>\n",
       "  </tbody>\n",
       "</table>\n",
       "</div>"
      ],
      "text/plain": [
       "               statistic\n",
       "$\\bar L$      [0.499671]\n",
       "$\\bar A$        0.499374\n",
       "$\\bar Y$        0.500402\n",
       "$\\bar Y^c_0$    0.615631\n",
       "$\\bar Y^c_1$    0.384663"
      ]
     },
     "metadata": {},
     "output_type": "display_data"
    },
    {
     "data": {
      "text/markdown": [
       "#### Estimators"
      ],
      "text/plain": [
       "<IPython.core.display.Markdown object>"
      ]
     },
     "metadata": {},
     "output_type": "display_data"
    },
    {
     "data": {
      "text/html": [
       "<div>\n",
       "<style scoped>\n",
       "    .dataframe tbody tr th:only-of-type {\n",
       "        vertical-align: middle;\n",
       "    }\n",
       "\n",
       "    .dataframe tbody tr th {\n",
       "        vertical-align: top;\n",
       "    }\n",
       "\n",
       "    .dataframe thead th {\n",
       "        text-align: right;\n",
       "    }\n",
       "</style>\n",
       "<table border=\"1\" class=\"dataframe\">\n",
       "  <thead>\n",
       "    <tr style=\"text-align: right;\">\n",
       "      <th></th>\n",
       "      <th>$\\hat Y^{a=0}$</th>\n",
       "      <th>$\\hat Y^{a=1}$</th>\n",
       "    </tr>\n",
       "  </thead>\n",
       "  <tbody>\n",
       "    <tr>\n",
       "      <th>Underlying counterfactual data</th>\n",
       "      <td>0.615631</td>\n",
       "      <td>0.384663</td>\n",
       "    </tr>\n",
       "    <tr>\n",
       "      <th>Standardized means</th>\n",
       "      <td>0.616096</td>\n",
       "      <td>0.384418</td>\n",
       "    </tr>\n",
       "    <tr>\n",
       "      <th>Outcome regression</th>\n",
       "      <td>0.616096</td>\n",
       "      <td>0.384418</td>\n",
       "    </tr>\n",
       "    <tr>\n",
       "      <th>Inverse probability weighted means (IPW)</th>\n",
       "      <td>0.616096</td>\n",
       "      <td>0.384418</td>\n",
       "    </tr>\n",
       "    <tr>\n",
       "      <th>Doubly robust means</th>\n",
       "      <td>0.616096</td>\n",
       "      <td>0.384418</td>\n",
       "    </tr>\n",
       "    <tr>\n",
       "      <th>Marginal structural model (MSM)</th>\n",
       "      <td>0.616095</td>\n",
       "      <td>0.384419</td>\n",
       "    </tr>\n",
       "  </tbody>\n",
       "</table>\n",
       "</div>"
      ],
      "text/plain": [
       "                                          $\\hat Y^{a=0}$  $\\hat Y^{a=1}$\n",
       "Underlying counterfactual data                  0.615631        0.384663\n",
       "Standardized means                              0.616096        0.384418\n",
       "Outcome regression                              0.616096        0.384418\n",
       "Inverse probability weighted means (IPW)        0.616096        0.384418\n",
       "Doubly robust means                             0.616096        0.384418\n",
       "Marginal structural model (MSM)                 0.616095        0.384419"
      ]
     },
     "metadata": {},
     "output_type": "display_data"
    }
   ],
   "source": [
    "summarize_model(generate_simple_logistic_model_data(beta_Y_A=-1, beta_Y_L=1),\n",
    "                'Randomized, covariate is risk, intervention is protective',\n",
    "                '1:1 odds of covariate')"
   ]
  },
  {
   "cell_type": "markdown",
   "id": "3cd2cb93-d25d-4d3e-82f2-eedd3360c3d3",
   "metadata": {},
   "source": [
    "Note that $Y_\\mathrm{mean}$ in the first row corresponds to $P(Y | \\mathrm{do}(A=\\mathrm{False}))$ and the second row corresponds to $P(Y | \\mathrm{do}(A=\\mathrm{True}))$."
   ]
  },
  {
   "cell_type": "markdown",
   "id": "2a17eed5-5507-4199-898e-6341333ab31d",
   "metadata": {},
   "source": [
    "The first row is $\\mathrm{sigmoid}(0\\cdot \\beta_A + \\ldots)$\n",
    "\n",
    "The second row is $\\mathrm{sigmoid}(1 \\cdot \\beta_A + \\ldots)$\n",
    "\n",
    "We can recover $\\beta_A$ by inverting the sigmoid function for each and taking the difference between them:"
   ]
  },
  {
   "cell_type": "code",
   "execution_count": 259,
   "id": "5ead50d7-553e-4f2f-acff-1f9f50d2d42f",
   "metadata": {},
   "outputs": [
    {
     "data": {
      "text/plain": [
       "-0.9495606173935895"
      ]
     },
     "execution_count": 259,
     "metadata": {},
     "output_type": "execute_result"
    }
   ],
   "source": [
    "sp.special.logit(0.383850)-sp.special.logit(0.616879)"
   ]
  },
  {
   "cell_type": "code",
   "execution_count": 260,
   "id": "5f8c93a8-f5c4-41f0-8cd3-1567e408ada9",
   "metadata": {},
   "outputs": [
    {
     "data": {
      "text/markdown": [
       "### Randomized, covariate is risk, rare intervention is protective"
      ],
      "text/plain": [
       "<IPython.core.display.Markdown object>"
      ]
     },
     "metadata": {},
     "output_type": "display_data"
    },
    {
     "data": {
      "text/markdown": [
       "1:1 odds of covariate"
      ],
      "text/plain": [
       "<IPython.core.display.Markdown object>"
      ]
     },
     "metadata": {},
     "output_type": "display_data"
    },
    {
     "data": {
      "text/markdown": [
       "#### Sample data"
      ],
      "text/plain": [
       "<IPython.core.display.Markdown object>"
      ]
     },
     "metadata": {},
     "output_type": "display_data"
    },
    {
     "data": {
      "text/html": [
       "<div>\n",
       "<style scoped>\n",
       "    .dataframe tbody tr th:only-of-type {\n",
       "        vertical-align: middle;\n",
       "    }\n",
       "\n",
       "    .dataframe tbody tr th {\n",
       "        vertical-align: top;\n",
       "    }\n",
       "\n",
       "    .dataframe thead th {\n",
       "        text-align: right;\n",
       "    }\n",
       "</style>\n",
       "<table border=\"1\" class=\"dataframe\">\n",
       "  <thead>\n",
       "    <tr style=\"text-align: right;\">\n",
       "      <th></th>\n",
       "      <th>L0</th>\n",
       "      <th>A</th>\n",
       "      <th>Y</th>\n",
       "    </tr>\n",
       "  </thead>\n",
       "  <tbody>\n",
       "    <tr>\n",
       "      <th>0</th>\n",
       "      <td>False</td>\n",
       "      <td>False</td>\n",
       "      <td>1</td>\n",
       "    </tr>\n",
       "    <tr>\n",
       "      <th>1</th>\n",
       "      <td>True</td>\n",
       "      <td>False</td>\n",
       "      <td>1</td>\n",
       "    </tr>\n",
       "    <tr>\n",
       "      <th>2</th>\n",
       "      <td>True</td>\n",
       "      <td>False</td>\n",
       "      <td>1</td>\n",
       "    </tr>\n",
       "    <tr>\n",
       "      <th>3</th>\n",
       "      <td>False</td>\n",
       "      <td>True</td>\n",
       "      <td>0</td>\n",
       "    </tr>\n",
       "    <tr>\n",
       "      <th>4</th>\n",
       "      <td>False</td>\n",
       "      <td>False</td>\n",
       "      <td>1</td>\n",
       "    </tr>\n",
       "    <tr>\n",
       "      <th>5</th>\n",
       "      <td>True</td>\n",
       "      <td>False</td>\n",
       "      <td>1</td>\n",
       "    </tr>\n",
       "    <tr>\n",
       "      <th>6</th>\n",
       "      <td>False</td>\n",
       "      <td>False</td>\n",
       "      <td>0</td>\n",
       "    </tr>\n",
       "    <tr>\n",
       "      <th>7</th>\n",
       "      <td>False</td>\n",
       "      <td>False</td>\n",
       "      <td>1</td>\n",
       "    </tr>\n",
       "    <tr>\n",
       "      <th>8</th>\n",
       "      <td>True</td>\n",
       "      <td>False</td>\n",
       "      <td>1</td>\n",
       "    </tr>\n",
       "    <tr>\n",
       "      <th>9</th>\n",
       "      <td>False</td>\n",
       "      <td>False</td>\n",
       "      <td>1</td>\n",
       "    </tr>\n",
       "    <tr>\n",
       "      <th>10</th>\n",
       "      <td>True</td>\n",
       "      <td>False</td>\n",
       "      <td>1</td>\n",
       "    </tr>\n",
       "    <tr>\n",
       "      <th>11</th>\n",
       "      <td>False</td>\n",
       "      <td>False</td>\n",
       "      <td>1</td>\n",
       "    </tr>\n",
       "  </tbody>\n",
       "</table>\n",
       "</div>"
      ],
      "text/plain": [
       "       L0      A  Y\n",
       "0   False  False  1\n",
       "1    True  False  1\n",
       "2    True  False  1\n",
       "3   False   True  0\n",
       "4   False  False  1\n",
       "5    True  False  1\n",
       "6   False  False  0\n",
       "7   False  False  1\n",
       "8    True  False  1\n",
       "9   False  False  1\n",
       "10   True  False  1\n",
       "11  False  False  1"
      ]
     },
     "metadata": {},
     "output_type": "display_data"
    },
    {
     "data": {
      "text/markdown": [
       "#### Summary statistics"
      ],
      "text/plain": [
       "<IPython.core.display.Markdown object>"
      ]
     },
     "metadata": {},
     "output_type": "display_data"
    },
    {
     "data": {
      "text/html": [
       "<div>\n",
       "<style scoped>\n",
       "    .dataframe tbody tr th:only-of-type {\n",
       "        vertical-align: middle;\n",
       "    }\n",
       "\n",
       "    .dataframe tbody tr th {\n",
       "        vertical-align: top;\n",
       "    }\n",
       "\n",
       "    .dataframe thead th {\n",
       "        text-align: right;\n",
       "    }\n",
       "</style>\n",
       "<table border=\"1\" class=\"dataframe\">\n",
       "  <thead>\n",
       "    <tr style=\"text-align: right;\">\n",
       "      <th></th>\n",
       "      <th>statistic</th>\n",
       "    </tr>\n",
       "  </thead>\n",
       "  <tbody>\n",
       "    <tr>\n",
       "      <th>$\\bar L$</th>\n",
       "      <td>[0.499032]</td>\n",
       "    </tr>\n",
       "    <tr>\n",
       "      <th>$\\bar A$</th>\n",
       "      <td>0.11906</td>\n",
       "    </tr>\n",
       "    <tr>\n",
       "      <th>$\\bar Y$</th>\n",
       "      <td>0.587879</td>\n",
       "    </tr>\n",
       "    <tr>\n",
       "      <th>$\\bar Y^c_0$</th>\n",
       "      <td>0.615191</td>\n",
       "    </tr>\n",
       "    <tr>\n",
       "      <th>$\\bar Y^c_1$</th>\n",
       "      <td>0.383876</td>\n",
       "    </tr>\n",
       "  </tbody>\n",
       "</table>\n",
       "</div>"
      ],
      "text/plain": [
       "               statistic\n",
       "$\\bar L$      [0.499032]\n",
       "$\\bar A$         0.11906\n",
       "$\\bar Y$        0.587879\n",
       "$\\bar Y^c_0$    0.615191\n",
       "$\\bar Y^c_1$    0.383876"
      ]
     },
     "metadata": {},
     "output_type": "display_data"
    },
    {
     "data": {
      "text/markdown": [
       "#### Estimators"
      ],
      "text/plain": [
       "<IPython.core.display.Markdown object>"
      ]
     },
     "metadata": {},
     "output_type": "display_data"
    },
    {
     "data": {
      "text/html": [
       "<div>\n",
       "<style scoped>\n",
       "    .dataframe tbody tr th:only-of-type {\n",
       "        vertical-align: middle;\n",
       "    }\n",
       "\n",
       "    .dataframe tbody tr th {\n",
       "        vertical-align: top;\n",
       "    }\n",
       "\n",
       "    .dataframe thead th {\n",
       "        text-align: right;\n",
       "    }\n",
       "</style>\n",
       "<table border=\"1\" class=\"dataframe\">\n",
       "  <thead>\n",
       "    <tr style=\"text-align: right;\">\n",
       "      <th></th>\n",
       "      <th>$\\hat Y^{a=0}$</th>\n",
       "      <th>$\\hat Y^{a=1}$</th>\n",
       "    </tr>\n",
       "  </thead>\n",
       "  <tbody>\n",
       "    <tr>\n",
       "      <th>Underlying counterfactual data</th>\n",
       "      <td>0.615191</td>\n",
       "      <td>0.383876</td>\n",
       "    </tr>\n",
       "    <tr>\n",
       "      <th>Standardized means</th>\n",
       "      <td>0.615489</td>\n",
       "      <td>0.383589</td>\n",
       "    </tr>\n",
       "    <tr>\n",
       "      <th>Outcome regression</th>\n",
       "      <td>0.615489</td>\n",
       "      <td>0.383589</td>\n",
       "    </tr>\n",
       "    <tr>\n",
       "      <th>Inverse probability weighted means (IPW)</th>\n",
       "      <td>0.615489</td>\n",
       "      <td>0.383589</td>\n",
       "    </tr>\n",
       "    <tr>\n",
       "      <th>Doubly robust means</th>\n",
       "      <td>0.615489</td>\n",
       "      <td>0.383589</td>\n",
       "    </tr>\n",
       "    <tr>\n",
       "      <th>Marginal structural model (MSM)</th>\n",
       "      <td>0.615488</td>\n",
       "      <td>0.383590</td>\n",
       "    </tr>\n",
       "  </tbody>\n",
       "</table>\n",
       "</div>"
      ],
      "text/plain": [
       "                                          $\\hat Y^{a=0}$  $\\hat Y^{a=1}$\n",
       "Underlying counterfactual data                  0.615191        0.383876\n",
       "Standardized means                              0.615489        0.383589\n",
       "Outcome regression                              0.615489        0.383589\n",
       "Inverse probability weighted means (IPW)        0.615489        0.383589\n",
       "Doubly robust means                             0.615489        0.383589\n",
       "Marginal structural model (MSM)                 0.615488        0.383590"
      ]
     },
     "metadata": {},
     "output_type": "display_data"
    }
   ],
   "source": [
    "summarize_model(generate_simple_logistic_model_data(beta_A_0=-2, beta_Y_A=-1, beta_Y_L=1),\n",
    "                'Randomized, covariate is risk, rare intervention is protective',\n",
    "                '1:1 odds of covariate')"
   ]
  },
  {
   "cell_type": "code",
   "execution_count": 261,
   "id": "a612adf2-738c-4d2c-92f0-f1f8298468f7",
   "metadata": {},
   "outputs": [
    {
     "data": {
      "text/markdown": [
       "### Randomized, common covariate is risk, rare intervention is protective"
      ],
      "text/plain": [
       "<IPython.core.display.Markdown object>"
      ]
     },
     "metadata": {},
     "output_type": "display_data"
    },
    {
     "data": {
      "text/markdown": [
       "1:1 odds of covariate"
      ],
      "text/plain": [
       "<IPython.core.display.Markdown object>"
      ]
     },
     "metadata": {},
     "output_type": "display_data"
    },
    {
     "data": {
      "text/markdown": [
       "#### Sample data"
      ],
      "text/plain": [
       "<IPython.core.display.Markdown object>"
      ]
     },
     "metadata": {},
     "output_type": "display_data"
    },
    {
     "data": {
      "text/html": [
       "<div>\n",
       "<style scoped>\n",
       "    .dataframe tbody tr th:only-of-type {\n",
       "        vertical-align: middle;\n",
       "    }\n",
       "\n",
       "    .dataframe tbody tr th {\n",
       "        vertical-align: top;\n",
       "    }\n",
       "\n",
       "    .dataframe thead th {\n",
       "        text-align: right;\n",
       "    }\n",
       "</style>\n",
       "<table border=\"1\" class=\"dataframe\">\n",
       "  <thead>\n",
       "    <tr style=\"text-align: right;\">\n",
       "      <th></th>\n",
       "      <th>L0</th>\n",
       "      <th>A</th>\n",
       "      <th>Y</th>\n",
       "    </tr>\n",
       "  </thead>\n",
       "  <tbody>\n",
       "    <tr>\n",
       "      <th>0</th>\n",
       "      <td>True</td>\n",
       "      <td>False</td>\n",
       "      <td>1</td>\n",
       "    </tr>\n",
       "    <tr>\n",
       "      <th>1</th>\n",
       "      <td>False</td>\n",
       "      <td>False</td>\n",
       "      <td>1</td>\n",
       "    </tr>\n",
       "    <tr>\n",
       "      <th>2</th>\n",
       "      <td>True</td>\n",
       "      <td>False</td>\n",
       "      <td>1</td>\n",
       "    </tr>\n",
       "    <tr>\n",
       "      <th>3</th>\n",
       "      <td>False</td>\n",
       "      <td>False</td>\n",
       "      <td>1</td>\n",
       "    </tr>\n",
       "    <tr>\n",
       "      <th>4</th>\n",
       "      <td>True</td>\n",
       "      <td>False</td>\n",
       "      <td>1</td>\n",
       "    </tr>\n",
       "    <tr>\n",
       "      <th>5</th>\n",
       "      <td>True</td>\n",
       "      <td>False</td>\n",
       "      <td>1</td>\n",
       "    </tr>\n",
       "    <tr>\n",
       "      <th>6</th>\n",
       "      <td>False</td>\n",
       "      <td>False</td>\n",
       "      <td>0</td>\n",
       "    </tr>\n",
       "    <tr>\n",
       "      <th>7</th>\n",
       "      <td>True</td>\n",
       "      <td>False</td>\n",
       "      <td>1</td>\n",
       "    </tr>\n",
       "    <tr>\n",
       "      <th>8</th>\n",
       "      <td>True</td>\n",
       "      <td>False</td>\n",
       "      <td>0</td>\n",
       "    </tr>\n",
       "    <tr>\n",
       "      <th>9</th>\n",
       "      <td>True</td>\n",
       "      <td>False</td>\n",
       "      <td>0</td>\n",
       "    </tr>\n",
       "    <tr>\n",
       "      <th>10</th>\n",
       "      <td>False</td>\n",
       "      <td>False</td>\n",
       "      <td>0</td>\n",
       "    </tr>\n",
       "    <tr>\n",
       "      <th>11</th>\n",
       "      <td>True</td>\n",
       "      <td>False</td>\n",
       "      <td>1</td>\n",
       "    </tr>\n",
       "  </tbody>\n",
       "</table>\n",
       "</div>"
      ],
      "text/plain": [
       "       L0      A  Y\n",
       "0    True  False  1\n",
       "1   False  False  1\n",
       "2    True  False  1\n",
       "3   False  False  1\n",
       "4    True  False  1\n",
       "5    True  False  1\n",
       "6   False  False  0\n",
       "7    True  False  1\n",
       "8    True  False  0\n",
       "9    True  False  0\n",
       "10  False  False  0\n",
       "11   True  False  1"
      ]
     },
     "metadata": {},
     "output_type": "display_data"
    },
    {
     "data": {
      "text/markdown": [
       "#### Summary statistics"
      ],
      "text/plain": [
       "<IPython.core.display.Markdown object>"
      ]
     },
     "metadata": {},
     "output_type": "display_data"
    },
    {
     "data": {
      "text/html": [
       "<div>\n",
       "<style scoped>\n",
       "    .dataframe tbody tr th:only-of-type {\n",
       "        vertical-align: middle;\n",
       "    }\n",
       "\n",
       "    .dataframe tbody tr th {\n",
       "        vertical-align: top;\n",
       "    }\n",
       "\n",
       "    .dataframe thead th {\n",
       "        text-align: right;\n",
       "    }\n",
       "</style>\n",
       "<table border=\"1\" class=\"dataframe\">\n",
       "  <thead>\n",
       "    <tr style=\"text-align: right;\">\n",
       "      <th></th>\n",
       "      <th>statistic</th>\n",
       "    </tr>\n",
       "  </thead>\n",
       "  <tbody>\n",
       "    <tr>\n",
       "      <th>$\\bar L$</th>\n",
       "      <td>[0.75035]</td>\n",
       "    </tr>\n",
       "    <tr>\n",
       "      <th>$\\bar A$</th>\n",
       "      <td>0.118688</td>\n",
       "    </tr>\n",
       "    <tr>\n",
       "      <th>$\\bar Y$</th>\n",
       "      <td>0.645684</td>\n",
       "    </tr>\n",
       "    <tr>\n",
       "      <th>$\\bar Y^c_0$</th>\n",
       "      <td>0.673376</td>\n",
       "    </tr>\n",
       "    <tr>\n",
       "      <th>$\\bar Y^c_1$</th>\n",
       "      <td>0.441312</td>\n",
       "    </tr>\n",
       "  </tbody>\n",
       "</table>\n",
       "</div>"
      ],
      "text/plain": [
       "              statistic\n",
       "$\\bar L$      [0.75035]\n",
       "$\\bar A$       0.118688\n",
       "$\\bar Y$       0.645684\n",
       "$\\bar Y^c_0$   0.673376\n",
       "$\\bar Y^c_1$   0.441312"
      ]
     },
     "metadata": {},
     "output_type": "display_data"
    },
    {
     "data": {
      "text/markdown": [
       "#### Estimators"
      ],
      "text/plain": [
       "<IPython.core.display.Markdown object>"
      ]
     },
     "metadata": {},
     "output_type": "display_data"
    },
    {
     "data": {
      "text/html": [
       "<div>\n",
       "<style scoped>\n",
       "    .dataframe tbody tr th:only-of-type {\n",
       "        vertical-align: middle;\n",
       "    }\n",
       "\n",
       "    .dataframe tbody tr th {\n",
       "        vertical-align: top;\n",
       "    }\n",
       "\n",
       "    .dataframe thead th {\n",
       "        text-align: right;\n",
       "    }\n",
       "</style>\n",
       "<table border=\"1\" class=\"dataframe\">\n",
       "  <thead>\n",
       "    <tr style=\"text-align: right;\">\n",
       "      <th></th>\n",
       "      <th>$\\hat Y^{a=0}$</th>\n",
       "      <th>$\\hat Y^{a=1}$</th>\n",
       "    </tr>\n",
       "  </thead>\n",
       "  <tbody>\n",
       "    <tr>\n",
       "      <th>Underlying counterfactual data</th>\n",
       "      <td>0.673376</td>\n",
       "      <td>0.441312</td>\n",
       "    </tr>\n",
       "    <tr>\n",
       "      <th>Standardized means</th>\n",
       "      <td>0.673505</td>\n",
       "      <td>0.439101</td>\n",
       "    </tr>\n",
       "    <tr>\n",
       "      <th>Outcome regression</th>\n",
       "      <td>0.673505</td>\n",
       "      <td>0.439101</td>\n",
       "    </tr>\n",
       "    <tr>\n",
       "      <th>Inverse probability weighted means (IPW)</th>\n",
       "      <td>0.673505</td>\n",
       "      <td>0.439101</td>\n",
       "    </tr>\n",
       "    <tr>\n",
       "      <th>Doubly robust means</th>\n",
       "      <td>0.673505</td>\n",
       "      <td>0.439101</td>\n",
       "    </tr>\n",
       "    <tr>\n",
       "      <th>Marginal structural model (MSM)</th>\n",
       "      <td>0.673504</td>\n",
       "      <td>0.439102</td>\n",
       "    </tr>\n",
       "  </tbody>\n",
       "</table>\n",
       "</div>"
      ],
      "text/plain": [
       "                                          $\\hat Y^{a=0}$  $\\hat Y^{a=1}$\n",
       "Underlying counterfactual data                  0.673376        0.441312\n",
       "Standardized means                              0.673505        0.439101\n",
       "Outcome regression                              0.673505        0.439101\n",
       "Inverse probability weighted means (IPW)        0.673505        0.439101\n",
       "Doubly robust means                             0.673505        0.439101\n",
       "Marginal structural model (MSM)                 0.673504        0.439102"
      ]
     },
     "metadata": {},
     "output_type": "display_data"
    }
   ],
   "source": [
    "summarize_model(generate_simple_logistic_model_data(P_L=0.75, beta_A_0=-2, beta_Y_A=-1, beta_Y_L=1),\n",
    "                'Randomized, common covariate is risk, rare intervention is protective',\n",
    "                '1:1 odds of covariate')"
   ]
  },
  {
   "cell_type": "code",
   "execution_count": 262,
   "id": "c06ae9eb-8160-419c-9d04-3a8588d375cf",
   "metadata": {
    "tags": []
   },
   "outputs": [
    {
     "data": {
      "text/markdown": [
       "### Common covariate is risk for disease and intervention, intervention is protective"
      ],
      "text/plain": [
       "<IPython.core.display.Markdown object>"
      ]
     },
     "metadata": {},
     "output_type": "display_data"
    },
    {
     "data": {
      "text/markdown": [],
      "text/plain": [
       "<IPython.core.display.Markdown object>"
      ]
     },
     "metadata": {},
     "output_type": "display_data"
    },
    {
     "data": {
      "text/markdown": [
       "#### Sample data"
      ],
      "text/plain": [
       "<IPython.core.display.Markdown object>"
      ]
     },
     "metadata": {},
     "output_type": "display_data"
    },
    {
     "data": {
      "text/html": [
       "<div>\n",
       "<style scoped>\n",
       "    .dataframe tbody tr th:only-of-type {\n",
       "        vertical-align: middle;\n",
       "    }\n",
       "\n",
       "    .dataframe tbody tr th {\n",
       "        vertical-align: top;\n",
       "    }\n",
       "\n",
       "    .dataframe thead th {\n",
       "        text-align: right;\n",
       "    }\n",
       "</style>\n",
       "<table border=\"1\" class=\"dataframe\">\n",
       "  <thead>\n",
       "    <tr style=\"text-align: right;\">\n",
       "      <th></th>\n",
       "      <th>L0</th>\n",
       "      <th>A</th>\n",
       "      <th>Y</th>\n",
       "    </tr>\n",
       "  </thead>\n",
       "  <tbody>\n",
       "    <tr>\n",
       "      <th>0</th>\n",
       "      <td>False</td>\n",
       "      <td>False</td>\n",
       "      <td>0</td>\n",
       "    </tr>\n",
       "    <tr>\n",
       "      <th>1</th>\n",
       "      <td>False</td>\n",
       "      <td>False</td>\n",
       "      <td>1</td>\n",
       "    </tr>\n",
       "    <tr>\n",
       "      <th>2</th>\n",
       "      <td>True</td>\n",
       "      <td>False</td>\n",
       "      <td>1</td>\n",
       "    </tr>\n",
       "    <tr>\n",
       "      <th>3</th>\n",
       "      <td>False</td>\n",
       "      <td>True</td>\n",
       "      <td>0</td>\n",
       "    </tr>\n",
       "    <tr>\n",
       "      <th>4</th>\n",
       "      <td>True</td>\n",
       "      <td>False</td>\n",
       "      <td>0</td>\n",
       "    </tr>\n",
       "    <tr>\n",
       "      <th>5</th>\n",
       "      <td>True</td>\n",
       "      <td>False</td>\n",
       "      <td>1</td>\n",
       "    </tr>\n",
       "    <tr>\n",
       "      <th>6</th>\n",
       "      <td>True</td>\n",
       "      <td>True</td>\n",
       "      <td>1</td>\n",
       "    </tr>\n",
       "    <tr>\n",
       "      <th>7</th>\n",
       "      <td>False</td>\n",
       "      <td>True</td>\n",
       "      <td>0</td>\n",
       "    </tr>\n",
       "    <tr>\n",
       "      <th>8</th>\n",
       "      <td>True</td>\n",
       "      <td>True</td>\n",
       "      <td>0</td>\n",
       "    </tr>\n",
       "    <tr>\n",
       "      <th>9</th>\n",
       "      <td>True</td>\n",
       "      <td>False</td>\n",
       "      <td>1</td>\n",
       "    </tr>\n",
       "    <tr>\n",
       "      <th>10</th>\n",
       "      <td>True</td>\n",
       "      <td>True</td>\n",
       "      <td>1</td>\n",
       "    </tr>\n",
       "    <tr>\n",
       "      <th>11</th>\n",
       "      <td>True</td>\n",
       "      <td>False</td>\n",
       "      <td>1</td>\n",
       "    </tr>\n",
       "  </tbody>\n",
       "</table>\n",
       "</div>"
      ],
      "text/plain": [
       "       L0      A  Y\n",
       "0   False  False  0\n",
       "1   False  False  1\n",
       "2    True  False  1\n",
       "3   False   True  0\n",
       "4    True  False  0\n",
       "5    True  False  1\n",
       "6    True   True  1\n",
       "7   False   True  0\n",
       "8    True   True  0\n",
       "9    True  False  1\n",
       "10   True   True  1\n",
       "11   True  False  1"
      ]
     },
     "metadata": {},
     "output_type": "display_data"
    },
    {
     "data": {
      "text/markdown": [
       "#### Summary statistics"
      ],
      "text/plain": [
       "<IPython.core.display.Markdown object>"
      ]
     },
     "metadata": {},
     "output_type": "display_data"
    },
    {
     "data": {
      "text/html": [
       "<div>\n",
       "<style scoped>\n",
       "    .dataframe tbody tr th:only-of-type {\n",
       "        vertical-align: middle;\n",
       "    }\n",
       "\n",
       "    .dataframe tbody tr th {\n",
       "        vertical-align: top;\n",
       "    }\n",
       "\n",
       "    .dataframe thead th {\n",
       "        text-align: right;\n",
       "    }\n",
       "</style>\n",
       "<table border=\"1\" class=\"dataframe\">\n",
       "  <thead>\n",
       "    <tr style=\"text-align: right;\">\n",
       "      <th></th>\n",
       "      <th>statistic</th>\n",
       "    </tr>\n",
       "  </thead>\n",
       "  <tbody>\n",
       "    <tr>\n",
       "      <th>$\\bar L$</th>\n",
       "      <td>[0.749782]</td>\n",
       "    </tr>\n",
       "    <tr>\n",
       "      <th>$\\bar A$</th>\n",
       "      <td>0.231412</td>\n",
       "    </tr>\n",
       "    <tr>\n",
       "      <th>$\\bar Y$</th>\n",
       "      <td>0.620031</td>\n",
       "    </tr>\n",
       "    <tr>\n",
       "      <th>$\\bar Y^c_0$</th>\n",
       "      <td>0.673026</td>\n",
       "    </tr>\n",
       "    <tr>\n",
       "      <th>$\\bar Y^c_1$</th>\n",
       "      <td>0.441722</td>\n",
       "    </tr>\n",
       "  </tbody>\n",
       "</table>\n",
       "</div>"
      ],
      "text/plain": [
       "               statistic\n",
       "$\\bar L$      [0.749782]\n",
       "$\\bar A$        0.231412\n",
       "$\\bar Y$        0.620031\n",
       "$\\bar Y^c_0$    0.673026\n",
       "$\\bar Y^c_1$    0.441722"
      ]
     },
     "metadata": {},
     "output_type": "display_data"
    },
    {
     "data": {
      "text/markdown": [
       "#### Estimators"
      ],
      "text/plain": [
       "<IPython.core.display.Markdown object>"
      ]
     },
     "metadata": {},
     "output_type": "display_data"
    },
    {
     "data": {
      "text/html": [
       "<div>\n",
       "<style scoped>\n",
       "    .dataframe tbody tr th:only-of-type {\n",
       "        vertical-align: middle;\n",
       "    }\n",
       "\n",
       "    .dataframe tbody tr th {\n",
       "        vertical-align: top;\n",
       "    }\n",
       "\n",
       "    .dataframe thead th {\n",
       "        text-align: right;\n",
       "    }\n",
       "</style>\n",
       "<table border=\"1\" class=\"dataframe\">\n",
       "  <thead>\n",
       "    <tr style=\"text-align: right;\">\n",
       "      <th></th>\n",
       "      <th>$\\hat Y^{a=0}$</th>\n",
       "      <th>$\\hat Y^{a=1}$</th>\n",
       "    </tr>\n",
       "  </thead>\n",
       "  <tbody>\n",
       "    <tr>\n",
       "      <th>Underlying counterfactual data</th>\n",
       "      <td>0.673026</td>\n",
       "      <td>0.441722</td>\n",
       "    </tr>\n",
       "    <tr>\n",
       "      <th>Standardized means</th>\n",
       "      <td>0.673247</td>\n",
       "      <td>0.443246</td>\n",
       "    </tr>\n",
       "    <tr>\n",
       "      <th>Outcome regression</th>\n",
       "      <td>0.673247</td>\n",
       "      <td>0.443246</td>\n",
       "    </tr>\n",
       "    <tr>\n",
       "      <th>Inverse probability weighted means (IPW)</th>\n",
       "      <td>0.673247</td>\n",
       "      <td>0.443246</td>\n",
       "    </tr>\n",
       "    <tr>\n",
       "      <th>Doubly robust means</th>\n",
       "      <td>0.673247</td>\n",
       "      <td>0.443246</td>\n",
       "    </tr>\n",
       "    <tr>\n",
       "      <th>Marginal structural model (MSM)</th>\n",
       "      <td>0.673246</td>\n",
       "      <td>0.443249</td>\n",
       "    </tr>\n",
       "  </tbody>\n",
       "</table>\n",
       "</div>"
      ],
      "text/plain": [
       "                                          $\\hat Y^{a=0}$  $\\hat Y^{a=1}$\n",
       "Underlying counterfactual data                  0.673026        0.441722\n",
       "Standardized means                              0.673247        0.443246\n",
       "Outcome regression                              0.673247        0.443246\n",
       "Inverse probability weighted means (IPW)        0.673247        0.443246\n",
       "Doubly robust means                             0.673247        0.443246\n",
       "Marginal structural model (MSM)                 0.673246        0.443249"
      ]
     },
     "metadata": {},
     "output_type": "display_data"
    }
   ],
   "source": [
    "summarize_model(generate_simple_logistic_model_data(P_L=0.75,\n",
    "                                                    beta_A_0=-2, beta_A_L=1, \n",
    "                                                    beta_Y_A=-1, beta_Y_L=1),\n",
    "                'Common covariate is risk for disease and intervention, intervention is protective',\n",
    "                '')"
   ]
  },
  {
   "cell_type": "code",
   "execution_count": 263,
   "id": "423afdca-6d21-4d95-9360-80702acac577",
   "metadata": {
    "tags": []
   },
   "outputs": [
    {
     "data": {
      "text/markdown": [
       "### Covariate and intervention are risks, but negate eachother"
      ],
      "text/plain": [
       "<IPython.core.display.Markdown object>"
      ]
     },
     "metadata": {},
     "output_type": "display_data"
    },
    {
     "data": {
      "text/markdown": [
       "1:1 odds of covariate"
      ],
      "text/plain": [
       "<IPython.core.display.Markdown object>"
      ]
     },
     "metadata": {},
     "output_type": "display_data"
    },
    {
     "data": {
      "text/markdown": [
       "#### Sample data"
      ],
      "text/plain": [
       "<IPython.core.display.Markdown object>"
      ]
     },
     "metadata": {},
     "output_type": "display_data"
    },
    {
     "data": {
      "text/html": [
       "<div>\n",
       "<style scoped>\n",
       "    .dataframe tbody tr th:only-of-type {\n",
       "        vertical-align: middle;\n",
       "    }\n",
       "\n",
       "    .dataframe tbody tr th {\n",
       "        vertical-align: top;\n",
       "    }\n",
       "\n",
       "    .dataframe thead th {\n",
       "        text-align: right;\n",
       "    }\n",
       "</style>\n",
       "<table border=\"1\" class=\"dataframe\">\n",
       "  <thead>\n",
       "    <tr style=\"text-align: right;\">\n",
       "      <th></th>\n",
       "      <th>L0</th>\n",
       "      <th>A</th>\n",
       "      <th>Y</th>\n",
       "    </tr>\n",
       "  </thead>\n",
       "  <tbody>\n",
       "    <tr>\n",
       "      <th>0</th>\n",
       "      <td>True</td>\n",
       "      <td>True</td>\n",
       "      <td>0</td>\n",
       "    </tr>\n",
       "    <tr>\n",
       "      <th>1</th>\n",
       "      <td>True</td>\n",
       "      <td>False</td>\n",
       "      <td>0</td>\n",
       "    </tr>\n",
       "    <tr>\n",
       "      <th>2</th>\n",
       "      <td>True</td>\n",
       "      <td>True</td>\n",
       "      <td>0</td>\n",
       "    </tr>\n",
       "    <tr>\n",
       "      <th>3</th>\n",
       "      <td>False</td>\n",
       "      <td>True</td>\n",
       "      <td>1</td>\n",
       "    </tr>\n",
       "    <tr>\n",
       "      <th>4</th>\n",
       "      <td>False</td>\n",
       "      <td>False</td>\n",
       "      <td>1</td>\n",
       "    </tr>\n",
       "    <tr>\n",
       "      <th>5</th>\n",
       "      <td>True</td>\n",
       "      <td>True</td>\n",
       "      <td>1</td>\n",
       "    </tr>\n",
       "    <tr>\n",
       "      <th>6</th>\n",
       "      <td>False</td>\n",
       "      <td>False</td>\n",
       "      <td>0</td>\n",
       "    </tr>\n",
       "    <tr>\n",
       "      <th>7</th>\n",
       "      <td>True</td>\n",
       "      <td>True</td>\n",
       "      <td>1</td>\n",
       "    </tr>\n",
       "    <tr>\n",
       "      <th>8</th>\n",
       "      <td>True</td>\n",
       "      <td>True</td>\n",
       "      <td>1</td>\n",
       "    </tr>\n",
       "    <tr>\n",
       "      <th>9</th>\n",
       "      <td>False</td>\n",
       "      <td>True</td>\n",
       "      <td>1</td>\n",
       "    </tr>\n",
       "    <tr>\n",
       "      <th>10</th>\n",
       "      <td>True</td>\n",
       "      <td>False</td>\n",
       "      <td>1</td>\n",
       "    </tr>\n",
       "    <tr>\n",
       "      <th>11</th>\n",
       "      <td>True</td>\n",
       "      <td>False</td>\n",
       "      <td>0</td>\n",
       "    </tr>\n",
       "  </tbody>\n",
       "</table>\n",
       "</div>"
      ],
      "text/plain": [
       "       L0      A  Y\n",
       "0    True   True  0\n",
       "1    True  False  0\n",
       "2    True   True  0\n",
       "3   False   True  1\n",
       "4   False  False  1\n",
       "5    True   True  1\n",
       "6   False  False  0\n",
       "7    True   True  1\n",
       "8    True   True  1\n",
       "9   False   True  1\n",
       "10   True  False  1\n",
       "11   True  False  0"
      ]
     },
     "metadata": {},
     "output_type": "display_data"
    },
    {
     "data": {
      "text/markdown": [
       "#### Summary statistics"
      ],
      "text/plain": [
       "<IPython.core.display.Markdown object>"
      ]
     },
     "metadata": {},
     "output_type": "display_data"
    },
    {
     "data": {
      "text/html": [
       "<div>\n",
       "<style scoped>\n",
       "    .dataframe tbody tr th:only-of-type {\n",
       "        vertical-align: middle;\n",
       "    }\n",
       "\n",
       "    .dataframe tbody tr th {\n",
       "        vertical-align: top;\n",
       "    }\n",
       "\n",
       "    .dataframe thead th {\n",
       "        text-align: right;\n",
       "    }\n",
       "</style>\n",
       "<table border=\"1\" class=\"dataframe\">\n",
       "  <thead>\n",
       "    <tr style=\"text-align: right;\">\n",
       "      <th></th>\n",
       "      <th>statistic</th>\n",
       "    </tr>\n",
       "  </thead>\n",
       "  <tbody>\n",
       "    <tr>\n",
       "      <th>$\\bar L$</th>\n",
       "      <td>[0.499846]</td>\n",
       "    </tr>\n",
       "    <tr>\n",
       "      <th>$\\bar A$</th>\n",
       "      <td>0.50031</td>\n",
       "    </tr>\n",
       "    <tr>\n",
       "      <th>$\\bar Y$</th>\n",
       "      <td>0.615758</td>\n",
       "    </tr>\n",
       "    <tr>\n",
       "      <th>$\\bar Y^c_0$</th>\n",
       "      <td>0.615456</td>\n",
       "    </tr>\n",
       "    <tr>\n",
       "      <th>$\\bar Y^c_1$</th>\n",
       "      <td>0.614982</td>\n",
       "    </tr>\n",
       "  </tbody>\n",
       "</table>\n",
       "</div>"
      ],
      "text/plain": [
       "               statistic\n",
       "$\\bar L$      [0.499846]\n",
       "$\\bar A$         0.50031\n",
       "$\\bar Y$        0.615758\n",
       "$\\bar Y^c_0$    0.615456\n",
       "$\\bar Y^c_1$    0.614982"
      ]
     },
     "metadata": {},
     "output_type": "display_data"
    },
    {
     "data": {
      "text/markdown": [
       "#### Estimators"
      ],
      "text/plain": [
       "<IPython.core.display.Markdown object>"
      ]
     },
     "metadata": {},
     "output_type": "display_data"
    },
    {
     "data": {
      "text/html": [
       "<div>\n",
       "<style scoped>\n",
       "    .dataframe tbody tr th:only-of-type {\n",
       "        vertical-align: middle;\n",
       "    }\n",
       "\n",
       "    .dataframe tbody tr th {\n",
       "        vertical-align: top;\n",
       "    }\n",
       "\n",
       "    .dataframe thead th {\n",
       "        text-align: right;\n",
       "    }\n",
       "</style>\n",
       "<table border=\"1\" class=\"dataframe\">\n",
       "  <thead>\n",
       "    <tr style=\"text-align: right;\">\n",
       "      <th></th>\n",
       "      <th>$\\hat Y^{a=0}$</th>\n",
       "      <th>$\\hat Y^{a=1}$</th>\n",
       "    </tr>\n",
       "  </thead>\n",
       "  <tbody>\n",
       "    <tr>\n",
       "      <th>Underlying counterfactual data</th>\n",
       "      <td>0.615456</td>\n",
       "      <td>0.614982</td>\n",
       "    </tr>\n",
       "    <tr>\n",
       "      <th>Standardized means</th>\n",
       "      <td>0.616062</td>\n",
       "      <td>0.615418</td>\n",
       "    </tr>\n",
       "    <tr>\n",
       "      <th>Outcome regression</th>\n",
       "      <td>0.616062</td>\n",
       "      <td>0.615418</td>\n",
       "    </tr>\n",
       "    <tr>\n",
       "      <th>Inverse probability weighted means (IPW)</th>\n",
       "      <td>0.616062</td>\n",
       "      <td>0.615418</td>\n",
       "    </tr>\n",
       "    <tr>\n",
       "      <th>Doubly robust means</th>\n",
       "      <td>0.616062</td>\n",
       "      <td>0.615418</td>\n",
       "    </tr>\n",
       "    <tr>\n",
       "      <th>Marginal structural model (MSM)</th>\n",
       "      <td>0.616062</td>\n",
       "      <td>0.615418</td>\n",
       "    </tr>\n",
       "  </tbody>\n",
       "</table>\n",
       "</div>"
      ],
      "text/plain": [
       "                                          $\\hat Y^{a=0}$  $\\hat Y^{a=1}$\n",
       "Underlying counterfactual data                  0.615456        0.614982\n",
       "Standardized means                              0.616062        0.615418\n",
       "Outcome regression                              0.616062        0.615418\n",
       "Inverse probability weighted means (IPW)        0.616062        0.615418\n",
       "Doubly robust means                             0.616062        0.615418\n",
       "Marginal structural model (MSM)                 0.616062        0.615418"
      ]
     },
     "metadata": {},
     "output_type": "display_data"
    }
   ],
   "source": [
    "summarize_model(generate_simple_logistic_model_data(P_L=0.5,\n",
    "                                                    beta_A_0=0, \n",
    "                                                    beta_Y_A=1, beta_Y_L=1, beta_Y_LA=-2),\n",
    "                'Covariate and intervention are risks, but negate eachother',\n",
    "                '1:1 odds of covariate')"
   ]
  },
  {
   "cell_type": "markdown",
   "id": "75c30da6-ffc2-4e5e-be5f-7db9e27a4cfc",
   "metadata": {},
   "source": [
    "## Simulations with multi-dimensional $L$"
   ]
  },
  {
   "cell_type": "code",
   "execution_count": 264,
   "id": "2f3009fb-ae69-409c-8211-c95482a646b5",
   "metadata": {
    "tags": []
   },
   "outputs": [
    {
     "data": {
      "text/markdown": [
       "### Multidimensional maximal entropy model"
      ],
      "text/plain": [
       "<IPython.core.display.Markdown object>"
      ]
     },
     "metadata": {},
     "output_type": "display_data"
    },
    {
     "data": {
      "text/markdown": [
       "No interactions, 1:1 odds for L, A, and Y"
      ],
      "text/plain": [
       "<IPython.core.display.Markdown object>"
      ]
     },
     "metadata": {},
     "output_type": "display_data"
    },
    {
     "data": {
      "text/markdown": [
       "#### Sample data"
      ],
      "text/plain": [
       "<IPython.core.display.Markdown object>"
      ]
     },
     "metadata": {},
     "output_type": "display_data"
    },
    {
     "data": {
      "text/html": [
       "<div>\n",
       "<style scoped>\n",
       "    .dataframe tbody tr th:only-of-type {\n",
       "        vertical-align: middle;\n",
       "    }\n",
       "\n",
       "    .dataframe tbody tr th {\n",
       "        vertical-align: top;\n",
       "    }\n",
       "\n",
       "    .dataframe thead th {\n",
       "        text-align: right;\n",
       "    }\n",
       "</style>\n",
       "<table border=\"1\" class=\"dataframe\">\n",
       "  <thead>\n",
       "    <tr style=\"text-align: right;\">\n",
       "      <th></th>\n",
       "      <th>L0</th>\n",
       "      <th>L1</th>\n",
       "      <th>A</th>\n",
       "      <th>Y</th>\n",
       "    </tr>\n",
       "  </thead>\n",
       "  <tbody>\n",
       "    <tr>\n",
       "      <th>0</th>\n",
       "      <td>True</td>\n",
       "      <td>False</td>\n",
       "      <td>True</td>\n",
       "      <td>0</td>\n",
       "    </tr>\n",
       "    <tr>\n",
       "      <th>1</th>\n",
       "      <td>False</td>\n",
       "      <td>True</td>\n",
       "      <td>False</td>\n",
       "      <td>1</td>\n",
       "    </tr>\n",
       "    <tr>\n",
       "      <th>2</th>\n",
       "      <td>True</td>\n",
       "      <td>True</td>\n",
       "      <td>False</td>\n",
       "      <td>0</td>\n",
       "    </tr>\n",
       "    <tr>\n",
       "      <th>3</th>\n",
       "      <td>False</td>\n",
       "      <td>False</td>\n",
       "      <td>True</td>\n",
       "      <td>1</td>\n",
       "    </tr>\n",
       "    <tr>\n",
       "      <th>4</th>\n",
       "      <td>False</td>\n",
       "      <td>True</td>\n",
       "      <td>True</td>\n",
       "      <td>1</td>\n",
       "    </tr>\n",
       "    <tr>\n",
       "      <th>5</th>\n",
       "      <td>True</td>\n",
       "      <td>True</td>\n",
       "      <td>True</td>\n",
       "      <td>0</td>\n",
       "    </tr>\n",
       "    <tr>\n",
       "      <th>6</th>\n",
       "      <td>True</td>\n",
       "      <td>False</td>\n",
       "      <td>True</td>\n",
       "      <td>0</td>\n",
       "    </tr>\n",
       "    <tr>\n",
       "      <th>7</th>\n",
       "      <td>False</td>\n",
       "      <td>True</td>\n",
       "      <td>False</td>\n",
       "      <td>0</td>\n",
       "    </tr>\n",
       "    <tr>\n",
       "      <th>8</th>\n",
       "      <td>False</td>\n",
       "      <td>False</td>\n",
       "      <td>True</td>\n",
       "      <td>0</td>\n",
       "    </tr>\n",
       "    <tr>\n",
       "      <th>9</th>\n",
       "      <td>True</td>\n",
       "      <td>False</td>\n",
       "      <td>True</td>\n",
       "      <td>0</td>\n",
       "    </tr>\n",
       "    <tr>\n",
       "      <th>10</th>\n",
       "      <td>False</td>\n",
       "      <td>False</td>\n",
       "      <td>True</td>\n",
       "      <td>1</td>\n",
       "    </tr>\n",
       "    <tr>\n",
       "      <th>11</th>\n",
       "      <td>True</td>\n",
       "      <td>False</td>\n",
       "      <td>True</td>\n",
       "      <td>1</td>\n",
       "    </tr>\n",
       "  </tbody>\n",
       "</table>\n",
       "</div>"
      ],
      "text/plain": [
       "       L0     L1      A  Y\n",
       "0    True  False   True  0\n",
       "1   False   True  False  1\n",
       "2    True   True  False  0\n",
       "3   False  False   True  1\n",
       "4   False   True   True  1\n",
       "5    True   True   True  0\n",
       "6    True  False   True  0\n",
       "7   False   True  False  0\n",
       "8   False  False   True  0\n",
       "9    True  False   True  0\n",
       "10  False  False   True  1\n",
       "11   True  False   True  1"
      ]
     },
     "metadata": {},
     "output_type": "display_data"
    },
    {
     "data": {
      "text/markdown": [
       "#### Summary statistics"
      ],
      "text/plain": [
       "<IPython.core.display.Markdown object>"
      ]
     },
     "metadata": {},
     "output_type": "display_data"
    },
    {
     "data": {
      "text/html": [
       "<div>\n",
       "<style scoped>\n",
       "    .dataframe tbody tr th:only-of-type {\n",
       "        vertical-align: middle;\n",
       "    }\n",
       "\n",
       "    .dataframe tbody tr th {\n",
       "        vertical-align: top;\n",
       "    }\n",
       "\n",
       "    .dataframe thead th {\n",
       "        text-align: right;\n",
       "    }\n",
       "</style>\n",
       "<table border=\"1\" class=\"dataframe\">\n",
       "  <thead>\n",
       "    <tr style=\"text-align: right;\">\n",
       "      <th></th>\n",
       "      <th>statistic</th>\n",
       "    </tr>\n",
       "  </thead>\n",
       "  <tbody>\n",
       "    <tr>\n",
       "      <th>$\\bar L$</th>\n",
       "      <td>[0.499484, 0.499811]</td>\n",
       "    </tr>\n",
       "    <tr>\n",
       "      <th>$\\bar A$</th>\n",
       "      <td>0.500642</td>\n",
       "    </tr>\n",
       "    <tr>\n",
       "      <th>$\\bar Y$</th>\n",
       "      <td>0.500205</td>\n",
       "    </tr>\n",
       "    <tr>\n",
       "      <th>$\\bar Y^c_0$</th>\n",
       "      <td>0.499924</td>\n",
       "    </tr>\n",
       "    <tr>\n",
       "      <th>$\\bar Y^c_1$</th>\n",
       "      <td>0.500799</td>\n",
       "    </tr>\n",
       "  </tbody>\n",
       "</table>\n",
       "</div>"
      ],
      "text/plain": [
       "                         statistic\n",
       "$\\bar L$      [0.499484, 0.499811]\n",
       "$\\bar A$                  0.500642\n",
       "$\\bar Y$                  0.500205\n",
       "$\\bar Y^c_0$              0.499924\n",
       "$\\bar Y^c_1$              0.500799"
      ]
     },
     "metadata": {},
     "output_type": "display_data"
    },
    {
     "data": {
      "text/markdown": [
       "#### Estimators"
      ],
      "text/plain": [
       "<IPython.core.display.Markdown object>"
      ]
     },
     "metadata": {},
     "output_type": "display_data"
    },
    {
     "data": {
      "text/html": [
       "<div>\n",
       "<style scoped>\n",
       "    .dataframe tbody tr th:only-of-type {\n",
       "        vertical-align: middle;\n",
       "    }\n",
       "\n",
       "    .dataframe tbody tr th {\n",
       "        vertical-align: top;\n",
       "    }\n",
       "\n",
       "    .dataframe thead th {\n",
       "        text-align: right;\n",
       "    }\n",
       "</style>\n",
       "<table border=\"1\" class=\"dataframe\">\n",
       "  <thead>\n",
       "    <tr style=\"text-align: right;\">\n",
       "      <th></th>\n",
       "      <th>$\\hat Y^{a=0}$</th>\n",
       "      <th>$\\hat Y^{a=1}$</th>\n",
       "    </tr>\n",
       "  </thead>\n",
       "  <tbody>\n",
       "    <tr>\n",
       "      <th>Underlying counterfactual data</th>\n",
       "      <td>0.499924</td>\n",
       "      <td>0.500799</td>\n",
       "    </tr>\n",
       "    <tr>\n",
       "      <th>Standardized means</th>\n",
       "      <td>0.499990</td>\n",
       "      <td>0.500417</td>\n",
       "    </tr>\n",
       "    <tr>\n",
       "      <th>Outcome regression</th>\n",
       "      <td>0.499990</td>\n",
       "      <td>0.500417</td>\n",
       "    </tr>\n",
       "    <tr>\n",
       "      <th>Inverse probability weighted means (IPW)</th>\n",
       "      <td>0.499990</td>\n",
       "      <td>0.500417</td>\n",
       "    </tr>\n",
       "    <tr>\n",
       "      <th>Doubly robust means</th>\n",
       "      <td>0.499990</td>\n",
       "      <td>0.500417</td>\n",
       "    </tr>\n",
       "    <tr>\n",
       "      <th>Marginal structural model (MSM)</th>\n",
       "      <td>0.499991</td>\n",
       "      <td>0.500418</td>\n",
       "    </tr>\n",
       "  </tbody>\n",
       "</table>\n",
       "</div>"
      ],
      "text/plain": [
       "                                          $\\hat Y^{a=0}$  $\\hat Y^{a=1}$\n",
       "Underlying counterfactual data                  0.499924        0.500799\n",
       "Standardized means                              0.499990        0.500417\n",
       "Outcome regression                              0.499990        0.500417\n",
       "Inverse probability weighted means (IPW)        0.499990        0.500417\n",
       "Doubly robust means                             0.499990        0.500417\n",
       "Marginal structural model (MSM)                 0.499991        0.500418"
      ]
     },
     "metadata": {},
     "output_type": "display_data"
    }
   ],
   "source": [
    "summarize_model(generate_simple_logistic_model_data(P_L=(0.5,0.5)), \n",
    "    'Multidimensional maximal entropy model', 'No interactions, 1:1 odds for L, A, and Y')"
   ]
  },
  {
   "cell_type": "code",
   "execution_count": 265,
   "id": "b3b15eb9-ce60-4b07-82de-9269beba1dbc",
   "metadata": {},
   "outputs": [
    {
     "data": {
      "text/markdown": [
       "### Treatment already targeted"
      ],
      "text/plain": [
       "<IPython.core.display.Markdown object>"
      ]
     },
     "metadata": {},
     "output_type": "display_data"
    },
    {
     "data": {
      "text/markdown": [
       "Treatment only benefits rare condition, commonly causes harm. Common risk factor present."
      ],
      "text/plain": [
       "<IPython.core.display.Markdown object>"
      ]
     },
     "metadata": {},
     "output_type": "display_data"
    },
    {
     "data": {
      "text/markdown": [
       "#### Sample data"
      ],
      "text/plain": [
       "<IPython.core.display.Markdown object>"
      ]
     },
     "metadata": {},
     "output_type": "display_data"
    },
    {
     "data": {
      "text/html": [
       "<div>\n",
       "<style scoped>\n",
       "    .dataframe tbody tr th:only-of-type {\n",
       "        vertical-align: middle;\n",
       "    }\n",
       "\n",
       "    .dataframe tbody tr th {\n",
       "        vertical-align: top;\n",
       "    }\n",
       "\n",
       "    .dataframe thead th {\n",
       "        text-align: right;\n",
       "    }\n",
       "</style>\n",
       "<table border=\"1\" class=\"dataframe\">\n",
       "  <thead>\n",
       "    <tr style=\"text-align: right;\">\n",
       "      <th></th>\n",
       "      <th>L0</th>\n",
       "      <th>L1</th>\n",
       "      <th>A</th>\n",
       "      <th>Y</th>\n",
       "    </tr>\n",
       "  </thead>\n",
       "  <tbody>\n",
       "    <tr>\n",
       "      <th>0</th>\n",
       "      <td>False</td>\n",
       "      <td>False</td>\n",
       "      <td>False</td>\n",
       "      <td>0</td>\n",
       "    </tr>\n",
       "    <tr>\n",
       "      <th>1</th>\n",
       "      <td>False</td>\n",
       "      <td>False</td>\n",
       "      <td>False</td>\n",
       "      <td>0</td>\n",
       "    </tr>\n",
       "    <tr>\n",
       "      <th>2</th>\n",
       "      <td>False</td>\n",
       "      <td>False</td>\n",
       "      <td>False</td>\n",
       "      <td>1</td>\n",
       "    </tr>\n",
       "    <tr>\n",
       "      <th>3</th>\n",
       "      <td>False</td>\n",
       "      <td>False</td>\n",
       "      <td>False</td>\n",
       "      <td>1</td>\n",
       "    </tr>\n",
       "    <tr>\n",
       "      <th>4</th>\n",
       "      <td>False</td>\n",
       "      <td>True</td>\n",
       "      <td>True</td>\n",
       "      <td>1</td>\n",
       "    </tr>\n",
       "    <tr>\n",
       "      <th>5</th>\n",
       "      <td>False</td>\n",
       "      <td>False</td>\n",
       "      <td>False</td>\n",
       "      <td>0</td>\n",
       "    </tr>\n",
       "    <tr>\n",
       "      <th>6</th>\n",
       "      <td>False</td>\n",
       "      <td>True</td>\n",
       "      <td>False</td>\n",
       "      <td>1</td>\n",
       "    </tr>\n",
       "    <tr>\n",
       "      <th>7</th>\n",
       "      <td>False</td>\n",
       "      <td>False</td>\n",
       "      <td>False</td>\n",
       "      <td>1</td>\n",
       "    </tr>\n",
       "    <tr>\n",
       "      <th>8</th>\n",
       "      <td>False</td>\n",
       "      <td>False</td>\n",
       "      <td>False</td>\n",
       "      <td>0</td>\n",
       "    </tr>\n",
       "    <tr>\n",
       "      <th>9</th>\n",
       "      <td>False</td>\n",
       "      <td>True</td>\n",
       "      <td>False</td>\n",
       "      <td>0</td>\n",
       "    </tr>\n",
       "    <tr>\n",
       "      <th>10</th>\n",
       "      <td>False</td>\n",
       "      <td>False</td>\n",
       "      <td>False</td>\n",
       "      <td>0</td>\n",
       "    </tr>\n",
       "    <tr>\n",
       "      <th>11</th>\n",
       "      <td>False</td>\n",
       "      <td>False</td>\n",
       "      <td>False</td>\n",
       "      <td>0</td>\n",
       "    </tr>\n",
       "  </tbody>\n",
       "</table>\n",
       "</div>"
      ],
      "text/plain": [
       "       L0     L1      A  Y\n",
       "0   False  False  False  0\n",
       "1   False  False  False  0\n",
       "2   False  False  False  1\n",
       "3   False  False  False  1\n",
       "4   False   True   True  1\n",
       "5   False  False  False  0\n",
       "6   False   True  False  1\n",
       "7   False  False  False  1\n",
       "8   False  False  False  0\n",
       "9   False   True  False  0\n",
       "10  False  False  False  0\n",
       "11  False  False  False  0"
      ]
     },
     "metadata": {},
     "output_type": "display_data"
    },
    {
     "data": {
      "text/markdown": [
       "#### Summary statistics"
      ],
      "text/plain": [
       "<IPython.core.display.Markdown object>"
      ]
     },
     "metadata": {},
     "output_type": "display_data"
    },
    {
     "data": {
      "text/html": [
       "<div>\n",
       "<style scoped>\n",
       "    .dataframe tbody tr th:only-of-type {\n",
       "        vertical-align: middle;\n",
       "    }\n",
       "\n",
       "    .dataframe tbody tr th {\n",
       "        vertical-align: top;\n",
       "    }\n",
       "\n",
       "    .dataframe thead th {\n",
       "        text-align: right;\n",
       "    }\n",
       "</style>\n",
       "<table border=\"1\" class=\"dataframe\">\n",
       "  <thead>\n",
       "    <tr style=\"text-align: right;\">\n",
       "      <th></th>\n",
       "      <th>statistic</th>\n",
       "    </tr>\n",
       "  </thead>\n",
       "  <tbody>\n",
       "    <tr>\n",
       "      <th>$\\bar L$</th>\n",
       "      <td>[0.199895, 0.500344]</td>\n",
       "    </tr>\n",
       "    <tr>\n",
       "      <th>$\\bar A$</th>\n",
       "      <td>0.271639</td>\n",
       "    </tr>\n",
       "    <tr>\n",
       "      <th>$\\bar Y$</th>\n",
       "      <td>0.652901</td>\n",
       "    </tr>\n",
       "    <tr>\n",
       "      <th>$\\bar Y^c_0$</th>\n",
       "      <td>0.675723</td>\n",
       "    </tr>\n",
       "    <tr>\n",
       "      <th>$\\bar Y^c_1$</th>\n",
       "      <td>0.726541</td>\n",
       "    </tr>\n",
       "  </tbody>\n",
       "</table>\n",
       "</div>"
      ],
      "text/plain": [
       "                         statistic\n",
       "$\\bar L$      [0.199895, 0.500344]\n",
       "$\\bar A$                  0.271639\n",
       "$\\bar Y$                  0.652901\n",
       "$\\bar Y^c_0$              0.675723\n",
       "$\\bar Y^c_1$              0.726541"
      ]
     },
     "metadata": {},
     "output_type": "display_data"
    },
    {
     "data": {
      "text/markdown": [
       "#### Estimators"
      ],
      "text/plain": [
       "<IPython.core.display.Markdown object>"
      ]
     },
     "metadata": {},
     "output_type": "display_data"
    },
    {
     "data": {
      "text/html": [
       "<div>\n",
       "<style scoped>\n",
       "    .dataframe tbody tr th:only-of-type {\n",
       "        vertical-align: middle;\n",
       "    }\n",
       "\n",
       "    .dataframe tbody tr th {\n",
       "        vertical-align: top;\n",
       "    }\n",
       "\n",
       "    .dataframe thead th {\n",
       "        text-align: right;\n",
       "    }\n",
       "</style>\n",
       "<table border=\"1\" class=\"dataframe\">\n",
       "  <thead>\n",
       "    <tr style=\"text-align: right;\">\n",
       "      <th></th>\n",
       "      <th>$\\hat Y^{a=0}$</th>\n",
       "      <th>$\\hat Y^{a=1}$</th>\n",
       "    </tr>\n",
       "  </thead>\n",
       "  <tbody>\n",
       "    <tr>\n",
       "      <th>Underlying counterfactual data</th>\n",
       "      <td>0.675723</td>\n",
       "      <td>0.726541</td>\n",
       "    </tr>\n",
       "    <tr>\n",
       "      <th>Standardized means</th>\n",
       "      <td>0.675534</td>\n",
       "      <td>0.726753</td>\n",
       "    </tr>\n",
       "    <tr>\n",
       "      <th>Outcome regression</th>\n",
       "      <td>0.675534</td>\n",
       "      <td>0.726753</td>\n",
       "    </tr>\n",
       "    <tr>\n",
       "      <th>Inverse probability weighted means (IPW)</th>\n",
       "      <td>0.675534</td>\n",
       "      <td>0.726753</td>\n",
       "    </tr>\n",
       "    <tr>\n",
       "      <th>Doubly robust means</th>\n",
       "      <td>0.675534</td>\n",
       "      <td>0.726753</td>\n",
       "    </tr>\n",
       "    <tr>\n",
       "      <th>Marginal structural model (MSM)</th>\n",
       "      <td>0.675526</td>\n",
       "      <td>0.726753</td>\n",
       "    </tr>\n",
       "  </tbody>\n",
       "</table>\n",
       "</div>"
      ],
      "text/plain": [
       "                                          $\\hat Y^{a=0}$  $\\hat Y^{a=1}$\n",
       "Underlying counterfactual data                  0.675723        0.726541\n",
       "Standardized means                              0.675534        0.726753\n",
       "Outcome regression                              0.675534        0.726753\n",
       "Inverse probability weighted means (IPW)        0.675534        0.726753\n",
       "Doubly robust means                             0.675534        0.726753\n",
       "Marginal structural model (MSM)                 0.675526        0.726753"
      ]
     },
     "metadata": {},
     "output_type": "display_data"
    }
   ],
   "source": [
    "summarize_model(generate_simple_logistic_model_data(\n",
    "    P_L=(0.2,0.5), beta_A_0=-2, beta_A_L=(4,0), beta_Y_L=(2, 1), beta_Y_LA=(-2,2)), \n",
    "    'Treatment already targeted',\n",
    "    'Treatment only benefits rare condition, commonly causes harm. Common risk factor present.')"
   ]
  },
  {
   "cell_type": "code",
   "execution_count": 266,
   "id": "451ef5bd-8360-479e-82f0-e37ba497ea39",
   "metadata": {
    "tags": []
   },
   "outputs": [
    {
     "data": {
      "text/markdown": [
       "### Treatment already targeted, swapped L values"
      ],
      "text/plain": [
       "<IPython.core.display.Markdown object>"
      ]
     },
     "metadata": {},
     "output_type": "display_data"
    },
    {
     "data": {
      "text/markdown": [
       "Treatment only benefits rare condition, commonly causes harm. Common risk factor present."
      ],
      "text/plain": [
       "<IPython.core.display.Markdown object>"
      ]
     },
     "metadata": {},
     "output_type": "display_data"
    },
    {
     "data": {
      "text/markdown": [
       "#### Sample data"
      ],
      "text/plain": [
       "<IPython.core.display.Markdown object>"
      ]
     },
     "metadata": {},
     "output_type": "display_data"
    },
    {
     "data": {
      "text/html": [
       "<div>\n",
       "<style scoped>\n",
       "    .dataframe tbody tr th:only-of-type {\n",
       "        vertical-align: middle;\n",
       "    }\n",
       "\n",
       "    .dataframe tbody tr th {\n",
       "        vertical-align: top;\n",
       "    }\n",
       "\n",
       "    .dataframe thead th {\n",
       "        text-align: right;\n",
       "    }\n",
       "</style>\n",
       "<table border=\"1\" class=\"dataframe\">\n",
       "  <thead>\n",
       "    <tr style=\"text-align: right;\">\n",
       "      <th></th>\n",
       "      <th>L0</th>\n",
       "      <th>L1</th>\n",
       "      <th>A</th>\n",
       "      <th>Y</th>\n",
       "    </tr>\n",
       "  </thead>\n",
       "  <tbody>\n",
       "    <tr>\n",
       "      <th>0</th>\n",
       "      <td>True</td>\n",
       "      <td>False</td>\n",
       "      <td>True</td>\n",
       "      <td>1</td>\n",
       "    </tr>\n",
       "    <tr>\n",
       "      <th>1</th>\n",
       "      <td>False</td>\n",
       "      <td>True</td>\n",
       "      <td>True</td>\n",
       "      <td>1</td>\n",
       "    </tr>\n",
       "    <tr>\n",
       "      <th>2</th>\n",
       "      <td>False</td>\n",
       "      <td>False</td>\n",
       "      <td>False</td>\n",
       "      <td>0</td>\n",
       "    </tr>\n",
       "    <tr>\n",
       "      <th>3</th>\n",
       "      <td>True</td>\n",
       "      <td>False</td>\n",
       "      <td>True</td>\n",
       "      <td>1</td>\n",
       "    </tr>\n",
       "    <tr>\n",
       "      <th>4</th>\n",
       "      <td>False</td>\n",
       "      <td>False</td>\n",
       "      <td>False</td>\n",
       "      <td>0</td>\n",
       "    </tr>\n",
       "    <tr>\n",
       "      <th>5</th>\n",
       "      <td>False</td>\n",
       "      <td>True</td>\n",
       "      <td>True</td>\n",
       "      <td>0</td>\n",
       "    </tr>\n",
       "    <tr>\n",
       "      <th>6</th>\n",
       "      <td>False</td>\n",
       "      <td>False</td>\n",
       "      <td>False</td>\n",
       "      <td>0</td>\n",
       "    </tr>\n",
       "    <tr>\n",
       "      <th>7</th>\n",
       "      <td>True</td>\n",
       "      <td>False</td>\n",
       "      <td>False</td>\n",
       "      <td>0</td>\n",
       "    </tr>\n",
       "    <tr>\n",
       "      <th>8</th>\n",
       "      <td>False</td>\n",
       "      <td>False</td>\n",
       "      <td>False</td>\n",
       "      <td>0</td>\n",
       "    </tr>\n",
       "    <tr>\n",
       "      <th>9</th>\n",
       "      <td>True</td>\n",
       "      <td>False</td>\n",
       "      <td>False</td>\n",
       "      <td>1</td>\n",
       "    </tr>\n",
       "    <tr>\n",
       "      <th>10</th>\n",
       "      <td>False</td>\n",
       "      <td>False</td>\n",
       "      <td>False</td>\n",
       "      <td>1</td>\n",
       "    </tr>\n",
       "    <tr>\n",
       "      <th>11</th>\n",
       "      <td>True</td>\n",
       "      <td>False</td>\n",
       "      <td>False</td>\n",
       "      <td>1</td>\n",
       "    </tr>\n",
       "  </tbody>\n",
       "</table>\n",
       "</div>"
      ],
      "text/plain": [
       "       L0     L1      A  Y\n",
       "0    True  False   True  1\n",
       "1   False   True   True  1\n",
       "2   False  False  False  0\n",
       "3    True  False   True  1\n",
       "4   False  False  False  0\n",
       "5   False   True   True  0\n",
       "6   False  False  False  0\n",
       "7    True  False  False  0\n",
       "8   False  False  False  0\n",
       "9    True  False  False  1\n",
       "10  False  False  False  1\n",
       "11   True  False  False  1"
      ]
     },
     "metadata": {},
     "output_type": "display_data"
    },
    {
     "data": {
      "text/markdown": [
       "#### Summary statistics"
      ],
      "text/plain": [
       "<IPython.core.display.Markdown object>"
      ]
     },
     "metadata": {},
     "output_type": "display_data"
    },
    {
     "data": {
      "text/html": [
       "<div>\n",
       "<style scoped>\n",
       "    .dataframe tbody tr th:only-of-type {\n",
       "        vertical-align: middle;\n",
       "    }\n",
       "\n",
       "    .dataframe tbody tr th {\n",
       "        vertical-align: top;\n",
       "    }\n",
       "\n",
       "    .dataframe thead th {\n",
       "        text-align: right;\n",
       "    }\n",
       "</style>\n",
       "<table border=\"1\" class=\"dataframe\">\n",
       "  <thead>\n",
       "    <tr style=\"text-align: right;\">\n",
       "      <th></th>\n",
       "      <th>statistic</th>\n",
       "    </tr>\n",
       "  </thead>\n",
       "  <tbody>\n",
       "    <tr>\n",
       "      <th>$\\bar L$</th>\n",
       "      <td>[0.499881, 0.199595]</td>\n",
       "    </tr>\n",
       "    <tr>\n",
       "      <th>$\\bar A$</th>\n",
       "      <td>0.271648</td>\n",
       "    </tr>\n",
       "    <tr>\n",
       "      <th>$\\bar Y$</th>\n",
       "      <td>0.652535</td>\n",
       "    </tr>\n",
       "    <tr>\n",
       "      <th>$\\bar Y^c_0$</th>\n",
       "      <td>0.675164</td>\n",
       "    </tr>\n",
       "    <tr>\n",
       "      <th>$\\bar Y^c_1$</th>\n",
       "      <td>0.725938</td>\n",
       "    </tr>\n",
       "  </tbody>\n",
       "</table>\n",
       "</div>"
      ],
      "text/plain": [
       "                         statistic\n",
       "$\\bar L$      [0.499881, 0.199595]\n",
       "$\\bar A$                  0.271648\n",
       "$\\bar Y$                  0.652535\n",
       "$\\bar Y^c_0$              0.675164\n",
       "$\\bar Y^c_1$              0.725938"
      ]
     },
     "metadata": {},
     "output_type": "display_data"
    },
    {
     "data": {
      "text/markdown": [
       "#### Estimators"
      ],
      "text/plain": [
       "<IPython.core.display.Markdown object>"
      ]
     },
     "metadata": {},
     "output_type": "display_data"
    },
    {
     "data": {
      "text/html": [
       "<div>\n",
       "<style scoped>\n",
       "    .dataframe tbody tr th:only-of-type {\n",
       "        vertical-align: middle;\n",
       "    }\n",
       "\n",
       "    .dataframe tbody tr th {\n",
       "        vertical-align: top;\n",
       "    }\n",
       "\n",
       "    .dataframe thead th {\n",
       "        text-align: right;\n",
       "    }\n",
       "</style>\n",
       "<table border=\"1\" class=\"dataframe\">\n",
       "  <thead>\n",
       "    <tr style=\"text-align: right;\">\n",
       "      <th></th>\n",
       "      <th>$\\hat Y^{a=0}$</th>\n",
       "      <th>$\\hat Y^{a=1}$</th>\n",
       "    </tr>\n",
       "  </thead>\n",
       "  <tbody>\n",
       "    <tr>\n",
       "      <th>Underlying counterfactual data</th>\n",
       "      <td>0.675164</td>\n",
       "      <td>0.725938</td>\n",
       "    </tr>\n",
       "    <tr>\n",
       "      <th>Standardized means</th>\n",
       "      <td>0.675476</td>\n",
       "      <td>0.724925</td>\n",
       "    </tr>\n",
       "    <tr>\n",
       "      <th>Outcome regression</th>\n",
       "      <td>0.675476</td>\n",
       "      <td>0.724925</td>\n",
       "    </tr>\n",
       "    <tr>\n",
       "      <th>Inverse probability weighted means (IPW)</th>\n",
       "      <td>0.675476</td>\n",
       "      <td>0.724925</td>\n",
       "    </tr>\n",
       "    <tr>\n",
       "      <th>Doubly robust means</th>\n",
       "      <td>0.675476</td>\n",
       "      <td>0.724925</td>\n",
       "    </tr>\n",
       "    <tr>\n",
       "      <th>Marginal structural model (MSM)</th>\n",
       "      <td>0.675456</td>\n",
       "      <td>0.724814</td>\n",
       "    </tr>\n",
       "  </tbody>\n",
       "</table>\n",
       "</div>"
      ],
      "text/plain": [
       "                                          $\\hat Y^{a=0}$  $\\hat Y^{a=1}$\n",
       "Underlying counterfactual data                  0.675164        0.725938\n",
       "Standardized means                              0.675476        0.724925\n",
       "Outcome regression                              0.675476        0.724925\n",
       "Inverse probability weighted means (IPW)        0.675476        0.724925\n",
       "Doubly robust means                             0.675476        0.724925\n",
       "Marginal structural model (MSM)                 0.675456        0.724814"
      ]
     },
     "metadata": {},
     "output_type": "display_data"
    }
   ],
   "source": [
    "summarize_model(generate_simple_logistic_model_data(\n",
    "    P_L=(0.5,0.2), beta_A_0=-2, beta_A_L=(0,4), beta_Y_L=(1, 2), beta_Y_LA=(2,-2)), \n",
    "    'Treatment already targeted, swapped L values',\n",
    "    'Treatment only benefits rare condition, commonly causes harm. Common risk factor present.')"
   ]
  },
  {
   "cell_type": "markdown",
   "id": "3f8ca6b7-9cbb-4647-a7e3-02ec4eeb3450",
   "metadata": {
    "tags": []
   },
   "source": [
    "## Notes for next time\n",
    "\n",
    "- Consider adding g-estimation (Jamie Robbins, different than g-formula, performs well but difficult to understand)\n",
    "- Consider looking a propensity weighting of general hospital population and population with CAM screens to use model for delirium prediction with patients with CAM screens to predict risk in general population (a censoring problem)\n",
    "- Consider simulating L to have same range as actual data (or sampled from actual data?) or subset of actual L?  Likely better to wait until new data import pipeline is working.\n",
    "- (Later) will need to think about feature selection for real model; may want to filter first for features correlated with outcome or intervention, then go through by hand for likely causal relation given domain knowledge.\n",
    "- Consider replacing existing non-parametric estimators - likely will require trying different models with outcome regression, IPW, and doubly robust (all should match if models are working properly).\n",
    "- Could consider using using difference between IPW and outcome regression as part of loss function? (unproven - only guarantees that they match)"
   ]
  },
  {
   "cell_type": "code",
   "execution_count": null,
   "id": "1b54e7ec-9f1d-44f5-97c6-03924a510626",
   "metadata": {},
   "outputs": [],
   "source": []
  },
  {
   "cell_type": "code",
   "execution_count": null,
   "id": "0caf3f71-a186-42d7-9cf8-082df8621866",
   "metadata": {},
   "outputs": [],
   "source": []
  },
  {
   "cell_type": "code",
   "execution_count": null,
   "id": "81f46dae-f079-4278-9fba-a83d1d489b51",
   "metadata": {},
   "outputs": [],
   "source": []
  }
 ],
 "metadata": {
  "kernelspec": {
   "display_name": "Python 3 (ipykernel)",
   "language": "python",
   "name": "python3"
  },
  "language_info": {
   "codemirror_mode": {
    "name": "ipython",
    "version": 3
   },
   "file_extension": ".py",
   "mimetype": "text/x-python",
   "name": "python",
   "nbconvert_exporter": "python",
   "pygments_lexer": "ipython3",
   "version": "3.9.10"
  }
 },
 "nbformat": 4,
 "nbformat_minor": 5
}
