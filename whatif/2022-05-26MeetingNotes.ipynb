{
 "cells": [
  {
   "cell_type": "code",
   "execution_count": 1,
   "id": "ad8c2cf1-91a4-42a8-912d-5da84852d6d2",
   "metadata": {},
   "outputs": [],
   "source": [
    "import numpy as np\n",
    "import scipy as sp \n",
    "import pandas as pd\n",
    "import time\n",
    "from scipy import stats as sps\n",
    "from scipy import optimize\n",
    "from scipy import special\n",
    "from sklearn.linear_model import LogisticRegression\n",
    "from IPython.display import display, Markdown"
   ]
  },
  {
   "cell_type": "code",
   "execution_count": 2,
   "id": "24c26156-1f7d-4a40-a6e8-256576eb1baa",
   "metadata": {},
   "outputs": [],
   "source": [
    "from datetime import datetime"
   ]
  },
  {
   "cell_type": "markdown",
   "id": "931cf435-eaab-47e8-91b5-c930ceaa0eda",
   "metadata": {
    "tags": []
   },
   "source": [
    "## Example data from Chapter 2 of \"What If?\""
   ]
  },
  {
   "cell_type": "code",
   "execution_count": 3,
   "id": "d007b32e-f693-448b-a7e1-794cf2095f2d",
   "metadata": {
    "tags": []
   },
   "outputs": [
    {
     "data": {
      "text/html": [
       "<div>\n",
       "<style scoped>\n",
       "    .dataframe tbody tr th:only-of-type {\n",
       "        vertical-align: middle;\n",
       "    }\n",
       "\n",
       "    .dataframe tbody tr th {\n",
       "        vertical-align: top;\n",
       "    }\n",
       "\n",
       "    .dataframe thead th {\n",
       "        text-align: right;\n",
       "    }\n",
       "</style>\n",
       "<table border=\"1\" class=\"dataframe\">\n",
       "  <thead>\n",
       "    <tr style=\"text-align: right;\">\n",
       "      <th></th>\n",
       "      <th>L</th>\n",
       "      <th>A</th>\n",
       "      <th>Y</th>\n",
       "    </tr>\n",
       "  </thead>\n",
       "  <tbody>\n",
       "    <tr>\n",
       "      <th>Rheia</th>\n",
       "      <td>0</td>\n",
       "      <td>0</td>\n",
       "      <td>0</td>\n",
       "    </tr>\n",
       "    <tr>\n",
       "      <th>Kronos</th>\n",
       "      <td>0</td>\n",
       "      <td>0</td>\n",
       "      <td>1</td>\n",
       "    </tr>\n",
       "    <tr>\n",
       "      <th>Demeter</th>\n",
       "      <td>0</td>\n",
       "      <td>0</td>\n",
       "      <td>0</td>\n",
       "    </tr>\n",
       "    <tr>\n",
       "      <th>Hades</th>\n",
       "      <td>0</td>\n",
       "      <td>0</td>\n",
       "      <td>0</td>\n",
       "    </tr>\n",
       "    <tr>\n",
       "      <th>Hestia</th>\n",
       "      <td>0</td>\n",
       "      <td>1</td>\n",
       "      <td>0</td>\n",
       "    </tr>\n",
       "    <tr>\n",
       "      <th>Poseidon</th>\n",
       "      <td>0</td>\n",
       "      <td>1</td>\n",
       "      <td>0</td>\n",
       "    </tr>\n",
       "    <tr>\n",
       "      <th>Hera</th>\n",
       "      <td>0</td>\n",
       "      <td>1</td>\n",
       "      <td>0</td>\n",
       "    </tr>\n",
       "    <tr>\n",
       "      <th>Zeus</th>\n",
       "      <td>0</td>\n",
       "      <td>1</td>\n",
       "      <td>1</td>\n",
       "    </tr>\n",
       "    <tr>\n",
       "      <th>Artemis</th>\n",
       "      <td>1</td>\n",
       "      <td>0</td>\n",
       "      <td>1</td>\n",
       "    </tr>\n",
       "    <tr>\n",
       "      <th>Apollo</th>\n",
       "      <td>1</td>\n",
       "      <td>0</td>\n",
       "      <td>1</td>\n",
       "    </tr>\n",
       "    <tr>\n",
       "      <th>Leto</th>\n",
       "      <td>1</td>\n",
       "      <td>0</td>\n",
       "      <td>0</td>\n",
       "    </tr>\n",
       "    <tr>\n",
       "      <th>Ares</th>\n",
       "      <td>1</td>\n",
       "      <td>1</td>\n",
       "      <td>1</td>\n",
       "    </tr>\n",
       "    <tr>\n",
       "      <th>Athena</th>\n",
       "      <td>1</td>\n",
       "      <td>1</td>\n",
       "      <td>1</td>\n",
       "    </tr>\n",
       "    <tr>\n",
       "      <th>Hephaestus</th>\n",
       "      <td>1</td>\n",
       "      <td>1</td>\n",
       "      <td>1</td>\n",
       "    </tr>\n",
       "    <tr>\n",
       "      <th>Aphrodite</th>\n",
       "      <td>1</td>\n",
       "      <td>1</td>\n",
       "      <td>1</td>\n",
       "    </tr>\n",
       "    <tr>\n",
       "      <th>Cyclope</th>\n",
       "      <td>1</td>\n",
       "      <td>1</td>\n",
       "      <td>1</td>\n",
       "    </tr>\n",
       "    <tr>\n",
       "      <th>Persephone</th>\n",
       "      <td>1</td>\n",
       "      <td>1</td>\n",
       "      <td>1</td>\n",
       "    </tr>\n",
       "    <tr>\n",
       "      <th>Hermes</th>\n",
       "      <td>1</td>\n",
       "      <td>1</td>\n",
       "      <td>0</td>\n",
       "    </tr>\n",
       "    <tr>\n",
       "      <th>Hebe</th>\n",
       "      <td>1</td>\n",
       "      <td>1</td>\n",
       "      <td>0</td>\n",
       "    </tr>\n",
       "    <tr>\n",
       "      <th>Dionysus</th>\n",
       "      <td>1</td>\n",
       "      <td>1</td>\n",
       "      <td>0</td>\n",
       "    </tr>\n",
       "  </tbody>\n",
       "</table>\n",
       "</div>"
      ],
      "text/plain": [
       "            L  A  Y\n",
       "Rheia       0  0  0\n",
       "Kronos      0  0  1\n",
       "Demeter     0  0  0\n",
       "Hades       0  0  0\n",
       "Hestia      0  1  0\n",
       "Poseidon    0  1  0\n",
       "Hera        0  1  0\n",
       "Zeus        0  1  1\n",
       "Artemis     1  0  1\n",
       "Apollo      1  0  1\n",
       "Leto        1  0  0\n",
       "Ares        1  1  1\n",
       "Athena      1  1  1\n",
       "Hephaestus  1  1  1\n",
       "Aphrodite   1  1  1\n",
       "Cyclope     1  1  1\n",
       "Persephone  1  1  1\n",
       "Hermes      1  1  0\n",
       "Hebe        1  1  0\n",
       "Dionysus    1  1  0"
      ]
     },
     "execution_count": 3,
     "metadata": {},
     "output_type": "execute_result"
    }
   ],
   "source": [
    "ch2data = {\n",
    "    'L': [0]*8 + [1]*12,\n",
    "    'A': [0]*4 + [1]*4 + [0]*3 + [1]*9,\n",
    "    'Y': [0,1] + [0]*5 + [1]*3 + [0] + [1]*6 + [0]*3,\n",
    "}\n",
    "ch2names = ['Rheia', 'Kronos', 'Demeter', 'Hades', 'Hestia', 'Poseidon', 'Hera', \n",
    "            'Zeus', 'Artemis', 'Apollo', 'Leto', 'Ares', 'Athena', 'Hephaestus', \n",
    "            'Aphrodite', 'Cyclope', 'Persephone', 'Hermes', 'Hebe', 'Dionysus']\n",
    "pd.DataFrame(ch2data, index=ch2names)"
   ]
  },
  {
   "cell_type": "markdown",
   "id": "d9ec93d9-35d9-47b5-8fd4-f1857b611b88",
   "metadata": {
    "tags": []
   },
   "source": [
    "## Basic function definitions"
   ]
  },
  {
   "cell_type": "markdown",
   "id": "0d48d39a-c737-4efe-8fe5-0b38b968dc9b",
   "metadata": {},
   "source": [
    "A utility function for generating all binary vectors of a given length."
   ]
  },
  {
   "cell_type": "code",
   "execution_count": 4,
   "id": "ea80269b-ff6c-486a-be2e-7d06ef0f5310",
   "metadata": {},
   "outputs": [],
   "source": [
    "def all_binary_vectors(length):\n",
    "    result = [[]]\n",
    "    while len(result[0]) < length:\n",
    "        result = [ vector + [val] for vector in result for val in [False, True] ]\n",
    "    return result"
   ]
  },
  {
   "cell_type": "code",
   "execution_count": 5,
   "id": "13a4372a-2baa-406b-bfee-1e1bb6971f93",
   "metadata": {},
   "outputs": [
    {
     "data": {
      "text/html": [
       "<div>\n",
       "<style scoped>\n",
       "    .dataframe tbody tr th:only-of-type {\n",
       "        vertical-align: middle;\n",
       "    }\n",
       "\n",
       "    .dataframe tbody tr th {\n",
       "        vertical-align: top;\n",
       "    }\n",
       "\n",
       "    .dataframe thead th {\n",
       "        text-align: right;\n",
       "    }\n",
       "</style>\n",
       "<table border=\"1\" class=\"dataframe\">\n",
       "  <thead>\n",
       "    <tr style=\"text-align: right;\">\n",
       "      <th></th>\n",
       "      <th>0</th>\n",
       "      <th>1</th>\n",
       "      <th>2</th>\n",
       "    </tr>\n",
       "  </thead>\n",
       "  <tbody>\n",
       "    <tr>\n",
       "      <th>0</th>\n",
       "      <td>False</td>\n",
       "      <td>False</td>\n",
       "      <td>False</td>\n",
       "    </tr>\n",
       "    <tr>\n",
       "      <th>1</th>\n",
       "      <td>False</td>\n",
       "      <td>False</td>\n",
       "      <td>True</td>\n",
       "    </tr>\n",
       "    <tr>\n",
       "      <th>2</th>\n",
       "      <td>False</td>\n",
       "      <td>True</td>\n",
       "      <td>False</td>\n",
       "    </tr>\n",
       "    <tr>\n",
       "      <th>3</th>\n",
       "      <td>False</td>\n",
       "      <td>True</td>\n",
       "      <td>True</td>\n",
       "    </tr>\n",
       "    <tr>\n",
       "      <th>4</th>\n",
       "      <td>True</td>\n",
       "      <td>False</td>\n",
       "      <td>False</td>\n",
       "    </tr>\n",
       "    <tr>\n",
       "      <th>5</th>\n",
       "      <td>True</td>\n",
       "      <td>False</td>\n",
       "      <td>True</td>\n",
       "    </tr>\n",
       "    <tr>\n",
       "      <th>6</th>\n",
       "      <td>True</td>\n",
       "      <td>True</td>\n",
       "      <td>False</td>\n",
       "    </tr>\n",
       "    <tr>\n",
       "      <th>7</th>\n",
       "      <td>True</td>\n",
       "      <td>True</td>\n",
       "      <td>True</td>\n",
       "    </tr>\n",
       "  </tbody>\n",
       "</table>\n",
       "</div>"
      ],
      "text/plain": [
       "       0      1      2\n",
       "0  False  False  False\n",
       "1  False  False   True\n",
       "2  False   True  False\n",
       "3  False   True   True\n",
       "4   True  False  False\n",
       "5   True  False   True\n",
       "6   True   True  False\n",
       "7   True   True   True"
      ]
     },
     "execution_count": 5,
     "metadata": {},
     "output_type": "execute_result"
    }
   ],
   "source": [
    "pd.DataFrame(all_binary_vectors(3))"
   ]
  },
  {
   "cell_type": "markdown",
   "id": "1d41c58e-57ed-4307-b72d-07b15afbd1c1",
   "metadata": {},
   "source": [
    "Calculate the standardized means for each level of A for a given dataset"
   ]
  },
  {
   "cell_type": "code",
   "execution_count": 6,
   "id": "bf9395b5-2f76-4b98-8875-fe3cad7875ed",
   "metadata": {},
   "outputs": [],
   "source": [
    "def fit_phat_Y_given_L_A(L, A, Y):\n",
    "    A = np.array(A)\n",
    "    Y = np.array(Y)\n",
    "    L = np.reshape(np.array(L), (len(Y), -1)) # force L to be a 2D array\n",
    "    M = L.shape[1]\n",
    "    A_levels = [False, True]\n",
    "    L_levels = all_binary_vectors(M)\n",
    "    phat_Y_given_L_A_table = np.empty((len(L_levels), len(A_levels)))\n",
    "    \n",
    "    for i,l in enumerate(L_levels):\n",
    "        mask_l = (np.product(L == l, axis=1) != 0)\n",
    "        for j,a in enumerate(A_levels):\n",
    "            phat_Y_given_L_A_table[i,j] = np.mean(Y[mask_l * (A == a)])\n",
    "    \n",
    "    def phat_Y_given_L_A(L, A):\n",
    "        A = np.array(A)\n",
    "        L = np.reshape(np.array(L), (-1, M)) # force L to be a 2D array\n",
    "        result = np.zeros(L.shape[0])\n",
    "        for i,l in enumerate(L_levels):\n",
    "            #print(L, l, )#np.product(L == l, axis=1) != 0)\n",
    "            mask_l = (np.product(L == l, axis=1) != 0)\n",
    "            for j,a in enumerate(A_levels):\n",
    "                result[mask_l * (A == a)] = phat_Y_given_L_A_table[i,j]\n",
    "        return result\n",
    "    \n",
    "    return phat_Y_given_L_A"
   ]
  },
  {
   "cell_type": "code",
   "execution_count": 7,
   "id": "ae2af588-1688-4fa0-99d5-6f922ade98f3",
   "metadata": {
    "tags": []
   },
   "outputs": [],
   "source": [
    "def fit_phat_L(L):\n",
    "    L = np.reshape(np.array(L), (np.array(L).shape[0], -1)) # force L to be a 2D array\n",
    "    M = L.shape[1]\n",
    "    L_levels = all_binary_vectors(M)\n",
    "    phat_L_table = np.zeros((len(L_levels),))\n",
    "\n",
    "    for i,l in enumerate(L_levels):\n",
    "        mask_l = (np.product(L == l, axis=1) != 0)\n",
    "        phat_L_table[i] = np.mean(mask_l)\n",
    "        \n",
    "    def phat_L(L):\n",
    "        L = np.reshape(np.array(L), (-1,M)) # force L to be a 2D array\n",
    "        result = np.zeros((L.shape[0],))\n",
    "        for i,l in enumerate(L_levels):\n",
    "            mask_l = (np.product(L == l, axis=1) != 0)\n",
    "            result += mask_l * phat_L_table[i]\n",
    "        return result\n",
    "        \n",
    "    return phat_L"
   ]
  },
  {
   "cell_type": "code",
   "execution_count": 8,
   "id": "c6c8f193-1b31-4996-aba7-1d6682a107ab",
   "metadata": {
    "tags": []
   },
   "outputs": [],
   "source": [
    "def standardized_means_for_A(L, A, Y):\n",
    "    A = np.array(A)\n",
    "    A_levels = [False, True]\n",
    "    L = np.reshape(np.array(L), (np.array(L).shape[0], -1)) # force L to be a 2D array\n",
    "    L_levels = all_binary_vectors(L.shape[1])\n",
    "    Y_mean = np.zeros((len(A_levels),))\n",
    "\n",
    "    phat_L = fit_phat_L(L)\n",
    "    phat_Y_given_L_A = fit_phat_Y_given_L_A(L, A, Y)\n",
    "    \n",
    "    for i,a in enumerate(A_levels):\n",
    "        for l in L_levels:\n",
    "            Y_mean[i] += (phat_Y_given_L_A(l, a) * phat_L(l))[0]\n",
    "\n",
    "    return {\n",
    "        'A_level': A_levels,\n",
    "        'Y_mean': Y_mean,\n",
    "    }"
   ]
  },
  {
   "cell_type": "code",
   "execution_count": 9,
   "id": "84d0221a-2b8c-4b54-8bad-7983f7261f31",
   "metadata": {},
   "outputs": [
    {
     "data": {
      "text/html": [
       "<div>\n",
       "<style scoped>\n",
       "    .dataframe tbody tr th:only-of-type {\n",
       "        vertical-align: middle;\n",
       "    }\n",
       "\n",
       "    .dataframe tbody tr th {\n",
       "        vertical-align: top;\n",
       "    }\n",
       "\n",
       "    .dataframe thead th {\n",
       "        text-align: right;\n",
       "    }\n",
       "</style>\n",
       "<table border=\"1\" class=\"dataframe\">\n",
       "  <thead>\n",
       "    <tr style=\"text-align: right;\">\n",
       "      <th></th>\n",
       "      <th>A_level</th>\n",
       "      <th>Y_mean</th>\n",
       "    </tr>\n",
       "  </thead>\n",
       "  <tbody>\n",
       "    <tr>\n",
       "      <th>0</th>\n",
       "      <td>False</td>\n",
       "      <td>0.5</td>\n",
       "    </tr>\n",
       "    <tr>\n",
       "      <th>1</th>\n",
       "      <td>True</td>\n",
       "      <td>0.5</td>\n",
       "    </tr>\n",
       "  </tbody>\n",
       "</table>\n",
       "</div>"
      ],
      "text/plain": [
       "   A_level  Y_mean\n",
       "0    False     0.5\n",
       "1     True     0.5"
      ]
     },
     "execution_count": 9,
     "metadata": {},
     "output_type": "execute_result"
    }
   ],
   "source": [
    "pd.DataFrame(standardized_means_for_A(**ch2data))"
   ]
  },
  {
   "cell_type": "code",
   "execution_count": 10,
   "id": "dabc3160-db96-48a9-a27d-602c3dcf89a2",
   "metadata": {
    "tags": []
   },
   "outputs": [],
   "source": [
    "def outcome_regression_for_A(L, A, Y):\n",
    "    A = np.array(A)\n",
    "    A_levels = [False, True]\n",
    "    L = np.reshape(np.array(L), (np.array(L).shape[0], -1)) # force L to be a 2D array\n",
    "    Y_mean = np.zeros((len(A_levels),))\n",
    "\n",
    "    phat_Y_given_L_A = fit_phat_Y_given_L_A(L, A, Y)\n",
    "    \n",
    "    for i,a in enumerate(A_levels):\n",
    "        Y_mean[i] += np.mean(phat_Y_given_L_A(L, a))\n",
    "\n",
    "    return {\n",
    "        'A_level': A_levels,\n",
    "        'Y_mean': Y_mean,\n",
    "    }"
   ]
  },
  {
   "cell_type": "code",
   "execution_count": 11,
   "id": "a8d1d6e5-3b81-41fa-8b99-446683d3e98c",
   "metadata": {},
   "outputs": [
    {
     "data": {
      "text/html": [
       "<div>\n",
       "<style scoped>\n",
       "    .dataframe tbody tr th:only-of-type {\n",
       "        vertical-align: middle;\n",
       "    }\n",
       "\n",
       "    .dataframe tbody tr th {\n",
       "        vertical-align: top;\n",
       "    }\n",
       "\n",
       "    .dataframe thead th {\n",
       "        text-align: right;\n",
       "    }\n",
       "</style>\n",
       "<table border=\"1\" class=\"dataframe\">\n",
       "  <thead>\n",
       "    <tr style=\"text-align: right;\">\n",
       "      <th></th>\n",
       "      <th>A_level</th>\n",
       "      <th>Y_mean</th>\n",
       "    </tr>\n",
       "  </thead>\n",
       "  <tbody>\n",
       "    <tr>\n",
       "      <th>0</th>\n",
       "      <td>False</td>\n",
       "      <td>0.5</td>\n",
       "    </tr>\n",
       "    <tr>\n",
       "      <th>1</th>\n",
       "      <td>True</td>\n",
       "      <td>0.5</td>\n",
       "    </tr>\n",
       "  </tbody>\n",
       "</table>\n",
       "</div>"
      ],
      "text/plain": [
       "   A_level  Y_mean\n",
       "0    False     0.5\n",
       "1     True     0.5"
      ]
     },
     "execution_count": 11,
     "metadata": {},
     "output_type": "execute_result"
    }
   ],
   "source": [
    "pd.DataFrame(outcome_regression_for_A(**ch2data))"
   ]
  },
  {
   "cell_type": "markdown",
   "id": "185cd6e4-a2d2-4941-932d-b0a21ead77f4",
   "metadata": {},
   "source": [
    "Calculate the inverse probability weighted means for each level of A for a given dataset"
   ]
  },
  {
   "cell_type": "code",
   "execution_count": 12,
   "id": "01f441c0-b764-4d95-93fa-f9c3638cf91a",
   "metadata": {
    "tags": []
   },
   "outputs": [],
   "source": [
    "# Separately tabulate the freqency of A for each possible level of L\n",
    "# (note: vectorized with respect to samples, so fast but a little ugly)\n",
    "def fit_phat_A_given_L(L, A):\n",
    "    A = np.array(A)\n",
    "    L = np.reshape(np.array(L), (len(A), -1)) # force L to be a 2D array\n",
    "    A_levels = [False, True]\n",
    "    L_levels = all_binary_vectors(L.shape[1])\n",
    "    phat_A_given_L_table = np.zeros((len(L_levels), len(A_levels)))\n",
    "\n",
    "    for i,l in enumerate(L_levels):\n",
    "        mask_l = (np.product(L == l, axis=1) != 0)\n",
    "        P_l = np.mean(mask_l)\n",
    "        for j,a in enumerate(A_levels):\n",
    "            phat_A_given_L_table[i,j] = np.mean(mask_l * (A == a))/P_l\n",
    "            \n",
    "    def phat_A_given_L(L):\n",
    "        L = np.reshape(np.array(L), (np.array(L).shape[0], -1)) # force L to be a 2D array\n",
    "        result = np.zeros((L.shape[0], len(A_levels)))\n",
    "        for i,l in enumerate(L_levels):\n",
    "            mask_l = (np.product(L == l, axis=1) != 0)\n",
    "            for j,a in enumerate(A_levels):\n",
    "                result[:,j] += mask_l * phat_A_given_L_table[i,j]\n",
    "        return result\n",
    "        \n",
    "    return phat_A_given_L"
   ]
  },
  {
   "cell_type": "code",
   "execution_count": 13,
   "id": "32e9bba1-b33a-4cea-a621-ed5feb868c89",
   "metadata": {},
   "outputs": [],
   "source": [
    "def ip_weighted_means_for_A(L, A, Y):\n",
    "    A = np.array(A)\n",
    "    A_levels = [False, True]\n",
    "    phat_A_given_L = fit_phat_A_given_L(L, A)\n",
    "    Y_mean = [np.mean(Y * (A == a) / phat_A_given_L(L)[:,i]) for i,a in enumerate(A_levels)]\n",
    "\n",
    "    return {\n",
    "        'A_level': A_levels,\n",
    "        'Y_mean': Y_mean,\n",
    "    }"
   ]
  },
  {
   "cell_type": "code",
   "execution_count": 14,
   "id": "0feae2a1-113c-4758-9288-d5e60695e234",
   "metadata": {},
   "outputs": [
    {
     "data": {
      "text/html": [
       "<div>\n",
       "<style scoped>\n",
       "    .dataframe tbody tr th:only-of-type {\n",
       "        vertical-align: middle;\n",
       "    }\n",
       "\n",
       "    .dataframe tbody tr th {\n",
       "        vertical-align: top;\n",
       "    }\n",
       "\n",
       "    .dataframe thead th {\n",
       "        text-align: right;\n",
       "    }\n",
       "</style>\n",
       "<table border=\"1\" class=\"dataframe\">\n",
       "  <thead>\n",
       "    <tr style=\"text-align: right;\">\n",
       "      <th></th>\n",
       "      <th>A_level</th>\n",
       "      <th>Y_mean</th>\n",
       "    </tr>\n",
       "  </thead>\n",
       "  <tbody>\n",
       "    <tr>\n",
       "      <th>0</th>\n",
       "      <td>False</td>\n",
       "      <td>0.5</td>\n",
       "    </tr>\n",
       "    <tr>\n",
       "      <th>1</th>\n",
       "      <td>True</td>\n",
       "      <td>0.5</td>\n",
       "    </tr>\n",
       "  </tbody>\n",
       "</table>\n",
       "</div>"
      ],
      "text/plain": [
       "   A_level  Y_mean\n",
       "0    False     0.5\n",
       "1     True     0.5"
      ]
     },
     "execution_count": 14,
     "metadata": {},
     "output_type": "execute_result"
    }
   ],
   "source": [
    "pd.DataFrame(ip_weighted_means_for_A(**ch2data))"
   ]
  },
  {
   "cell_type": "markdown",
   "id": "8668febd-bea2-4534-a5d2-3ca81ff794d6",
   "metadata": {},
   "source": [
    "Calculate the double-robust means for each level of A for a given dataset"
   ]
  },
  {
   "cell_type": "code",
   "execution_count": 15,
   "id": "d8cc33e1-f3d9-4e11-acbd-0a322294f95c",
   "metadata": {
    "tags": []
   },
   "outputs": [],
   "source": [
    "def doubly_robust_means_for_A(L, A, Y):\n",
    "    A = np.array(A)\n",
    "    A_levels = [False, True]\n",
    "    Y = np.array(Y)\n",
    "    \n",
    "    phat_A_given_L = fit_phat_A_given_L(L, A)\n",
    "    phat_Y_given_L_A = fit_phat_Y_given_L_A(L, A, Y)\n",
    "    f = phat_A_given_L(L)\n",
    "    \n",
    "    Y_mean = np.zeros((len(A_levels),))\n",
    "    for i,a in enumerate(A_levels):\n",
    "        q = phat_Y_given_L_A(L, a)\n",
    "        Y_mean[i] = np.mean(q + (A == a) / f[:,i] * (Y - q))\n",
    "\n",
    "    return {\n",
    "        'A_level': A_levels,\n",
    "        'Y_mean': Y_mean,\n",
    "    }"
   ]
  },
  {
   "cell_type": "code",
   "execution_count": 16,
   "id": "bd242d56-ddf4-4a86-a18d-8f3a2f0b9782",
   "metadata": {
    "tags": []
   },
   "outputs": [
    {
     "data": {
      "text/html": [
       "<div>\n",
       "<style scoped>\n",
       "    .dataframe tbody tr th:only-of-type {\n",
       "        vertical-align: middle;\n",
       "    }\n",
       "\n",
       "    .dataframe tbody tr th {\n",
       "        vertical-align: top;\n",
       "    }\n",
       "\n",
       "    .dataframe thead th {\n",
       "        text-align: right;\n",
       "    }\n",
       "</style>\n",
       "<table border=\"1\" class=\"dataframe\">\n",
       "  <thead>\n",
       "    <tr style=\"text-align: right;\">\n",
       "      <th></th>\n",
       "      <th>A_level</th>\n",
       "      <th>Y_mean</th>\n",
       "    </tr>\n",
       "  </thead>\n",
       "  <tbody>\n",
       "    <tr>\n",
       "      <th>0</th>\n",
       "      <td>False</td>\n",
       "      <td>0.5</td>\n",
       "    </tr>\n",
       "    <tr>\n",
       "      <th>1</th>\n",
       "      <td>True</td>\n",
       "      <td>0.5</td>\n",
       "    </tr>\n",
       "  </tbody>\n",
       "</table>\n",
       "</div>"
      ],
      "text/plain": [
       "   A_level  Y_mean\n",
       "0    False     0.5\n",
       "1     True     0.5"
      ]
     },
     "execution_count": 16,
     "metadata": {},
     "output_type": "execute_result"
    }
   ],
   "source": [
    "pd.DataFrame(doubly_robust_means_for_A(**ch2data))"
   ]
  },
  {
   "cell_type": "markdown",
   "id": "22091140-0bd4-4c01-89d8-f0f246a01325",
   "metadata": {},
   "source": [
    "Calculate the means for each level of A using a marginal structural model (in this case, inverse probability of treatment weighting using logistic marginal models)"
   ]
  },
  {
   "cell_type": "code",
   "execution_count": 17,
   "id": "3901b2ef-28ee-4905-b98a-6178928843f1",
   "metadata": {},
   "outputs": [],
   "source": [
    "# Use a logistic marginal model for L\n",
    "def fit_marginal_phat_A_given_L(L, A):\n",
    "    L = np.reshape(np.array(L), (len(A), -1)) # force L to be a 2D array\n",
    "    A = np.array(A)\n",
    "    \n",
    "    model = LogisticRegression(solver='liblinear').fit(L, A)\n",
    "    \n",
    "    def phat_A_given_L(L):\n",
    "        L = np.reshape(np.array(L), (np.array(L).shape[0], -1)) # force L to be a 2D array\n",
    "        return model.predict_proba(L)\n",
    "        \n",
    "    return phat_A_given_L"
   ]
  },
  {
   "cell_type": "code",
   "execution_count": 18,
   "id": "c71f2390-4a14-41d9-8050-d30846ddc0fa",
   "metadata": {
    "tags": []
   },
   "outputs": [],
   "source": [
    "def fit_marginal_phat_P_Y_given_L_A(L, A, Y):\n",
    "    L = np.reshape(np.array(L), (len(A), -1)) # force L to be a 2D array\n",
    "    A = np.array(A)\n",
    "\n",
    "    marginal_phat_A_given_L = fit_marginal_phat_A_given_L(L, A)\n",
    "    weights = A/marginal_phat_A_given_L(L)[:,1] + (1-A)/marginal_phat_A_given_L(L)[:,0]\n",
    "    X = A[:,np.newaxis]\n",
    "    model = LogisticRegression(solver='liblinear').fit(X, Y, weights)\n",
    "\n",
    "    def phat_Y_given_L_A(L, A):\n",
    "        A = np.array(A)\n",
    "        L = np.reshape(np.array(L), (np.array(L).shape[0], -1)) # force L to be a 2D array        \n",
    "        X = A[:,np.newaxis]\n",
    "        return model.predict_proba(X)\n",
    "        \n",
    "    return phat_Y_given_L_A   "
   ]
  },
  {
   "cell_type": "code",
   "execution_count": 19,
   "id": "6d0bf4e1-9722-4571-bf79-c644edbe041f",
   "metadata": {},
   "outputs": [],
   "source": [
    "def marginal_structural_model_for_A(L, A, Y):\n",
    "    L = np.reshape(np.array(L), (len(A), -1)) # force L to be a 2D array\n",
    "    A = np.array(A)\n",
    "    Y = np.array(Y)\n",
    "\n",
    "    marginal_phat_P_Y_given_L_A = fit_marginal_phat_P_Y_given_L_A(L, A, Y)\n",
    "    \n",
    "    A_levels = [False, True]\n",
    "    Y_mean = [np.mean(marginal_phat_P_Y_given_L_A(L, np.ones_like(A)*a)[:,1]) for a in A_levels]\n",
    "    \n",
    "    return {\n",
    "        'A_level': A_levels,\n",
    "        'Y_mean': Y_mean,\n",
    "    }"
   ]
  },
  {
   "cell_type": "code",
   "execution_count": 20,
   "id": "bf646573-08df-4085-948c-08f5063c646c",
   "metadata": {},
   "outputs": [
    {
     "data": {
      "text/html": [
       "<div>\n",
       "<style scoped>\n",
       "    .dataframe tbody tr th:only-of-type {\n",
       "        vertical-align: middle;\n",
       "    }\n",
       "\n",
       "    .dataframe tbody tr th {\n",
       "        vertical-align: top;\n",
       "    }\n",
       "\n",
       "    .dataframe thead th {\n",
       "        text-align: right;\n",
       "    }\n",
       "</style>\n",
       "<table border=\"1\" class=\"dataframe\">\n",
       "  <thead>\n",
       "    <tr style=\"text-align: right;\">\n",
       "      <th></th>\n",
       "      <th>A_level</th>\n",
       "      <th>Y_mean</th>\n",
       "    </tr>\n",
       "  </thead>\n",
       "  <tbody>\n",
       "    <tr>\n",
       "      <th>0</th>\n",
       "      <td>False</td>\n",
       "      <td>0.480048</td>\n",
       "    </tr>\n",
       "    <tr>\n",
       "      <th>1</th>\n",
       "      <td>True</td>\n",
       "      <td>0.510726</td>\n",
       "    </tr>\n",
       "  </tbody>\n",
       "</table>\n",
       "</div>"
      ],
      "text/plain": [
       "   A_level    Y_mean\n",
       "0    False  0.480048\n",
       "1     True  0.510726"
      ]
     },
     "execution_count": 20,
     "metadata": {},
     "output_type": "execute_result"
    }
   ],
   "source": [
    "pd.DataFrame(marginal_structural_model_for_A(**ch2data))"
   ]
  },
  {
   "cell_type": "markdown",
   "id": "d95c86f4-06bb-495a-a80c-a084624d2401",
   "metadata": {
    "tags": []
   },
   "source": [
    "#### Calculate the log of the odds ratio using g-estimation\n",
    "\n",
    "For a given link function $g(x)$, assume a linear effect of an intervention to create a structurally mean model (SMM):\n",
    "\n",
    "$$g(\\mathbb{E}(Y^a|L=l,A=a)) - g(\\mathbb{E}(Y^{a=0}|L=l,A=a)) = \\Psi_0 a + \\Psi_L al$$\n",
    "\n",
    "$$U = \\mathbb{E}(Y^{a=0}|L=l,A=a) = g^{-1}(g(\\mathbb{E}(Y^a|L=l,A=a)) - \\Psi_0 a - \\Psi_L al)$$\n",
    "\n",
    "\n",
    "We first define a structural mean model (SMM) with link function  $g(x) = \\mathrm{logit}(x)$ parameterized by $\\Psi_0$ and $\\Psi_L$:\n",
    "\n",
    "$$\\mathrm{logit}\\left(\\mathbb{E}\\left(Y^a|L=l,A=a\\right)\\right) \n",
    "    - \\mathrm{logit}\\left(\\mathbb{E}\\left(Y^0|L=l,A=a\\right)\\right)\n",
    "    = \\gamma(a, l; \\Psi_0, \\Psi_L),$$\n",
    "    \n",
    "where\n",
    "\n",
    "$$\\gamma(a, l; \\Psi_0, \\Psi_L) = \\Psi_0 a + \\Psi_L al. $$\n",
    "    \n",
    "We can then construct a variable $U(\\Psi_0, \\Psi_L)$ such that\n",
    "\n",
    "$$U(\\Psi_0, \\Psi_L) = \\mathrm{expit}\\left(\\mathrm{logit}\\left(\\mathbb{E}\\left(Y^a|L,A\\right)\\right) - \\Psi_0 A - \\Psi_L LA\\right)$$\n",
    "\n",
    "such that\n",
    "\n",
    "$$\\mathbb{E}\\left(U\\right | L,A)= \\mathbb{E}\\left(Y^{a=0} | L,A\\right).$$\n",
    "\n",
    "Because we assume $A \\perp\\!\\!\\perp Y^{a=0} | L$, we then find\n",
    "\n",
    "$$\\mathbb{E}\\left(U | L,A \\right)\n",
    "    = \\mathbb{E}\\left(Y^{a=0} | L,A\\right)\n",
    "    = \\mathbb{E}\\left(Y^{a=0} | L\\right)\n",
    "    = \\mathbb{E}\\left(U | L \\right)\n",
    ".$$\n",
    "\n",
    "More generally for an arbitrary function $f(A,L)$, $f(A,L) \\perp\\!\\!\\perp U | L$.  Thus \n",
    "\n",
    "$$0 = cov(f(A,L), U) | L\n",
    "    = \\sum_i (f(A_i, L_i) - \\mathbb{E}(f(A,L_i) | L_i)) \\cdot\n",
    "        (U_i - \\mathbb{E}(U | L_i))\n",
    ".$$\n",
    "\n",
    "We can then use this equality with the family of functions\n",
    "\n",
    "$$f_i(A,L) = \\frac{\\partial U}{\\partial \\psi_i}$$\n",
    "\n",
    "to provide a sufficient set of constraints to solve for $\\psi$. "
   ]
  },
  {
   "cell_type": "markdown",
   "id": "a5cc72c8-d88d-4d5a-bec2-8edc3cf654a6",
   "metadata": {},
   "source": [
    "Note: This function appears to work as long as the magnitude of the various effect sizes ($|\\beta|$) is approximately $1$ or less, but usually generates erroneously large effect sizes if $|\\beta|$ is greater than that. Maybe this is due to the vanishing derivatives of $\\mathrm{expit}(x)$ function when $|x| >> 1$? "
   ]
  },
  {
   "cell_type": "code",
   "execution_count": 70,
   "id": "dbf0286c-bac2-4d7d-bef6-1127c4a0b37b",
   "metadata": {},
   "outputs": [],
   "source": [
    "def g_estimation_log_odds_for_A(L, A, Y):\n",
    "    L = np.reshape(np.array(L), (len(A), -1)) # force L to be a 2D array\n",
    "    A = np.array(A)\n",
    "    a1 = np.ones_like(A)\n",
    "    a0 = np.zeros_like(A)\n",
    "    Y = np.array(Y)\n",
    "\n",
    "    L_augmented = np.hstack([L, np.ones((L.shape[0],1))])\n",
    "    phat_A_given_L = fit_phat_A_given_L(L, A)(L)[:,1]\n",
    "    phat_Y_given_L_A = fit_phat_Y_given_L_A(L, A, Y)\n",
    "    logit_phat_Y_given_L_A = special.logit(phat_Y_given_L_A(L,A))\n",
    "    logit_phat_Y_given_L_a1 = special.logit(phat_Y_given_L_A(L,a1))\n",
    "    logit_phat_Y_given_L_a0 = special.logit(phat_Y_given_L_A(L,a0))\n",
    "    \n",
    "    def gamma(L, A, psi):\n",
    "        L_augmented_ = np.hstack([L, np.ones((L.shape[0],1))])\n",
    "        return (L_augmented_ * A[:,np.newaxis]).dot(psi)\n",
    "    \n",
    "    def cov_dU_U(psi):\n",
    "        U = special.expit(logit_phat_Y_given_L_A - gamma(L, A, psi))\n",
    "        U_given_a0 = special.expit(logit_phat_Y_given_L_a0 - gamma(L, a0, psi))\n",
    "        U_given_a1 = special.expit(logit_phat_Y_given_L_a1 - gamma(L, a1, psi))\n",
    "        E_U_given_L = (phat_A_given_L * U_given_a1 + \n",
    "                       (1 - phat_A_given_L) * U_given_a0)\n",
    "        \n",
    "        dUdPsi = L_augmented * A[:,np.newaxis] * (U*(1-U))[:,np.newaxis]\n",
    "        E_dUdPsi_given_a0 = (L_augmented * a0[:,np.newaxis] *\n",
    "                               (U_given_a0*(1-U_given_a0))[:,np.newaxis])\n",
    "        E_dUdPsi_given_a1 = (L_augmented * a1[:,np.newaxis] *\n",
    "                               (U_given_a1*(1-U_given_a1))[:,np.newaxis])\n",
    "        E_dUdPsi_given_L = (phat_A_given_L[:,np.newaxis] * E_dUdPsi_given_a1 + \n",
    "                       (1 - phat_A_given_L[:,np.newaxis]) * E_dUdPsi_given_a0)\n",
    "        \n",
    "        #print(psi)\n",
    "        return np.sum((dUdPsi - E_dUdPsi_given_L) * (U - E_U_given_L)[:,np.newaxis], axis=0)\n",
    "    opt_res = optimize.root(cov_dU_U, np.ones(L.shape[1] + 1)*1e-3)\n",
    "    psi = opt_res.x\n",
    "    print(opt_res)\n",
    "    \n",
    "    return np.mean(gamma(L, np.ones_like(A), psi))"
   ]
  },
  {
   "cell_type": "code",
   "execution_count": 71,
   "id": "9e320289-c41b-4df8-8784-b4134ebdc0e2",
   "metadata": {},
   "outputs": [
    {
     "name": "stdout",
     "output_type": "stream",
     "text": [
      "    fjac: array([[-0.7244982 , -0.68927669],\n",
      "       [ 0.68927669, -0.7244982 ]])\n",
      "     fun: array([0., 0.])\n",
      " message: 'The solution converged.'\n",
      "    nfev: 9\n",
      "     qtf: array([ 6.41318184e-17, -1.31264618e-17])\n",
      "       r: array([0.17617531, 0.18662121, 0.05873358])\n",
      "  status: 1\n",
      " success: True\n",
      "       x: array([-1.36215427e-16, -6.29422849e-17])\n"
     ]
    },
    {
     "data": {
      "text/plain": [
       "-1.44671541251651e-16"
      ]
     },
     "execution_count": 71,
     "metadata": {},
     "output_type": "execute_result"
    }
   ],
   "source": [
    "g_estimation_log_odds_for_A(**ch2data)"
   ]
  },
  {
   "cell_type": "markdown",
   "id": "6e7f47cb-7c34-400f-8759-bfb55983958e",
   "metadata": {},
   "source": [
    "### Utilities\n",
    "\n",
    "A simple utility function for summarizing results for a given model"
   ]
  },
  {
   "cell_type": "code",
   "execution_count": 72,
   "id": "202826d3-c141-498d-aa39-8c35816f52d5",
   "metadata": {},
   "outputs": [],
   "source": [
    "def summarize_model(data, title='', description=''):\n",
    "    start_time = time.monotonic()\n",
    "    A = data['A']\n",
    "    L = np.reshape(np.array(data['L']), (len(A), -1)) # force L to be a 2D array\n",
    "    Y = data['Y']\n",
    "    \n",
    "    display(Markdown('### ' + title))\n",
    "    display(Markdown(description))\n",
    "    display(Markdown('#### Sample data'))\n",
    "    sample_df = pd.concat([\n",
    "        pd.DataFrame(L).add_prefix(\"L\"), \n",
    "        pd.Series(A, name='A'), \n",
    "        pd.Series(Y, name='Y')\n",
    "        ], axis=1)\n",
    "    display(sample_df.iloc[:12])\n",
    "\n",
    "    display(Markdown('#### Summary statistics'))\n",
    "    stats = {\n",
    "        '$\\\\bar L$': [np.mean(L[:,i]) for i in range(L.shape[1])],\n",
    "        '$\\\\bar A$': np.mean(A),\n",
    "        '$\\\\bar Y$': np.mean(Y),\n",
    "    }\n",
    "    if 'Y_a_0' in data:\n",
    "        stats = stats | {\n",
    "        '$\\\\bar Y^c_0$': np.mean(data['Y_a_0']),\n",
    "        '$\\\\bar Y^c_1$': np.mean(data['Y_a_1']),\n",
    "        }\n",
    "    display(pd.DataFrame({'statistic': stats.values()}, index=stats.keys()))\n",
    "    \n",
    "    model_names = []\n",
    "    Y_hat_a_0s = []\n",
    "    Y_hat_a_1s = []\n",
    "    beta_a_hats = []\n",
    "    \n",
    "    if 'Y_a_0' in data:\n",
    "        model_names.append('Underlying counterfactual data')\n",
    "        Y_hat_a_0s.append(np.mean(data['Y_a_0']))\n",
    "        Y_hat_a_1s.append(np.mean(data['Y_a_1']))\n",
    "        beta_a_hats.append(special.logit(np.mean(data['Y_a_1'])) -\n",
    "            special.logit(np.mean(data['Y_a_0'])))\n",
    "\n",
    "    models = [\n",
    "        [\"Standardized means\", standardized_means_for_A],\n",
    "        [\"Outcome regression\", outcome_regression_for_A], \n",
    "        [\"Inverse probability weighted means (IPW)\", ip_weighted_means_for_A],\n",
    "        [\"Doubly robust means\", doubly_robust_means_for_A],\n",
    "        [\"Marginal structural model (MSM)\", marginal_structural_model_for_A]\n",
    "    ]\n",
    "    for model_name, model in models:\n",
    "        model_names.append(model_name)\n",
    "        result = model(L, A, Y)\n",
    "        Y_hat_a_0s.append(result['Y_mean'][0])\n",
    "        Y_hat_a_1s.append(result['Y_mean'][1])\n",
    "        beta_a_hats.append(special.logit(result['Y_mean'][1]) -\n",
    "            special.logit(result['Y_mean'][0]))\n",
    "        \n",
    "    model_names.append('g-estimation')\n",
    "    Y_hat_a_0s.append('')\n",
    "    Y_hat_a_1s.append('')\n",
    "    beta_a_hats.append(g_estimation_log_odds_for_A(L, A, Y))\n",
    "\n",
    "        \n",
    "    display(Markdown('#### Estimators'))\n",
    "    display(pd.DataFrame({\n",
    "        '$\\\\hat Y^{a=0}$':Y_hat_a_0s, \n",
    "        '$\\\\hat Y^{a=1}$':Y_hat_a_1s,\n",
    "        '$\\\\hat \\\\beta_a$':beta_a_hats,\n",
    "    }, index=model_names))\n",
    "    \n",
    "    total_time = time.monotonic() - start_time\n",
    "    if total_time > 1:\n",
    "        display(Markdown(f'*Total execution time*: {total_time} s'))"
   ]
  },
  {
   "cell_type": "code",
   "execution_count": 73,
   "id": "0b55a71a-29da-4ebe-b3ca-ca8b33c12d78",
   "metadata": {},
   "outputs": [
    {
     "data": {
      "text/markdown": [
       "### Analysis of data from chapter 2"
      ],
      "text/plain": [
       "<IPython.core.display.Markdown object>"
      ]
     },
     "metadata": {},
     "output_type": "display_data"
    },
    {
     "data": {
      "text/markdown": [
       "Validating the summary function with data from chapter 2"
      ],
      "text/plain": [
       "<IPython.core.display.Markdown object>"
      ]
     },
     "metadata": {},
     "output_type": "display_data"
    },
    {
     "data": {
      "text/markdown": [
       "#### Sample data"
      ],
      "text/plain": [
       "<IPython.core.display.Markdown object>"
      ]
     },
     "metadata": {},
     "output_type": "display_data"
    },
    {
     "data": {
      "text/html": [
       "<div>\n",
       "<style scoped>\n",
       "    .dataframe tbody tr th:only-of-type {\n",
       "        vertical-align: middle;\n",
       "    }\n",
       "\n",
       "    .dataframe tbody tr th {\n",
       "        vertical-align: top;\n",
       "    }\n",
       "\n",
       "    .dataframe thead th {\n",
       "        text-align: right;\n",
       "    }\n",
       "</style>\n",
       "<table border=\"1\" class=\"dataframe\">\n",
       "  <thead>\n",
       "    <tr style=\"text-align: right;\">\n",
       "      <th></th>\n",
       "      <th>L0</th>\n",
       "      <th>A</th>\n",
       "      <th>Y</th>\n",
       "    </tr>\n",
       "  </thead>\n",
       "  <tbody>\n",
       "    <tr>\n",
       "      <th>0</th>\n",
       "      <td>0</td>\n",
       "      <td>0</td>\n",
       "      <td>0</td>\n",
       "    </tr>\n",
       "    <tr>\n",
       "      <th>1</th>\n",
       "      <td>0</td>\n",
       "      <td>0</td>\n",
       "      <td>1</td>\n",
       "    </tr>\n",
       "    <tr>\n",
       "      <th>2</th>\n",
       "      <td>0</td>\n",
       "      <td>0</td>\n",
       "      <td>0</td>\n",
       "    </tr>\n",
       "    <tr>\n",
       "      <th>3</th>\n",
       "      <td>0</td>\n",
       "      <td>0</td>\n",
       "      <td>0</td>\n",
       "    </tr>\n",
       "    <tr>\n",
       "      <th>4</th>\n",
       "      <td>0</td>\n",
       "      <td>1</td>\n",
       "      <td>0</td>\n",
       "    </tr>\n",
       "    <tr>\n",
       "      <th>5</th>\n",
       "      <td>0</td>\n",
       "      <td>1</td>\n",
       "      <td>0</td>\n",
       "    </tr>\n",
       "    <tr>\n",
       "      <th>6</th>\n",
       "      <td>0</td>\n",
       "      <td>1</td>\n",
       "      <td>0</td>\n",
       "    </tr>\n",
       "    <tr>\n",
       "      <th>7</th>\n",
       "      <td>0</td>\n",
       "      <td>1</td>\n",
       "      <td>1</td>\n",
       "    </tr>\n",
       "    <tr>\n",
       "      <th>8</th>\n",
       "      <td>1</td>\n",
       "      <td>0</td>\n",
       "      <td>1</td>\n",
       "    </tr>\n",
       "    <tr>\n",
       "      <th>9</th>\n",
       "      <td>1</td>\n",
       "      <td>0</td>\n",
       "      <td>1</td>\n",
       "    </tr>\n",
       "    <tr>\n",
       "      <th>10</th>\n",
       "      <td>1</td>\n",
       "      <td>0</td>\n",
       "      <td>0</td>\n",
       "    </tr>\n",
       "    <tr>\n",
       "      <th>11</th>\n",
       "      <td>1</td>\n",
       "      <td>1</td>\n",
       "      <td>1</td>\n",
       "    </tr>\n",
       "  </tbody>\n",
       "</table>\n",
       "</div>"
      ],
      "text/plain": [
       "    L0  A  Y\n",
       "0    0  0  0\n",
       "1    0  0  1\n",
       "2    0  0  0\n",
       "3    0  0  0\n",
       "4    0  1  0\n",
       "5    0  1  0\n",
       "6    0  1  0\n",
       "7    0  1  1\n",
       "8    1  0  1\n",
       "9    1  0  1\n",
       "10   1  0  0\n",
       "11   1  1  1"
      ]
     },
     "metadata": {},
     "output_type": "display_data"
    },
    {
     "data": {
      "text/markdown": [
       "#### Summary statistics"
      ],
      "text/plain": [
       "<IPython.core.display.Markdown object>"
      ]
     },
     "metadata": {},
     "output_type": "display_data"
    },
    {
     "data": {
      "text/html": [
       "<div>\n",
       "<style scoped>\n",
       "    .dataframe tbody tr th:only-of-type {\n",
       "        vertical-align: middle;\n",
       "    }\n",
       "\n",
       "    .dataframe tbody tr th {\n",
       "        vertical-align: top;\n",
       "    }\n",
       "\n",
       "    .dataframe thead th {\n",
       "        text-align: right;\n",
       "    }\n",
       "</style>\n",
       "<table border=\"1\" class=\"dataframe\">\n",
       "  <thead>\n",
       "    <tr style=\"text-align: right;\">\n",
       "      <th></th>\n",
       "      <th>statistic</th>\n",
       "    </tr>\n",
       "  </thead>\n",
       "  <tbody>\n",
       "    <tr>\n",
       "      <th>$\\bar L$</th>\n",
       "      <td>[0.6]</td>\n",
       "    </tr>\n",
       "    <tr>\n",
       "      <th>$\\bar A$</th>\n",
       "      <td>0.65</td>\n",
       "    </tr>\n",
       "    <tr>\n",
       "      <th>$\\bar Y$</th>\n",
       "      <td>0.5</td>\n",
       "    </tr>\n",
       "  </tbody>\n",
       "</table>\n",
       "</div>"
      ],
      "text/plain": [
       "         statistic\n",
       "$\\bar L$     [0.6]\n",
       "$\\bar A$      0.65\n",
       "$\\bar Y$       0.5"
      ]
     },
     "metadata": {},
     "output_type": "display_data"
    },
    {
     "name": "stdout",
     "output_type": "stream",
     "text": [
      "    fjac: array([[-0.7244982 , -0.68927669],\n",
      "       [ 0.68927669, -0.7244982 ]])\n",
      "     fun: array([0., 0.])\n",
      " message: 'The solution converged.'\n",
      "    nfev: 9\n",
      "     qtf: array([ 6.41318184e-17, -1.31264618e-17])\n",
      "       r: array([0.17617531, 0.18662121, 0.05873358])\n",
      "  status: 1\n",
      " success: True\n",
      "       x: array([-1.36215427e-16, -6.29422849e-17])\n"
     ]
    },
    {
     "data": {
      "text/markdown": [
       "#### Estimators"
      ],
      "text/plain": [
       "<IPython.core.display.Markdown object>"
      ]
     },
     "metadata": {},
     "output_type": "display_data"
    },
    {
     "data": {
      "text/html": [
       "<div>\n",
       "<style scoped>\n",
       "    .dataframe tbody tr th:only-of-type {\n",
       "        vertical-align: middle;\n",
       "    }\n",
       "\n",
       "    .dataframe tbody tr th {\n",
       "        vertical-align: top;\n",
       "    }\n",
       "\n",
       "    .dataframe thead th {\n",
       "        text-align: right;\n",
       "    }\n",
       "</style>\n",
       "<table border=\"1\" class=\"dataframe\">\n",
       "  <thead>\n",
       "    <tr style=\"text-align: right;\">\n",
       "      <th></th>\n",
       "      <th>$\\hat Y^{a=0}$</th>\n",
       "      <th>$\\hat Y^{a=1}$</th>\n",
       "      <th>$\\hat \\beta_a$</th>\n",
       "    </tr>\n",
       "  </thead>\n",
       "  <tbody>\n",
       "    <tr>\n",
       "      <th>Standardized means</th>\n",
       "      <td>0.5</td>\n",
       "      <td>0.5</td>\n",
       "      <td>0.000000e+00</td>\n",
       "    </tr>\n",
       "    <tr>\n",
       "      <th>Outcome regression</th>\n",
       "      <td>0.5</td>\n",
       "      <td>0.5</td>\n",
       "      <td>0.000000e+00</td>\n",
       "    </tr>\n",
       "    <tr>\n",
       "      <th>Inverse probability weighted means (IPW)</th>\n",
       "      <td>0.5</td>\n",
       "      <td>0.5</td>\n",
       "      <td>0.000000e+00</td>\n",
       "    </tr>\n",
       "    <tr>\n",
       "      <th>Doubly robust means</th>\n",
       "      <td>0.5</td>\n",
       "      <td>0.5</td>\n",
       "      <td>8.881784e-16</td>\n",
       "    </tr>\n",
       "    <tr>\n",
       "      <th>Marginal structural model (MSM)</th>\n",
       "      <td>0.480048</td>\n",
       "      <td>0.510726</td>\n",
       "      <td>1.227615e-01</td>\n",
       "    </tr>\n",
       "    <tr>\n",
       "      <th>g-estimation</th>\n",
       "      <td></td>\n",
       "      <td></td>\n",
       "      <td>-1.446715e-16</td>\n",
       "    </tr>\n",
       "  </tbody>\n",
       "</table>\n",
       "</div>"
      ],
      "text/plain": [
       "                                         $\\hat Y^{a=0}$ $\\hat Y^{a=1}$  \\\n",
       "Standardized means                                  0.5            0.5   \n",
       "Outcome regression                                  0.5            0.5   \n",
       "Inverse probability weighted means (IPW)            0.5            0.5   \n",
       "Doubly robust means                                 0.5            0.5   \n",
       "Marginal structural model (MSM)                0.480048       0.510726   \n",
       "g-estimation                                                             \n",
       "\n",
       "                                          $\\hat \\beta_a$  \n",
       "Standardized means                          0.000000e+00  \n",
       "Outcome regression                          0.000000e+00  \n",
       "Inverse probability weighted means (IPW)    0.000000e+00  \n",
       "Doubly robust means                         8.881784e-16  \n",
       "Marginal structural model (MSM)             1.227615e-01  \n",
       "g-estimation                               -1.446715e-16  "
      ]
     },
     "metadata": {},
     "output_type": "display_data"
    }
   ],
   "source": [
    "summarize_model(ch2data, 'Analysis of data from chapter 2', 'Validating the summary function with data from chapter 2')"
   ]
  },
  {
   "cell_type": "markdown",
   "id": "67d9c50f-a0d1-46bd-89d4-db3e4bb23a79",
   "metadata": {},
   "source": [
    "## Testing with generated data"
   ]
  },
  {
   "cell_type": "markdown",
   "id": "21a1457f-65e5-4c8b-8c15-6287c145e373",
   "metadata": {},
   "source": [
    "Start with a simple parameterized model..."
   ]
  },
  {
   "cell_type": "code",
   "execution_count": 74,
   "id": "8260b3b7-d8df-4d38-946c-e04a22a690d1",
   "metadata": {
    "tags": []
   },
   "outputs": [],
   "source": [
    "def generate_simple_logistic_model_data(N=100000, P_L=0.5,\n",
    "                                        beta_A_0=0, beta_A_L=0, \n",
    "                                        beta_Y_0=0, beta_Y_L=0, beta_Y_A=0, beta_Y_LA=0,\n",
    "                                        debug_info=False):\n",
    "    # reshape and broadcast values into appropriately sized arrays\n",
    "    P_L = np.array(P_L).reshape((-1,)) # expand P_L to a 2d array if needed\n",
    "    M = len(P_L)\n",
    "    if np.isscalar(beta_A_L) == 1: # broadcast to appropriate shape if needed\n",
    "        beta_A_L = np.array([beta_A_L]*M)\n",
    "    else:\n",
    "        beta_A_L = np.array([beta_A_L]).reshape((M,))\n",
    "    if np.isscalar(beta_Y_L) == 1: # broadcast to appropriate shape if needed\n",
    "        beta_Y_L = np.array([beta_Y_L]*M)\n",
    "    else:\n",
    "        beta_Y_L = np.array([beta_Y_L]).reshape((M,))\n",
    "    if np.isscalar(beta_Y_LA) == 1: # broadcast to appropriate shape if needed\n",
    "        beta_Y_LA = np.array([beta_Y_LA]*M)\n",
    "    else:\n",
    "        beta_Y_LA = np.array([beta_Y_LA]).reshape((M,))\n",
    "    \n",
    "    L = np.random.uniform(size=(N,)+np.array(P_L).shape) < P_L\n",
    "    P_A_given_l = sps.logistic.cdf(beta_A_0 + L.dot(beta_A_L))\n",
    "    A = np.random.uniform(size=N) < P_A_given_l\n",
    "    P_Y_given_l_a_0 = sps.logistic.cdf(beta_Y_0 + L.dot(beta_Y_L) #+\n",
    "                                     #A.dot(beta_Y_A) +\n",
    "                                     #L.dot(beta_Y_LA)*A\n",
    "                                     )\n",
    "    P_Y_given_l_a_1 = sps.logistic.cdf(beta_Y_0 + L.dot(beta_Y_L) +\n",
    "                                     beta_Y_A +#A.dot(beta_Y_A) +\n",
    "                                     L.dot(beta_Y_LA)#L.dot(beta_Y_LA)*A\n",
    "                                     )\n",
    "    Y_a_0 = np.random.uniform(size=N) < P_Y_given_l_a_0\n",
    "    Y_a_1 = np.random.uniform(size=N) < P_Y_given_l_a_1\n",
    "    Y = Y_a_0 * (1 - A) + Y_a_1 * A\n",
    "    \n",
    "    return {\n",
    "        'L' : L,\n",
    "        'A' : A,\n",
    "        'Y' : Y,\n",
    "        'Y_a_0': Y_a_0,\n",
    "        'Y_a_1': Y_a_1,\n",
    "    } | ({\n",
    "        'P_L' : P_L,\n",
    "        'P_A_given_l' : P_A_given_l, \n",
    "        'P_Y_given_l_a' : P_Y_given_l_a,\n",
    "    } if debug_info else {})"
   ]
  },
  {
   "cell_type": "code",
   "execution_count": 75,
   "id": "d5e64889-8c85-43ae-9cc0-2803184dbb8b",
   "metadata": {},
   "outputs": [
    {
     "data": {
      "text/markdown": [
       "### Maximal entropy model"
      ],
      "text/plain": [
       "<IPython.core.display.Markdown object>"
      ]
     },
     "metadata": {},
     "output_type": "display_data"
    },
    {
     "data": {
      "text/markdown": [
       "No interactions, 1:1 odds for L, A, and Y"
      ],
      "text/plain": [
       "<IPython.core.display.Markdown object>"
      ]
     },
     "metadata": {},
     "output_type": "display_data"
    },
    {
     "data": {
      "text/markdown": [
       "#### Sample data"
      ],
      "text/plain": [
       "<IPython.core.display.Markdown object>"
      ]
     },
     "metadata": {},
     "output_type": "display_data"
    },
    {
     "data": {
      "text/html": [
       "<div>\n",
       "<style scoped>\n",
       "    .dataframe tbody tr th:only-of-type {\n",
       "        vertical-align: middle;\n",
       "    }\n",
       "\n",
       "    .dataframe tbody tr th {\n",
       "        vertical-align: top;\n",
       "    }\n",
       "\n",
       "    .dataframe thead th {\n",
       "        text-align: right;\n",
       "    }\n",
       "</style>\n",
       "<table border=\"1\" class=\"dataframe\">\n",
       "  <thead>\n",
       "    <tr style=\"text-align: right;\">\n",
       "      <th></th>\n",
       "      <th>L0</th>\n",
       "      <th>A</th>\n",
       "      <th>Y</th>\n",
       "    </tr>\n",
       "  </thead>\n",
       "  <tbody>\n",
       "    <tr>\n",
       "      <th>0</th>\n",
       "      <td>False</td>\n",
       "      <td>True</td>\n",
       "      <td>0</td>\n",
       "    </tr>\n",
       "    <tr>\n",
       "      <th>1</th>\n",
       "      <td>False</td>\n",
       "      <td>True</td>\n",
       "      <td>0</td>\n",
       "    </tr>\n",
       "    <tr>\n",
       "      <th>2</th>\n",
       "      <td>False</td>\n",
       "      <td>False</td>\n",
       "      <td>0</td>\n",
       "    </tr>\n",
       "    <tr>\n",
       "      <th>3</th>\n",
       "      <td>True</td>\n",
       "      <td>False</td>\n",
       "      <td>0</td>\n",
       "    </tr>\n",
       "    <tr>\n",
       "      <th>4</th>\n",
       "      <td>False</td>\n",
       "      <td>False</td>\n",
       "      <td>1</td>\n",
       "    </tr>\n",
       "    <tr>\n",
       "      <th>5</th>\n",
       "      <td>True</td>\n",
       "      <td>True</td>\n",
       "      <td>1</td>\n",
       "    </tr>\n",
       "    <tr>\n",
       "      <th>6</th>\n",
       "      <td>True</td>\n",
       "      <td>False</td>\n",
       "      <td>1</td>\n",
       "    </tr>\n",
       "    <tr>\n",
       "      <th>7</th>\n",
       "      <td>True</td>\n",
       "      <td>False</td>\n",
       "      <td>0</td>\n",
       "    </tr>\n",
       "    <tr>\n",
       "      <th>8</th>\n",
       "      <td>False</td>\n",
       "      <td>True</td>\n",
       "      <td>1</td>\n",
       "    </tr>\n",
       "    <tr>\n",
       "      <th>9</th>\n",
       "      <td>True</td>\n",
       "      <td>True</td>\n",
       "      <td>0</td>\n",
       "    </tr>\n",
       "    <tr>\n",
       "      <th>10</th>\n",
       "      <td>False</td>\n",
       "      <td>True</td>\n",
       "      <td>0</td>\n",
       "    </tr>\n",
       "    <tr>\n",
       "      <th>11</th>\n",
       "      <td>False</td>\n",
       "      <td>False</td>\n",
       "      <td>1</td>\n",
       "    </tr>\n",
       "  </tbody>\n",
       "</table>\n",
       "</div>"
      ],
      "text/plain": [
       "       L0      A  Y\n",
       "0   False   True  0\n",
       "1   False   True  0\n",
       "2   False  False  0\n",
       "3    True  False  0\n",
       "4   False  False  1\n",
       "5    True   True  1\n",
       "6    True  False  1\n",
       "7    True  False  0\n",
       "8   False   True  1\n",
       "9    True   True  0\n",
       "10  False   True  0\n",
       "11  False  False  1"
      ]
     },
     "metadata": {},
     "output_type": "display_data"
    },
    {
     "data": {
      "text/markdown": [
       "#### Summary statistics"
      ],
      "text/plain": [
       "<IPython.core.display.Markdown object>"
      ]
     },
     "metadata": {},
     "output_type": "display_data"
    },
    {
     "data": {
      "text/html": [
       "<div>\n",
       "<style scoped>\n",
       "    .dataframe tbody tr th:only-of-type {\n",
       "        vertical-align: middle;\n",
       "    }\n",
       "\n",
       "    .dataframe tbody tr th {\n",
       "        vertical-align: top;\n",
       "    }\n",
       "\n",
       "    .dataframe thead th {\n",
       "        text-align: right;\n",
       "    }\n",
       "</style>\n",
       "<table border=\"1\" class=\"dataframe\">\n",
       "  <thead>\n",
       "    <tr style=\"text-align: right;\">\n",
       "      <th></th>\n",
       "      <th>statistic</th>\n",
       "    </tr>\n",
       "  </thead>\n",
       "  <tbody>\n",
       "    <tr>\n",
       "      <th>$\\bar L$</th>\n",
       "      <td>[0.49849]</td>\n",
       "    </tr>\n",
       "    <tr>\n",
       "      <th>$\\bar A$</th>\n",
       "      <td>0.49923</td>\n",
       "    </tr>\n",
       "    <tr>\n",
       "      <th>$\\bar Y$</th>\n",
       "      <td>0.49889</td>\n",
       "    </tr>\n",
       "    <tr>\n",
       "      <th>$\\bar Y^c_0$</th>\n",
       "      <td>0.49939</td>\n",
       "    </tr>\n",
       "    <tr>\n",
       "      <th>$\\bar Y^c_1$</th>\n",
       "      <td>0.49911</td>\n",
       "    </tr>\n",
       "  </tbody>\n",
       "</table>\n",
       "</div>"
      ],
      "text/plain": [
       "              statistic\n",
       "$\\bar L$      [0.49849]\n",
       "$\\bar A$        0.49923\n",
       "$\\bar Y$        0.49889\n",
       "$\\bar Y^c_0$    0.49939\n",
       "$\\bar Y^c_1$    0.49911"
      ]
     },
     "metadata": {},
     "output_type": "display_data"
    },
    {
     "name": "stdout",
     "output_type": "stream",
     "text": [
      "    fjac: array([[-0.70711366, -0.7070999 ],\n",
      "       [ 0.7070999 , -0.70711366]])\n",
      "     fun: array([6.91772851e-13, 3.43781319e-13])\n",
      " message: 'The solution converged.'\n",
      "    nfev: 6\n",
      "     qtf: array([-1.41974946e-08,  1.06114953e-09])\n",
      "       r: array([1101.48634121, 1655.57904499,  554.09534739])\n",
      "  status: 1\n",
      " success: True\n",
      "       x: array([-0.00788578,  0.00677938])\n"
     ]
    },
    {
     "data": {
      "text/markdown": [
       "#### Estimators"
      ],
      "text/plain": [
       "<IPython.core.display.Markdown object>"
      ]
     },
     "metadata": {},
     "output_type": "display_data"
    },
    {
     "data": {
      "text/html": [
       "<div>\n",
       "<style scoped>\n",
       "    .dataframe tbody tr th:only-of-type {\n",
       "        vertical-align: middle;\n",
       "    }\n",
       "\n",
       "    .dataframe tbody tr th {\n",
       "        vertical-align: top;\n",
       "    }\n",
       "\n",
       "    .dataframe thead th {\n",
       "        text-align: right;\n",
       "    }\n",
       "</style>\n",
       "<table border=\"1\" class=\"dataframe\">\n",
       "  <thead>\n",
       "    <tr style=\"text-align: right;\">\n",
       "      <th></th>\n",
       "      <th>$\\hat Y^{a=0}$</th>\n",
       "      <th>$\\hat Y^{a=1}$</th>\n",
       "      <th>$\\hat \\beta_a$</th>\n",
       "    </tr>\n",
       "  </thead>\n",
       "  <tbody>\n",
       "    <tr>\n",
       "      <th>Underlying counterfactual data</th>\n",
       "      <td>0.49939</td>\n",
       "      <td>0.49911</td>\n",
       "      <td>-0.001120</td>\n",
       "    </tr>\n",
       "    <tr>\n",
       "      <th>Standardized means</th>\n",
       "      <td>0.498534</td>\n",
       "      <td>0.499246</td>\n",
       "      <td>0.002848</td>\n",
       "    </tr>\n",
       "    <tr>\n",
       "      <th>Outcome regression</th>\n",
       "      <td>0.498534</td>\n",
       "      <td>0.499246</td>\n",
       "      <td>0.002848</td>\n",
       "    </tr>\n",
       "    <tr>\n",
       "      <th>Inverse probability weighted means (IPW)</th>\n",
       "      <td>0.498534</td>\n",
       "      <td>0.499246</td>\n",
       "      <td>0.002848</td>\n",
       "    </tr>\n",
       "    <tr>\n",
       "      <th>Doubly robust means</th>\n",
       "      <td>0.498534</td>\n",
       "      <td>0.499246</td>\n",
       "      <td>0.002848</td>\n",
       "    </tr>\n",
       "    <tr>\n",
       "      <th>Marginal structural model (MSM)</th>\n",
       "      <td>0.498534</td>\n",
       "      <td>0.499246</td>\n",
       "      <td>0.002848</td>\n",
       "    </tr>\n",
       "    <tr>\n",
       "      <th>g-estimation</th>\n",
       "      <td></td>\n",
       "      <td></td>\n",
       "      <td>0.002848</td>\n",
       "    </tr>\n",
       "  </tbody>\n",
       "</table>\n",
       "</div>"
      ],
      "text/plain": [
       "                                         $\\hat Y^{a=0}$ $\\hat Y^{a=1}$  \\\n",
       "Underlying counterfactual data                  0.49939        0.49911   \n",
       "Standardized means                             0.498534       0.499246   \n",
       "Outcome regression                             0.498534       0.499246   \n",
       "Inverse probability weighted means (IPW)       0.498534       0.499246   \n",
       "Doubly robust means                            0.498534       0.499246   \n",
       "Marginal structural model (MSM)                0.498534       0.499246   \n",
       "g-estimation                                                             \n",
       "\n",
       "                                          $\\hat \\beta_a$  \n",
       "Underlying counterfactual data                 -0.001120  \n",
       "Standardized means                              0.002848  \n",
       "Outcome regression                              0.002848  \n",
       "Inverse probability weighted means (IPW)        0.002848  \n",
       "Doubly robust means                             0.002848  \n",
       "Marginal structural model (MSM)                 0.002848  \n",
       "g-estimation                                    0.002848  "
      ]
     },
     "metadata": {},
     "output_type": "display_data"
    }
   ],
   "source": [
    "summarize_model(generate_simple_logistic_model_data(), 'Maximal entropy model', 'No interactions, 1:1 odds for L, A, and Y')"
   ]
  },
  {
   "cell_type": "code",
   "execution_count": 76,
   "id": "a0eaae94-2043-45fd-a74b-1e4820f3f4b5",
   "metadata": {},
   "outputs": [
    {
     "data": {
      "text/markdown": [
       "### Simple randomized protective intervention"
      ],
      "text/plain": [
       "<IPython.core.display.Markdown object>"
      ]
     },
     "metadata": {},
     "output_type": "display_data"
    },
    {
     "data": {
      "text/markdown": [
       "Assumes no effect from covariate"
      ],
      "text/plain": [
       "<IPython.core.display.Markdown object>"
      ]
     },
     "metadata": {},
     "output_type": "display_data"
    },
    {
     "data": {
      "text/markdown": [
       "#### Sample data"
      ],
      "text/plain": [
       "<IPython.core.display.Markdown object>"
      ]
     },
     "metadata": {},
     "output_type": "display_data"
    },
    {
     "data": {
      "text/html": [
       "<div>\n",
       "<style scoped>\n",
       "    .dataframe tbody tr th:only-of-type {\n",
       "        vertical-align: middle;\n",
       "    }\n",
       "\n",
       "    .dataframe tbody tr th {\n",
       "        vertical-align: top;\n",
       "    }\n",
       "\n",
       "    .dataframe thead th {\n",
       "        text-align: right;\n",
       "    }\n",
       "</style>\n",
       "<table border=\"1\" class=\"dataframe\">\n",
       "  <thead>\n",
       "    <tr style=\"text-align: right;\">\n",
       "      <th></th>\n",
       "      <th>L0</th>\n",
       "      <th>A</th>\n",
       "      <th>Y</th>\n",
       "    </tr>\n",
       "  </thead>\n",
       "  <tbody>\n",
       "    <tr>\n",
       "      <th>0</th>\n",
       "      <td>True</td>\n",
       "      <td>True</td>\n",
       "      <td>0</td>\n",
       "    </tr>\n",
       "    <tr>\n",
       "      <th>1</th>\n",
       "      <td>False</td>\n",
       "      <td>False</td>\n",
       "      <td>1</td>\n",
       "    </tr>\n",
       "    <tr>\n",
       "      <th>2</th>\n",
       "      <td>True</td>\n",
       "      <td>False</td>\n",
       "      <td>1</td>\n",
       "    </tr>\n",
       "    <tr>\n",
       "      <th>3</th>\n",
       "      <td>True</td>\n",
       "      <td>False</td>\n",
       "      <td>0</td>\n",
       "    </tr>\n",
       "    <tr>\n",
       "      <th>4</th>\n",
       "      <td>True</td>\n",
       "      <td>True</td>\n",
       "      <td>0</td>\n",
       "    </tr>\n",
       "    <tr>\n",
       "      <th>5</th>\n",
       "      <td>True</td>\n",
       "      <td>False</td>\n",
       "      <td>0</td>\n",
       "    </tr>\n",
       "    <tr>\n",
       "      <th>6</th>\n",
       "      <td>True</td>\n",
       "      <td>False</td>\n",
       "      <td>0</td>\n",
       "    </tr>\n",
       "    <tr>\n",
       "      <th>7</th>\n",
       "      <td>True</td>\n",
       "      <td>True</td>\n",
       "      <td>0</td>\n",
       "    </tr>\n",
       "    <tr>\n",
       "      <th>8</th>\n",
       "      <td>False</td>\n",
       "      <td>False</td>\n",
       "      <td>0</td>\n",
       "    </tr>\n",
       "    <tr>\n",
       "      <th>9</th>\n",
       "      <td>True</td>\n",
       "      <td>True</td>\n",
       "      <td>1</td>\n",
       "    </tr>\n",
       "    <tr>\n",
       "      <th>10</th>\n",
       "      <td>False</td>\n",
       "      <td>False</td>\n",
       "      <td>0</td>\n",
       "    </tr>\n",
       "    <tr>\n",
       "      <th>11</th>\n",
       "      <td>True</td>\n",
       "      <td>False</td>\n",
       "      <td>0</td>\n",
       "    </tr>\n",
       "  </tbody>\n",
       "</table>\n",
       "</div>"
      ],
      "text/plain": [
       "       L0      A  Y\n",
       "0    True   True  0\n",
       "1   False  False  1\n",
       "2    True  False  1\n",
       "3    True  False  0\n",
       "4    True   True  0\n",
       "5    True  False  0\n",
       "6    True  False  0\n",
       "7    True   True  0\n",
       "8   False  False  0\n",
       "9    True   True  1\n",
       "10  False  False  0\n",
       "11   True  False  0"
      ]
     },
     "metadata": {},
     "output_type": "display_data"
    },
    {
     "data": {
      "text/markdown": [
       "#### Summary statistics"
      ],
      "text/plain": [
       "<IPython.core.display.Markdown object>"
      ]
     },
     "metadata": {},
     "output_type": "display_data"
    },
    {
     "data": {
      "text/html": [
       "<div>\n",
       "<style scoped>\n",
       "    .dataframe tbody tr th:only-of-type {\n",
       "        vertical-align: middle;\n",
       "    }\n",
       "\n",
       "    .dataframe tbody tr th {\n",
       "        vertical-align: top;\n",
       "    }\n",
       "\n",
       "    .dataframe thead th {\n",
       "        text-align: right;\n",
       "    }\n",
       "</style>\n",
       "<table border=\"1\" class=\"dataframe\">\n",
       "  <thead>\n",
       "    <tr style=\"text-align: right;\">\n",
       "      <th></th>\n",
       "      <th>statistic</th>\n",
       "    </tr>\n",
       "  </thead>\n",
       "  <tbody>\n",
       "    <tr>\n",
       "      <th>$\\bar L$</th>\n",
       "      <td>[0.50105]</td>\n",
       "    </tr>\n",
       "    <tr>\n",
       "      <th>$\\bar A$</th>\n",
       "      <td>0.50036</td>\n",
       "    </tr>\n",
       "    <tr>\n",
       "      <th>$\\bar Y$</th>\n",
       "      <td>0.38349</td>\n",
       "    </tr>\n",
       "    <tr>\n",
       "      <th>$\\bar Y^c_0$</th>\n",
       "      <td>0.49697</td>\n",
       "    </tr>\n",
       "    <tr>\n",
       "      <th>$\\bar Y^c_1$</th>\n",
       "      <td>0.27013</td>\n",
       "    </tr>\n",
       "  </tbody>\n",
       "</table>\n",
       "</div>"
      ],
      "text/plain": [
       "              statistic\n",
       "$\\bar L$      [0.50105]\n",
       "$\\bar A$        0.50036\n",
       "$\\bar Y$        0.38349\n",
       "$\\bar Y^c_0$    0.49697\n",
       "$\\bar Y^c_1$    0.27013"
      ]
     },
     "metadata": {},
     "output_type": "display_data"
    },
    {
     "name": "stdout",
     "output_type": "stream",
     "text": [
      "    fjac: array([[-0.74204632, -0.67034861],\n",
      "       [ 0.67034861, -0.74204632]])\n",
      "     fun: array([8.22330389e-10, 1.62207279e-09])\n",
      " message: 'The solution converged.'\n",
      "    nfev: 13\n",
      "     qtf: array([6.28779419e-06, 2.41161774e-06])\n",
      "       r: array([ 959.45919264, 1631.69108752,  635.98555392])\n",
      "  status: 1\n",
      " success: True\n",
      "       x: array([ 0.01349245, -0.98484527])\n"
     ]
    },
    {
     "data": {
      "text/markdown": [
       "#### Estimators"
      ],
      "text/plain": [
       "<IPython.core.display.Markdown object>"
      ]
     },
     "metadata": {},
     "output_type": "display_data"
    },
    {
     "data": {
      "text/html": [
       "<div>\n",
       "<style scoped>\n",
       "    .dataframe tbody tr th:only-of-type {\n",
       "        vertical-align: middle;\n",
       "    }\n",
       "\n",
       "    .dataframe tbody tr th {\n",
       "        vertical-align: top;\n",
       "    }\n",
       "\n",
       "    .dataframe thead th {\n",
       "        text-align: right;\n",
       "    }\n",
       "</style>\n",
       "<table border=\"1\" class=\"dataframe\">\n",
       "  <thead>\n",
       "    <tr style=\"text-align: right;\">\n",
       "      <th></th>\n",
       "      <th>$\\hat Y^{a=0}$</th>\n",
       "      <th>$\\hat Y^{a=1}$</th>\n",
       "      <th>$\\hat \\beta_a$</th>\n",
       "    </tr>\n",
       "  </thead>\n",
       "  <tbody>\n",
       "    <tr>\n",
       "      <th>Underlying counterfactual data</th>\n",
       "      <td>0.49697</td>\n",
       "      <td>0.27013</td>\n",
       "      <td>-0.981843</td>\n",
       "    </tr>\n",
       "    <tr>\n",
       "      <th>Standardized means</th>\n",
       "      <td>0.496582</td>\n",
       "      <td>0.270565</td>\n",
       "      <td>-0.978085</td>\n",
       "    </tr>\n",
       "    <tr>\n",
       "      <th>Outcome regression</th>\n",
       "      <td>0.496582</td>\n",
       "      <td>0.270565</td>\n",
       "      <td>-0.978085</td>\n",
       "    </tr>\n",
       "    <tr>\n",
       "      <th>Inverse probability weighted means (IPW)</th>\n",
       "      <td>0.496582</td>\n",
       "      <td>0.270565</td>\n",
       "      <td>-0.978085</td>\n",
       "    </tr>\n",
       "    <tr>\n",
       "      <th>Doubly robust means</th>\n",
       "      <td>0.496582</td>\n",
       "      <td>0.270565</td>\n",
       "      <td>-0.978085</td>\n",
       "    </tr>\n",
       "    <tr>\n",
       "      <th>Marginal structural model (MSM)</th>\n",
       "      <td>0.496572</td>\n",
       "      <td>0.270575</td>\n",
       "      <td>-0.977997</td>\n",
       "    </tr>\n",
       "    <tr>\n",
       "      <th>g-estimation</th>\n",
       "      <td></td>\n",
       "      <td></td>\n",
       "      <td>-0.978085</td>\n",
       "    </tr>\n",
       "  </tbody>\n",
       "</table>\n",
       "</div>"
      ],
      "text/plain": [
       "                                         $\\hat Y^{a=0}$ $\\hat Y^{a=1}$  \\\n",
       "Underlying counterfactual data                  0.49697        0.27013   \n",
       "Standardized means                             0.496582       0.270565   \n",
       "Outcome regression                             0.496582       0.270565   \n",
       "Inverse probability weighted means (IPW)       0.496582       0.270565   \n",
       "Doubly robust means                            0.496582       0.270565   \n",
       "Marginal structural model (MSM)                0.496572       0.270575   \n",
       "g-estimation                                                             \n",
       "\n",
       "                                          $\\hat \\beta_a$  \n",
       "Underlying counterfactual data                 -0.981843  \n",
       "Standardized means                             -0.978085  \n",
       "Outcome regression                             -0.978085  \n",
       "Inverse probability weighted means (IPW)       -0.978085  \n",
       "Doubly robust means                            -0.978085  \n",
       "Marginal structural model (MSM)                -0.977997  \n",
       "g-estimation                                   -0.978085  "
      ]
     },
     "metadata": {},
     "output_type": "display_data"
    },
    {
     "data": {
      "text/markdown": [
       "*Total execution time*: 1.4838208170840517 s"
      ],
      "text/plain": [
       "<IPython.core.display.Markdown object>"
      ]
     },
     "metadata": {},
     "output_type": "display_data"
    }
   ],
   "source": [
    "summarize_model(generate_simple_logistic_model_data(beta_Y_A=-1),\n",
    "                'Simple randomized protective intervention', 'Assumes no effect from covariate')"
   ]
  },
  {
   "cell_type": "code",
   "execution_count": 77,
   "id": "f3542547-a0c5-4557-a86f-8ac509522e23",
   "metadata": {},
   "outputs": [
    {
     "data": {
      "text/markdown": [
       "### Randomized, covariate is risk, intervention is protective"
      ],
      "text/plain": [
       "<IPython.core.display.Markdown object>"
      ]
     },
     "metadata": {},
     "output_type": "display_data"
    },
    {
     "data": {
      "text/markdown": [
       "1:1 odds of covariate"
      ],
      "text/plain": [
       "<IPython.core.display.Markdown object>"
      ]
     },
     "metadata": {},
     "output_type": "display_data"
    },
    {
     "data": {
      "text/markdown": [
       "#### Sample data"
      ],
      "text/plain": [
       "<IPython.core.display.Markdown object>"
      ]
     },
     "metadata": {},
     "output_type": "display_data"
    },
    {
     "data": {
      "text/html": [
       "<div>\n",
       "<style scoped>\n",
       "    .dataframe tbody tr th:only-of-type {\n",
       "        vertical-align: middle;\n",
       "    }\n",
       "\n",
       "    .dataframe tbody tr th {\n",
       "        vertical-align: top;\n",
       "    }\n",
       "\n",
       "    .dataframe thead th {\n",
       "        text-align: right;\n",
       "    }\n",
       "</style>\n",
       "<table border=\"1\" class=\"dataframe\">\n",
       "  <thead>\n",
       "    <tr style=\"text-align: right;\">\n",
       "      <th></th>\n",
       "      <th>L0</th>\n",
       "      <th>A</th>\n",
       "      <th>Y</th>\n",
       "    </tr>\n",
       "  </thead>\n",
       "  <tbody>\n",
       "    <tr>\n",
       "      <th>0</th>\n",
       "      <td>True</td>\n",
       "      <td>True</td>\n",
       "      <td>0</td>\n",
       "    </tr>\n",
       "    <tr>\n",
       "      <th>1</th>\n",
       "      <td>True</td>\n",
       "      <td>True</td>\n",
       "      <td>1</td>\n",
       "    </tr>\n",
       "    <tr>\n",
       "      <th>2</th>\n",
       "      <td>True</td>\n",
       "      <td>False</td>\n",
       "      <td>1</td>\n",
       "    </tr>\n",
       "    <tr>\n",
       "      <th>3</th>\n",
       "      <td>False</td>\n",
       "      <td>False</td>\n",
       "      <td>1</td>\n",
       "    </tr>\n",
       "    <tr>\n",
       "      <th>4</th>\n",
       "      <td>False</td>\n",
       "      <td>True</td>\n",
       "      <td>0</td>\n",
       "    </tr>\n",
       "    <tr>\n",
       "      <th>5</th>\n",
       "      <td>True</td>\n",
       "      <td>False</td>\n",
       "      <td>1</td>\n",
       "    </tr>\n",
       "    <tr>\n",
       "      <th>6</th>\n",
       "      <td>False</td>\n",
       "      <td>False</td>\n",
       "      <td>0</td>\n",
       "    </tr>\n",
       "    <tr>\n",
       "      <th>7</th>\n",
       "      <td>True</td>\n",
       "      <td>False</td>\n",
       "      <td>1</td>\n",
       "    </tr>\n",
       "    <tr>\n",
       "      <th>8</th>\n",
       "      <td>False</td>\n",
       "      <td>False</td>\n",
       "      <td>1</td>\n",
       "    </tr>\n",
       "    <tr>\n",
       "      <th>9</th>\n",
       "      <td>False</td>\n",
       "      <td>True</td>\n",
       "      <td>0</td>\n",
       "    </tr>\n",
       "    <tr>\n",
       "      <th>10</th>\n",
       "      <td>False</td>\n",
       "      <td>True</td>\n",
       "      <td>0</td>\n",
       "    </tr>\n",
       "    <tr>\n",
       "      <th>11</th>\n",
       "      <td>False</td>\n",
       "      <td>False</td>\n",
       "      <td>1</td>\n",
       "    </tr>\n",
       "  </tbody>\n",
       "</table>\n",
       "</div>"
      ],
      "text/plain": [
       "       L0      A  Y\n",
       "0    True   True  0\n",
       "1    True   True  1\n",
       "2    True  False  1\n",
       "3   False  False  1\n",
       "4   False   True  0\n",
       "5    True  False  1\n",
       "6   False  False  0\n",
       "7    True  False  1\n",
       "8   False  False  1\n",
       "9   False   True  0\n",
       "10  False   True  0\n",
       "11  False  False  1"
      ]
     },
     "metadata": {},
     "output_type": "display_data"
    },
    {
     "data": {
      "text/markdown": [
       "#### Summary statistics"
      ],
      "text/plain": [
       "<IPython.core.display.Markdown object>"
      ]
     },
     "metadata": {},
     "output_type": "display_data"
    },
    {
     "data": {
      "text/html": [
       "<div>\n",
       "<style scoped>\n",
       "    .dataframe tbody tr th:only-of-type {\n",
       "        vertical-align: middle;\n",
       "    }\n",
       "\n",
       "    .dataframe tbody tr th {\n",
       "        vertical-align: top;\n",
       "    }\n",
       "\n",
       "    .dataframe thead th {\n",
       "        text-align: right;\n",
       "    }\n",
       "</style>\n",
       "<table border=\"1\" class=\"dataframe\">\n",
       "  <thead>\n",
       "    <tr style=\"text-align: right;\">\n",
       "      <th></th>\n",
       "      <th>statistic</th>\n",
       "    </tr>\n",
       "  </thead>\n",
       "  <tbody>\n",
       "    <tr>\n",
       "      <th>$\\bar L$</th>\n",
       "      <td>[0.49931]</td>\n",
       "    </tr>\n",
       "    <tr>\n",
       "      <th>$\\bar A$</th>\n",
       "      <td>0.50293</td>\n",
       "    </tr>\n",
       "    <tr>\n",
       "      <th>$\\bar Y$</th>\n",
       "      <td>0.50084</td>\n",
       "    </tr>\n",
       "    <tr>\n",
       "      <th>$\\bar Y^c_0$</th>\n",
       "      <td>0.61546</td>\n",
       "    </tr>\n",
       "    <tr>\n",
       "      <th>$\\bar Y^c_1$</th>\n",
       "      <td>0.38564</td>\n",
       "    </tr>\n",
       "  </tbody>\n",
       "</table>\n",
       "</div>"
      ],
      "text/plain": [
       "              statistic\n",
       "$\\bar L$      [0.49931]\n",
       "$\\bar A$        0.50293\n",
       "$\\bar Y$        0.50084\n",
       "$\\bar Y^c_0$    0.61546\n",
       "$\\bar Y^c_1$    0.38564"
      ]
     },
     "metadata": {},
     "output_type": "display_data"
    },
    {
     "name": "stdout",
     "output_type": "stream",
     "text": [
      "    fjac: array([[-0.70998891, -0.70421286],\n",
      "       [ 0.70421286, -0.70998891]])\n",
      "     fun: array([-2.70196253e-13, -6.17616670e-13])\n",
      " message: 'The solution converged.'\n",
      "    nfev: 15\n",
      "     qtf: array([-1.77152592e-09,  1.49253371e-10])\n",
      "       r: array([ 703.69039516, 1586.73390688,  527.52315631])\n",
      "  status: 1\n",
      " success: True\n",
      "       x: array([-0.02669723, -0.9853869 ])\n"
     ]
    },
    {
     "data": {
      "text/markdown": [
       "#### Estimators"
      ],
      "text/plain": [
       "<IPython.core.display.Markdown object>"
      ]
     },
     "metadata": {},
     "output_type": "display_data"
    },
    {
     "data": {
      "text/html": [
       "<div>\n",
       "<style scoped>\n",
       "    .dataframe tbody tr th:only-of-type {\n",
       "        vertical-align: middle;\n",
       "    }\n",
       "\n",
       "    .dataframe tbody tr th {\n",
       "        vertical-align: top;\n",
       "    }\n",
       "\n",
       "    .dataframe thead th {\n",
       "        text-align: right;\n",
       "    }\n",
       "</style>\n",
       "<table border=\"1\" class=\"dataframe\">\n",
       "  <thead>\n",
       "    <tr style=\"text-align: right;\">\n",
       "      <th></th>\n",
       "      <th>$\\hat Y^{a=0}$</th>\n",
       "      <th>$\\hat Y^{a=1}$</th>\n",
       "      <th>$\\hat \\beta_a$</th>\n",
       "    </tr>\n",
       "  </thead>\n",
       "  <tbody>\n",
       "    <tr>\n",
       "      <th>Underlying counterfactual data</th>\n",
       "      <td>0.61546</td>\n",
       "      <td>0.38564</td>\n",
       "      <td>-0.935999</td>\n",
       "    </tr>\n",
       "    <tr>\n",
       "      <th>Standardized means</th>\n",
       "      <td>0.616807</td>\n",
       "      <td>0.386232</td>\n",
       "      <td>-0.939196</td>\n",
       "    </tr>\n",
       "    <tr>\n",
       "      <th>Outcome regression</th>\n",
       "      <td>0.616807</td>\n",
       "      <td>0.386232</td>\n",
       "      <td>-0.939196</td>\n",
       "    </tr>\n",
       "    <tr>\n",
       "      <th>Inverse probability weighted means (IPW)</th>\n",
       "      <td>0.616807</td>\n",
       "      <td>0.386232</td>\n",
       "      <td>-0.939196</td>\n",
       "    </tr>\n",
       "    <tr>\n",
       "      <th>Doubly robust means</th>\n",
       "      <td>0.616807</td>\n",
       "      <td>0.386232</td>\n",
       "      <td>-0.939196</td>\n",
       "    </tr>\n",
       "    <tr>\n",
       "      <th>Marginal structural model (MSM)</th>\n",
       "      <td>0.616791</td>\n",
       "      <td>0.386243</td>\n",
       "      <td>-0.939079</td>\n",
       "    </tr>\n",
       "    <tr>\n",
       "      <th>g-estimation</th>\n",
       "      <td></td>\n",
       "      <td></td>\n",
       "      <td>-0.998717</td>\n",
       "    </tr>\n",
       "  </tbody>\n",
       "</table>\n",
       "</div>"
      ],
      "text/plain": [
       "                                         $\\hat Y^{a=0}$ $\\hat Y^{a=1}$  \\\n",
       "Underlying counterfactual data                  0.61546        0.38564   \n",
       "Standardized means                             0.616807       0.386232   \n",
       "Outcome regression                             0.616807       0.386232   \n",
       "Inverse probability weighted means (IPW)       0.616807       0.386232   \n",
       "Doubly robust means                            0.616807       0.386232   \n",
       "Marginal structural model (MSM)                0.616791       0.386243   \n",
       "g-estimation                                                             \n",
       "\n",
       "                                          $\\hat \\beta_a$  \n",
       "Underlying counterfactual data                 -0.935999  \n",
       "Standardized means                             -0.939196  \n",
       "Outcome regression                             -0.939196  \n",
       "Inverse probability weighted means (IPW)       -0.939196  \n",
       "Doubly robust means                            -0.939196  \n",
       "Marginal structural model (MSM)                -0.939079  \n",
       "g-estimation                                   -0.998717  "
      ]
     },
     "metadata": {},
     "output_type": "display_data"
    },
    {
     "data": {
      "text/markdown": [
       "*Total execution time*: 1.3497557069640607 s"
      ],
      "text/plain": [
       "<IPython.core.display.Markdown object>"
      ]
     },
     "metadata": {},
     "output_type": "display_data"
    }
   ],
   "source": [
    "summarize_model(generate_simple_logistic_model_data(beta_Y_A=-1, beta_Y_L=1),\n",
    "                'Randomized, covariate is risk, intervention is protective',\n",
    "                '1:1 odds of covariate')"
   ]
  },
  {
   "cell_type": "code",
   "execution_count": 78,
   "id": "5f8c93a8-f5c4-41f0-8cd3-1567e408ada9",
   "metadata": {},
   "outputs": [
    {
     "data": {
      "text/markdown": [
       "### Randomized, covariate is risk, rare intervention is protective"
      ],
      "text/plain": [
       "<IPython.core.display.Markdown object>"
      ]
     },
     "metadata": {},
     "output_type": "display_data"
    },
    {
     "data": {
      "text/markdown": [
       "1:1 odds of covariate"
      ],
      "text/plain": [
       "<IPython.core.display.Markdown object>"
      ]
     },
     "metadata": {},
     "output_type": "display_data"
    },
    {
     "data": {
      "text/markdown": [
       "#### Sample data"
      ],
      "text/plain": [
       "<IPython.core.display.Markdown object>"
      ]
     },
     "metadata": {},
     "output_type": "display_data"
    },
    {
     "data": {
      "text/html": [
       "<div>\n",
       "<style scoped>\n",
       "    .dataframe tbody tr th:only-of-type {\n",
       "        vertical-align: middle;\n",
       "    }\n",
       "\n",
       "    .dataframe tbody tr th {\n",
       "        vertical-align: top;\n",
       "    }\n",
       "\n",
       "    .dataframe thead th {\n",
       "        text-align: right;\n",
       "    }\n",
       "</style>\n",
       "<table border=\"1\" class=\"dataframe\">\n",
       "  <thead>\n",
       "    <tr style=\"text-align: right;\">\n",
       "      <th></th>\n",
       "      <th>L0</th>\n",
       "      <th>A</th>\n",
       "      <th>Y</th>\n",
       "    </tr>\n",
       "  </thead>\n",
       "  <tbody>\n",
       "    <tr>\n",
       "      <th>0</th>\n",
       "      <td>True</td>\n",
       "      <td>False</td>\n",
       "      <td>1</td>\n",
       "    </tr>\n",
       "    <tr>\n",
       "      <th>1</th>\n",
       "      <td>False</td>\n",
       "      <td>False</td>\n",
       "      <td>1</td>\n",
       "    </tr>\n",
       "    <tr>\n",
       "      <th>2</th>\n",
       "      <td>True</td>\n",
       "      <td>False</td>\n",
       "      <td>0</td>\n",
       "    </tr>\n",
       "    <tr>\n",
       "      <th>3</th>\n",
       "      <td>False</td>\n",
       "      <td>False</td>\n",
       "      <td>0</td>\n",
       "    </tr>\n",
       "    <tr>\n",
       "      <th>4</th>\n",
       "      <td>True</td>\n",
       "      <td>True</td>\n",
       "      <td>0</td>\n",
       "    </tr>\n",
       "    <tr>\n",
       "      <th>5</th>\n",
       "      <td>True</td>\n",
       "      <td>False</td>\n",
       "      <td>1</td>\n",
       "    </tr>\n",
       "    <tr>\n",
       "      <th>6</th>\n",
       "      <td>False</td>\n",
       "      <td>False</td>\n",
       "      <td>1</td>\n",
       "    </tr>\n",
       "    <tr>\n",
       "      <th>7</th>\n",
       "      <td>True</td>\n",
       "      <td>False</td>\n",
       "      <td>1</td>\n",
       "    </tr>\n",
       "    <tr>\n",
       "      <th>8</th>\n",
       "      <td>True</td>\n",
       "      <td>False</td>\n",
       "      <td>0</td>\n",
       "    </tr>\n",
       "    <tr>\n",
       "      <th>9</th>\n",
       "      <td>False</td>\n",
       "      <td>True</td>\n",
       "      <td>1</td>\n",
       "    </tr>\n",
       "    <tr>\n",
       "      <th>10</th>\n",
       "      <td>False</td>\n",
       "      <td>False</td>\n",
       "      <td>1</td>\n",
       "    </tr>\n",
       "    <tr>\n",
       "      <th>11</th>\n",
       "      <td>True</td>\n",
       "      <td>False</td>\n",
       "      <td>1</td>\n",
       "    </tr>\n",
       "  </tbody>\n",
       "</table>\n",
       "</div>"
      ],
      "text/plain": [
       "       L0      A  Y\n",
       "0    True  False  1\n",
       "1   False  False  1\n",
       "2    True  False  0\n",
       "3   False  False  0\n",
       "4    True   True  0\n",
       "5    True  False  1\n",
       "6   False  False  1\n",
       "7    True  False  1\n",
       "8    True  False  0\n",
       "9   False   True  1\n",
       "10  False  False  1\n",
       "11   True  False  1"
      ]
     },
     "metadata": {},
     "output_type": "display_data"
    },
    {
     "data": {
      "text/markdown": [
       "#### Summary statistics"
      ],
      "text/plain": [
       "<IPython.core.display.Markdown object>"
      ]
     },
     "metadata": {},
     "output_type": "display_data"
    },
    {
     "data": {
      "text/html": [
       "<div>\n",
       "<style scoped>\n",
       "    .dataframe tbody tr th:only-of-type {\n",
       "        vertical-align: middle;\n",
       "    }\n",
       "\n",
       "    .dataframe tbody tr th {\n",
       "        vertical-align: top;\n",
       "    }\n",
       "\n",
       "    .dataframe thead th {\n",
       "        text-align: right;\n",
       "    }\n",
       "</style>\n",
       "<table border=\"1\" class=\"dataframe\">\n",
       "  <thead>\n",
       "    <tr style=\"text-align: right;\">\n",
       "      <th></th>\n",
       "      <th>statistic</th>\n",
       "    </tr>\n",
       "  </thead>\n",
       "  <tbody>\n",
       "    <tr>\n",
       "      <th>$\\bar L$</th>\n",
       "      <td>[0.49642]</td>\n",
       "    </tr>\n",
       "    <tr>\n",
       "      <th>$\\bar A$</th>\n",
       "      <td>0.11759</td>\n",
       "    </tr>\n",
       "    <tr>\n",
       "      <th>$\\bar Y$</th>\n",
       "      <td>0.58959</td>\n",
       "    </tr>\n",
       "    <tr>\n",
       "      <th>$\\bar Y^c_0$</th>\n",
       "      <td>0.61582</td>\n",
       "    </tr>\n",
       "    <tr>\n",
       "      <th>$\\bar Y^c_1$</th>\n",
       "      <td>0.38364</td>\n",
       "    </tr>\n",
       "  </tbody>\n",
       "</table>\n",
       "</div>"
      ],
      "text/plain": [
       "              statistic\n",
       "$\\bar L$      [0.49642]\n",
       "$\\bar A$        0.11759\n",
       "$\\bar Y$        0.58959\n",
       "$\\bar Y^c_0$    0.61582\n",
       "$\\bar Y^c_1$    0.38364"
      ]
     },
     "metadata": {},
     "output_type": "display_data"
    },
    {
     "name": "stdout",
     "output_type": "stream",
     "text": [
      "    fjac: array([[-0.70926174, -0.70494523],\n",
      "       [ 0.70494523, -0.70926174]])\n",
      "     fun: array([-2.29229158e-13, -2.29229158e-13])\n",
      " message: 'The solution converged.'\n",
      "    nfev: 15\n",
      "     qtf: array([-1.02365776e-09,  7.50120608e-11])\n",
      "       r: array([298.60961732, 657.51488713, 217.08080348])\n",
      "  status: 1\n",
      " success: True\n",
      "       x: array([ 0.05630695, -1.00580206])\n"
     ]
    },
    {
     "data": {
      "text/markdown": [
       "#### Estimators"
      ],
      "text/plain": [
       "<IPython.core.display.Markdown object>"
      ]
     },
     "metadata": {},
     "output_type": "display_data"
    },
    {
     "data": {
      "text/html": [
       "<div>\n",
       "<style scoped>\n",
       "    .dataframe tbody tr th:only-of-type {\n",
       "        vertical-align: middle;\n",
       "    }\n",
       "\n",
       "    .dataframe tbody tr th {\n",
       "        vertical-align: top;\n",
       "    }\n",
       "\n",
       "    .dataframe thead th {\n",
       "        text-align: right;\n",
       "    }\n",
       "</style>\n",
       "<table border=\"1\" class=\"dataframe\">\n",
       "  <thead>\n",
       "    <tr style=\"text-align: right;\">\n",
       "      <th></th>\n",
       "      <th>$\\hat Y^{a=0}$</th>\n",
       "      <th>$\\hat Y^{a=1}$</th>\n",
       "      <th>$\\hat \\beta_a$</th>\n",
       "    </tr>\n",
       "  </thead>\n",
       "  <tbody>\n",
       "    <tr>\n",
       "      <th>Underlying counterfactual data</th>\n",
       "      <td>0.61582</td>\n",
       "      <td>0.38364</td>\n",
       "      <td>-0.945970</td>\n",
       "    </tr>\n",
       "    <tr>\n",
       "      <th>Standardized means</th>\n",
       "      <td>0.616089</td>\n",
       "      <td>0.39057</td>\n",
       "      <td>-0.917896</td>\n",
       "    </tr>\n",
       "    <tr>\n",
       "      <th>Outcome regression</th>\n",
       "      <td>0.616089</td>\n",
       "      <td>0.39057</td>\n",
       "      <td>-0.917896</td>\n",
       "    </tr>\n",
       "    <tr>\n",
       "      <th>Inverse probability weighted means (IPW)</th>\n",
       "      <td>0.616089</td>\n",
       "      <td>0.39057</td>\n",
       "      <td>-0.917896</td>\n",
       "    </tr>\n",
       "    <tr>\n",
       "      <th>Doubly robust means</th>\n",
       "      <td>0.616089</td>\n",
       "      <td>0.39057</td>\n",
       "      <td>-0.917896</td>\n",
       "    </tr>\n",
       "    <tr>\n",
       "      <th>Marginal structural model (MSM)</th>\n",
       "      <td>0.616069</td>\n",
       "      <td>0.390607</td>\n",
       "      <td>-0.917661</td>\n",
       "    </tr>\n",
       "    <tr>\n",
       "      <th>g-estimation</th>\n",
       "      <td></td>\n",
       "      <td></td>\n",
       "      <td>-0.977850</td>\n",
       "    </tr>\n",
       "  </tbody>\n",
       "</table>\n",
       "</div>"
      ],
      "text/plain": [
       "                                         $\\hat Y^{a=0}$ $\\hat Y^{a=1}$  \\\n",
       "Underlying counterfactual data                  0.61582        0.38364   \n",
       "Standardized means                             0.616089        0.39057   \n",
       "Outcome regression                             0.616089        0.39057   \n",
       "Inverse probability weighted means (IPW)       0.616089        0.39057   \n",
       "Doubly robust means                            0.616089        0.39057   \n",
       "Marginal structural model (MSM)                0.616069       0.390607   \n",
       "g-estimation                                                             \n",
       "\n",
       "                                          $\\hat \\beta_a$  \n",
       "Underlying counterfactual data                 -0.945970  \n",
       "Standardized means                             -0.917896  \n",
       "Outcome regression                             -0.917896  \n",
       "Inverse probability weighted means (IPW)       -0.917896  \n",
       "Doubly robust means                            -0.917896  \n",
       "Marginal structural model (MSM)                -0.917661  \n",
       "g-estimation                                   -0.977850  "
      ]
     },
     "metadata": {},
     "output_type": "display_data"
    },
    {
     "data": {
      "text/markdown": [
       "*Total execution time*: 1.227130011888221 s"
      ],
      "text/plain": [
       "<IPython.core.display.Markdown object>"
      ]
     },
     "metadata": {},
     "output_type": "display_data"
    }
   ],
   "source": [
    "summarize_model(generate_simple_logistic_model_data(beta_A_0=-2, beta_Y_A=-1, beta_Y_L=1),\n",
    "                'Randomized, covariate is risk, rare intervention is protective',\n",
    "                '1:1 odds of covariate')"
   ]
  },
  {
   "cell_type": "code",
   "execution_count": 46,
   "id": "a612adf2-738c-4d2c-92f0-f1f8298468f7",
   "metadata": {},
   "outputs": [
    {
     "data": {
      "text/markdown": [
       "### Randomized, common covariate is risk, rare intervention is protective"
      ],
      "text/plain": [
       "<IPython.core.display.Markdown object>"
      ]
     },
     "metadata": {},
     "output_type": "display_data"
    },
    {
     "data": {
      "text/markdown": [
       "1:1 odds of covariate"
      ],
      "text/plain": [
       "<IPython.core.display.Markdown object>"
      ]
     },
     "metadata": {},
     "output_type": "display_data"
    },
    {
     "data": {
      "text/markdown": [
       "#### Sample data"
      ],
      "text/plain": [
       "<IPython.core.display.Markdown object>"
      ]
     },
     "metadata": {},
     "output_type": "display_data"
    },
    {
     "data": {
      "text/html": [
       "<div>\n",
       "<style scoped>\n",
       "    .dataframe tbody tr th:only-of-type {\n",
       "        vertical-align: middle;\n",
       "    }\n",
       "\n",
       "    .dataframe tbody tr th {\n",
       "        vertical-align: top;\n",
       "    }\n",
       "\n",
       "    .dataframe thead th {\n",
       "        text-align: right;\n",
       "    }\n",
       "</style>\n",
       "<table border=\"1\" class=\"dataframe\">\n",
       "  <thead>\n",
       "    <tr style=\"text-align: right;\">\n",
       "      <th></th>\n",
       "      <th>L0</th>\n",
       "      <th>A</th>\n",
       "      <th>Y</th>\n",
       "    </tr>\n",
       "  </thead>\n",
       "  <tbody>\n",
       "    <tr>\n",
       "      <th>0</th>\n",
       "      <td>True</td>\n",
       "      <td>False</td>\n",
       "      <td>0</td>\n",
       "    </tr>\n",
       "    <tr>\n",
       "      <th>1</th>\n",
       "      <td>True</td>\n",
       "      <td>False</td>\n",
       "      <td>1</td>\n",
       "    </tr>\n",
       "    <tr>\n",
       "      <th>2</th>\n",
       "      <td>True</td>\n",
       "      <td>False</td>\n",
       "      <td>1</td>\n",
       "    </tr>\n",
       "    <tr>\n",
       "      <th>3</th>\n",
       "      <td>True</td>\n",
       "      <td>False</td>\n",
       "      <td>0</td>\n",
       "    </tr>\n",
       "    <tr>\n",
       "      <th>4</th>\n",
       "      <td>True</td>\n",
       "      <td>False</td>\n",
       "      <td>1</td>\n",
       "    </tr>\n",
       "    <tr>\n",
       "      <th>5</th>\n",
       "      <td>True</td>\n",
       "      <td>False</td>\n",
       "      <td>1</td>\n",
       "    </tr>\n",
       "    <tr>\n",
       "      <th>6</th>\n",
       "      <td>True</td>\n",
       "      <td>False</td>\n",
       "      <td>1</td>\n",
       "    </tr>\n",
       "    <tr>\n",
       "      <th>7</th>\n",
       "      <td>True</td>\n",
       "      <td>False</td>\n",
       "      <td>1</td>\n",
       "    </tr>\n",
       "    <tr>\n",
       "      <th>8</th>\n",
       "      <td>False</td>\n",
       "      <td>False</td>\n",
       "      <td>1</td>\n",
       "    </tr>\n",
       "    <tr>\n",
       "      <th>9</th>\n",
       "      <td>True</td>\n",
       "      <td>False</td>\n",
       "      <td>0</td>\n",
       "    </tr>\n",
       "    <tr>\n",
       "      <th>10</th>\n",
       "      <td>True</td>\n",
       "      <td>True</td>\n",
       "      <td>0</td>\n",
       "    </tr>\n",
       "    <tr>\n",
       "      <th>11</th>\n",
       "      <td>True</td>\n",
       "      <td>False</td>\n",
       "      <td>0</td>\n",
       "    </tr>\n",
       "  </tbody>\n",
       "</table>\n",
       "</div>"
      ],
      "text/plain": [
       "       L0      A  Y\n",
       "0    True  False  0\n",
       "1    True  False  1\n",
       "2    True  False  1\n",
       "3    True  False  0\n",
       "4    True  False  1\n",
       "5    True  False  1\n",
       "6    True  False  1\n",
       "7    True  False  1\n",
       "8   False  False  1\n",
       "9    True  False  0\n",
       "10   True   True  0\n",
       "11   True  False  0"
      ]
     },
     "metadata": {},
     "output_type": "display_data"
    },
    {
     "data": {
      "text/markdown": [
       "#### Summary statistics"
      ],
      "text/plain": [
       "<IPython.core.display.Markdown object>"
      ]
     },
     "metadata": {},
     "output_type": "display_data"
    },
    {
     "data": {
      "text/html": [
       "<div>\n",
       "<style scoped>\n",
       "    .dataframe tbody tr th:only-of-type {\n",
       "        vertical-align: middle;\n",
       "    }\n",
       "\n",
       "    .dataframe tbody tr th {\n",
       "        vertical-align: top;\n",
       "    }\n",
       "\n",
       "    .dataframe thead th {\n",
       "        text-align: right;\n",
       "    }\n",
       "</style>\n",
       "<table border=\"1\" class=\"dataframe\">\n",
       "  <thead>\n",
       "    <tr style=\"text-align: right;\">\n",
       "      <th></th>\n",
       "      <th>statistic</th>\n",
       "    </tr>\n",
       "  </thead>\n",
       "  <tbody>\n",
       "    <tr>\n",
       "      <th>$\\bar L$</th>\n",
       "      <td>[0.74776]</td>\n",
       "    </tr>\n",
       "    <tr>\n",
       "      <th>$\\bar A$</th>\n",
       "      <td>0.11835</td>\n",
       "    </tr>\n",
       "    <tr>\n",
       "      <th>$\\bar Y$</th>\n",
       "      <td>0.64809</td>\n",
       "    </tr>\n",
       "    <tr>\n",
       "      <th>$\\bar Y^c_0$</th>\n",
       "      <td>0.67546</td>\n",
       "    </tr>\n",
       "    <tr>\n",
       "      <th>$\\bar Y^c_1$</th>\n",
       "      <td>0.44239</td>\n",
       "    </tr>\n",
       "  </tbody>\n",
       "</table>\n",
       "</div>"
      ],
      "text/plain": [
       "              statistic\n",
       "$\\bar L$      [0.74776]\n",
       "$\\bar A$        0.11835\n",
       "$\\bar Y$        0.64809\n",
       "$\\bar Y^c_0$    0.67546\n",
       "$\\bar Y^c_1$    0.44239"
      ]
     },
     "metadata": {},
     "output_type": "display_data"
    },
    {
     "name": "stdout",
     "output_type": "stream",
     "text": [
      "[1.69177211e-13 9.55844272e-14]\n"
     ]
    },
    {
     "data": {
      "text/markdown": [
       "#### Estimators"
      ],
      "text/plain": [
       "<IPython.core.display.Markdown object>"
      ]
     },
     "metadata": {},
     "output_type": "display_data"
    },
    {
     "data": {
      "text/html": [
       "<div>\n",
       "<style scoped>\n",
       "    .dataframe tbody tr th:only-of-type {\n",
       "        vertical-align: middle;\n",
       "    }\n",
       "\n",
       "    .dataframe tbody tr th {\n",
       "        vertical-align: top;\n",
       "    }\n",
       "\n",
       "    .dataframe thead th {\n",
       "        text-align: right;\n",
       "    }\n",
       "</style>\n",
       "<table border=\"1\" class=\"dataframe\">\n",
       "  <thead>\n",
       "    <tr style=\"text-align: right;\">\n",
       "      <th></th>\n",
       "      <th>$\\hat Y^{a=0}$</th>\n",
       "      <th>$\\hat Y^{a=1}$</th>\n",
       "      <th>$\\hat \\beta_a$</th>\n",
       "    </tr>\n",
       "  </thead>\n",
       "  <tbody>\n",
       "    <tr>\n",
       "      <th>Underlying counterfactual data</th>\n",
       "      <td>0.67546</td>\n",
       "      <td>0.44239</td>\n",
       "      <td>-0.964453</td>\n",
       "    </tr>\n",
       "    <tr>\n",
       "      <th>Standardized means</th>\n",
       "      <td>0.674929</td>\n",
       "      <td>0.448144</td>\n",
       "      <td>-0.938734</td>\n",
       "    </tr>\n",
       "    <tr>\n",
       "      <th>Outcome regression</th>\n",
       "      <td>0.674929</td>\n",
       "      <td>0.448144</td>\n",
       "      <td>-0.938734</td>\n",
       "    </tr>\n",
       "    <tr>\n",
       "      <th>Inverse probability weighted means (IPW)</th>\n",
       "      <td>0.674929</td>\n",
       "      <td>0.448144</td>\n",
       "      <td>-0.938734</td>\n",
       "    </tr>\n",
       "    <tr>\n",
       "      <th>Doubly robust means</th>\n",
       "      <td>0.674929</td>\n",
       "      <td>0.448144</td>\n",
       "      <td>-0.938734</td>\n",
       "    </tr>\n",
       "    <tr>\n",
       "      <th>Marginal structural model (MSM)</th>\n",
       "      <td>0.674907</td>\n",
       "      <td>0.448189</td>\n",
       "      <td>-0.938455</td>\n",
       "    </tr>\n",
       "    <tr>\n",
       "      <th>g-estimation</th>\n",
       "      <td></td>\n",
       "      <td></td>\n",
       "      <td>-0.981503</td>\n",
       "    </tr>\n",
       "  </tbody>\n",
       "</table>\n",
       "</div>"
      ],
      "text/plain": [
       "                                         $\\hat Y^{a=0}$ $\\hat Y^{a=1}$  \\\n",
       "Underlying counterfactual data                  0.67546        0.44239   \n",
       "Standardized means                             0.674929       0.448144   \n",
       "Outcome regression                             0.674929       0.448144   \n",
       "Inverse probability weighted means (IPW)       0.674929       0.448144   \n",
       "Doubly robust means                            0.674929       0.448144   \n",
       "Marginal structural model (MSM)                0.674907       0.448189   \n",
       "g-estimation                                                             \n",
       "\n",
       "                                          $\\hat \\beta_a$  \n",
       "Underlying counterfactual data                 -0.964453  \n",
       "Standardized means                             -0.938734  \n",
       "Outcome regression                             -0.938734  \n",
       "Inverse probability weighted means (IPW)       -0.938734  \n",
       "Doubly robust means                            -0.938734  \n",
       "Marginal structural model (MSM)                -0.938455  \n",
       "g-estimation                                   -0.981503  "
      ]
     },
     "metadata": {},
     "output_type": "display_data"
    },
    {
     "data": {
      "text/markdown": [
       "*Total execution time*: 1.3636892520007677 s"
      ],
      "text/plain": [
       "<IPython.core.display.Markdown object>"
      ]
     },
     "metadata": {},
     "output_type": "display_data"
    }
   ],
   "source": [
    "summarize_model(generate_simple_logistic_model_data(P_L=0.75, beta_A_0=-2, beta_Y_A=-1, beta_Y_L=1),\n",
    "                'Randomized, common covariate is risk, rare intervention is protective',\n",
    "                '1:1 odds of covariate')"
   ]
  },
  {
   "cell_type": "code",
   "execution_count": 85,
   "id": "c06ae9eb-8160-419c-9d04-3a8588d375cf",
   "metadata": {
    "tags": []
   },
   "outputs": [
    {
     "data": {
      "text/markdown": [
       "### Common covariate is risk for disease and intervention, intervention is protective"
      ],
      "text/plain": [
       "<IPython.core.display.Markdown object>"
      ]
     },
     "metadata": {},
     "output_type": "display_data"
    },
    {
     "data": {
      "text/markdown": [],
      "text/plain": [
       "<IPython.core.display.Markdown object>"
      ]
     },
     "metadata": {},
     "output_type": "display_data"
    },
    {
     "data": {
      "text/markdown": [
       "#### Sample data"
      ],
      "text/plain": [
       "<IPython.core.display.Markdown object>"
      ]
     },
     "metadata": {},
     "output_type": "display_data"
    },
    {
     "data": {
      "text/html": [
       "<div>\n",
       "<style scoped>\n",
       "    .dataframe tbody tr th:only-of-type {\n",
       "        vertical-align: middle;\n",
       "    }\n",
       "\n",
       "    .dataframe tbody tr th {\n",
       "        vertical-align: top;\n",
       "    }\n",
       "\n",
       "    .dataframe thead th {\n",
       "        text-align: right;\n",
       "    }\n",
       "</style>\n",
       "<table border=\"1\" class=\"dataframe\">\n",
       "  <thead>\n",
       "    <tr style=\"text-align: right;\">\n",
       "      <th></th>\n",
       "      <th>L0</th>\n",
       "      <th>A</th>\n",
       "      <th>Y</th>\n",
       "    </tr>\n",
       "  </thead>\n",
       "  <tbody>\n",
       "    <tr>\n",
       "      <th>0</th>\n",
       "      <td>True</td>\n",
       "      <td>False</td>\n",
       "      <td>1</td>\n",
       "    </tr>\n",
       "    <tr>\n",
       "      <th>1</th>\n",
       "      <td>True</td>\n",
       "      <td>True</td>\n",
       "      <td>0</td>\n",
       "    </tr>\n",
       "    <tr>\n",
       "      <th>2</th>\n",
       "      <td>True</td>\n",
       "      <td>False</td>\n",
       "      <td>1</td>\n",
       "    </tr>\n",
       "    <tr>\n",
       "      <th>3</th>\n",
       "      <td>True</td>\n",
       "      <td>False</td>\n",
       "      <td>1</td>\n",
       "    </tr>\n",
       "    <tr>\n",
       "      <th>4</th>\n",
       "      <td>True</td>\n",
       "      <td>True</td>\n",
       "      <td>0</td>\n",
       "    </tr>\n",
       "    <tr>\n",
       "      <th>5</th>\n",
       "      <td>False</td>\n",
       "      <td>False</td>\n",
       "      <td>1</td>\n",
       "    </tr>\n",
       "    <tr>\n",
       "      <th>6</th>\n",
       "      <td>True</td>\n",
       "      <td>False</td>\n",
       "      <td>0</td>\n",
       "    </tr>\n",
       "    <tr>\n",
       "      <th>7</th>\n",
       "      <td>True</td>\n",
       "      <td>False</td>\n",
       "      <td>1</td>\n",
       "    </tr>\n",
       "    <tr>\n",
       "      <th>8</th>\n",
       "      <td>True</td>\n",
       "      <td>True</td>\n",
       "      <td>1</td>\n",
       "    </tr>\n",
       "    <tr>\n",
       "      <th>9</th>\n",
       "      <td>True</td>\n",
       "      <td>False</td>\n",
       "      <td>0</td>\n",
       "    </tr>\n",
       "    <tr>\n",
       "      <th>10</th>\n",
       "      <td>False</td>\n",
       "      <td>False</td>\n",
       "      <td>1</td>\n",
       "    </tr>\n",
       "    <tr>\n",
       "      <th>11</th>\n",
       "      <td>False</td>\n",
       "      <td>False</td>\n",
       "      <td>0</td>\n",
       "    </tr>\n",
       "  </tbody>\n",
       "</table>\n",
       "</div>"
      ],
      "text/plain": [
       "       L0      A  Y\n",
       "0    True  False  1\n",
       "1    True   True  0\n",
       "2    True  False  1\n",
       "3    True  False  1\n",
       "4    True   True  0\n",
       "5   False  False  1\n",
       "6    True  False  0\n",
       "7    True  False  1\n",
       "8    True   True  1\n",
       "9    True  False  0\n",
       "10  False  False  1\n",
       "11  False  False  0"
      ]
     },
     "metadata": {},
     "output_type": "display_data"
    },
    {
     "data": {
      "text/markdown": [
       "#### Summary statistics"
      ],
      "text/plain": [
       "<IPython.core.display.Markdown object>"
      ]
     },
     "metadata": {},
     "output_type": "display_data"
    },
    {
     "data": {
      "text/html": [
       "<div>\n",
       "<style scoped>\n",
       "    .dataframe tbody tr th:only-of-type {\n",
       "        vertical-align: middle;\n",
       "    }\n",
       "\n",
       "    .dataframe tbody tr th {\n",
       "        vertical-align: top;\n",
       "    }\n",
       "\n",
       "    .dataframe thead th {\n",
       "        text-align: right;\n",
       "    }\n",
       "</style>\n",
       "<table border=\"1\" class=\"dataframe\">\n",
       "  <thead>\n",
       "    <tr style=\"text-align: right;\">\n",
       "      <th></th>\n",
       "      <th>statistic</th>\n",
       "    </tr>\n",
       "  </thead>\n",
       "  <tbody>\n",
       "    <tr>\n",
       "      <th>$\\bar L$</th>\n",
       "      <td>[0.74887]</td>\n",
       "    </tr>\n",
       "    <tr>\n",
       "      <th>$\\bar A$</th>\n",
       "      <td>0.23044</td>\n",
       "    </tr>\n",
       "    <tr>\n",
       "      <th>$\\bar Y$</th>\n",
       "      <td>0.61784</td>\n",
       "    </tr>\n",
       "    <tr>\n",
       "      <th>$\\bar Y^c_0$</th>\n",
       "      <td>0.67338</td>\n",
       "    </tr>\n",
       "    <tr>\n",
       "      <th>$\\bar Y^c_1$</th>\n",
       "      <td>0.44002</td>\n",
       "    </tr>\n",
       "  </tbody>\n",
       "</table>\n",
       "</div>"
      ],
      "text/plain": [
       "              statistic\n",
       "$\\bar L$      [0.74887]\n",
       "$\\bar A$        0.23044\n",
       "$\\bar Y$        0.61784\n",
       "$\\bar Y^c_0$    0.67338\n",
       "$\\bar Y^c_1$    0.44002"
      ]
     },
     "metadata": {},
     "output_type": "display_data"
    },
    {
     "name": "stdout",
     "output_type": "stream",
     "text": [
      "    fjac: array([[-0.70901946, -0.70518892],\n",
      "       [ 0.70518892, -0.70901946]])\n",
      "     fun: array([6.98829987e-11, 6.59351684e-11])\n",
      " message: 'The solution converged.'\n",
      "    nfev: 14\n",
      "     qtf: array([-1.83565844e-07,  4.76473023e-09])\n",
      "       r: array([ 886.73656506, 1436.59169709,  105.46258351])\n",
      "  status: 1\n",
      " success: True\n",
      "       x: array([ 0.01653767, -1.04397381])\n"
     ]
    },
    {
     "data": {
      "text/markdown": [
       "#### Estimators"
      ],
      "text/plain": [
       "<IPython.core.display.Markdown object>"
      ]
     },
     "metadata": {},
     "output_type": "display_data"
    },
    {
     "data": {
      "text/html": [
       "<div>\n",
       "<style scoped>\n",
       "    .dataframe tbody tr th:only-of-type {\n",
       "        vertical-align: middle;\n",
       "    }\n",
       "\n",
       "    .dataframe tbody tr th {\n",
       "        vertical-align: top;\n",
       "    }\n",
       "\n",
       "    .dataframe thead th {\n",
       "        text-align: right;\n",
       "    }\n",
       "</style>\n",
       "<table border=\"1\" class=\"dataframe\">\n",
       "  <thead>\n",
       "    <tr style=\"text-align: right;\">\n",
       "      <th></th>\n",
       "      <th>$\\hat Y^{a=0}$</th>\n",
       "      <th>$\\hat Y^{a=1}$</th>\n",
       "      <th>$\\hat \\beta_a$</th>\n",
       "    </tr>\n",
       "  </thead>\n",
       "  <tbody>\n",
       "    <tr>\n",
       "      <th>Underlying counterfactual data</th>\n",
       "      <td>0.67338</td>\n",
       "      <td>0.44002</td>\n",
       "      <td>-0.964593</td>\n",
       "    </tr>\n",
       "    <tr>\n",
       "      <th>Standardized means</th>\n",
       "      <td>0.672712</td>\n",
       "      <td>0.434421</td>\n",
       "      <td>-0.984314</td>\n",
       "    </tr>\n",
       "    <tr>\n",
       "      <th>Outcome regression</th>\n",
       "      <td>0.672712</td>\n",
       "      <td>0.434421</td>\n",
       "      <td>-0.984314</td>\n",
       "    </tr>\n",
       "    <tr>\n",
       "      <th>Inverse probability weighted means (IPW)</th>\n",
       "      <td>0.672712</td>\n",
       "      <td>0.434421</td>\n",
       "      <td>-0.984314</td>\n",
       "    </tr>\n",
       "    <tr>\n",
       "      <th>Doubly robust means</th>\n",
       "      <td>0.672712</td>\n",
       "      <td>0.434421</td>\n",
       "      <td>-0.984314</td>\n",
       "    </tr>\n",
       "    <tr>\n",
       "      <th>Marginal structural model (MSM)</th>\n",
       "      <td>0.672688</td>\n",
       "      <td>0.434477</td>\n",
       "      <td>-0.983978</td>\n",
       "    </tr>\n",
       "    <tr>\n",
       "      <th>g-estimation</th>\n",
       "      <td></td>\n",
       "      <td></td>\n",
       "      <td>-1.031589</td>\n",
       "    </tr>\n",
       "  </tbody>\n",
       "</table>\n",
       "</div>"
      ],
      "text/plain": [
       "                                         $\\hat Y^{a=0}$ $\\hat Y^{a=1}$  \\\n",
       "Underlying counterfactual data                  0.67338        0.44002   \n",
       "Standardized means                             0.672712       0.434421   \n",
       "Outcome regression                             0.672712       0.434421   \n",
       "Inverse probability weighted means (IPW)       0.672712       0.434421   \n",
       "Doubly robust means                            0.672712       0.434421   \n",
       "Marginal structural model (MSM)                0.672688       0.434477   \n",
       "g-estimation                                                             \n",
       "\n",
       "                                          $\\hat \\beta_a$  \n",
       "Underlying counterfactual data                 -0.964593  \n",
       "Standardized means                             -0.984314  \n",
       "Outcome regression                             -0.984314  \n",
       "Inverse probability weighted means (IPW)       -0.984314  \n",
       "Doubly robust means                            -0.984314  \n",
       "Marginal structural model (MSM)                -0.983978  \n",
       "g-estimation                                   -1.031589  "
      ]
     },
     "metadata": {},
     "output_type": "display_data"
    },
    {
     "data": {
      "text/markdown": [
       "*Total execution time*: 1.212496135965921 s"
      ],
      "text/plain": [
       "<IPython.core.display.Markdown object>"
      ]
     },
     "metadata": {},
     "output_type": "display_data"
    }
   ],
   "source": [
    "summarize_model(generate_simple_logistic_model_data(P_L=0.75,\n",
    "                                                    beta_A_0=-2, beta_A_L=1, \n",
    "                                                    beta_Y_A=-1, beta_Y_L=1),\n",
    "                'Common covariate is risk for disease and intervention, intervention is protective',\n",
    "                '')"
   ]
  },
  {
   "cell_type": "code",
   "execution_count": 48,
   "id": "423afdca-6d21-4d95-9360-80702acac577",
   "metadata": {
    "tags": []
   },
   "outputs": [
    {
     "data": {
      "text/markdown": [
       "### Covariate and intervention are risks, but negate eachother"
      ],
      "text/plain": [
       "<IPython.core.display.Markdown object>"
      ]
     },
     "metadata": {},
     "output_type": "display_data"
    },
    {
     "data": {
      "text/markdown": [
       "1:1 odds of covariate"
      ],
      "text/plain": [
       "<IPython.core.display.Markdown object>"
      ]
     },
     "metadata": {},
     "output_type": "display_data"
    },
    {
     "data": {
      "text/markdown": [
       "#### Sample data"
      ],
      "text/plain": [
       "<IPython.core.display.Markdown object>"
      ]
     },
     "metadata": {},
     "output_type": "display_data"
    },
    {
     "data": {
      "text/html": [
       "<div>\n",
       "<style scoped>\n",
       "    .dataframe tbody tr th:only-of-type {\n",
       "        vertical-align: middle;\n",
       "    }\n",
       "\n",
       "    .dataframe tbody tr th {\n",
       "        vertical-align: top;\n",
       "    }\n",
       "\n",
       "    .dataframe thead th {\n",
       "        text-align: right;\n",
       "    }\n",
       "</style>\n",
       "<table border=\"1\" class=\"dataframe\">\n",
       "  <thead>\n",
       "    <tr style=\"text-align: right;\">\n",
       "      <th></th>\n",
       "      <th>L0</th>\n",
       "      <th>A</th>\n",
       "      <th>Y</th>\n",
       "    </tr>\n",
       "  </thead>\n",
       "  <tbody>\n",
       "    <tr>\n",
       "      <th>0</th>\n",
       "      <td>False</td>\n",
       "      <td>True</td>\n",
       "      <td>1</td>\n",
       "    </tr>\n",
       "    <tr>\n",
       "      <th>1</th>\n",
       "      <td>False</td>\n",
       "      <td>False</td>\n",
       "      <td>1</td>\n",
       "    </tr>\n",
       "    <tr>\n",
       "      <th>2</th>\n",
       "      <td>True</td>\n",
       "      <td>True</td>\n",
       "      <td>1</td>\n",
       "    </tr>\n",
       "    <tr>\n",
       "      <th>3</th>\n",
       "      <td>False</td>\n",
       "      <td>True</td>\n",
       "      <td>1</td>\n",
       "    </tr>\n",
       "    <tr>\n",
       "      <th>4</th>\n",
       "      <td>False</td>\n",
       "      <td>False</td>\n",
       "      <td>0</td>\n",
       "    </tr>\n",
       "    <tr>\n",
       "      <th>5</th>\n",
       "      <td>True</td>\n",
       "      <td>False</td>\n",
       "      <td>1</td>\n",
       "    </tr>\n",
       "    <tr>\n",
       "      <th>6</th>\n",
       "      <td>True</td>\n",
       "      <td>True</td>\n",
       "      <td>0</td>\n",
       "    </tr>\n",
       "    <tr>\n",
       "      <th>7</th>\n",
       "      <td>True</td>\n",
       "      <td>True</td>\n",
       "      <td>0</td>\n",
       "    </tr>\n",
       "    <tr>\n",
       "      <th>8</th>\n",
       "      <td>False</td>\n",
       "      <td>True</td>\n",
       "      <td>0</td>\n",
       "    </tr>\n",
       "    <tr>\n",
       "      <th>9</th>\n",
       "      <td>False</td>\n",
       "      <td>True</td>\n",
       "      <td>1</td>\n",
       "    </tr>\n",
       "    <tr>\n",
       "      <th>10</th>\n",
       "      <td>False</td>\n",
       "      <td>True</td>\n",
       "      <td>0</td>\n",
       "    </tr>\n",
       "    <tr>\n",
       "      <th>11</th>\n",
       "      <td>True</td>\n",
       "      <td>True</td>\n",
       "      <td>0</td>\n",
       "    </tr>\n",
       "  </tbody>\n",
       "</table>\n",
       "</div>"
      ],
      "text/plain": [
       "       L0      A  Y\n",
       "0   False   True  1\n",
       "1   False  False  1\n",
       "2    True   True  1\n",
       "3   False   True  1\n",
       "4   False  False  0\n",
       "5    True  False  1\n",
       "6    True   True  0\n",
       "7    True   True  0\n",
       "8   False   True  0\n",
       "9   False   True  1\n",
       "10  False   True  0\n",
       "11   True   True  0"
      ]
     },
     "metadata": {},
     "output_type": "display_data"
    },
    {
     "data": {
      "text/markdown": [
       "#### Summary statistics"
      ],
      "text/plain": [
       "<IPython.core.display.Markdown object>"
      ]
     },
     "metadata": {},
     "output_type": "display_data"
    },
    {
     "data": {
      "text/html": [
       "<div>\n",
       "<style scoped>\n",
       "    .dataframe tbody tr th:only-of-type {\n",
       "        vertical-align: middle;\n",
       "    }\n",
       "\n",
       "    .dataframe tbody tr th {\n",
       "        vertical-align: top;\n",
       "    }\n",
       "\n",
       "    .dataframe thead th {\n",
       "        text-align: right;\n",
       "    }\n",
       "</style>\n",
       "<table border=\"1\" class=\"dataframe\">\n",
       "  <thead>\n",
       "    <tr style=\"text-align: right;\">\n",
       "      <th></th>\n",
       "      <th>statistic</th>\n",
       "    </tr>\n",
       "  </thead>\n",
       "  <tbody>\n",
       "    <tr>\n",
       "      <th>$\\bar L$</th>\n",
       "      <td>[0.50106]</td>\n",
       "    </tr>\n",
       "    <tr>\n",
       "      <th>$\\bar A$</th>\n",
       "      <td>0.49791</td>\n",
       "    </tr>\n",
       "    <tr>\n",
       "      <th>$\\bar Y$</th>\n",
       "      <td>0.61386</td>\n",
       "    </tr>\n",
       "    <tr>\n",
       "      <th>$\\bar Y^c_0$</th>\n",
       "      <td>0.61616</td>\n",
       "    </tr>\n",
       "    <tr>\n",
       "      <th>$\\bar Y^c_1$</th>\n",
       "      <td>0.61367</td>\n",
       "    </tr>\n",
       "  </tbody>\n",
       "</table>\n",
       "</div>"
      ],
      "text/plain": [
       "              statistic\n",
       "$\\bar L$      [0.50106]\n",
       "$\\bar A$        0.49791\n",
       "$\\bar Y$        0.61386\n",
       "$\\bar Y^c_0$    0.61616\n",
       "$\\bar Y^c_1$    0.61367"
      ]
     },
     "metadata": {},
     "output_type": "display_data"
    },
    {
     "name": "stdout",
     "output_type": "stream",
     "text": [
      "[1.32859186e-11 1.17037437e-12]\n"
     ]
    },
    {
     "data": {
      "text/markdown": [
       "#### Estimators"
      ],
      "text/plain": [
       "<IPython.core.display.Markdown object>"
      ]
     },
     "metadata": {},
     "output_type": "display_data"
    },
    {
     "data": {
      "text/html": [
       "<div>\n",
       "<style scoped>\n",
       "    .dataframe tbody tr th:only-of-type {\n",
       "        vertical-align: middle;\n",
       "    }\n",
       "\n",
       "    .dataframe tbody tr th {\n",
       "        vertical-align: top;\n",
       "    }\n",
       "\n",
       "    .dataframe thead th {\n",
       "        text-align: right;\n",
       "    }\n",
       "</style>\n",
       "<table border=\"1\" class=\"dataframe\">\n",
       "  <thead>\n",
       "    <tr style=\"text-align: right;\">\n",
       "      <th></th>\n",
       "      <th>$\\hat Y^{a=0}$</th>\n",
       "      <th>$\\hat Y^{a=1}$</th>\n",
       "      <th>$\\hat \\beta_a$</th>\n",
       "    </tr>\n",
       "  </thead>\n",
       "  <tbody>\n",
       "    <tr>\n",
       "      <th>Underlying counterfactual data</th>\n",
       "      <td>0.61616</td>\n",
       "      <td>0.61367</td>\n",
       "      <td>-0.010515</td>\n",
       "    </tr>\n",
       "    <tr>\n",
       "      <th>Standardized means</th>\n",
       "      <td>0.615228</td>\n",
       "      <td>0.613503</td>\n",
       "      <td>-0.007281</td>\n",
       "    </tr>\n",
       "    <tr>\n",
       "      <th>Outcome regression</th>\n",
       "      <td>0.615228</td>\n",
       "      <td>0.613503</td>\n",
       "      <td>-0.007281</td>\n",
       "    </tr>\n",
       "    <tr>\n",
       "      <th>Inverse probability weighted means (IPW)</th>\n",
       "      <td>0.615228</td>\n",
       "      <td>0.613503</td>\n",
       "      <td>-0.007281</td>\n",
       "    </tr>\n",
       "    <tr>\n",
       "      <th>Doubly robust means</th>\n",
       "      <td>0.615228</td>\n",
       "      <td>0.613503</td>\n",
       "      <td>-0.007281</td>\n",
       "    </tr>\n",
       "    <tr>\n",
       "      <th>Marginal structural model (MSM)</th>\n",
       "      <td>0.615223</td>\n",
       "      <td>0.613503</td>\n",
       "      <td>-0.007261</td>\n",
       "    </tr>\n",
       "    <tr>\n",
       "      <th>g-estimation</th>\n",
       "      <td></td>\n",
       "      <td></td>\n",
       "      <td>-0.005523</td>\n",
       "    </tr>\n",
       "  </tbody>\n",
       "</table>\n",
       "</div>"
      ],
      "text/plain": [
       "                                         $\\hat Y^{a=0}$ $\\hat Y^{a=1}$  \\\n",
       "Underlying counterfactual data                  0.61616        0.61367   \n",
       "Standardized means                             0.615228       0.613503   \n",
       "Outcome regression                             0.615228       0.613503   \n",
       "Inverse probability weighted means (IPW)       0.615228       0.613503   \n",
       "Doubly robust means                            0.615228       0.613503   \n",
       "Marginal structural model (MSM)                0.615223       0.613503   \n",
       "g-estimation                                                             \n",
       "\n",
       "                                          $\\hat \\beta_a$  \n",
       "Underlying counterfactual data                 -0.010515  \n",
       "Standardized means                             -0.007281  \n",
       "Outcome regression                             -0.007281  \n",
       "Inverse probability weighted means (IPW)       -0.007281  \n",
       "Doubly robust means                            -0.007281  \n",
       "Marginal structural model (MSM)                -0.007261  \n",
       "g-estimation                                   -0.005523  "
      ]
     },
     "metadata": {},
     "output_type": "display_data"
    },
    {
     "data": {
      "text/markdown": [
       "*Total execution time*: 1.3164625389617868 s"
      ],
      "text/plain": [
       "<IPython.core.display.Markdown object>"
      ]
     },
     "metadata": {},
     "output_type": "display_data"
    }
   ],
   "source": [
    "summarize_model(generate_simple_logistic_model_data(P_L=0.5,\n",
    "                                                    beta_A_0=0, \n",
    "                                                    beta_Y_A=1, beta_Y_L=1, beta_Y_LA=-2),\n",
    "                'Covariate and intervention are risks, but negate eachother',\n",
    "                '1:1 odds of covariate')"
   ]
  },
  {
   "cell_type": "markdown",
   "id": "75c30da6-ffc2-4e5e-be5f-7db9e27a4cfc",
   "metadata": {},
   "source": [
    "## Simulations with multi-dimensional $L$"
   ]
  },
  {
   "cell_type": "code",
   "execution_count": 49,
   "id": "2f3009fb-ae69-409c-8211-c95482a646b5",
   "metadata": {
    "tags": []
   },
   "outputs": [
    {
     "data": {
      "text/markdown": [
       "### Multidimensional maximal entropy model"
      ],
      "text/plain": [
       "<IPython.core.display.Markdown object>"
      ]
     },
     "metadata": {},
     "output_type": "display_data"
    },
    {
     "data": {
      "text/markdown": [
       "No interactions, 1:1 odds for L, A, and Y"
      ],
      "text/plain": [
       "<IPython.core.display.Markdown object>"
      ]
     },
     "metadata": {},
     "output_type": "display_data"
    },
    {
     "data": {
      "text/markdown": [
       "#### Sample data"
      ],
      "text/plain": [
       "<IPython.core.display.Markdown object>"
      ]
     },
     "metadata": {},
     "output_type": "display_data"
    },
    {
     "data": {
      "text/html": [
       "<div>\n",
       "<style scoped>\n",
       "    .dataframe tbody tr th:only-of-type {\n",
       "        vertical-align: middle;\n",
       "    }\n",
       "\n",
       "    .dataframe tbody tr th {\n",
       "        vertical-align: top;\n",
       "    }\n",
       "\n",
       "    .dataframe thead th {\n",
       "        text-align: right;\n",
       "    }\n",
       "</style>\n",
       "<table border=\"1\" class=\"dataframe\">\n",
       "  <thead>\n",
       "    <tr style=\"text-align: right;\">\n",
       "      <th></th>\n",
       "      <th>L0</th>\n",
       "      <th>L1</th>\n",
       "      <th>A</th>\n",
       "      <th>Y</th>\n",
       "    </tr>\n",
       "  </thead>\n",
       "  <tbody>\n",
       "    <tr>\n",
       "      <th>0</th>\n",
       "      <td>True</td>\n",
       "      <td>True</td>\n",
       "      <td>False</td>\n",
       "      <td>0</td>\n",
       "    </tr>\n",
       "    <tr>\n",
       "      <th>1</th>\n",
       "      <td>False</td>\n",
       "      <td>True</td>\n",
       "      <td>True</td>\n",
       "      <td>0</td>\n",
       "    </tr>\n",
       "    <tr>\n",
       "      <th>2</th>\n",
       "      <td>True</td>\n",
       "      <td>False</td>\n",
       "      <td>False</td>\n",
       "      <td>1</td>\n",
       "    </tr>\n",
       "    <tr>\n",
       "      <th>3</th>\n",
       "      <td>False</td>\n",
       "      <td>False</td>\n",
       "      <td>True</td>\n",
       "      <td>1</td>\n",
       "    </tr>\n",
       "    <tr>\n",
       "      <th>4</th>\n",
       "      <td>False</td>\n",
       "      <td>True</td>\n",
       "      <td>False</td>\n",
       "      <td>1</td>\n",
       "    </tr>\n",
       "    <tr>\n",
       "      <th>5</th>\n",
       "      <td>False</td>\n",
       "      <td>False</td>\n",
       "      <td>False</td>\n",
       "      <td>1</td>\n",
       "    </tr>\n",
       "    <tr>\n",
       "      <th>6</th>\n",
       "      <td>True</td>\n",
       "      <td>True</td>\n",
       "      <td>False</td>\n",
       "      <td>1</td>\n",
       "    </tr>\n",
       "    <tr>\n",
       "      <th>7</th>\n",
       "      <td>False</td>\n",
       "      <td>True</td>\n",
       "      <td>False</td>\n",
       "      <td>1</td>\n",
       "    </tr>\n",
       "    <tr>\n",
       "      <th>8</th>\n",
       "      <td>True</td>\n",
       "      <td>True</td>\n",
       "      <td>False</td>\n",
       "      <td>1</td>\n",
       "    </tr>\n",
       "    <tr>\n",
       "      <th>9</th>\n",
       "      <td>False</td>\n",
       "      <td>False</td>\n",
       "      <td>False</td>\n",
       "      <td>1</td>\n",
       "    </tr>\n",
       "    <tr>\n",
       "      <th>10</th>\n",
       "      <td>False</td>\n",
       "      <td>False</td>\n",
       "      <td>False</td>\n",
       "      <td>0</td>\n",
       "    </tr>\n",
       "    <tr>\n",
       "      <th>11</th>\n",
       "      <td>False</td>\n",
       "      <td>False</td>\n",
       "      <td>True</td>\n",
       "      <td>1</td>\n",
       "    </tr>\n",
       "  </tbody>\n",
       "</table>\n",
       "</div>"
      ],
      "text/plain": [
       "       L0     L1      A  Y\n",
       "0    True   True  False  0\n",
       "1   False   True   True  0\n",
       "2    True  False  False  1\n",
       "3   False  False   True  1\n",
       "4   False   True  False  1\n",
       "5   False  False  False  1\n",
       "6    True   True  False  1\n",
       "7   False   True  False  1\n",
       "8    True   True  False  1\n",
       "9   False  False  False  1\n",
       "10  False  False  False  0\n",
       "11  False  False   True  1"
      ]
     },
     "metadata": {},
     "output_type": "display_data"
    },
    {
     "data": {
      "text/markdown": [
       "#### Summary statistics"
      ],
      "text/plain": [
       "<IPython.core.display.Markdown object>"
      ]
     },
     "metadata": {},
     "output_type": "display_data"
    },
    {
     "data": {
      "text/html": [
       "<div>\n",
       "<style scoped>\n",
       "    .dataframe tbody tr th:only-of-type {\n",
       "        vertical-align: middle;\n",
       "    }\n",
       "\n",
       "    .dataframe tbody tr th {\n",
       "        vertical-align: top;\n",
       "    }\n",
       "\n",
       "    .dataframe thead th {\n",
       "        text-align: right;\n",
       "    }\n",
       "</style>\n",
       "<table border=\"1\" class=\"dataframe\">\n",
       "  <thead>\n",
       "    <tr style=\"text-align: right;\">\n",
       "      <th></th>\n",
       "      <th>statistic</th>\n",
       "    </tr>\n",
       "  </thead>\n",
       "  <tbody>\n",
       "    <tr>\n",
       "      <th>$\\bar L$</th>\n",
       "      <td>[0.49963, 0.50088]</td>\n",
       "    </tr>\n",
       "    <tr>\n",
       "      <th>$\\bar A$</th>\n",
       "      <td>0.50311</td>\n",
       "    </tr>\n",
       "    <tr>\n",
       "      <th>$\\bar Y$</th>\n",
       "      <td>0.50223</td>\n",
       "    </tr>\n",
       "    <tr>\n",
       "      <th>$\\bar Y^c_0$</th>\n",
       "      <td>0.50164</td>\n",
       "    </tr>\n",
       "    <tr>\n",
       "      <th>$\\bar Y^c_1$</th>\n",
       "      <td>0.50079</td>\n",
       "    </tr>\n",
       "  </tbody>\n",
       "</table>\n",
       "</div>"
      ],
      "text/plain": [
       "                       statistic\n",
       "$\\bar L$      [0.49963, 0.50088]\n",
       "$\\bar A$                 0.50311\n",
       "$\\bar Y$                 0.50223\n",
       "$\\bar Y^c_0$             0.50164\n",
       "$\\bar Y^c_1$             0.50079"
      ]
     },
     "metadata": {},
     "output_type": "display_data"
    },
    {
     "name": "stdout",
     "output_type": "stream",
     "text": [
      "[-2.19654328e-11 -1.28890489e-11 -2.15323061e-11]\n"
     ]
    },
    {
     "data": {
      "text/markdown": [
       "#### Estimators"
      ],
      "text/plain": [
       "<IPython.core.display.Markdown object>"
      ]
     },
     "metadata": {},
     "output_type": "display_data"
    },
    {
     "data": {
      "text/html": [
       "<div>\n",
       "<style scoped>\n",
       "    .dataframe tbody tr th:only-of-type {\n",
       "        vertical-align: middle;\n",
       "    }\n",
       "\n",
       "    .dataframe tbody tr th {\n",
       "        vertical-align: top;\n",
       "    }\n",
       "\n",
       "    .dataframe thead th {\n",
       "        text-align: right;\n",
       "    }\n",
       "</style>\n",
       "<table border=\"1\" class=\"dataframe\">\n",
       "  <thead>\n",
       "    <tr style=\"text-align: right;\">\n",
       "      <th></th>\n",
       "      <th>$\\hat Y^{a=0}$</th>\n",
       "      <th>$\\hat Y^{a=1}$</th>\n",
       "      <th>$\\hat \\beta_a$</th>\n",
       "    </tr>\n",
       "  </thead>\n",
       "  <tbody>\n",
       "    <tr>\n",
       "      <th>Underlying counterfactual data</th>\n",
       "      <td>0.50164</td>\n",
       "      <td>0.50079</td>\n",
       "      <td>-0.003400</td>\n",
       "    </tr>\n",
       "    <tr>\n",
       "      <th>Standardized means</th>\n",
       "      <td>0.501064</td>\n",
       "      <td>0.503367</td>\n",
       "      <td>0.009215</td>\n",
       "    </tr>\n",
       "    <tr>\n",
       "      <th>Outcome regression</th>\n",
       "      <td>0.501064</td>\n",
       "      <td>0.503367</td>\n",
       "      <td>0.009215</td>\n",
       "    </tr>\n",
       "    <tr>\n",
       "      <th>Inverse probability weighted means (IPW)</th>\n",
       "      <td>0.501064</td>\n",
       "      <td>0.503367</td>\n",
       "      <td>0.009215</td>\n",
       "    </tr>\n",
       "    <tr>\n",
       "      <th>Doubly robust means</th>\n",
       "      <td>0.501064</td>\n",
       "      <td>0.503367</td>\n",
       "      <td>0.009215</td>\n",
       "    </tr>\n",
       "    <tr>\n",
       "      <th>Marginal structural model (MSM)</th>\n",
       "      <td>0.50107</td>\n",
       "      <td>0.50337</td>\n",
       "      <td>0.009200</td>\n",
       "    </tr>\n",
       "    <tr>\n",
       "      <th>g-estimation</th>\n",
       "      <td></td>\n",
       "      <td></td>\n",
       "      <td>0.009213</td>\n",
       "    </tr>\n",
       "  </tbody>\n",
       "</table>\n",
       "</div>"
      ],
      "text/plain": [
       "                                         $\\hat Y^{a=0}$ $\\hat Y^{a=1}$  \\\n",
       "Underlying counterfactual data                  0.50164        0.50079   \n",
       "Standardized means                             0.501064       0.503367   \n",
       "Outcome regression                             0.501064       0.503367   \n",
       "Inverse probability weighted means (IPW)       0.501064       0.503367   \n",
       "Doubly robust means                            0.501064       0.503367   \n",
       "Marginal structural model (MSM)                 0.50107        0.50337   \n",
       "g-estimation                                                             \n",
       "\n",
       "                                          $\\hat \\beta_a$  \n",
       "Underlying counterfactual data                 -0.003400  \n",
       "Standardized means                              0.009215  \n",
       "Outcome regression                              0.009215  \n",
       "Inverse probability weighted means (IPW)        0.009215  \n",
       "Doubly robust means                             0.009215  \n",
       "Marginal structural model (MSM)                 0.009200  \n",
       "g-estimation                                    0.009213  "
      ]
     },
     "metadata": {},
     "output_type": "display_data"
    },
    {
     "data": {
      "text/markdown": [
       "*Total execution time*: 1.2847531989682466 s"
      ],
      "text/plain": [
       "<IPython.core.display.Markdown object>"
      ]
     },
     "metadata": {},
     "output_type": "display_data"
    }
   ],
   "source": [
    "summarize_model(generate_simple_logistic_model_data(P_L=(0.5,0.5)), \n",
    "    'Multidimensional maximal entropy model', 'No interactions, 1:1 odds for L, A, and Y')"
   ]
  },
  {
   "cell_type": "code",
   "execution_count": 80,
   "id": "b3b15eb9-ce60-4b07-82de-9269beba1dbc",
   "metadata": {},
   "outputs": [
    {
     "data": {
      "text/markdown": [
       "### Treatment already targeted"
      ],
      "text/plain": [
       "<IPython.core.display.Markdown object>"
      ]
     },
     "metadata": {},
     "output_type": "display_data"
    },
    {
     "data": {
      "text/markdown": [
       "Treatment only benefits rare condition, commonly causes harm. Common risk factor present."
      ],
      "text/plain": [
       "<IPython.core.display.Markdown object>"
      ]
     },
     "metadata": {},
     "output_type": "display_data"
    },
    {
     "data": {
      "text/markdown": [
       "#### Sample data"
      ],
      "text/plain": [
       "<IPython.core.display.Markdown object>"
      ]
     },
     "metadata": {},
     "output_type": "display_data"
    },
    {
     "data": {
      "text/html": [
       "<div>\n",
       "<style scoped>\n",
       "    .dataframe tbody tr th:only-of-type {\n",
       "        vertical-align: middle;\n",
       "    }\n",
       "\n",
       "    .dataframe tbody tr th {\n",
       "        vertical-align: top;\n",
       "    }\n",
       "\n",
       "    .dataframe thead th {\n",
       "        text-align: right;\n",
       "    }\n",
       "</style>\n",
       "<table border=\"1\" class=\"dataframe\">\n",
       "  <thead>\n",
       "    <tr style=\"text-align: right;\">\n",
       "      <th></th>\n",
       "      <th>L0</th>\n",
       "      <th>L1</th>\n",
       "      <th>A</th>\n",
       "      <th>Y</th>\n",
       "    </tr>\n",
       "  </thead>\n",
       "  <tbody>\n",
       "    <tr>\n",
       "      <th>0</th>\n",
       "      <td>False</td>\n",
       "      <td>False</td>\n",
       "      <td>False</td>\n",
       "      <td>0</td>\n",
       "    </tr>\n",
       "    <tr>\n",
       "      <th>1</th>\n",
       "      <td>True</td>\n",
       "      <td>False</td>\n",
       "      <td>True</td>\n",
       "      <td>0</td>\n",
       "    </tr>\n",
       "    <tr>\n",
       "      <th>2</th>\n",
       "      <td>False</td>\n",
       "      <td>False</td>\n",
       "      <td>False</td>\n",
       "      <td>0</td>\n",
       "    </tr>\n",
       "    <tr>\n",
       "      <th>3</th>\n",
       "      <td>False</td>\n",
       "      <td>True</td>\n",
       "      <td>False</td>\n",
       "      <td>1</td>\n",
       "    </tr>\n",
       "    <tr>\n",
       "      <th>4</th>\n",
       "      <td>False</td>\n",
       "      <td>False</td>\n",
       "      <td>False</td>\n",
       "      <td>0</td>\n",
       "    </tr>\n",
       "    <tr>\n",
       "      <th>5</th>\n",
       "      <td>False</td>\n",
       "      <td>False</td>\n",
       "      <td>False</td>\n",
       "      <td>0</td>\n",
       "    </tr>\n",
       "    <tr>\n",
       "      <th>6</th>\n",
       "      <td>False</td>\n",
       "      <td>False</td>\n",
       "      <td>True</td>\n",
       "      <td>0</td>\n",
       "    </tr>\n",
       "    <tr>\n",
       "      <th>7</th>\n",
       "      <td>True</td>\n",
       "      <td>True</td>\n",
       "      <td>True</td>\n",
       "      <td>1</td>\n",
       "    </tr>\n",
       "    <tr>\n",
       "      <th>8</th>\n",
       "      <td>False</td>\n",
       "      <td>False</td>\n",
       "      <td>True</td>\n",
       "      <td>0</td>\n",
       "    </tr>\n",
       "    <tr>\n",
       "      <th>9</th>\n",
       "      <td>True</td>\n",
       "      <td>False</td>\n",
       "      <td>True</td>\n",
       "      <td>1</td>\n",
       "    </tr>\n",
       "    <tr>\n",
       "      <th>10</th>\n",
       "      <td>False</td>\n",
       "      <td>True</td>\n",
       "      <td>False</td>\n",
       "      <td>1</td>\n",
       "    </tr>\n",
       "    <tr>\n",
       "      <th>11</th>\n",
       "      <td>True</td>\n",
       "      <td>False</td>\n",
       "      <td>True</td>\n",
       "      <td>0</td>\n",
       "    </tr>\n",
       "  </tbody>\n",
       "</table>\n",
       "</div>"
      ],
      "text/plain": [
       "       L0     L1      A  Y\n",
       "0   False  False  False  0\n",
       "1    True  False   True  0\n",
       "2   False  False  False  0\n",
       "3   False   True  False  1\n",
       "4   False  False  False  0\n",
       "5   False  False  False  0\n",
       "6   False  False   True  0\n",
       "7    True   True   True  1\n",
       "8   False  False   True  0\n",
       "9    True  False   True  1\n",
       "10  False   True  False  1\n",
       "11   True  False   True  0"
      ]
     },
     "metadata": {},
     "output_type": "display_data"
    },
    {
     "data": {
      "text/markdown": [
       "#### Summary statistics"
      ],
      "text/plain": [
       "<IPython.core.display.Markdown object>"
      ]
     },
     "metadata": {},
     "output_type": "display_data"
    },
    {
     "data": {
      "text/html": [
       "<div>\n",
       "<style scoped>\n",
       "    .dataframe tbody tr th:only-of-type {\n",
       "        vertical-align: middle;\n",
       "    }\n",
       "\n",
       "    .dataframe tbody tr th {\n",
       "        vertical-align: top;\n",
       "    }\n",
       "\n",
       "    .dataframe thead th {\n",
       "        text-align: right;\n",
       "    }\n",
       "</style>\n",
       "<table border=\"1\" class=\"dataframe\">\n",
       "  <thead>\n",
       "    <tr style=\"text-align: right;\">\n",
       "      <th></th>\n",
       "      <th>statistic</th>\n",
       "    </tr>\n",
       "  </thead>\n",
       "  <tbody>\n",
       "    <tr>\n",
       "      <th>$\\bar L$</th>\n",
       "      <td>[0.20042, 0.49929]</td>\n",
       "    </tr>\n",
       "    <tr>\n",
       "      <th>$\\bar A$</th>\n",
       "      <td>0.33986</td>\n",
       "    </tr>\n",
       "    <tr>\n",
       "      <th>$\\bar Y$</th>\n",
       "      <td>0.66574</td>\n",
       "    </tr>\n",
       "    <tr>\n",
       "      <th>$\\bar Y^c_0$</th>\n",
       "      <td>0.67483</td>\n",
       "    </tr>\n",
       "    <tr>\n",
       "      <th>$\\bar Y^c_1$</th>\n",
       "      <td>0.72706</td>\n",
       "    </tr>\n",
       "  </tbody>\n",
       "</table>\n",
       "</div>"
      ],
      "text/plain": [
       "                       statistic\n",
       "$\\bar L$      [0.20042, 0.49929]\n",
       "$\\bar A$                 0.33986\n",
       "$\\bar Y$                 0.66574\n",
       "$\\bar Y^c_0$             0.67483\n",
       "$\\bar Y^c_1$             0.72706"
      ]
     },
     "metadata": {},
     "output_type": "display_data"
    },
    {
     "name": "stdout",
     "output_type": "stream",
     "text": [
      "    fjac: array([[-7.07106781e-01,  5.55111512e-17, -7.07106781e-01],\n",
      "       [ 3.51125129e-01, -8.67999014e-01, -3.51125129e-01],\n",
      "       [-6.13767989e-01, -4.96565919e-01,  6.13767989e-01]])\n",
      "     fun: array([0., 0., 0.])\n",
      " message: 'The solution converged.'\n",
      "    nfev: 68\n",
      "     qtf: array([ 1.19180456e-13,  4.15782606e-14, -7.26789491e-14])\n",
      "       r: array([ 1.72462106e+01, -5.50204861e-13,  2.05793084e+02, -1.05077291e-12,\n",
      "        9.36259496e+01, -1.63658497e+02])\n",
      "  status: 1\n",
      " success: True\n",
      "       x: array([ -1.91281123, -34.07047049,  -0.04394321])\n"
     ]
    },
    {
     "data": {
      "text/markdown": [
       "#### Estimators"
      ],
      "text/plain": [
       "<IPython.core.display.Markdown object>"
      ]
     },
     "metadata": {},
     "output_type": "display_data"
    },
    {
     "data": {
      "text/html": [
       "<div>\n",
       "<style scoped>\n",
       "    .dataframe tbody tr th:only-of-type {\n",
       "        vertical-align: middle;\n",
       "    }\n",
       "\n",
       "    .dataframe tbody tr th {\n",
       "        vertical-align: top;\n",
       "    }\n",
       "\n",
       "    .dataframe thead th {\n",
       "        text-align: right;\n",
       "    }\n",
       "</style>\n",
       "<table border=\"1\" class=\"dataframe\">\n",
       "  <thead>\n",
       "    <tr style=\"text-align: right;\">\n",
       "      <th></th>\n",
       "      <th>$\\hat Y^{a=0}$</th>\n",
       "      <th>$\\hat Y^{a=1}$</th>\n",
       "      <th>$\\hat \\beta_a$</th>\n",
       "    </tr>\n",
       "  </thead>\n",
       "  <tbody>\n",
       "    <tr>\n",
       "      <th>Underlying counterfactual data</th>\n",
       "      <td>0.67483</td>\n",
       "      <td>0.72706</td>\n",
       "      <td>0.249644</td>\n",
       "    </tr>\n",
       "    <tr>\n",
       "      <th>Standardized means</th>\n",
       "      <td>0.675612</td>\n",
       "      <td>0.721826</td>\n",
       "      <td>0.219861</td>\n",
       "    </tr>\n",
       "    <tr>\n",
       "      <th>Outcome regression</th>\n",
       "      <td>0.675612</td>\n",
       "      <td>0.721826</td>\n",
       "      <td>0.219861</td>\n",
       "    </tr>\n",
       "    <tr>\n",
       "      <th>Inverse probability weighted means (IPW)</th>\n",
       "      <td>0.675612</td>\n",
       "      <td>0.721826</td>\n",
       "      <td>0.219861</td>\n",
       "    </tr>\n",
       "    <tr>\n",
       "      <th>Doubly robust means</th>\n",
       "      <td>0.675612</td>\n",
       "      <td>0.721826</td>\n",
       "      <td>0.219861</td>\n",
       "    </tr>\n",
       "    <tr>\n",
       "      <th>Marginal structural model (MSM)</th>\n",
       "      <td>0.675652</td>\n",
       "      <td>0.72204</td>\n",
       "      <td>0.220743</td>\n",
       "    </tr>\n",
       "    <tr>\n",
       "      <th>g-estimation</th>\n",
       "      <td></td>\n",
       "      <td></td>\n",
       "      <td>-17.438354</td>\n",
       "    </tr>\n",
       "  </tbody>\n",
       "</table>\n",
       "</div>"
      ],
      "text/plain": [
       "                                         $\\hat Y^{a=0}$ $\\hat Y^{a=1}$  \\\n",
       "Underlying counterfactual data                  0.67483        0.72706   \n",
       "Standardized means                             0.675612       0.721826   \n",
       "Outcome regression                             0.675612       0.721826   \n",
       "Inverse probability weighted means (IPW)       0.675612       0.721826   \n",
       "Doubly robust means                            0.675612       0.721826   \n",
       "Marginal structural model (MSM)                0.675652        0.72204   \n",
       "g-estimation                                                             \n",
       "\n",
       "                                          $\\hat \\beta_a$  \n",
       "Underlying counterfactual data                  0.249644  \n",
       "Standardized means                              0.219861  \n",
       "Outcome regression                              0.219861  \n",
       "Inverse probability weighted means (IPW)        0.219861  \n",
       "Doubly robust means                             0.219861  \n",
       "Marginal structural model (MSM)                 0.220743  \n",
       "g-estimation                                  -17.438354  "
      ]
     },
     "metadata": {},
     "output_type": "display_data"
    },
    {
     "data": {
      "text/markdown": [
       "*Total execution time*: 5.738089210004546 s"
      ],
      "text/plain": [
       "<IPython.core.display.Markdown object>"
      ]
     },
     "metadata": {},
     "output_type": "display_data"
    }
   ],
   "source": [
    "summarize_model(generate_simple_logistic_model_data(\n",
    "    P_L=(0.2,0.5), beta_A_0=-2, beta_A_L=(4,1), beta_Y_L=(2, 1), beta_Y_LA=(-2,2)), \n",
    "    'Treatment already targeted',\n",
    "    'Treatment only benefits rare condition, commonly causes harm. Common risk factor present.')"
   ]
  },
  {
   "cell_type": "code",
   "execution_count": 51,
   "id": "451ef5bd-8360-479e-82f0-e37ba497ea39",
   "metadata": {
    "tags": []
   },
   "outputs": [
    {
     "data": {
      "text/markdown": [
       "### Treatment already targeted, swapped L values"
      ],
      "text/plain": [
       "<IPython.core.display.Markdown object>"
      ]
     },
     "metadata": {},
     "output_type": "display_data"
    },
    {
     "data": {
      "text/markdown": [
       "Treatment only benefits rare condition, commonly causes harm. Common risk factor present."
      ],
      "text/plain": [
       "<IPython.core.display.Markdown object>"
      ]
     },
     "metadata": {},
     "output_type": "display_data"
    },
    {
     "data": {
      "text/markdown": [
       "#### Sample data"
      ],
      "text/plain": [
       "<IPython.core.display.Markdown object>"
      ]
     },
     "metadata": {},
     "output_type": "display_data"
    },
    {
     "data": {
      "text/html": [
       "<div>\n",
       "<style scoped>\n",
       "    .dataframe tbody tr th:only-of-type {\n",
       "        vertical-align: middle;\n",
       "    }\n",
       "\n",
       "    .dataframe tbody tr th {\n",
       "        vertical-align: top;\n",
       "    }\n",
       "\n",
       "    .dataframe thead th {\n",
       "        text-align: right;\n",
       "    }\n",
       "</style>\n",
       "<table border=\"1\" class=\"dataframe\">\n",
       "  <thead>\n",
       "    <tr style=\"text-align: right;\">\n",
       "      <th></th>\n",
       "      <th>L0</th>\n",
       "      <th>L1</th>\n",
       "      <th>A</th>\n",
       "      <th>Y</th>\n",
       "    </tr>\n",
       "  </thead>\n",
       "  <tbody>\n",
       "    <tr>\n",
       "      <th>0</th>\n",
       "      <td>False</td>\n",
       "      <td>True</td>\n",
       "      <td>True</td>\n",
       "      <td>0</td>\n",
       "    </tr>\n",
       "    <tr>\n",
       "      <th>1</th>\n",
       "      <td>False</td>\n",
       "      <td>False</td>\n",
       "      <td>False</td>\n",
       "      <td>0</td>\n",
       "    </tr>\n",
       "    <tr>\n",
       "      <th>2</th>\n",
       "      <td>False</td>\n",
       "      <td>False</td>\n",
       "      <td>False</td>\n",
       "      <td>0</td>\n",
       "    </tr>\n",
       "    <tr>\n",
       "      <th>3</th>\n",
       "      <td>False</td>\n",
       "      <td>False</td>\n",
       "      <td>True</td>\n",
       "      <td>0</td>\n",
       "    </tr>\n",
       "    <tr>\n",
       "      <th>4</th>\n",
       "      <td>True</td>\n",
       "      <td>False</td>\n",
       "      <td>False</td>\n",
       "      <td>0</td>\n",
       "    </tr>\n",
       "    <tr>\n",
       "      <th>5</th>\n",
       "      <td>True</td>\n",
       "      <td>True</td>\n",
       "      <td>True</td>\n",
       "      <td>1</td>\n",
       "    </tr>\n",
       "    <tr>\n",
       "      <th>6</th>\n",
       "      <td>False</td>\n",
       "      <td>False</td>\n",
       "      <td>False</td>\n",
       "      <td>1</td>\n",
       "    </tr>\n",
       "    <tr>\n",
       "      <th>7</th>\n",
       "      <td>False</td>\n",
       "      <td>True</td>\n",
       "      <td>False</td>\n",
       "      <td>1</td>\n",
       "    </tr>\n",
       "    <tr>\n",
       "      <th>8</th>\n",
       "      <td>False</td>\n",
       "      <td>False</td>\n",
       "      <td>False</td>\n",
       "      <td>0</td>\n",
       "    </tr>\n",
       "    <tr>\n",
       "      <th>9</th>\n",
       "      <td>True</td>\n",
       "      <td>False</td>\n",
       "      <td>False</td>\n",
       "      <td>0</td>\n",
       "    </tr>\n",
       "    <tr>\n",
       "      <th>10</th>\n",
       "      <td>True</td>\n",
       "      <td>False</td>\n",
       "      <td>False</td>\n",
       "      <td>1</td>\n",
       "    </tr>\n",
       "    <tr>\n",
       "      <th>11</th>\n",
       "      <td>False</td>\n",
       "      <td>True</td>\n",
       "      <td>True</td>\n",
       "      <td>0</td>\n",
       "    </tr>\n",
       "  </tbody>\n",
       "</table>\n",
       "</div>"
      ],
      "text/plain": [
       "       L0     L1      A  Y\n",
       "0   False   True   True  0\n",
       "1   False  False  False  0\n",
       "2   False  False  False  0\n",
       "3   False  False   True  0\n",
       "4    True  False  False  0\n",
       "5    True   True   True  1\n",
       "6   False  False  False  1\n",
       "7   False   True  False  1\n",
       "8   False  False  False  0\n",
       "9    True  False  False  0\n",
       "10   True  False  False  1\n",
       "11  False   True   True  0"
      ]
     },
     "metadata": {},
     "output_type": "display_data"
    },
    {
     "data": {
      "text/markdown": [
       "#### Summary statistics"
      ],
      "text/plain": [
       "<IPython.core.display.Markdown object>"
      ]
     },
     "metadata": {},
     "output_type": "display_data"
    },
    {
     "data": {
      "text/html": [
       "<div>\n",
       "<style scoped>\n",
       "    .dataframe tbody tr th:only-of-type {\n",
       "        vertical-align: middle;\n",
       "    }\n",
       "\n",
       "    .dataframe tbody tr th {\n",
       "        vertical-align: top;\n",
       "    }\n",
       "\n",
       "    .dataframe thead th {\n",
       "        text-align: right;\n",
       "    }\n",
       "</style>\n",
       "<table border=\"1\" class=\"dataframe\">\n",
       "  <thead>\n",
       "    <tr style=\"text-align: right;\">\n",
       "      <th></th>\n",
       "      <th>statistic</th>\n",
       "    </tr>\n",
       "  </thead>\n",
       "  <tbody>\n",
       "    <tr>\n",
       "      <th>$\\bar L$</th>\n",
       "      <td>[0.50294, 0.19868]</td>\n",
       "    </tr>\n",
       "    <tr>\n",
       "      <th>$\\bar A$</th>\n",
       "      <td>0.27076</td>\n",
       "    </tr>\n",
       "    <tr>\n",
       "      <th>$\\bar Y$</th>\n",
       "      <td>0.65167</td>\n",
       "    </tr>\n",
       "    <tr>\n",
       "      <th>$\\bar Y^c_0$</th>\n",
       "      <td>0.67356</td>\n",
       "    </tr>\n",
       "    <tr>\n",
       "      <th>$\\bar Y^c_1$</th>\n",
       "      <td>0.7278</td>\n",
       "    </tr>\n",
       "  </tbody>\n",
       "</table>\n",
       "</div>"
      ],
      "text/plain": [
       "                       statistic\n",
       "$\\bar L$      [0.50294, 0.19868]\n",
       "$\\bar A$                 0.27076\n",
       "$\\bar Y$                 0.65167\n",
       "$\\bar Y^c_0$             0.67356\n",
       "$\\bar Y^c_1$              0.7278"
      ]
     },
     "metadata": {},
     "output_type": "display_data"
    },
    {
     "name": "stdout",
     "output_type": "stream",
     "text": [
      "[0. 0. 0.]\n"
     ]
    },
    {
     "data": {
      "text/markdown": [
       "#### Estimators"
      ],
      "text/plain": [
       "<IPython.core.display.Markdown object>"
      ]
     },
     "metadata": {},
     "output_type": "display_data"
    },
    {
     "data": {
      "text/html": [
       "<div>\n",
       "<style scoped>\n",
       "    .dataframe tbody tr th:only-of-type {\n",
       "        vertical-align: middle;\n",
       "    }\n",
       "\n",
       "    .dataframe tbody tr th {\n",
       "        vertical-align: top;\n",
       "    }\n",
       "\n",
       "    .dataframe thead th {\n",
       "        text-align: right;\n",
       "    }\n",
       "</style>\n",
       "<table border=\"1\" class=\"dataframe\">\n",
       "  <thead>\n",
       "    <tr style=\"text-align: right;\">\n",
       "      <th></th>\n",
       "      <th>$\\hat Y^{a=0}$</th>\n",
       "      <th>$\\hat Y^{a=1}$</th>\n",
       "      <th>$\\hat \\beta_a$</th>\n",
       "    </tr>\n",
       "  </thead>\n",
       "  <tbody>\n",
       "    <tr>\n",
       "      <th>Underlying counterfactual data</th>\n",
       "      <td>0.67356</td>\n",
       "      <td>0.7278</td>\n",
       "      <td>0.259158</td>\n",
       "    </tr>\n",
       "    <tr>\n",
       "      <th>Standardized means</th>\n",
       "      <td>0.671612</td>\n",
       "      <td>0.731849</td>\n",
       "      <td>0.288540</td>\n",
       "    </tr>\n",
       "    <tr>\n",
       "      <th>Outcome regression</th>\n",
       "      <td>0.671612</td>\n",
       "      <td>0.731849</td>\n",
       "      <td>0.288540</td>\n",
       "    </tr>\n",
       "    <tr>\n",
       "      <th>Inverse probability weighted means (IPW)</th>\n",
       "      <td>0.671612</td>\n",
       "      <td>0.731849</td>\n",
       "      <td>0.288540</td>\n",
       "    </tr>\n",
       "    <tr>\n",
       "      <th>Doubly robust means</th>\n",
       "      <td>0.671612</td>\n",
       "      <td>0.731849</td>\n",
       "      <td>0.288540</td>\n",
       "    </tr>\n",
       "    <tr>\n",
       "      <th>Marginal structural model (MSM)</th>\n",
       "      <td>0.671839</td>\n",
       "      <td>0.733821</td>\n",
       "      <td>0.297580</td>\n",
       "    </tr>\n",
       "    <tr>\n",
       "      <th>g-estimation</th>\n",
       "      <td></td>\n",
       "      <td></td>\n",
       "      <td>-17.898331</td>\n",
       "    </tr>\n",
       "  </tbody>\n",
       "</table>\n",
       "</div>"
      ],
      "text/plain": [
       "                                         $\\hat Y^{a=0}$ $\\hat Y^{a=1}$  \\\n",
       "Underlying counterfactual data                  0.67356         0.7278   \n",
       "Standardized means                             0.671612       0.731849   \n",
       "Outcome regression                             0.671612       0.731849   \n",
       "Inverse probability weighted means (IPW)       0.671612       0.731849   \n",
       "Doubly robust means                            0.671612       0.731849   \n",
       "Marginal structural model (MSM)                0.671839       0.733821   \n",
       "g-estimation                                                             \n",
       "\n",
       "                                          $\\hat \\beta_a$  \n",
       "Underlying counterfactual data                  0.259158  \n",
       "Standardized means                              0.288540  \n",
       "Outcome regression                              0.288540  \n",
       "Inverse probability weighted means (IPW)        0.288540  \n",
       "Doubly robust means                             0.288540  \n",
       "Marginal structural model (MSM)                 0.297580  \n",
       "g-estimation                                  -17.898331  "
      ]
     },
     "metadata": {},
     "output_type": "display_data"
    },
    {
     "data": {
      "text/markdown": [
       "*Total execution time*: 5.660497158009093 s"
      ],
      "text/plain": [
       "<IPython.core.display.Markdown object>"
      ]
     },
     "metadata": {},
     "output_type": "display_data"
    }
   ],
   "source": [
    "summarize_model(generate_simple_logistic_model_data(\n",
    "    P_L=(0.5,0.2), beta_A_0=-2, beta_A_L=(0,4), beta_Y_L=(1, 2), beta_Y_LA=(2,-2)), \n",
    "    'Treatment already targeted, swapped L values',\n",
    "    'Treatment only benefits rare condition, commonly causes harm. Common risk factor present.')"
   ]
  },
  {
   "cell_type": "code",
   "execution_count": 36,
   "id": "a58c9f0f-f88a-4f95-88a3-9555776ec952",
   "metadata": {},
   "outputs": [
    {
     "data": {
      "text/markdown": [
       "### Treatment already targeted, effect size reduced"
      ],
      "text/plain": [
       "<IPython.core.display.Markdown object>"
      ]
     },
     "metadata": {},
     "output_type": "display_data"
    },
    {
     "data": {
      "text/markdown": [
       "Treatment only benefits rare condition, commonly causes harm. Common risk factor present."
      ],
      "text/plain": [
       "<IPython.core.display.Markdown object>"
      ]
     },
     "metadata": {},
     "output_type": "display_data"
    },
    {
     "data": {
      "text/markdown": [
       "#### Sample data"
      ],
      "text/plain": [
       "<IPython.core.display.Markdown object>"
      ]
     },
     "metadata": {},
     "output_type": "display_data"
    },
    {
     "data": {
      "text/html": [
       "<div>\n",
       "<style scoped>\n",
       "    .dataframe tbody tr th:only-of-type {\n",
       "        vertical-align: middle;\n",
       "    }\n",
       "\n",
       "    .dataframe tbody tr th {\n",
       "        vertical-align: top;\n",
       "    }\n",
       "\n",
       "    .dataframe thead th {\n",
       "        text-align: right;\n",
       "    }\n",
       "</style>\n",
       "<table border=\"1\" class=\"dataframe\">\n",
       "  <thead>\n",
       "    <tr style=\"text-align: right;\">\n",
       "      <th></th>\n",
       "      <th>L0</th>\n",
       "      <th>L1</th>\n",
       "      <th>A</th>\n",
       "      <th>Y</th>\n",
       "    </tr>\n",
       "  </thead>\n",
       "  <tbody>\n",
       "    <tr>\n",
       "      <th>0</th>\n",
       "      <td>False</td>\n",
       "      <td>False</td>\n",
       "      <td>True</td>\n",
       "      <td>1</td>\n",
       "    </tr>\n",
       "    <tr>\n",
       "      <th>1</th>\n",
       "      <td>False</td>\n",
       "      <td>False</td>\n",
       "      <td>False</td>\n",
       "      <td>0</td>\n",
       "    </tr>\n",
       "    <tr>\n",
       "      <th>2</th>\n",
       "      <td>False</td>\n",
       "      <td>True</td>\n",
       "      <td>True</td>\n",
       "      <td>0</td>\n",
       "    </tr>\n",
       "    <tr>\n",
       "      <th>3</th>\n",
       "      <td>False</td>\n",
       "      <td>False</td>\n",
       "      <td>False</td>\n",
       "      <td>1</td>\n",
       "    </tr>\n",
       "    <tr>\n",
       "      <th>4</th>\n",
       "      <td>False</td>\n",
       "      <td>True</td>\n",
       "      <td>False</td>\n",
       "      <td>1</td>\n",
       "    </tr>\n",
       "    <tr>\n",
       "      <th>5</th>\n",
       "      <td>False</td>\n",
       "      <td>True</td>\n",
       "      <td>True</td>\n",
       "      <td>1</td>\n",
       "    </tr>\n",
       "    <tr>\n",
       "      <th>6</th>\n",
       "      <td>True</td>\n",
       "      <td>False</td>\n",
       "      <td>True</td>\n",
       "      <td>0</td>\n",
       "    </tr>\n",
       "    <tr>\n",
       "      <th>7</th>\n",
       "      <td>False</td>\n",
       "      <td>True</td>\n",
       "      <td>False</td>\n",
       "      <td>0</td>\n",
       "    </tr>\n",
       "    <tr>\n",
       "      <th>8</th>\n",
       "      <td>False</td>\n",
       "      <td>False</td>\n",
       "      <td>False</td>\n",
       "      <td>1</td>\n",
       "    </tr>\n",
       "    <tr>\n",
       "      <th>9</th>\n",
       "      <td>False</td>\n",
       "      <td>False</td>\n",
       "      <td>False</td>\n",
       "      <td>0</td>\n",
       "    </tr>\n",
       "    <tr>\n",
       "      <th>10</th>\n",
       "      <td>False</td>\n",
       "      <td>True</td>\n",
       "      <td>True</td>\n",
       "      <td>1</td>\n",
       "    </tr>\n",
       "    <tr>\n",
       "      <th>11</th>\n",
       "      <td>False</td>\n",
       "      <td>False</td>\n",
       "      <td>True</td>\n",
       "      <td>0</td>\n",
       "    </tr>\n",
       "  </tbody>\n",
       "</table>\n",
       "</div>"
      ],
      "text/plain": [
       "       L0     L1      A  Y\n",
       "0   False  False   True  1\n",
       "1   False  False  False  0\n",
       "2   False   True   True  0\n",
       "3   False  False  False  1\n",
       "4   False   True  False  1\n",
       "5   False   True   True  1\n",
       "6    True  False   True  0\n",
       "7   False   True  False  0\n",
       "8   False  False  False  1\n",
       "9   False  False  False  0\n",
       "10  False   True   True  1\n",
       "11  False  False   True  0"
      ]
     },
     "metadata": {},
     "output_type": "display_data"
    },
    {
     "data": {
      "text/markdown": [
       "#### Summary statistics"
      ],
      "text/plain": [
       "<IPython.core.display.Markdown object>"
      ]
     },
     "metadata": {},
     "output_type": "display_data"
    },
    {
     "data": {
      "text/html": [
       "<div>\n",
       "<style scoped>\n",
       "    .dataframe tbody tr th:only-of-type {\n",
       "        vertical-align: middle;\n",
       "    }\n",
       "\n",
       "    .dataframe tbody tr th {\n",
       "        vertical-align: top;\n",
       "    }\n",
       "\n",
       "    .dataframe thead th {\n",
       "        text-align: right;\n",
       "    }\n",
       "</style>\n",
       "<table border=\"1\" class=\"dataframe\">\n",
       "  <thead>\n",
       "    <tr style=\"text-align: right;\">\n",
       "      <th></th>\n",
       "      <th>statistic</th>\n",
       "    </tr>\n",
       "  </thead>\n",
       "  <tbody>\n",
       "    <tr>\n",
       "      <th>$\\bar L$</th>\n",
       "      <td>[0.1993, 0.49921]</td>\n",
       "    </tr>\n",
       "    <tr>\n",
       "      <th>$\\bar A$</th>\n",
       "      <td>0.42551</td>\n",
       "    </tr>\n",
       "    <tr>\n",
       "      <th>$\\bar Y$</th>\n",
       "      <td>0.56642</td>\n",
       "    </tr>\n",
       "    <tr>\n",
       "      <th>$\\bar Y^c_0$</th>\n",
       "      <td>0.55424</td>\n",
       "    </tr>\n",
       "    <tr>\n",
       "      <th>$\\bar Y^c_1$</th>\n",
       "      <td>0.58935</td>\n",
       "    </tr>\n",
       "  </tbody>\n",
       "</table>\n",
       "</div>"
      ],
      "text/plain": [
       "                      statistic\n",
       "$\\bar L$      [0.1993, 0.49921]\n",
       "$\\bar A$                0.42551\n",
       "$\\bar Y$                0.56642\n",
       "$\\bar Y^c_0$            0.55424\n",
       "$\\bar Y^c_1$            0.58935"
      ]
     },
     "metadata": {},
     "output_type": "display_data"
    },
    {
     "data": {
      "text/markdown": [
       "#### Estimators"
      ],
      "text/plain": [
       "<IPython.core.display.Markdown object>"
      ]
     },
     "metadata": {},
     "output_type": "display_data"
    },
    {
     "data": {
      "text/html": [
       "<div>\n",
       "<style scoped>\n",
       "    .dataframe tbody tr th:only-of-type {\n",
       "        vertical-align: middle;\n",
       "    }\n",
       "\n",
       "    .dataframe tbody tr th {\n",
       "        vertical-align: top;\n",
       "    }\n",
       "\n",
       "    .dataframe thead th {\n",
       "        text-align: right;\n",
       "    }\n",
       "</style>\n",
       "<table border=\"1\" class=\"dataframe\">\n",
       "  <thead>\n",
       "    <tr style=\"text-align: right;\">\n",
       "      <th></th>\n",
       "      <th>$\\hat Y^{a=0}$</th>\n",
       "      <th>$\\hat Y^{a=1}$</th>\n",
       "      <th>$\\hat \\beta_a$</th>\n",
       "    </tr>\n",
       "  </thead>\n",
       "  <tbody>\n",
       "    <tr>\n",
       "      <th>Underlying counterfactual data</th>\n",
       "      <td>0.55424</td>\n",
       "      <td>0.58935</td>\n",
       "      <td>0.143462</td>\n",
       "    </tr>\n",
       "    <tr>\n",
       "      <th>Standardized means</th>\n",
       "      <td>0.556017</td>\n",
       "      <td>0.591894</td>\n",
       "      <td>0.146791</td>\n",
       "    </tr>\n",
       "    <tr>\n",
       "      <th>Outcome regression</th>\n",
       "      <td>0.556017</td>\n",
       "      <td>0.591894</td>\n",
       "      <td>0.146791</td>\n",
       "    </tr>\n",
       "    <tr>\n",
       "      <th>Inverse probability weighted means (IPW)</th>\n",
       "      <td>0.556017</td>\n",
       "      <td>0.591894</td>\n",
       "      <td>0.146791</td>\n",
       "    </tr>\n",
       "    <tr>\n",
       "      <th>Doubly robust means</th>\n",
       "      <td>0.556017</td>\n",
       "      <td>0.591894</td>\n",
       "      <td>0.146791</td>\n",
       "    </tr>\n",
       "    <tr>\n",
       "      <th>Marginal structural model (MSM)</th>\n",
       "      <td>0.556032</td>\n",
       "      <td>0.591944</td>\n",
       "      <td>0.146932</td>\n",
       "    </tr>\n",
       "    <tr>\n",
       "      <th>g-estimation</th>\n",
       "      <td></td>\n",
       "      <td></td>\n",
       "      <td>0.155936</td>\n",
       "    </tr>\n",
       "  </tbody>\n",
       "</table>\n",
       "</div>"
      ],
      "text/plain": [
       "                                         $\\hat Y^{a=0}$ $\\hat Y^{a=1}$  \\\n",
       "Underlying counterfactual data                  0.55424        0.58935   \n",
       "Standardized means                             0.556017       0.591894   \n",
       "Outcome regression                             0.556017       0.591894   \n",
       "Inverse probability weighted means (IPW)       0.556017       0.591894   \n",
       "Doubly robust means                            0.556017       0.591894   \n",
       "Marginal structural model (MSM)                0.556032       0.591944   \n",
       "g-estimation                                                             \n",
       "\n",
       "                                          $\\hat \\beta_a$  \n",
       "Underlying counterfactual data                  0.143462  \n",
       "Standardized means                              0.146791  \n",
       "Outcome regression                              0.146791  \n",
       "Inverse probability weighted means (IPW)        0.146791  \n",
       "Doubly robust means                             0.146791  \n",
       "Marginal structural model (MSM)                 0.146932  \n",
       "g-estimation                                    0.155936  "
      ]
     },
     "metadata": {},
     "output_type": "display_data"
    },
    {
     "data": {
      "text/markdown": [
       "*Total execution time*: 1.7588757060002536 s"
      ],
      "text/plain": [
       "<IPython.core.display.Markdown object>"
      ]
     },
     "metadata": {},
     "output_type": "display_data"
    }
   ],
   "source": [
    "summarize_model(generate_simple_logistic_model_data(\n",
    "    P_L=(0.2,0.5), beta_A_0=-2/4, beta_A_L=(4/4,0/4), beta_Y_L=(2/4, 1/4), beta_Y_LA=(-2/4,2/4)), \n",
    "    'Treatment already targeted, effect size reduced',\n",
    "    'Treatment only benefits rare condition, commonly causes harm. Common risk factor present.')"
   ]
  },
  {
   "cell_type": "markdown",
   "id": "3f8ca6b7-9cbb-4647-a7e3-02ec4eeb3450",
   "metadata": {
    "tags": []
   },
   "source": [
    "## Notes for next time\n",
    "\n",
    "- Consider trying g-estimation on a generated dataset with a continuous (vs binary) outcome with an exponential or linear link function \n",
    "- Consider looking a propensity weighting of general hospital population and population with CAM screens to use model for delirium prediction with patients with CAM screens to predict risk in general population (a censoring problem)\n",
    "- Consider simulating L to have same range as actual data (or sampled from actual data?) or subset of actual L?  Likely better to wait until new data import pipeline is working.\n",
    "- (Later) will need to think about feature selection for real model; may want to filter first for features correlated with outcome or intervention, then go through by hand for likely causal relation given domain knowledge.\n",
    "- Consider replacing existing non-parametric estimators - likely will require trying different models with outcome regression, IPW, and doubly robust (all should match if models are working properly).\n",
    "- Could consider using using difference between IPW and outcome regression as part of loss function? (unproven - only guarantees that they match)"
   ]
  },
  {
   "cell_type": "code",
   "execution_count": null,
   "id": "1b54e7ec-9f1d-44f5-97c6-03924a510626",
   "metadata": {},
   "outputs": [],
   "source": []
  },
  {
   "cell_type": "code",
   "execution_count": null,
   "id": "0caf3f71-a186-42d7-9cf8-082df8621866",
   "metadata": {},
   "outputs": [],
   "source": []
  },
  {
   "cell_type": "code",
   "execution_count": null,
   "id": "81f46dae-f079-4278-9fba-a83d1d489b51",
   "metadata": {},
   "outputs": [],
   "source": []
  }
 ],
 "metadata": {
  "kernelspec": {
   "display_name": "Python 3 (ipykernel)",
   "language": "python",
   "name": "python3"
  },
  "language_info": {
   "codemirror_mode": {
    "name": "ipython",
    "version": 3
   },
   "file_extension": ".py",
   "mimetype": "text/x-python",
   "name": "python",
   "nbconvert_exporter": "python",
   "pygments_lexer": "ipython3",
   "version": "3.9.10"
  }
 },
 "nbformat": 4,
 "nbformat_minor": 5
}
