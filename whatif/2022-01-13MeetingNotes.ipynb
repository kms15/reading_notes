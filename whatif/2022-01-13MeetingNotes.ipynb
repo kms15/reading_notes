{
 "cells": [
  {
   "cell_type": "code",
   "execution_count": 28,
   "id": "ad8c2cf1-91a4-42a8-912d-5da84852d6d2",
   "metadata": {},
   "outputs": [],
   "source": [
    "import numpy as np\n",
    "import scipy as sp\n",
    "from scipy import stats as sps"
   ]
  },
  {
   "cell_type": "code",
   "execution_count": 1,
   "id": "d17b0b7f-eafc-4412-81a3-f8bf81f84196",
   "metadata": {},
   "outputs": [],
   "source": [
    "def generate_data(N, P_L, beta_0_A, beta_0_Y, beta_A_Y):\n",
    "    \"\"\"\n",
    "    1. outcome model: P(Y=1 | A, L) = sigmoid(beta_Y + beta_Y_given_A*A)\n",
    "    2. propensity model: P(A=1 | L)\n",
    "    \"\"\"\n",
    "    L_size = np.hstack([[N], np.array(P_L).shape])\n",
    "    L = np.random.uniform(size=L_size) < P_L\n",
    "    beta_A = [np.array(beta) for beta in beta_A]\n",
    "    P_A = sps.logistic.cdf(\n",
    "        beta_A[0] +\n",
    "        np.einsum('ij,j', L, beta_A[1]) +\n",
    "        np.einsum('ij,ik,jk', L, L, beta_A[2])\n",
    "        )\n",
    "    P_A = sps.logistic.cdf(\n",
    "        beta_A[0] +\n",
    "        np.einsum('ij,j', L, beta_A[1]) +\n",
    "        np.einsum('ij,ik,jk', L, L, beta_A[2])\n",
    "        )\n",
    "    \n",
    "    return {\n",
    "        'L': L,\n",
    "        'P_A': P_A,\n",
    "    }"
   ]
  },
  {
   "cell_type": "code",
   "execution_count": 2,
   "id": "f0c93139-85d0-413f-8e44-de2c83c36c9c",
   "metadata": {},
   "outputs": [
    {
     "ename": "TypeError",
     "evalue": "generate_data() missing 1 required positional argument: 'beta_Y_given_not_A'",
     "output_type": "error",
     "traceback": [
      "\u001b[0;31m---------------------------------------------------------------------------\u001b[0m",
      "\u001b[0;31mTypeError\u001b[0m                                 Traceback (most recent call last)",
      "Input \u001b[0;32mIn [2]\u001b[0m, in \u001b[0;36m<cell line: 1>\u001b[0;34m()\u001b[0m\n\u001b[0;32m----> 1\u001b[0m \u001b[43mgenerate_data\u001b[49m\u001b[43m(\u001b[49m\u001b[38;5;241;43m10\u001b[39;49m\u001b[43m,\u001b[49m\u001b[43m \u001b[49m\u001b[43m[\u001b[49m\u001b[38;5;241;43m0.2\u001b[39;49m\u001b[43m,\u001b[49m\u001b[43m \u001b[49m\u001b[38;5;241;43m0.8\u001b[39;49m\u001b[43m]\u001b[49m\u001b[43m,\u001b[49m\u001b[43m \u001b[49m\u001b[43m[\u001b[49m\u001b[38;5;241;43m0\u001b[39;49m\u001b[43m,\u001b[49m\u001b[43m \u001b[49m\u001b[43m[\u001b[49m\u001b[38;5;241;43m1\u001b[39;49m\u001b[43m,\u001b[49m\u001b[38;5;241;43m-\u001b[39;49m\u001b[38;5;241;43m1\u001b[39;49m\u001b[43m]\u001b[49m\u001b[43m,\u001b[49m\u001b[43m \u001b[49m\u001b[43m[\u001b[49m\u001b[43m[\u001b[49m\u001b[38;5;241;43m0\u001b[39;49m\u001b[43m,\u001b[49m\u001b[43m \u001b[49m\u001b[38;5;241;43m1\u001b[39;49m\u001b[43m]\u001b[49m\u001b[43m,\u001b[49m\u001b[43m[\u001b[49m\u001b[38;5;241;43m0\u001b[39;49m\u001b[43m,\u001b[49m\u001b[43m \u001b[49m\u001b[38;5;241;43m0\u001b[39;49m\u001b[43m]\u001b[49m\u001b[43m]\u001b[49m\u001b[43m]\u001b[49m\u001b[43m,\u001b[49m\u001b[43m \u001b[49m\u001b[38;5;241;43m0\u001b[39;49m\u001b[43m)\u001b[49m\n",
      "\u001b[0;31mTypeError\u001b[0m: generate_data() missing 1 required positional argument: 'beta_Y_given_not_A'"
     ]
    }
   ],
   "source": [
    "generate_data(10, [0.2, 0.8], [0, [1,-1], [[0, 1],[0, 0]]], 0)"
   ]
  },
  {
   "cell_type": "code",
   "execution_count": 33,
   "id": "69c1b896-67a2-436f-8642-29e84d4498c4",
   "metadata": {},
   "outputs": [
    {
     "data": {
      "text/plain": [
       "array([0., 0., 0., 0., 0., 0.])"
      ]
     },
     "execution_count": 33,
     "metadata": {},
     "output_type": "execute_result"
    }
   ],
   "source": [
    "np.pad([], 3).dot(4)"
   ]
  },
  {
   "cell_type": "code",
   "execution_count": 16,
   "id": "69cd4125-270f-48ff-bf80-132d08a375b5",
   "metadata": {},
   "outputs": [
    {
     "data": {
      "text/plain": [
       "array([[ True, False],\n",
       "       [ True, False],\n",
       "       [False, False],\n",
       "       [ True, False],\n",
       "       [ True,  True],\n",
       "       [False, False],\n",
       "       [ True, False],\n",
       "       [ True, False],\n",
       "       [False, False],\n",
       "       [ True, False]])"
      ]
     },
     "execution_count": 16,
     "metadata": {},
     "output_type": "execute_result"
    }
   ],
   "source": [
    "np.random.uniform(size=np.hstack([[10], np.array([2,3]).shape])) < [0.8,0.1]"
   ]
  },
  {
   "cell_type": "code",
   "execution_count": 9,
   "id": "19324bfc-5630-4aae-b0fa-38c8ecdbed42",
   "metadata": {},
   "outputs": [
    {
     "ename": "TypeError",
     "evalue": "can only concatenate list (not \"tuple\") to list",
     "output_type": "error",
     "traceback": [
      "\u001b[0;31m---------------------------------------------------------------------------\u001b[0m",
      "\u001b[0;31mTypeError\u001b[0m                                 Traceback (most recent call last)",
      "\u001b[0;32m/tmp/ipykernel_45/735325295.py\u001b[0m in \u001b[0;36m<module>\u001b[0;34m\u001b[0m\n\u001b[0;32m----> 1\u001b[0;31m \u001b[0;34m[\u001b[0m\u001b[0;36m10\u001b[0m\u001b[0;34m]\u001b[0m \u001b[0;34m+\u001b[0m \u001b[0mnp\u001b[0m\u001b[0;34m.\u001b[0m\u001b[0marray\u001b[0m\u001b[0;34m(\u001b[0m\u001b[0;34m[\u001b[0m\u001b[0;36m1\u001b[0m\u001b[0;34m,\u001b[0m\u001b[0;36m2\u001b[0m\u001b[0;34m]\u001b[0m\u001b[0;34m)\u001b[0m\u001b[0;34m.\u001b[0m\u001b[0mshape\u001b[0m\u001b[0;34m\u001b[0m\u001b[0;34m\u001b[0m\u001b[0m\n\u001b[0m",
      "\u001b[0;31mTypeError\u001b[0m: can only concatenate list (not \"tuple\") to list"
     ]
    }
   ],
   "source": [
    "[10] + np.array([1,2]).shape"
   ]
  },
  {
   "cell_type": "code",
   "execution_count": 2,
   "id": "4858333f-4584-4b95-b114-9d123b74ec09",
   "metadata": {},
   "outputs": [],
   "source": [
    "#N = 20 # number of patients\n",
    "anxiety_driven_model = {\n",
    "    'P_A': 0.3, # prevelance of baseline anxiety disorder\n",
    "    'P_B_given_A': 0.5, # chance of benzodiazepine administration given baseline anxiety\n",
    "    'P_B_given_not_A': 0.1, # chance of benzodiazepine administration given no baseline anxiety\n",
    "    'P_D_given_A_B': 0.5, # chance of delirium with benzodiazepines and anxiety\n",
    "    'P_D_given_A_not_B': 0.5, # chance of delirium with anxiety without benzodiazepines\n",
    "    'P_D_given_B_not_A': 0.5, # chance of delirium with benzodiazepines and without anxiety\n",
    "    'P_D_given_not_A_not_B': 0.2, # chance of delirium without benzodiazepines and without anxiety\n",
    "}"
   ]
  },
  {
   "cell_type": "code",
   "execution_count": 3,
   "id": "98dfe259-69ba-49b8-bedd-f05ec3c6411c",
   "metadata": {},
   "outputs": [],
   "source": [
    "\n",
    "def generate_data(N, \n",
    "        P_A, \n",
    "        P_B_given_A, \n",
    "        P_B_given_not_A, \n",
    "        P_D_given_A_B, \n",
    "        P_D_given_A_not_B, \n",
    "        P_D_given_B_not_A, \n",
    "        P_D_given_not_A_not_B, \n",
    "        ):\n",
    "    r\"\"\" Generates a sample dataset with a given set of underlying probabilities.\n",
    "\n",
    "    Parameters\n",
    "    ----------\n",
    "    N : int\n",
    "        number of patients\n",
    "    P_A : float\n",
    "        prevelance of baseline anxiety disorder\n",
    "    P_B_given_A : float\n",
    "        chance of benzodiazepine administration given baseline anxiety\n",
    "    P_B_given_not_A : float\n",
    "        chance of benzodiazepine administration given no baseline anxiety\n",
    "    P_D_given_A_B : float\n",
    "        chance of delirium with benzodiazepines and anxiety\n",
    "    P_D_given_A_not_B : float\n",
    "        chance of delirium with anxiety without benzodiazepines\n",
    "    P_D_given_B_not_A : float\n",
    "        chance of delirium with benzodiazepines and without anxiety\n",
    "    P_D_given_not_A_not_B : float\n",
    "        chance of delirium without benzodiazepines and without anxiety\n",
    "    \"\"\"\n",
    "    A = np.random.uniform(size=N) < P_A\n",
    "    P_B = A * P_B_given_A + ~A * P_B_given_not_A\n",
    "    B = np.random.uniform(size=N) < P_B\n",
    "    P_D = (\n",
    "        A * B * P_D_given_A_B +\n",
    "        A * ~B * P_D_given_A_not_B +\n",
    "        ~A * B * P_D_given_B_not_A +\n",
    "        ~A * ~B * P_D_given_not_A_not_B\n",
    "    )\n",
    "    D = np.random.uniform(size=N) < P_D\n",
    "\n",
    "    return {\n",
    "        'P_A' : P_A * np.ones_like(P_B),\n",
    "        'A': A,\n",
    "        'P_B' : P_B,\n",
    "        'B': B,\n",
    "        'P_D': P_D,\n",
    "        'D' : D\n",
    "    }"
   ]
  },
  {
   "cell_type": "code",
   "execution_count": 4,
   "id": "912c1172-3bf3-4a82-97a6-36c7069135e0",
   "metadata": {},
   "outputs": [
    {
     "data": {
      "text/plain": [
       "{'P_A': array([0.3, 0.3, 0.3, 0.3, 0.3, 0.3, 0.3, 0.3, 0.3, 0.3]),\n",
       " 'A': array([False, False,  True, False, False, False, False,  True, False,\n",
       "        False]),\n",
       " 'P_B': array([0.1, 0.1, 0.5, 0.1, 0.1, 0.1, 0.1, 0.5, 0.1, 0.1]),\n",
       " 'B': array([False, False,  True, False,  True, False, False,  True, False,\n",
       "        False]),\n",
       " 'P_D': array([0.1, 0.1, 0.6, 0.1, 0.4, 0.1, 0.1, 0.6, 0.1, 0.1]),\n",
       " 'D': array([False, False, False, False, False, False, False,  True, False,\n",
       "        False])}"
      ]
     },
     "execution_count": 4,
     "metadata": {},
     "output_type": "execute_result"
    }
   ],
   "source": [
    "# example of the data generated\n",
    "generate_data(10, 0.3, 0.5, 0.1, 0.6, 0.2, 0.4, 0.1)"
   ]
  },
  {
   "cell_type": "code",
   "execution_count": 5,
   "id": "995c1dbe-74b6-4783-a038-51e0c73a7903",
   "metadata": {},
   "outputs": [],
   "source": [
    "def summarize_model_results(results):\n",
    "    print(\n",
    "        f\"observed anxiety prevelance: {np.mean(results['A'])}\\n\" +\n",
    "        f\"observed delirium prevelance: {np.mean(results['D'])}\\n\"\n",
    "    )"
   ]
  },
  {
   "cell_type": "code",
   "execution_count": 6,
   "id": "a05c2cee-db8f-4710-82ae-09c3d2d4db16",
   "metadata": {},
   "outputs": [],
   "source": [
    "N = 1000000"
   ]
  },
  {
   "cell_type": "code",
   "execution_count": 7,
   "id": "c6ee4464-eab2-4b8f-bf27-95434ec79245",
   "metadata": {},
   "outputs": [
    {
     "name": "stdout",
     "output_type": "stream",
     "text": [
      "observed anxiety prevelance: 0.299476\n",
      "observed delirium prevelance: 0.240423\n",
      "\n"
     ]
    }
   ],
   "source": [
    "# Example of an additive model\n",
    "additive_model = {\n",
    "    'P_A': 0.3,\n",
    "    'P_B_given_A': 0.5,\n",
    "    'P_B_given_not_A': 0.1,\n",
    "    'P_D_given_A_B': 0.7,\n",
    "    'P_D_given_A_not_B': 0.3,\n",
    "    'P_D_given_B_not_A': 0.4,\n",
    "    'P_D_given_not_A_not_B': 0.1,\n",
    "}\n",
    "additive_model_results = generate_data(N, **additive_model)\n",
    "summarize_model_results(additive_model_results)"
   ]
  },
  {
   "cell_type": "code",
   "execution_count": 8,
   "id": "522fe932-59c0-4c2d-8d05-3a6416d20960",
   "metadata": {},
   "outputs": [
    {
     "name": "stdout",
     "output_type": "stream",
     "text": [
      "observed anxiety prevelance: 0.299571\n",
      "observed delirium prevelance: 0.241139\n",
      "\n"
     ]
    }
   ],
   "source": [
    "# Example of a model where anxiety replaces benzodiazepine risk\n",
    "anxiety_driven_model = {\n",
    "    'P_A': 0.3,\n",
    "    'P_B_given_A': 0.5,\n",
    "    'P_B_given_not_A': 0.1,\n",
    "    'P_D_given_A_B': 0.5,\n",
    "    'P_D_given_A_not_B': 0.5,\n",
    "    'P_D_given_B_not_A': 0.4,\n",
    "    'P_D_given_not_A_not_B': 0.1,\n",
    "}\n",
    "anxiety_driven_model_results = generate_data(N, **anxiety_driven_model)\n",
    "summarize_model_results(anxiety_driven_model_results)"
   ]
  },
  {
   "cell_type": "code",
   "execution_count": 9,
   "id": "1cf52cdc-5bf7-4d84-af14-b1deed60bea0",
   "metadata": {},
   "outputs": [
    {
     "name": "stdout",
     "output_type": "stream",
     "text": [
      "observed anxiety prevelance: 0.300216\n",
      "observed delirium prevelance: 0.240004\n",
      "\n"
     ]
    }
   ],
   "source": [
    "# Example of a model where benzodiazepine mediate all risk\n",
    "benzo_driven_model = {\n",
    "    'P_A': 0.3,\n",
    "    'P_B_given_A': 0.5,\n",
    "    'P_B_given_not_A': 0.1,\n",
    "    'P_D_given_A_B': 0.7,\n",
    "    'P_D_given_A_not_B': 0.11,\n",
    "    'P_D_given_B_not_A': 0.7,\n",
    "    'P_D_given_not_A_not_B': 0.11,\n",
    "}\n",
    "benzo_driven_model_results = generate_data(N, **benzo_driven_model)\n",
    "summarize_model_results(benzo_driven_model_results)"
   ]
  },
  {
   "cell_type": "code",
   "execution_count": 14,
   "id": "9c7a1812-a3c2-47d9-a99f-15c3f8941073",
   "metadata": {},
   "outputs": [
    {
     "name": "stdout",
     "output_type": "stream",
     "text": [
      "observed anxiety prevelance: 0.300505\n",
      "observed delirium prevelance: 0.240846\n",
      "\n"
     ]
    }
   ],
   "source": [
    "# Example of a model where benzodiazepine are protective with anxiety\n",
    "benzo_protective_model = {\n",
    "    'P_A': 0.3,\n",
    "    'P_B_given_A': 0.5,\n",
    "    'P_B_given_not_A': 0.1,\n",
    "    'P_D_given_A_B': 0.7,\n",
    "    'P_D_given_A_not_B': 0.3,\n",
    "    'P_D_given_B_not_A': 0.4,\n",
    "    'P_D_given_not_A_not_B': 0.1,\n",
    "}\n",
    "benzo_protective_model_results = generate_data(N, **benzo_protective_model)\n",
    "summarize_model_results(benzo_protective_model_results)"
   ]
  },
  {
   "cell_type": "code",
   "execution_count": 15,
   "id": "be021bd0-d0b2-47fe-9904-39e557a144b6",
   "metadata": {},
   "outputs": [
    {
     "name": "stdout",
     "output_type": "stream",
     "text": [
      "observed anxiety prevelance: 0.299201\n",
      "observed delirium prevelance: 0.249889\n",
      "\n"
     ]
    }
   ],
   "source": [
    "# Example of a model where benzodiazepine have no effect\n",
    "benzo_neutral_model = {\n",
    "    'P_A': 0.3,\n",
    "    'P_B_given_A': 0.5,\n",
    "    'P_B_given_not_A': 0.1,\n",
    "    'P_D_given_A_B': 0.6,\n",
    "    'P_D_given_A_not_B': 0.6,\n",
    "    'P_D_given_B_not_A': 0.1,\n",
    "    'P_D_given_not_A_not_B': 0.1,\n",
    "}\n",
    "benzo_neutral_model_results = generate_data(N, **benzo_neutral_model)\n",
    "summarize_model_results(benzo_neutral_model_results)"
   ]
  },
  {
   "cell_type": "markdown",
   "id": "d970e434-62c3-4ffd-8b94-f885780df872",
   "metadata": {},
   "source": []
  },
  {
   "cell_type": "markdown",
   "id": "8b8b9712-d463-4d8a-8816-774e601d65a5",
   "metadata": {},
   "source": [
    "Before next meeting:\n",
    "\n",
    " - create parametric model for generating results (e.g. logistic regression)\n",
    " - add at least one binary covariate (e.g. age > 70) $L$\n",
    "\n",
    "Next time:\n",
    "\n",
    "- First look at total effect from Anxiety to Delirium\n",
    "    - Outcome regression / standardization / G-formula"
   ]
  },
  {
   "cell_type": "code",
   "execution_count": null,
   "id": "2b46dc1e-17e3-4981-8632-02c882753611",
   "metadata": {},
   "outputs": [],
   "source": []
  }
 ],
 "metadata": {
  "kernelspec": {
   "display_name": "Python 3 (ipykernel)",
   "language": "python",
   "name": "python3"
  },
  "language_info": {
   "codemirror_mode": {
    "name": "ipython",
    "version": 3
   },
   "file_extension": ".py",
   "mimetype": "text/x-python",
   "name": "python",
   "nbconvert_exporter": "python",
   "pygments_lexer": "ipython3",
   "version": "3.9.10"
  }
 },
 "nbformat": 4,
 "nbformat_minor": 5
}
