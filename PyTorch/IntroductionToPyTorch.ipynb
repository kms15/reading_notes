{
 "cells": [
  {
   "cell_type": "markdown",
   "id": "1a7494e2-e47b-4c56-8191-7d34d226e986",
   "metadata": {
    "tags": []
   },
   "source": [
    "## Quickstart tutorial"
   ]
  },
  {
   "cell_type": "code",
   "execution_count": 9,
   "id": "654f739c-a70b-4a93-b08e-4d6f4f03fc56",
   "metadata": {
    "tags": []
   },
   "outputs": [],
   "source": [
    "import torch\n",
    "from torch import nn\n",
    "from torch.utils.data import DataLoader\n",
    "from torchvision import datasets\n",
    "from torchvision.transforms import ToTensor"
   ]
  },
  {
   "cell_type": "markdown",
   "id": "f763ae26-f462-4535-bb39-fc0494edbcb7",
   "metadata": {},
   "source": [
    "Check CUDA and BF16 support"
   ]
  },
  {
   "cell_type": "code",
   "execution_count": 10,
   "id": "5edef95e-a0ea-42d5-9eed-22e6e0a31633",
   "metadata": {},
   "outputs": [
    {
     "data": {
      "text/plain": [
       "True"
      ]
     },
     "execution_count": 10,
     "metadata": {},
     "output_type": "execute_result"
    }
   ],
   "source": [
    "torch.cuda.is_available()"
   ]
  },
  {
   "cell_type": "code",
   "execution_count": 11,
   "id": "4cc47678-be6d-4baf-b406-bcda15082be8",
   "metadata": {
    "tags": []
   },
   "outputs": [
    {
     "data": {
      "text/plain": [
       "True"
      ]
     },
     "execution_count": 11,
     "metadata": {},
     "output_type": "execute_result"
    }
   ],
   "source": [
    "torch.cuda.is_bf16_supported()"
   ]
  },
  {
   "cell_type": "markdown",
   "id": "7829444f-7451-4d2a-8e41-ac9738a2114b",
   "metadata": {},
   "source": [
    "Download the FashionMNIST dataset. The `transform` and `target_transform` arguments can be used to transform the features and labels, respectively. These are stored in a `Dataset` object."
   ]
  },
  {
   "cell_type": "code",
   "execution_count": 15,
   "id": "d4f322d0-40af-487b-b731-1a60a824f285",
   "metadata": {
    "tags": []
   },
   "outputs": [],
   "source": [
    "# Download training data from open datasets.\n",
    "training_data = datasets.FashionMNIST(\n",
    "    root=\".data\",\n",
    "    train=True,\n",
    "    download=True,\n",
    "    transform=ToTensor(),\n",
    ")\n",
    "\n",
    "# Download test data from open datasets.\n",
    "test_data = datasets.FashionMNIST(\n",
    "    root=\".data\",\n",
    "    train=False,\n",
    "    download=True,\n",
    "    transform=ToTensor(),\n",
    ")"
   ]
  },
  {
   "cell_type": "markdown",
   "id": "a4cc8834-fb21-46df-9fc2-468dfec90ef0",
   "metadata": {},
   "source": [
    "A `DataLoader` class handles streaming, batching, sampling, and shuffling the data."
   ]
  },
  {
   "cell_type": "code",
   "execution_count": 17,
   "id": "62299633-9ca7-419f-a342-9ff1f18ac0aa",
   "metadata": {
    "tags": []
   },
   "outputs": [
    {
     "name": "stdout",
     "output_type": "stream",
     "text": [
      "Shape of X [N, C, H, W]: torch.Size([64, 1, 28, 28])\n",
      "Shape of y: torch.Size([64]) torch.int64\n"
     ]
    }
   ],
   "source": [
    "batch_size = 64\n",
    "\n",
    "# Create data loaders.\n",
    "train_dataloader = DataLoader(training_data, batch_size=batch_size)\n",
    "test_dataloader = DataLoader(test_data, batch_size=batch_size)\n",
    "\n",
    "for X, y in train_dataloader:\n",
    "    print(f\"Shape of X [N, C, H, W]: {X.shape}\")\n",
    "    print(f\"Shape of y: {y.shape} {y.dtype}\")\n",
    "    break"
   ]
  },
  {
   "cell_type": "code",
   "execution_count": 32,
   "id": "0e091e23-20d3-4d34-b722-e2206aeba0df",
   "metadata": {
    "tags": []
   },
   "outputs": [
    {
     "name": "stdout",
     "output_type": "stream",
     "text": [
      "Using cuda device\n",
      "NeuralNetwork(\n",
      "  (flatten): Flatten(start_dim=1, end_dim=-1)\n",
      "  (linear_relu_stack): Sequential(\n",
      "    (0): Linear(in_features=784, out_features=512, bias=True)\n",
      "    (1): ReLU()\n",
      "    (2): Linear(in_features=512, out_features=512, bias=True)\n",
      "    (3): ReLU()\n",
      "    (4): Linear(in_features=512, out_features=10, bias=True)\n",
      "  )\n",
      ")\n"
     ]
    }
   ],
   "source": [
    "# Get cpu or gpu device for training.\n",
    "device = \"cuda\" if torch.cuda.is_available() else \"cpu\"\n",
    "print(f\"Using {device} device\")\n",
    "\n",
    "# Define model\n",
    "class NeuralNetwork(nn.Module):\n",
    "    def __init__(self):\n",
    "        super().__init__()\n",
    "        self.flatten = nn.Flatten()\n",
    "        self.linear_relu_stack = nn.Sequential(\n",
    "            nn.Linear(28*28, 512),\n",
    "            nn.ReLU(),\n",
    "            nn.Linear(512, 512),\n",
    "            nn.ReLU(),\n",
    "            nn.Linear(512, 10)\n",
    "        )\n",
    "\n",
    "    def forward(self, x):\n",
    "        x = self.flatten(x)\n",
    "        logits = self.linear_relu_stack(x)\n",
    "        return logits\n",
    "\n",
    "m = NeuralNetwork().to(device)\n",
    "print(m)"
   ]
  },
  {
   "cell_type": "code",
   "execution_count": 33,
   "id": "a6cf52ac-76ab-4e08-b041-98e9a9be83f7",
   "metadata": {
    "tags": []
   },
   "outputs": [],
   "source": [
    "loss_fn = nn.CrossEntropyLoss()\n",
    "optimizer = torch.optim.SGD(m.parameters(), lr=1e-3)"
   ]
  },
  {
   "cell_type": "code",
   "execution_count": 34,
   "id": "58742bf5-6673-40d5-a69a-0e207b3ce069",
   "metadata": {
    "tags": []
   },
   "outputs": [],
   "source": [
    "def train(dataloader, model, loss_fn, optimizer):\n",
    "    size = len(dataloader.dataset)\n",
    "    model.train()\n",
    "    for batch, (X, y) in enumerate(dataloader):\n",
    "        X, y = X.to(device), y.to(device)\n",
    "\n",
    "        # Compute prediction error\n",
    "        pred = model(X)\n",
    "        loss = loss_fn(pred, y)\n",
    "\n",
    "        # Backpropagation\n",
    "        optimizer.zero_grad()\n",
    "        loss.backward()\n",
    "        optimizer.step()\n",
    "\n",
    "        if batch % 100 == 0:\n",
    "            loss, current = loss.item(), (batch + 1) * len(X)\n",
    "            print(f\"loss: {loss:>7f}  [{current:>5d}/{size:>5d}]\")\n"
   ]
  },
  {
   "cell_type": "code",
   "execution_count": 35,
   "id": "30955212-633f-4ce7-ba74-c54bb6f8d829",
   "metadata": {
    "tags": []
   },
   "outputs": [],
   "source": [
    "def test(dataloader, model, loss_fn):\n",
    "    size = len(dataloader.dataset)\n",
    "    num_batches = len(dataloader)\n",
    "    model.eval()\n",
    "    test_loss, correct = 0, 0\n",
    "    with torch.no_grad():\n",
    "        for X, y in dataloader:\n",
    "            X, y = X.to(device), y.to(device)\n",
    "            pred = model(X)\n",
    "            test_loss += loss_fn(pred, y).item()\n",
    "            correct += (pred.argmax(1) == y).type(torch.float).sum().item()\n",
    "    test_loss /= num_batches\n",
    "    correct /= size\n",
    "    print(f\"Test Error: \\n Accuracy: {(100*correct):>0.1f}%, Avg loss: {test_loss:>8f} \\n\")"
   ]
  },
  {
   "cell_type": "code",
   "execution_count": 36,
   "id": "22af5a56-0e6b-4623-b549-54f7c4f6c1af",
   "metadata": {
    "tags": []
   },
   "outputs": [
    {
     "name": "stdout",
     "output_type": "stream",
     "text": [
      "Epoch 1\n",
      "-------------------------------\n",
      "loss: 2.309330  [   64/60000]\n",
      "loss: 2.290163  [ 6464/60000]\n",
      "loss: 2.265549  [12864/60000]\n",
      "loss: 2.259950  [19264/60000]\n",
      "loss: 2.241203  [25664/60000]\n",
      "loss: 2.226794  [32064/60000]\n",
      "loss: 2.227386  [38464/60000]\n",
      "loss: 2.197522  [44864/60000]\n",
      "loss: 2.188655  [51264/60000]\n",
      "loss: 2.159012  [57664/60000]\n",
      "Test Error: \n",
      " Accuracy: 49.0%, Avg loss: 2.149080 \n",
      "\n",
      "Epoch 2\n",
      "-------------------------------\n",
      "loss: 2.158190  [   64/60000]\n",
      "loss: 2.145391  [ 6464/60000]\n",
      "loss: 2.081802  [12864/60000]\n",
      "loss: 2.108133  [19264/60000]\n",
      "loss: 2.042045  [25664/60000]\n",
      "loss: 1.995088  [32064/60000]\n",
      "loss: 2.019863  [38464/60000]\n",
      "loss: 1.937240  [44864/60000]\n",
      "loss: 1.946060  [51264/60000]\n",
      "loss: 1.872039  [57664/60000]\n",
      "Test Error: \n",
      " Accuracy: 52.5%, Avg loss: 1.867332 \n",
      "\n",
      "Epoch 3\n",
      "-------------------------------\n",
      "loss: 1.894179  [   64/60000]\n",
      "loss: 1.867814  [ 6464/60000]\n",
      "loss: 1.742086  [12864/60000]\n",
      "loss: 1.807457  [19264/60000]\n",
      "loss: 1.673818  [25664/60000]\n",
      "loss: 1.636036  [32064/60000]\n",
      "loss: 1.660648  [38464/60000]\n",
      "loss: 1.555004  [44864/60000]\n",
      "loss: 1.590347  [51264/60000]\n",
      "loss: 1.488435  [57664/60000]\n",
      "Test Error: \n",
      " Accuracy: 60.8%, Avg loss: 1.501485 \n",
      "\n",
      "Epoch 4\n",
      "-------------------------------\n",
      "loss: 1.559570  [   64/60000]\n",
      "loss: 1.535306  [ 6464/60000]\n",
      "loss: 1.374589  [12864/60000]\n",
      "loss: 1.472677  [19264/60000]\n",
      "loss: 1.332508  [25664/60000]\n",
      "loss: 1.338793  [32064/60000]\n",
      "loss: 1.353040  [38464/60000]\n",
      "loss: 1.269891  [44864/60000]\n",
      "loss: 1.312913  [51264/60000]\n",
      "loss: 1.220769  [57664/60000]\n",
      "Test Error: \n",
      " Accuracy: 63.1%, Avg loss: 1.239496 \n",
      "\n",
      "Epoch 5\n",
      "-------------------------------\n",
      "loss: 1.307621  [   64/60000]\n",
      "loss: 1.299387  [ 6464/60000]\n",
      "loss: 1.122366  [12864/60000]\n",
      "loss: 1.253432  [19264/60000]\n",
      "loss: 1.110822  [25664/60000]\n",
      "loss: 1.142539  [32064/60000]\n",
      "loss: 1.165290  [38464/60000]\n",
      "loss: 1.093579  [44864/60000]\n",
      "loss: 1.140372  [51264/60000]\n",
      "loss: 1.063385  [57664/60000]\n",
      "Test Error: \n",
      " Accuracy: 64.7%, Avg loss: 1.076347 \n",
      "\n",
      "Done!\n"
     ]
    }
   ],
   "source": [
    "epochs = 5\n",
    "for t in range(epochs):\n",
    "    print(f\"Epoch {t+1}\\n-------------------------------\")\n",
    "    train(train_dataloader, m, loss_fn, optimizer)\n",
    "    test(test_dataloader, m, loss_fn)\n",
    "print(\"Done!\")"
   ]
  },
  {
   "cell_type": "markdown",
   "id": "57bddf7f-b728-47b6-85a8-7a1149cd81bd",
   "metadata": {
    "tags": []
   },
   "source": [
    "Saving and loading models"
   ]
  },
  {
   "cell_type": "code",
   "execution_count": 39,
   "id": "58e74c5c-03c9-4681-ba29-58e5f6cdb082",
   "metadata": {
    "tags": []
   },
   "outputs": [
    {
     "data": {
      "text/plain": [
       "<All keys matched successfully>"
      ]
     },
     "execution_count": 39,
     "metadata": {},
     "output_type": "execute_result"
    }
   ],
   "source": [
    "torch.save(m.state_dict(), \"model0.pth\")\n",
    "\n",
    "m1 = NeuralNetwork()\n",
    "m1.load_state_dict(torch.load(\"model0.pth\"))"
   ]
  },
  {
   "cell_type": "code",
   "execution_count": 38,
   "id": "f0de7065-95c3-403e-8b93-544fbf344399",
   "metadata": {
    "tags": []
   },
   "outputs": [
    {
     "data": {
      "text/plain": [
       "'m'"
      ]
     },
     "execution_count": 38,
     "metadata": {},
     "output_type": "execute_result"
    }
   ],
   "source": [
    "torch.load(\"model0.pth\")"
   ]
  },
  {
   "cell_type": "code",
   "execution_count": 54,
   "id": "e7e51055-c1c1-47b9-8e05-46672a3bbbea",
   "metadata": {
    "tags": []
   },
   "outputs": [
    {
     "name": "stdout",
     "output_type": "stream",
     "text": [
      "+ Predicted: \"Ankle boot\", Actual: \"Ankle boot\"\n",
      "+ Predicted: \"Pullover\", Actual: \"Pullover\"\n",
      "+ Predicted: \"Trouser\", Actual: \"Trouser\"\n",
      "+ Predicted: \"Trouser\", Actual: \"Trouser\"\n",
      "- Predicted: \"Pullover\", Actual: \"Shirt\"\n",
      "+ Predicted: \"Trouser\", Actual: \"Trouser\"\n",
      "+ Predicted: \"Coat\", Actual: \"Coat\"\n",
      "- Predicted: \"Coat\", Actual: \"Shirt\"\n",
      "- Predicted: \"Sneaker\", Actual: \"Sandal\"\n",
      "+ Predicted: \"Sneaker\", Actual: \"Sneaker\"\n"
     ]
    }
   ],
   "source": [
    "classes = [\n",
    "    \"T-shirt/top\",\n",
    "    \"Trouser\",\n",
    "    \"Pullover\",\n",
    "    \"Dress\",\n",
    "    \"Coat\",\n",
    "    \"Sandal\",\n",
    "    \"Shirt\",\n",
    "    \"Sneaker\",\n",
    "    \"Bag\",\n",
    "    \"Ankle boot\",\n",
    "]\n",
    "\n",
    "m0 = m.to(\"cpu\")\n",
    "\n",
    "m1.eval()\n",
    "with torch.no_grad():\n",
    "    for i in range(10):\n",
    "        x, y = test_data[i][0], test_data[i][1]\n",
    "        pred = m0(x)\n",
    "        predicted, actual = classes[pred[0].argmax(0)], classes[y]\n",
    "        assert pred[0][0] == m(x)[0][0]\n",
    "        print(f'{\"+\" if predicted == actual else \"-\"} Predicted: \"{predicted}\", Actual: \"{actual}\"')"
   ]
  },
  {
   "cell_type": "code",
   "execution_count": null,
   "id": "af0a642b-55b9-4953-b2ec-51eb0c89fabe",
   "metadata": {},
   "outputs": [],
   "source": []
  }
 ],
 "metadata": {
  "kernelspec": {
   "display_name": "Python 3 (ipykernel)",
   "language": "python",
   "name": "python3"
  },
  "language_info": {
   "codemirror_mode": {
    "name": "ipython",
    "version": 3
   },
   "file_extension": ".py",
   "mimetype": "text/x-python",
   "name": "python",
   "nbconvert_exporter": "python",
   "pygments_lexer": "ipython3",
   "version": "3.10.6"
  }
 },
 "nbformat": 4,
 "nbformat_minor": 5
}
